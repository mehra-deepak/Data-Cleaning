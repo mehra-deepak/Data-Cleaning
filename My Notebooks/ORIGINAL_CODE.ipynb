{
 "cells": [
  {
   "cell_type": "markdown",
   "metadata": {},
   "source": [
    "# STATUATORY WARNING:\n",
    "## PLEASE DO NOT ALTER THE CODE WITHOUT PERMISSION"
   ]
  },
  {
   "cell_type": "markdown",
   "metadata": {},
   "source": [
    "### Cleaning the data"
   ]
  },
  {
   "cell_type": "code",
   "execution_count": 153,
   "metadata": {},
   "outputs": [],
   "source": [
    "import pandas as pd\n",
    "import numpy as np\n",
    "from scipy.stats import randint\n",
    "import seaborn as sns # used for plot interactive graph. \n",
    "import matplotlib.pyplot as plt\n",
    "import seaborn as sns\n",
    "from io import StringIO\n",
    "from sklearn.feature_extraction.text import TfidfVectorizer\n",
    "from sklearn.feature_selection import chi2\n",
    "from IPython.display import display\n",
    "from sklearn.model_selection import train_test_split\n",
    "from sklearn.feature_extraction.text import TfidfTransformer\n",
    "from sklearn.naive_bayes import MultinomialNB\n",
    "from sklearn.linear_model import LogisticRegression\n",
    "from sklearn.ensemble import RandomForestClassifier\n",
    "from sklearn.svm import LinearSVC\n",
    "from sklearn.model_selection import cross_val_score\n",
    "from sklearn.metrics import confusion_matrix\n",
    "from sklearn import metrics\n",
    "import re\n",
    "\n",
    "#import warnings\n",
    "#warnings.filterwarnings(\"ignore\", category=FutureWarning)\n"
   ]
  },
  {
   "cell_type": "code",
   "execution_count": 154,
   "metadata": {},
   "outputs": [
    {
     "name": "stderr",
     "output_type": "stream",
     "text": [
      "[nltk_data] Downloading package averaged_perceptron_tagger to\n",
      "[nltk_data]     C:\\Users\\850044344\\AppData\\Roaming\\nltk_data...\n",
      "[nltk_data]   Package averaged_perceptron_tagger is already up-to-\n",
      "[nltk_data]       date!\n"
     ]
    }
   ],
   "source": [
    "import pandas as pd\n",
    "import numpy as np\n",
    "import matplotlib.pyplot as plt\n",
    "%matplotlib inline\n",
    "import nltk\n",
    "nltk.download('averaged_perceptron_tagger')\n",
    "from nltk.tokenize import word_tokenize\n",
    "from nltk.corpus import stopwords\n",
    "\n",
    "\n",
    "import re\n",
    "\n",
    "from sklearn.feature_extraction.text import CountVectorizer, TfidfVectorizer\n",
    "from sklearn.cluster import KMeans\n",
    "from nltk.stem import WordNetLemmatizer,PorterStemmer\n"
   ]
  },
  {
   "cell_type": "code",
   "execution_count": 155,
   "metadata": {},
   "outputs": [],
   "source": [
    "df = pd.read_csv('dummy.csv')"
   ]
  },
  {
   "cell_type": "code",
   "execution_count": 156,
   "metadata": {},
   "outputs": [
    {
     "data": {
      "text/html": [
       "<div>\n",
       "<style scoped>\n",
       "    .dataframe tbody tr th:only-of-type {\n",
       "        vertical-align: middle;\n",
       "    }\n",
       "\n",
       "    .dataframe tbody tr th {\n",
       "        vertical-align: top;\n",
       "    }\n",
       "\n",
       "    .dataframe thead th {\n",
       "        text-align: right;\n",
       "    }\n",
       "</style>\n",
       "<table border=\"1\" class=\"dataframe\">\n",
       "  <thead>\n",
       "    <tr style=\"text-align: right;\">\n",
       "      <th></th>\n",
       "      <th>Id</th>\n",
       "      <th>HtmlBody</th>\n",
       "      <th>HtmlBody(Clean Data)</th>\n",
       "      <th>Predicted Class</th>\n",
       "      <th>Predicted Score</th>\n",
       "    </tr>\n",
       "  </thead>\n",
       "  <tbody>\n",
       "    <tr>\n",
       "      <th>0</th>\n",
       "      <td>02s1r00001acKkkAAE</td>\n",
       "      <td>good morning,\\nplease could i have a response ...</td>\n",
       "      <td>payment query good morning, thank you for your...</td>\n",
       "      <td>Others</td>\n",
       "      <td>100.0</td>\n",
       "    </tr>\n",
       "    <tr>\n",
       "      <th>1</th>\n",
       "      <td>02s1r00001blgJyAAI</td>\n",
       "      <td>please find attached copy of statement/queries...</td>\n",
       "      <td>statement &amp; queries please find attached up to...</td>\n",
       "      <td>Status</td>\n",
       "      <td>95.0</td>\n",
       "    </tr>\n",
       "  </tbody>\n",
       "</table>\n",
       "</div>"
      ],
      "text/plain": [
       "                   Id                                           HtmlBody  \\\n",
       "0  02s1r00001acKkkAAE  good morning,\\nplease could i have a response ...   \n",
       "1  02s1r00001blgJyAAI  please find attached copy of statement/queries...   \n",
       "\n",
       "                                HtmlBody(Clean Data) Predicted Class  \\\n",
       "0  payment query good morning, thank you for your...          Others   \n",
       "1  statement & queries please find attached up to...          Status   \n",
       "\n",
       "   Predicted Score  \n",
       "0            100.0  \n",
       "1             95.0  "
      ]
     },
     "execution_count": 156,
     "metadata": {},
     "output_type": "execute_result"
    }
   ],
   "source": [
    "df.head(2)"
   ]
  },
  {
   "cell_type": "code",
   "execution_count": 157,
   "metadata": {},
   "outputs": [
    {
     "data": {
      "text/plain": [
       "(8744, 5)"
      ]
     },
     "execution_count": 157,
     "metadata": {},
     "output_type": "execute_result"
    }
   ],
   "source": [
    "df.shape"
   ]
  },
  {
   "cell_type": "code",
   "execution_count": 158,
   "metadata": {},
   "outputs": [
    {
     "data": {
      "text/plain": [
       "Id                         0\n",
       "HtmlBody                1837\n",
       "HtmlBody(Clean Data)    1863\n",
       "Predicted Class            0\n",
       "Predicted Score            0\n",
       "dtype: int64"
      ]
     },
     "execution_count": 158,
     "metadata": {},
     "output_type": "execute_result"
    }
   ],
   "source": [
    "df.isnull().sum()"
   ]
  },
  {
   "cell_type": "code",
   "execution_count": 159,
   "metadata": {},
   "outputs": [],
   "source": [
    "df = df.dropna()"
   ]
  },
  {
   "cell_type": "code",
   "execution_count": 160,
   "metadata": {},
   "outputs": [
    {
     "data": {
      "text/plain": [
       "Id                      0\n",
       "HtmlBody                0\n",
       "HtmlBody(Clean Data)    0\n",
       "Predicted Class         0\n",
       "Predicted Score         0\n",
       "dtype: int64"
      ]
     },
     "execution_count": 160,
     "metadata": {},
     "output_type": "execute_result"
    }
   ],
   "source": [
    "df.isnull().sum()"
   ]
  },
  {
   "cell_type": "code",
   "execution_count": 161,
   "metadata": {},
   "outputs": [
    {
     "data": {
      "text/plain": [
       "Index(['Id', 'HtmlBody', 'HtmlBody(Clean Data)', 'Predicted Class',\n",
       "       'Predicted Score'],\n",
       "      dtype='object')"
      ]
     },
     "execution_count": 161,
     "metadata": {},
     "output_type": "execute_result"
    }
   ],
   "source": [
    "df.columns"
   ]
  },
  {
   "cell_type": "code",
   "execution_count": 162,
   "metadata": {},
   "outputs": [],
   "source": [
    "df =df.rename(columns={'HtmlBody(Clean Data)':'htmlbody_cleaned_data','Predicted Class':'Predicted_Class'})"
   ]
  },
  {
   "cell_type": "code",
   "execution_count": 163,
   "metadata": {},
   "outputs": [
    {
     "data": {
      "text/html": [
       "<div>\n",
       "<style scoped>\n",
       "    .dataframe tbody tr th:only-of-type {\n",
       "        vertical-align: middle;\n",
       "    }\n",
       "\n",
       "    .dataframe tbody tr th {\n",
       "        vertical-align: top;\n",
       "    }\n",
       "\n",
       "    .dataframe thead th {\n",
       "        text-align: right;\n",
       "    }\n",
       "</style>\n",
       "<table border=\"1\" class=\"dataframe\">\n",
       "  <thead>\n",
       "    <tr style=\"text-align: right;\">\n",
       "      <th></th>\n",
       "      <th>Id</th>\n",
       "      <th>HtmlBody</th>\n",
       "      <th>htmlbody_cleaned_data</th>\n",
       "      <th>Predicted_Class</th>\n",
       "      <th>Predicted Score</th>\n",
       "    </tr>\n",
       "  </thead>\n",
       "  <tbody>\n",
       "    <tr>\n",
       "      <th>0</th>\n",
       "      <td>02s1r00001acKkkAAE</td>\n",
       "      <td>good morning,\\nplease could i have a response ...</td>\n",
       "      <td>payment query good morning, thank you for your...</td>\n",
       "      <td>Others</td>\n",
       "      <td>100.0</td>\n",
       "    </tr>\n",
       "    <tr>\n",
       "      <th>1</th>\n",
       "      <td>02s1r00001blgJyAAI</td>\n",
       "      <td>please find attached copy of statement/queries...</td>\n",
       "      <td>statement &amp; queries please find attached up to...</td>\n",
       "      <td>Status</td>\n",
       "      <td>95.0</td>\n",
       "    </tr>\n",
       "    <tr>\n",
       "      <th>2</th>\n",
       "      <td>02s1r00001blgcRAAQ</td>\n",
       "      <td>hayley waterman\\nkone plc\\nexpense/accounts as...</td>\n",
       "      <td>statement from oasis products vending services...</td>\n",
       "      <td>Others</td>\n",
       "      <td>100.0</td>\n",
       "    </tr>\n",
       "    <tr>\n",
       "      <th>3</th>\n",
       "      <td>02s1r00001blj0aAAA</td>\n",
       "      <td>dear requester,\\nthank you for writing to us. ...</td>\n",
       "      <td>ees uk cis deductions hi, after speaking to sh...</td>\n",
       "      <td>Others</td>\n",
       "      <td>100.0</td>\n",
       "    </tr>\n",
       "    <tr>\n",
       "      <th>4</th>\n",
       "      <td>02s1r00001blj6TAAQ</td>\n",
       "      <td>dear requester,\\nthank you for writing to us. ...</td>\n",
       "      <td>securitas invoice processed twice in error hi ...</td>\n",
       "      <td>Others</td>\n",
       "      <td>100.0</td>\n",
       "    </tr>\n",
       "    <tr>\n",
       "      <th>5</th>\n",
       "      <td>02s1r00001blwqoAAA</td>\n",
       "      <td>dear sirs.\\nplease respond with regards to the...</td>\n",
       "      <td>overdue invoice for vendor AHD_NUMBER please a...</td>\n",
       "      <td>Status</td>\n",
       "      <td>95.0</td>\n",
       "    </tr>\n",
       "    <tr>\n",
       "      <th>6</th>\n",
       "      <td>02s1r00001blz0lAAA</td>\n",
       "      <td>dear requester,\\nthank you for writing to us. ...</td>\n",
       "      <td>problem hi supplier number AHD_NUMBER problem ...</td>\n",
       "      <td>Others</td>\n",
       "      <td>100.0</td>\n",
       "    </tr>\n",
       "    <tr>\n",
       "      <th>7</th>\n",
       "      <td>02s1r00001bm0GBAAY</td>\n",
       "      <td>dear requester,\\nthank you for writing to us. ...</td>\n",
       "      <td>cis payment hi can you please solve this probl...</td>\n",
       "      <td>Escalation</td>\n",
       "      <td>62.0</td>\n",
       "    </tr>\n",
       "    <tr>\n",
       "      <th>8</th>\n",
       "      <td>02s1r00001bm0JoAAI</td>\n",
       "      <td>dear requester,\\nthank you for writing to us. ...</td>\n",
       "      <td>cis payment hi can you please solve this probl...</td>\n",
       "      <td>Escalation</td>\n",
       "      <td>62.0</td>\n",
       "    </tr>\n",
       "    <tr>\n",
       "      <th>9</th>\n",
       "      <td>02s1r00001bm1QWAAY</td>\n",
       "      <td>dear requester,\\nthank you for writing to us. ...</td>\n",
       "      <td>invoice AHD_NUMBER from control applications l...</td>\n",
       "      <td>Others</td>\n",
       "      <td>100.0</td>\n",
       "    </tr>\n",
       "    <tr>\n",
       "      <th>10</th>\n",
       "      <td>02s1r00001bm2gQAAQ</td>\n",
       "      <td>dear requester,\\nthank you for writing to us. ...</td>\n",
       "      <td>invoices vendor number AHD_ALPHANUM can we kno...</td>\n",
       "      <td>Status</td>\n",
       "      <td>95.0</td>\n",
       "    </tr>\n",
       "    <tr>\n",
       "      <th>11</th>\n",
       "      <td>02s1r00001bm2hiAAA</td>\n",
       "      <td>good afternoon,\\nplease see the attached email...</td>\n",
       "      <td>good afternoon, please see the attached email ...</td>\n",
       "      <td>Others</td>\n",
       "      <td>100.0</td>\n",
       "    </tr>\n",
       "    <tr>\n",
       "      <th>12</th>\n",
       "      <td>02s1r00001bm43LAAQ</td>\n",
       "      <td>from:\\ncontactap_uk@kone.com\\nsent:\\ntuesday, ...</td>\n",
       "      <td>securitas invoice processed twice in error hi ...</td>\n",
       "      <td>Others</td>\n",
       "      <td>100.0</td>\n",
       "    </tr>\n",
       "    <tr>\n",
       "      <th>13</th>\n",
       "      <td>02s1r00001bm43aAAA</td>\n",
       "      <td>from:\\ncontactap_uk@kone.com\\nsent:\\ntuesday, ...</td>\n",
       "      <td>securitas invoice processed twice in error hi ...</td>\n",
       "      <td>Others</td>\n",
       "      <td>100.0</td>\n",
       "    </tr>\n",
       "    <tr>\n",
       "      <th>14</th>\n",
       "      <td>02s1r00001bm4yCAAQ</td>\n",
       "      <td>from:\\ncontactap_uk@kone.com\\nsent:\\ntuesday, ...</td>\n",
       "      <td>payment query good morning, thank you for your...</td>\n",
       "      <td>Others</td>\n",
       "      <td>100.0</td>\n",
       "    </tr>\n",
       "    <tr>\n",
       "      <th>15</th>\n",
       "      <td>02s1r00001bm4yMAAQ</td>\n",
       "      <td>from:\\ncontactap_uk@kone.com\\nsent:\\ntuesday, ...</td>\n",
       "      <td>payment query good morning, thank you for your...</td>\n",
       "      <td>Others</td>\n",
       "      <td>100.0</td>\n",
       "    </tr>\n",
       "    <tr>\n",
       "      <th>16</th>\n",
       "      <td>02s1r00001bm5uuAAA</td>\n",
       "      <td>good afternoon\\ncould you please advise if the...</td>\n",
       "      <td>good afternoon could you please advise if the ...</td>\n",
       "      <td>Status</td>\n",
       "      <td>95.0</td>\n",
       "    </tr>\n",
       "    <tr>\n",
       "      <th>17</th>\n",
       "      <td>02s1r00001bmBRoAAM</td>\n",
       "      <td>hello all,\\nplease could you deal with the cus...</td>\n",
       "      <td>norton?s outstanding monies avtar can i please...</td>\n",
       "      <td>Others</td>\n",
       "      <td>100.0</td>\n",
       "    </tr>\n",
       "    <tr>\n",
       "      <th>18</th>\n",
       "      <td>02s1r00001bmBy9AAE</td>\n",
       "      <td>dear requester,\\nthank you for writing to us. ...</td>\n",
       "      <td>query hello queries , st query the above two i...</td>\n",
       "      <td>Others</td>\n",
       "      <td>100.0</td>\n",
       "    </tr>\n",
       "    <tr>\n",
       "      <th>19</th>\n",
       "      <td>02s1r00001bmCAjAAM</td>\n",
       "      <td>from:\\nanderson wendy \\nsent:\\n29 january 2019...</td>\n",
       "      <td>unpaid invoices morning wendy, could you have ...</td>\n",
       "      <td>Others</td>\n",
       "      <td>100.0</td>\n",
       "    </tr>\n",
       "    <tr>\n",
       "      <th>20</th>\n",
       "      <td>02s1r00001bmEbwAAE</td>\n",
       "      <td>the accounts department is working part time h...</td>\n",
       "      <td>the accounts department is working part time h...</td>\n",
       "      <td>Others</td>\n",
       "      <td>100.0</td>\n",
       "    </tr>\n",
       "    <tr>\n",
       "      <th>21</th>\n",
       "      <td>02s1r00001bmFdZAAU</td>\n",
       "      <td>dear requester,\\nthank you for writing to us. ...</td>\n",
       "      <td>invoices no AHD_DATE elevators uk limited- ko...</td>\n",
       "      <td>Others</td>\n",
       "      <td>100.0</td>\n",
       "    </tr>\n",
       "    <tr>\n",
       "      <th>22</th>\n",
       "      <td>02s1r00001bmFdyAAE</td>\n",
       "      <td>dear requester,\\nthank you for writing to us. ...</td>\n",
       "      <td>invoices no AHD_DATE elevators uk limited- ko...</td>\n",
       "      <td>Others</td>\n",
       "      <td>100.0</td>\n",
       "    </tr>\n",
       "    <tr>\n",
       "      <th>23</th>\n",
       "      <td>02s1r00001bmFerAAE</td>\n",
       "      <td>hello,\\nplease find in attach the invoice no 1...</td>\n",
       "      <td>hello, please find in attach the invoice no AH...</td>\n",
       "      <td>Others</td>\n",
       "      <td>100.0</td>\n",
       "    </tr>\n",
       "    <tr>\n",
       "      <th>24</th>\n",
       "      <td>02s1r00001bmGK9AAM</td>\n",
       "      <td>dear requester,\\nthank you for writing to us. ...</td>\n",
       "      <td>neopost invoice query hi all, the document bel...</td>\n",
       "      <td>Others</td>\n",
       "      <td>100.0</td>\n",
       "    </tr>\n",
       "    <tr>\n",
       "      <th>25</th>\n",
       "      <td>02s1r00001bmGc3AAE</td>\n",
       "      <td>dear requester,\\nthank you for writing to us. ...</td>\n",
       "      <td>neopost invoice to be deleted hi all, the docu...</td>\n",
       "      <td>Others</td>\n",
       "      <td>100.0</td>\n",
       "    </tr>\n",
       "    <tr>\n",
       "      <th>26</th>\n",
       "      <td>02s1r00001bmILnAAM</td>\n",
       "      <td>dear requester,\\nthank you for writing to us. ...</td>\n",
       "      <td>overdue credit note and invoices importance: h...</td>\n",
       "      <td>Others</td>\n",
       "      <td>100.0</td>\n",
       "    </tr>\n",
       "    <tr>\n",
       "      <th>27</th>\n",
       "      <td>02s1r00001bmIhjAAE</td>\n",
       "      <td>hi\\ni don’t know how to do this\\nregards\\ndere...</td>\n",
       "      <td>invoice AHD_NUMBER from control applications l...</td>\n",
       "      <td>Others</td>\n",
       "      <td>100.0</td>\n",
       "    </tr>\n",
       "    <tr>\n",
       "      <th>28</th>\n",
       "      <td>02s1r00001bmIqCAAU</td>\n",
       "      <td>dear requester,\\nthank you for writing to us. ...</td>\n",
       "      <td>kone plc good afternoon, please can you confir...</td>\n",
       "      <td>Status</td>\n",
       "      <td>95.0</td>\n",
       "    </tr>\n",
       "    <tr>\n",
       "      <th>29</th>\n",
       "      <td>02s1r00001bmIunAAE</td>\n",
       "      <td>dear requester,\\nthank you for writing to us. ...</td>\n",
       "      <td>over due and due invoices for payment good aft...</td>\n",
       "      <td>Escalation</td>\n",
       "      <td>67.0</td>\n",
       "    </tr>\n",
       "    <tr>\n",
       "      <th>...</th>\n",
       "      <td>...</td>\n",
       "      <td>...</td>\n",
       "      <td>...</td>\n",
       "      <td>...</td>\n",
       "      <td>...</td>\n",
       "    </tr>\n",
       "    <tr>\n",
       "      <th>8697</th>\n",
       "      <td>02s1r00001iJGmNAAW</td>\n",
       "      <td>dear requester,\\nthank you for writing to us. ...</td>\n",
       "      <td>sulzer electro mechanical services uk limited ...</td>\n",
       "      <td>Others</td>\n",
       "      <td>100.0</td>\n",
       "    </tr>\n",
       "    <tr>\n",
       "      <th>8699</th>\n",
       "      <td>02s1r00001iJHCWAA4</td>\n",
       "      <td>dear requester,\\nthank you for writing to us. ...</td>\n",
       "      <td>invoices dear sirs we have been paid an amount...</td>\n",
       "      <td>Status</td>\n",
       "      <td>85.0</td>\n",
       "    </tr>\n",
       "    <tr>\n",
       "      <th>8703</th>\n",
       "      <td>02s1r00001iJIA2AAO</td>\n",
       "      <td>dear requester,\\nthank you for writing to us. ...</td>\n",
       "      <td>rn lift ltd invoices not paid hi. i would like...</td>\n",
       "      <td>Others</td>\n",
       "      <td>100.0</td>\n",
       "    </tr>\n",
       "    <tr>\n",
       "      <th>8705</th>\n",
       "      <td>02s1r00001iJIV5AAO</td>\n",
       "      <td>hello,\\nim unsure on what to do with this plea...</td>\n",
       "      <td>vat return hello, i need help with my vat ret...</td>\n",
       "      <td>Others</td>\n",
       "      <td>100.0</td>\n",
       "    </tr>\n",
       "    <tr>\n",
       "      <th>8707</th>\n",
       "      <td>02s1r00001iJJ0mAAG</td>\n",
       "      <td>dear accounts \\nplease find attached invoice f...</td>\n",
       "      <td>reservation hi can i please book the followin...</td>\n",
       "      <td>Others</td>\n",
       "      <td>100.0</td>\n",
       "    </tr>\n",
       "    <tr>\n",
       "      <th>8709</th>\n",
       "      <td>02s1r00001iJJfaAAG</td>\n",
       "      <td>dear requester,\\nthank you for writing to us. ...</td>\n",
       "      <td>statement from pirtek cork</td>\n",
       "      <td>Others</td>\n",
       "      <td>100.0</td>\n",
       "    </tr>\n",
       "    <tr>\n",
       "      <th>8711</th>\n",
       "      <td>02s1r00001iJKdzAAG</td>\n",
       "      <td>hello helpdesk,\\nthis payment has already been...</td>\n",
       "      <td>payment specification</td>\n",
       "      <td>Others</td>\n",
       "      <td>100.0</td>\n",
       "    </tr>\n",
       "    <tr>\n",
       "      <th>8712</th>\n",
       "      <td>02s1r00001iJLBDAA4</td>\n",
       "      <td>good morning,\\nwhat upgrade do you need ?\\ni t...</td>\n",
       "      <td>po AHD_NUMBER caution: external e-mail. please...</td>\n",
       "      <td>Others</td>\n",
       "      <td>100.0</td>\n",
       "    </tr>\n",
       "    <tr>\n",
       "      <th>8713</th>\n",
       "      <td>02s1r00001iJLCLAA4</td>\n",
       "      <td>dear requester,\\nthank you for writing to us. ...</td>\n",
       "      <td>invoice</td>\n",
       "      <td>Others</td>\n",
       "      <td>100.0</td>\n",
       "    </tr>\n",
       "    <tr>\n",
       "      <th>8715</th>\n",
       "      <td>02s1r00001iJM64AAG</td>\n",
       "      <td>hi,\\nplease come back to me, there was nothing...</td>\n",
       "      <td>outstanding items dear all, i have been chasin...</td>\n",
       "      <td>Escalation</td>\n",
       "      <td>73.0</td>\n",
       "    </tr>\n",
       "    <tr>\n",
       "      <th>8716</th>\n",
       "      <td>02s1r00001iJMXKAA4</td>\n",
       "      <td>good morning\\ni have looked at your purchase o...</td>\n",
       "      <td>invoice AHD_NUMBER good afternoon please find ...</td>\n",
       "      <td>Status</td>\n",
       "      <td>90.0</td>\n",
       "    </tr>\n",
       "    <tr>\n",
       "      <th>8717</th>\n",
       "      <td>02s1r00001iJMrFAAW</td>\n",
       "      <td>hi team,\\nplease check with sharon kennedy reg...</td>\n",
       "      <td>hi team, please check with sharon kennedy rega...</td>\n",
       "      <td>Others</td>\n",
       "      <td>100.0</td>\n",
       "    </tr>\n",
       "    <tr>\n",
       "      <th>8720</th>\n",
       "      <td>02s1r00001iJOIMAA4</td>\n",
       "      <td>hello\\nwe do not know what this in reference t...</td>\n",
       "      <td>sub: thank you for your request:  gunnebo sta...</td>\n",
       "      <td>Others</td>\n",
       "      <td>100.0</td>\n",
       "    </tr>\n",
       "    <tr>\n",
       "      <th>8721</th>\n",
       "      <td>02s1r00001iJOIlAAO</td>\n",
       "      <td>warning:\\nthe sender of this email could not b...</td>\n",
       "      <td>warning: the sender of this email could not be...</td>\n",
       "      <td>Others</td>\n",
       "      <td>100.0</td>\n",
       "    </tr>\n",
       "    <tr>\n",
       "      <th>8722</th>\n",
       "      <td>02s1r00001iJOS7AAO</td>\n",
       "      <td>hi bhanu,\\ncould you please chase this again a...</td>\n",
       "      <td>copy of invoice AHD_NUMBER null</td>\n",
       "      <td>Others</td>\n",
       "      <td>100.0</td>\n",
       "    </tr>\n",
       "    <tr>\n",
       "      <th>8724</th>\n",
       "      <td>02s1r00001iJP6MAAW</td>\n",
       "      <td>we need an urgent response. especially the feb...</td>\n",
       "      <td>we need an urgent response. especially the feb...</td>\n",
       "      <td>Others</td>\n",
       "      <td>100.0</td>\n",
       "    </tr>\n",
       "    <tr>\n",
       "      <th>8725</th>\n",
       "      <td>02s1r00001iJPHtAAO</td>\n",
       "      <td>hi team,\\nas we have posted with incorrect dat...</td>\n",
       "      <td>over deducted cis payments good morning it is ...</td>\n",
       "      <td>Others</td>\n",
       "      <td>100.0</td>\n",
       "    </tr>\n",
       "    <tr>\n",
       "      <th>8726</th>\n",
       "      <td>02s1r00001iJPeYAAW</td>\n",
       "      <td>posted\\nfrom:\\ncontact ap_uk [mailto:contactap...</td>\n",
       "      <td>c&amp;r lifts services</td>\n",
       "      <td>Others</td>\n",
       "      <td>100.0</td>\n",
       "    </tr>\n",
       "    <tr>\n",
       "      <th>8729</th>\n",
       "      <td>02s1r00001iJQ3nAAG</td>\n",
       "      <td>as previously stated i do not complete cis sta...</td>\n",
       "      <td>cis statement AHD_NUMBER AHD_ALPHANUM to AHD_N...</td>\n",
       "      <td>Others</td>\n",
       "      <td>100.0</td>\n",
       "    </tr>\n",
       "    <tr>\n",
       "      <th>8730</th>\n",
       "      <td>02s1r00001iJQ5oAAG</td>\n",
       "      <td>as previously stated i do not complete cis sta...</td>\n",
       "      <td>cis statement AHD_NUMBER AHD_ALPHANUM to AHD_N...</td>\n",
       "      <td>Others</td>\n",
       "      <td>100.0</td>\n",
       "    </tr>\n",
       "    <tr>\n",
       "      <th>8731</th>\n",
       "      <td>02s1r00001iJQ7BAAW</td>\n",
       "      <td>as previously commented i do not complete cis ...</td>\n",
       "      <td>cis statement AHD_NUMBER AHD_ALPHANUM to AHD_N...</td>\n",
       "      <td>Others</td>\n",
       "      <td>100.0</td>\n",
       "    </tr>\n",
       "    <tr>\n",
       "      <th>8732</th>\n",
       "      <td>02s1r00001iJQXRAA4</td>\n",
       "      <td>dear requester,\\nthank you for writing to us. ...</td>\n",
       "      <td>eagle overseas statement</td>\n",
       "      <td>Others</td>\n",
       "      <td>100.0</td>\n",
       "    </tr>\n",
       "    <tr>\n",
       "      <th>8735</th>\n",
       "      <td>02s1r00001iJRVkAAO</td>\n",
       "      <td>please see attached statement  from widestripe...</td>\n",
       "      <td>kone statement</td>\n",
       "      <td>Others</td>\n",
       "      <td>100.0</td>\n",
       "    </tr>\n",
       "    <tr>\n",
       "      <th>8736</th>\n",
       "      <td>02s1r00001iJReNAAW</td>\n",
       "      <td>hi,\\ncould you please push back to the vendor,...</td>\n",
       "      <td>hi, could you please push back to the vendor, ...</td>\n",
       "      <td>Others</td>\n",
       "      <td>100.0</td>\n",
       "    </tr>\n",
       "    <tr>\n",
       "      <th>8737</th>\n",
       "      <td>02s1r00001iJRrgAAG</td>\n",
       "      <td>good afternoon, \\nplease find account statemen...</td>\n",
       "      <td>good afternoon, please find account statement ...</td>\n",
       "      <td>Others</td>\n",
       "      <td>100.0</td>\n",
       "    </tr>\n",
       "    <tr>\n",
       "      <th>8738</th>\n",
       "      <td>02s1r00001iJRvnAAG</td>\n",
       "      <td>great. \\nmany thanks for your prompt reply. \\n...</td>\n",
       "      <td>gs culleton - invoicing error good morning, i ...</td>\n",
       "      <td>Others</td>\n",
       "      <td>100.0</td>\n",
       "    </tr>\n",
       "    <tr>\n",
       "      <th>8739</th>\n",
       "      <td>02s1r00001iJRwWAAW</td>\n",
       "      <td>hi all, \\nmany thanks for your recent remittan...</td>\n",
       "      <td>hi all, many thanks for your recent remittance...</td>\n",
       "      <td>Status</td>\n",
       "      <td>85.0</td>\n",
       "    </tr>\n",
       "    <tr>\n",
       "      <th>8740</th>\n",
       "      <td>02s1r00001iJRxeAAG</td>\n",
       "      <td>hi,\\nplease see attached\\nkind regards\\njustin...</td>\n",
       "      <td>AHD_ALPHANUM hi team, please push back to vend...</td>\n",
       "      <td>Others</td>\n",
       "      <td>100.0</td>\n",
       "    </tr>\n",
       "    <tr>\n",
       "      <th>8742</th>\n",
       "      <td>02s1r00001iJS88AAG</td>\n",
       "      <td>dear requester,\\nthank you for writing to us. ...</td>\n",
       "      <td>invoice hi ian, we have another invoice which ...</td>\n",
       "      <td>Others</td>\n",
       "      <td>100.0</td>\n",
       "    </tr>\n",
       "    <tr>\n",
       "      <th>8743</th>\n",
       "      <td>02s1r00001iJSFYAA4</td>\n",
       "      <td>morning,\\nnot sure why you’ve emailed me – thi...</td>\n",
       "      <td>AHD_NUMBER urgent letters received at keighley...</td>\n",
       "      <td>Others</td>\n",
       "      <td>100.0</td>\n",
       "    </tr>\n",
       "  </tbody>\n",
       "</table>\n",
       "<p>6881 rows × 5 columns</p>\n",
       "</div>"
      ],
      "text/plain": [
       "                      Id                                           HtmlBody  \\\n",
       "0     02s1r00001acKkkAAE  good morning,\\nplease could i have a response ...   \n",
       "1     02s1r00001blgJyAAI  please find attached copy of statement/queries...   \n",
       "2     02s1r00001blgcRAAQ  hayley waterman\\nkone plc\\nexpense/accounts as...   \n",
       "3     02s1r00001blj0aAAA  dear requester,\\nthank you for writing to us. ...   \n",
       "4     02s1r00001blj6TAAQ  dear requester,\\nthank you for writing to us. ...   \n",
       "5     02s1r00001blwqoAAA  dear sirs.\\nplease respond with regards to the...   \n",
       "6     02s1r00001blz0lAAA  dear requester,\\nthank you for writing to us. ...   \n",
       "7     02s1r00001bm0GBAAY  dear requester,\\nthank you for writing to us. ...   \n",
       "8     02s1r00001bm0JoAAI  dear requester,\\nthank you for writing to us. ...   \n",
       "9     02s1r00001bm1QWAAY  dear requester,\\nthank you for writing to us. ...   \n",
       "10    02s1r00001bm2gQAAQ  dear requester,\\nthank you for writing to us. ...   \n",
       "11    02s1r00001bm2hiAAA  good afternoon,\\nplease see the attached email...   \n",
       "12    02s1r00001bm43LAAQ  from:\\ncontactap_uk@kone.com\\nsent:\\ntuesday, ...   \n",
       "13    02s1r00001bm43aAAA  from:\\ncontactap_uk@kone.com\\nsent:\\ntuesday, ...   \n",
       "14    02s1r00001bm4yCAAQ  from:\\ncontactap_uk@kone.com\\nsent:\\ntuesday, ...   \n",
       "15    02s1r00001bm4yMAAQ  from:\\ncontactap_uk@kone.com\\nsent:\\ntuesday, ...   \n",
       "16    02s1r00001bm5uuAAA  good afternoon\\ncould you please advise if the...   \n",
       "17    02s1r00001bmBRoAAM  hello all,\\nplease could you deal with the cus...   \n",
       "18    02s1r00001bmBy9AAE  dear requester,\\nthank you for writing to us. ...   \n",
       "19    02s1r00001bmCAjAAM  from:\\nanderson wendy \\nsent:\\n29 january 2019...   \n",
       "20    02s1r00001bmEbwAAE  the accounts department is working part time h...   \n",
       "21    02s1r00001bmFdZAAU  dear requester,\\nthank you for writing to us. ...   \n",
       "22    02s1r00001bmFdyAAE  dear requester,\\nthank you for writing to us. ...   \n",
       "23    02s1r00001bmFerAAE  hello,\\nplease find in attach the invoice no 1...   \n",
       "24    02s1r00001bmGK9AAM  dear requester,\\nthank you for writing to us. ...   \n",
       "25    02s1r00001bmGc3AAE  dear requester,\\nthank you for writing to us. ...   \n",
       "26    02s1r00001bmILnAAM  dear requester,\\nthank you for writing to us. ...   \n",
       "27    02s1r00001bmIhjAAE  hi\\ni don’t know how to do this\\nregards\\ndere...   \n",
       "28    02s1r00001bmIqCAAU  dear requester,\\nthank you for writing to us. ...   \n",
       "29    02s1r00001bmIunAAE  dear requester,\\nthank you for writing to us. ...   \n",
       "...                  ...                                                ...   \n",
       "8697  02s1r00001iJGmNAAW  dear requester,\\nthank you for writing to us. ...   \n",
       "8699  02s1r00001iJHCWAA4  dear requester,\\nthank you for writing to us. ...   \n",
       "8703  02s1r00001iJIA2AAO  dear requester,\\nthank you for writing to us. ...   \n",
       "8705  02s1r00001iJIV5AAO  hello,\\nim unsure on what to do with this plea...   \n",
       "8707  02s1r00001iJJ0mAAG  dear accounts \\nplease find attached invoice f...   \n",
       "8709  02s1r00001iJJfaAAG  dear requester,\\nthank you for writing to us. ...   \n",
       "8711  02s1r00001iJKdzAAG  hello helpdesk,\\nthis payment has already been...   \n",
       "8712  02s1r00001iJLBDAA4  good morning,\\nwhat upgrade do you need ?\\ni t...   \n",
       "8713  02s1r00001iJLCLAA4  dear requester,\\nthank you for writing to us. ...   \n",
       "8715  02s1r00001iJM64AAG  hi,\\nplease come back to me, there was nothing...   \n",
       "8716  02s1r00001iJMXKAA4  good morning\\ni have looked at your purchase o...   \n",
       "8717  02s1r00001iJMrFAAW  hi team,\\nplease check with sharon kennedy reg...   \n",
       "8720  02s1r00001iJOIMAA4  hello\\nwe do not know what this in reference t...   \n",
       "8721  02s1r00001iJOIlAAO  warning:\\nthe sender of this email could not b...   \n",
       "8722  02s1r00001iJOS7AAO  hi bhanu,\\ncould you please chase this again a...   \n",
       "8724  02s1r00001iJP6MAAW  we need an urgent response. especially the feb...   \n",
       "8725  02s1r00001iJPHtAAO  hi team,\\nas we have posted with incorrect dat...   \n",
       "8726  02s1r00001iJPeYAAW  posted\\nfrom:\\ncontact ap_uk [mailto:contactap...   \n",
       "8729  02s1r00001iJQ3nAAG  as previously stated i do not complete cis sta...   \n",
       "8730  02s1r00001iJQ5oAAG  as previously stated i do not complete cis sta...   \n",
       "8731  02s1r00001iJQ7BAAW  as previously commented i do not complete cis ...   \n",
       "8732  02s1r00001iJQXRAA4  dear requester,\\nthank you for writing to us. ...   \n",
       "8735  02s1r00001iJRVkAAO  please see attached statement  from widestripe...   \n",
       "8736  02s1r00001iJReNAAW  hi,\\ncould you please push back to the vendor,...   \n",
       "8737  02s1r00001iJRrgAAG  good afternoon, \\nplease find account statemen...   \n",
       "8738  02s1r00001iJRvnAAG  great. \\nmany thanks for your prompt reply. \\n...   \n",
       "8739  02s1r00001iJRwWAAW  hi all, \\nmany thanks for your recent remittan...   \n",
       "8740  02s1r00001iJRxeAAG  hi,\\nplease see attached\\nkind regards\\njustin...   \n",
       "8742  02s1r00001iJS88AAG  dear requester,\\nthank you for writing to us. ...   \n",
       "8743  02s1r00001iJSFYAA4  morning,\\nnot sure why you’ve emailed me – thi...   \n",
       "\n",
       "                                  htmlbody_cleaned_data Predicted_Class  \\\n",
       "0     payment query good morning, thank you for your...          Others   \n",
       "1     statement & queries please find attached up to...          Status   \n",
       "2     statement from oasis products vending services...          Others   \n",
       "3     ees uk cis deductions hi, after speaking to sh...          Others   \n",
       "4     securitas invoice processed twice in error hi ...          Others   \n",
       "5     overdue invoice for vendor AHD_NUMBER please a...          Status   \n",
       "6     problem hi supplier number AHD_NUMBER problem ...          Others   \n",
       "7     cis payment hi can you please solve this probl...      Escalation   \n",
       "8     cis payment hi can you please solve this probl...      Escalation   \n",
       "9     invoice AHD_NUMBER from control applications l...          Others   \n",
       "10    invoices vendor number AHD_ALPHANUM can we kno...          Status   \n",
       "11    good afternoon, please see the attached email ...          Others   \n",
       "12    securitas invoice processed twice in error hi ...          Others   \n",
       "13    securitas invoice processed twice in error hi ...          Others   \n",
       "14    payment query good morning, thank you for your...          Others   \n",
       "15    payment query good morning, thank you for your...          Others   \n",
       "16    good afternoon could you please advise if the ...          Status   \n",
       "17    norton?s outstanding monies avtar can i please...          Others   \n",
       "18    query hello queries , st query the above two i...          Others   \n",
       "19    unpaid invoices morning wendy, could you have ...          Others   \n",
       "20    the accounts department is working part time h...          Others   \n",
       "21     invoices no AHD_DATE elevators uk limited- ko...          Others   \n",
       "22     invoices no AHD_DATE elevators uk limited- ko...          Others   \n",
       "23    hello, please find in attach the invoice no AH...          Others   \n",
       "24    neopost invoice query hi all, the document bel...          Others   \n",
       "25    neopost invoice to be deleted hi all, the docu...          Others   \n",
       "26    overdue credit note and invoices importance: h...          Others   \n",
       "27    invoice AHD_NUMBER from control applications l...          Others   \n",
       "28    kone plc good afternoon, please can you confir...          Status   \n",
       "29    over due and due invoices for payment good aft...      Escalation   \n",
       "...                                                 ...             ...   \n",
       "8697  sulzer electro mechanical services uk limited ...          Others   \n",
       "8699  invoices dear sirs we have been paid an amount...          Status   \n",
       "8703  rn lift ltd invoices not paid hi. i would like...          Others   \n",
       "8705   vat return hello, i need help with my vat ret...          Others   \n",
       "8707   reservation hi can i please book the followin...          Others   \n",
       "8709                         statement from pirtek cork          Others   \n",
       "8711                              payment specification          Others   \n",
       "8712  po AHD_NUMBER caution: external e-mail. please...          Others   \n",
       "8713                                            invoice          Others   \n",
       "8715  outstanding items dear all, i have been chasin...      Escalation   \n",
       "8716  invoice AHD_NUMBER good afternoon please find ...          Status   \n",
       "8717  hi team, please check with sharon kennedy rega...          Others   \n",
       "8720   sub: thank you for your request:  gunnebo sta...          Others   \n",
       "8721  warning: the sender of this email could not be...          Others   \n",
       "8722                    copy of invoice AHD_NUMBER null          Others   \n",
       "8724  we need an urgent response. especially the feb...          Others   \n",
       "8725  over deducted cis payments good morning it is ...          Others   \n",
       "8726                                 c&r lifts services          Others   \n",
       "8729  cis statement AHD_NUMBER AHD_ALPHANUM to AHD_N...          Others   \n",
       "8730  cis statement AHD_NUMBER AHD_ALPHANUM to AHD_N...          Others   \n",
       "8731  cis statement AHD_NUMBER AHD_ALPHANUM to AHD_N...          Others   \n",
       "8732                           eagle overseas statement          Others   \n",
       "8735                                     kone statement          Others   \n",
       "8736  hi, could you please push back to the vendor, ...          Others   \n",
       "8737  good afternoon, please find account statement ...          Others   \n",
       "8738  gs culleton - invoicing error good morning, i ...          Others   \n",
       "8739  hi all, many thanks for your recent remittance...          Status   \n",
       "8740  AHD_ALPHANUM hi team, please push back to vend...          Others   \n",
       "8742  invoice hi ian, we have another invoice which ...          Others   \n",
       "8743  AHD_NUMBER urgent letters received at keighley...          Others   \n",
       "\n",
       "      Predicted Score  \n",
       "0               100.0  \n",
       "1                95.0  \n",
       "2               100.0  \n",
       "3               100.0  \n",
       "4               100.0  \n",
       "5                95.0  \n",
       "6               100.0  \n",
       "7                62.0  \n",
       "8                62.0  \n",
       "9               100.0  \n",
       "10               95.0  \n",
       "11              100.0  \n",
       "12              100.0  \n",
       "13              100.0  \n",
       "14              100.0  \n",
       "15              100.0  \n",
       "16               95.0  \n",
       "17              100.0  \n",
       "18              100.0  \n",
       "19              100.0  \n",
       "20              100.0  \n",
       "21              100.0  \n",
       "22              100.0  \n",
       "23              100.0  \n",
       "24              100.0  \n",
       "25              100.0  \n",
       "26              100.0  \n",
       "27              100.0  \n",
       "28               95.0  \n",
       "29               67.0  \n",
       "...               ...  \n",
       "8697            100.0  \n",
       "8699             85.0  \n",
       "8703            100.0  \n",
       "8705            100.0  \n",
       "8707            100.0  \n",
       "8709            100.0  \n",
       "8711            100.0  \n",
       "8712            100.0  \n",
       "8713            100.0  \n",
       "8715             73.0  \n",
       "8716             90.0  \n",
       "8717            100.0  \n",
       "8720            100.0  \n",
       "8721            100.0  \n",
       "8722            100.0  \n",
       "8724            100.0  \n",
       "8725            100.0  \n",
       "8726            100.0  \n",
       "8729            100.0  \n",
       "8730            100.0  \n",
       "8731            100.0  \n",
       "8732            100.0  \n",
       "8735            100.0  \n",
       "8736            100.0  \n",
       "8737            100.0  \n",
       "8738            100.0  \n",
       "8739             85.0  \n",
       "8740            100.0  \n",
       "8742            100.0  \n",
       "8743            100.0  \n",
       "\n",
       "[6881 rows x 5 columns]"
      ]
     },
     "execution_count": 163,
     "metadata": {},
     "output_type": "execute_result"
    }
   ],
   "source": [
    "df"
   ]
  },
  {
   "cell_type": "code",
   "execution_count": 164,
   "metadata": {},
   "outputs": [],
   "source": [
    "df =df.drop(['Predicted Score','HtmlBody'],axis=1)"
   ]
  },
  {
   "cell_type": "code",
   "execution_count": 165,
   "metadata": {},
   "outputs": [
    {
     "data": {
      "text/html": [
       "<div>\n",
       "<style scoped>\n",
       "    .dataframe tbody tr th:only-of-type {\n",
       "        vertical-align: middle;\n",
       "    }\n",
       "\n",
       "    .dataframe tbody tr th {\n",
       "        vertical-align: top;\n",
       "    }\n",
       "\n",
       "    .dataframe thead th {\n",
       "        text-align: right;\n",
       "    }\n",
       "</style>\n",
       "<table border=\"1\" class=\"dataframe\">\n",
       "  <thead>\n",
       "    <tr style=\"text-align: right;\">\n",
       "      <th></th>\n",
       "      <th>Id</th>\n",
       "      <th>htmlbody_cleaned_data</th>\n",
       "      <th>Predicted_Class</th>\n",
       "    </tr>\n",
       "  </thead>\n",
       "  <tbody>\n",
       "    <tr>\n",
       "      <th>0</th>\n",
       "      <td>02s1r00001acKkkAAE</td>\n",
       "      <td>payment query good morning, thank you for your...</td>\n",
       "      <td>Others</td>\n",
       "    </tr>\n",
       "    <tr>\n",
       "      <th>1</th>\n",
       "      <td>02s1r00001blgJyAAI</td>\n",
       "      <td>statement &amp; queries please find attached up to...</td>\n",
       "      <td>Status</td>\n",
       "    </tr>\n",
       "  </tbody>\n",
       "</table>\n",
       "</div>"
      ],
      "text/plain": [
       "                   Id                              htmlbody_cleaned_data  \\\n",
       "0  02s1r00001acKkkAAE  payment query good morning, thank you for your...   \n",
       "1  02s1r00001blgJyAAI  statement & queries please find attached up to...   \n",
       "\n",
       "  Predicted_Class  \n",
       "0          Others  \n",
       "1          Status  "
      ]
     },
     "execution_count": 165,
     "metadata": {},
     "output_type": "execute_result"
    }
   ],
   "source": [
    "df.head(2)"
   ]
  },
  {
   "cell_type": "code",
   "execution_count": 166,
   "metadata": {},
   "outputs": [
    {
     "data": {
      "text/plain": [
       "Others        5615\n",
       "Status         832\n",
       "Escalation     434\n",
       "Name: Predicted_Class, dtype: int64"
      ]
     },
     "execution_count": 166,
     "metadata": {},
     "output_type": "execute_result"
    }
   ],
   "source": [
    "df.Predicted_Class.value_counts()"
   ]
  },
  {
   "cell_type": "markdown",
   "metadata": {},
   "source": [
    "### Ishan's Clean "
   ]
  },
  {
   "cell_type": "code",
   "execution_count": 167,
   "metadata": {},
   "outputs": [],
   "source": [
    "# some words that should be removed during tokenization along with any website name and weird characters and proper nouns too\n",
    "# dont remove good and morning alag se ig\n",
    "# dont remove symbols like ! and ? which might express emotion\n",
    "common_words = ['dear','sir',\"ma'am\",'maam','madam','sirs','AHD_NUMBER','AHD_DATE','AHD_ALPHANUM','AHD_EMAIL','please','invoice','date','regards','tel','telephone',\n",
    "                'good morning','good afternoon','good evening','i look forward to hearing from you','fax','registered']\n",
    "# For unclean data : \n",
    "# or maybe we can just remove everything after Disclaimer in sents_to_remove[0]\n",
    "# subject also has to be removed from the unclean data\n",
    "sents_to_remove = ['Disclaimer: If you have received this e-mail because of an addressing or delivery error, please inform the sender by replying to this e-mail and then delete it immediately. If you are not the intended recipient you must not use, disclose, distribute, copy, or print any of the information in it. Any opinions or views expressed in this message are those of the individual sender, except where the sender specifically states them to be otherwise. Big Yellow Group PLC takes no responsibility as to the presence of any viruses in this e-mail. Big Yellow Group PLC and associated companies. Registered in England and Wales No 3625199. Registered Office: 2 The Deans, Bridge Road, Bagshot, Surrey, GU19 5AT',\n",
    "                  '']"
   ]
  },
  {
   "cell_type": "code",
   "execution_count": 168,
   "metadata": {},
   "outputs": [],
   "source": [
    "# check all\n",
    "pat_1 = re.compile(r'(kind regard.*)')\n",
    "pat_2 = re.compile(r'(www\\.[a-z0-9]+\\.com.*)')\n",
    "pat_3 = re.compile(r'( tel[\\s:-].*)')\n",
    "pat_4 = re.compile(r'( fax.*)')\n",
    "pat_5 = re.compile(r'( t:.*)')\n",
    "pat_6 = re.compile(r'( dial:-.*)')\n",
    "pat_8 = re.compile(r'(cheers .*)')\n",
    "pat_9 = re.compile(r'(regards,.*)')\n",
    "pat_10 = re.compile(r'(confidentiality notice.*)')\n",
    "pat_11 = re.compile(r'(virus.*)')\n",
    "pat_12 = re.compile(r'(thank you\\..*)')\n",
    "pat_13 = re.compile(r'(bank name:.*)')\n",
    "pat_14 = re.compile(r'(registered office:.*)')\n",
    "pat_15 = re.compile(r'(please note my hours.*)')\n",
    "pat_16 = re.compile(r'(environment before printing.*)')\n",
    "pat_17 = re.compile(r'(this message is intended.*)')\n",
    "\n",
    "list_of_pats = [pat_1,pat_2,pat_3,pat_4,pat_5,pat_6,pat_8,pat_9,pat_10,pat_11,pat_12,pat_13,pat_14,pat_15,pat_16,pat_17]\n",
    "\n",
    "def clean(list_of_pats, list_of_words):\n",
    "    for i in list_of_pats:\n",
    "        if i == pat_1:\n",
    "            df['clean'] = df.htmlbody_cleaned_data.str.replace(pat_1,'')\n",
    "        else:\n",
    "            df['clean'] = df.clean.str.replace(i,'')\n",
    "    for i in list_of_words:\n",
    "        df.clean = df.clean.str.replace(i,'')\n",
    "#         df_true = df[df.clean.str.contains(i) == True]\n",
    "#         df.loc[df_true.index.values,'clean'] = df_true.final_body.str.replace(i,'')\n",
    "    return df\n",
    "\n",
    "df = clean(list_of_pats,common_words)"
   ]
  },
  {
   "cell_type": "code",
   "execution_count": 169,
   "metadata": {},
   "outputs": [],
   "source": [
    "df['final_body'] = df.clean"
   ]
  },
  {
   "cell_type": "code",
   "execution_count": 170,
   "metadata": {},
   "outputs": [
    {
     "data": {
      "text/plain": [
       "['payment query , thank you for your remittance. transaction   has been processed as a credit note, this is an  see attached.  can you reverse the credit and process the . also the following s remain unpaid and are now overdue.   due    due    due   respond by return advising of the payment  to avoid late payment charges being issued.',\n",
       " 'statement & queries  find attached up to  statement showing all s & queries outstanding up to   advise when the s from   oct.  will be processed for payment.',\n",
       " 'statement from oasis products vending services ltd for kone plc ',\n",
       " 'ees uk cis deductions hi, after speaking to sheila earlier regarding cis deductions that kone have made on our s since september, she advised that we should not be deducted any cis at source. could you  advise why this has happened and confirm hat you will be processing payment of outstanding balances on part-paid s. if you require further information on these balances,  do not hesitate to ask.',\n",
       " 'securitas  processed twice in error hi all,  delete the following it has already been processed under mm doc  i have blocked it so it dont get picked up in fridays payment run  thanks, hayley waterman kone plc expense/accounts assistant direct',\n",
       " 'overdue  for vendor   advise on the payment of   for  and   for  these should be paid in full with no deduction of cis as these are equipment only  respond with a payment  jane cook stentofon - zeni uk zeni uk ltd mack house  gatwick road  crawley  west sussex     uk switchboard:     ',\n",
       " 'problem hi supplier number  problem    cis should have been  not  remittance received  for  no payment of    on remittance even though this shows on the paper',\n",
       " 'cis payment hi can you  solve this problem regarding the s attached to these remittances remittance  s where to pay my employees wages on thursday  but you have taken  off it when it should of only been  from previous remittance  - not   c i s =  tax deduction!!! not the hundreds  you keep claiming !!  assist with this matter - im struggling to pay my employees now because of your incompetence this month',\n",
       " 'cis payment hi can you  solve this problem regarding the s attached to these remittances remittance  s where to pay my employees wages on thursday  but you have taken  off it when it should of only been  from previous remittance  - not   c i s =  tax deduction!!! not the hundreds  you keep claiming !!  assist with this matter - im struggling to pay my employees now because of your incompetence this month',\n",
       " '  from control applications limited   note the copy  i have attached is now overdue for payment,  can you can advise of any problems',\n",
       " 's vendor number  can we know the current status of s  -     -   -  get outlook for ios',\n",
       " ',  see the attached email sent on the  th september  relating to money deducted from our account incorrectly. i would be grateful if this could be actioned as soon as possible.',\n",
       " 'securitas  processed twice in error hi all,  delete the following it has already been processed under mm doc  i have blocked it so it don?t get picked up in fridays payment run ? thanks, hayley waterman kone plc expense/accounts assistant direct',\n",
       " 'securitas  processed twice in error hi all,  delete the following it has already been processed under mm doc  i have blocked it so it dont get picked up in fridays payment run  thanks, hayley waterman kone plc expense/accounts assistant direct',\n",
       " 'payment query , thank you for your remittance. transaction   has been processed as a credit note, this is an  see attached.  can you reverse the credit and process the . also the following s remain unpaid and are now overdue.   due    due    due   respond by return advising of the payment  to avoid late payment charges being issued.',\n",
       " 'payment query , thank you for your remittance. transaction   has been processed as a credit note, this is an  see attached.  can you reverse the credit and process the . also the following s remain unpaid and are now overdue.   due    due    due   respond by return advising of the payment  to avoid late payment charges being issued.',\n",
       " ' could you  advise if the below s have now been cleared for payment?',\n",
       " 'norton?s outstanding monies avtar can i  get an up for the attached outstanding monies, neil palmer operations director norton hydraulics ltd       email:  new address and ephone from january    unit  north orbital commercial park,  ',\n",
       " 'query hello queries , st query the above two items are overdue letters not  and have been posted to the customer account in error  couod these be deleted of the account. nd query this  is not for the above customer nad has been paid to them in error  raised interna;l credit and post the  on the the correct vendors account.',\n",
       " 'unpaid s morning wendy, could you have a look at the s attached  as there overdue and when i send a reminder it seems to get ignored.',\n",
       " 'the accounts department is working part time hours, for ugent assistance  call  ',\n",
       " ' s no  elevators uk limited- kone plc de la: daniela aciobanita trimis:  august   c?t  cc:  stefan lipciuc subiect: s no  elevators uk limited- kone plc hello,  find in attach the s no  thanks,',\n",
       " ' s no  elevators uk limited- kone plc de la: daniela aciobanita trimis:  june   c?t  cc:  ; stefan lipciuc subiect: s no  elevators uk limited- kone plc hello,  find in attach the s no  thanks,',\n",
       " 'hello,  find in attach the  no  thanks,',\n",
       " 'neopost  query hi all, the document below is an  for andrew roberts portal. it is for   remove from sheila wiltons portal. thanks, hayley waterman kone plc expense/accounts assistant direct',\n",
       " 'neopost  to be deleted hi all, the document below is for information only and not an . could you  delete  thanks, hayley waterman kone plc expense/accounts assistant direct',\n",
       " 'overdue credit note and s importance: high hi hayley,  can you help with getting attached cleared?',\n",
       " '  from control applications limited   note the copy  i have attached is now overdue for payment,  can you can advise of any problems',\n",
       " 'kone plc ,  can you confirm a payment  for the below as a matter of urgency?',\n",
       " 'over due and due s for payment   find below s which are overdue and due by the end of the week. we are still waiting for a reply to advise us that the accounts we currently have on stop are now sorted, could you  reply by return with this information as well as confirmation that the s due will be paid this week. island point s  lesley wesley amoo    landmark pinnacle s  lesley wesley amoo   ',\n",
       " 'big yellow  incorrect -  hi all, the  below has been posted for the incorrect amount. is it actually for  and not  could you  reverse it out as  and put back on as  so we can deduct our  over payment on the next payment run -',\n",
       " 'overdue credit note and s importance: high hi hayley,  can you help with getting attached cleared?',\n",
       " 'cis payment hi can you  solve this problem regarding the s attached to these remittances remittance  s where to pay my employees wages on thursday ? but you have taken  off it when it should of only been  from previous remittance  - not   c i s =  tax deduction!!! not the hundreds ? you keep claiming !!  assist with this matter - i?m struggling to pay my employees now because of your incompetence this month',\n",
       " 'cis payment hi can you  solve this problem regarding the s attached to these remittances remittance  s where to pay my employees wages on thursday  but you have taken  off it when it should of only been  from previous remittance  - not   c i s =  tax deduction!!! not the hundreds  you keep claiming !!  assist with this matter - im struggling to pay my employees now because of your incompetence this month',\n",
       " 'to: <  -- discover the story behind our new brand identity',\n",
       " 'norton?s outstanding monies avtar can i  get an up for the attached outstanding monies, neil palmer operations director norton hydraulics ltd       email:  new address and ephone from january    unit  north orbital commercial park,  ',\n",
       " 'no kone payment this week hi sheila/wendy, we havent received a payment from kone this week, could you  advise why this is?',\n",
       " '  see attached our .',\n",
       " 'adp s kasim could you let me know what the situation is with payment of adp s . they raised concerns with me this week about a number of outstanding payments. these included:  nov   oct   sept ',\n",
       " 'hi case numbers    can you  explain why you have sent emails with case closed on the above  when these have not been paid yet?? you also own me payment from   - total payment- with reference of only  cis being taken - not  this is unacceptable that no payment as been received and your sending emails that the above is now closed i need this  to be repaid into our account on this friday run   st february  angela mylett mersey lift fabrication ltd  caddick road knowsley business park prescot liverpool  ',\n",
       " 'norton?s outstanding monies avtar can i  get an up for the attached outstanding monies, neil palmer operations director norton hydraulics ltd       email:  new address and ephone from january    unit  north orbital commercial park,  ',\n",
       " 'my hours of work are monday,tuesday and friday  if you need a response  contact ',\n",
       " ' see attached e mail trail need this sorted asap or it will be costing thousands of pounds in damages due to late delivery',\n",
       " 'outstaning   ,  find attached a copy of   that has now gone past the  payment schedule  can you arrange payment as soon as possible thank you',\n",
       " 's vendor number  can we know the current status of s  -     -   -  get outlook for ios',\n",
       " ' , can you  contact myself regarding the attached s sharon sinet fyfe and mcgrouther  houston street glasgow      ',\n",
       " 'work calendar ',\n",
       " 'work calendar ',\n",
       " 'kone plc - december s hi hayley,  find attached an upd spreadsheet following your latest payment. id be grateful if you could confirm your payment  for the following december s:    & . also, it appears that there has been a duplication of payment, with a value on  paid twice see attached remittance, against   &  which is an account number and not an . it looks likely that   has been entered twice on your payments system.  let me know whether you would like this balance to applied to   or if it should be returned to you. many thanks for your help on this, which is very much appreciated.',\n",
       " ' all further to my previous emails to naresh last week and subsequent ephone conversation with your help desk, can someone  look into the outstanding issues on our account, preventing us getting paid? im attaching a statement of account where you will clearly see kone owe a large amount of money dating back to september  last week paul mcentire was sent three rejection emails. the reason for rejection was not valid and i did reply to each message. im not sure as to why these were sent to paul and would appreciate it if you can ensure all accounts communication comes to myself. i hope we get this matter cleared up soon as each day affects that kone projects we are working on.',\n",
       " 'helpdesk / mohammed / derek / sheila urgent your account is at legal stage and is on stop. i am my wits end regarding this account i have spent so much time on this account and feel very let down by the lack of response and issues not being resolved. most of our s we raise are for continuous hire of equipment. we generally quote for four weeks hire and a purchase order is raised for four weeks. we do not know how long equipment is required on hire. most cases the hire of equipment goes over the four weeks and can be for many months on hire. you therefore will receive many s under the same purchase order number. it is the buyers responsibility to increase / amend the purchase order not ours.  deal with my email with a matter of urgency. purchase order  value  two s have been raised under this purchase order see as follows:   =  including vat d  is outstanding   =  including vat d  paid  you have paid a later d .   i have spoken to sheila wilton in the uk regarding this . she has advised that it appears that this  has been put on the system and taken off again. it needs to be put back on your system and processed so we can receive payment for this well overdue . mohammed nawaz has also been dealing with this  and the buyer derek shaw has also asked you to look at this  and deal with any issues so that this  can be paid. i have spoken to abu on the helpdesk who was very helpful and patient. i have asked him to look into other s which are also outstanding. s   sheila wilton advised these have not been authorised for payment. i emailed the buyer donna gregg some time ago asking her to amend / increase etc the purchase order to cover these s this appears not to have been done.     purchase order  i emailed mohammed nawaz & derek shaw the buyer and asked for the purchase order to be increased / amended this also appears not to have been done. i have attached a statement of account, can you  advise which s have been passed for payment and payment due . once these s have been paid we will then put the account on active. i await your prompt reply.',\n",
       " 'sub: closure of case -  status.   requester, your request  has been resolved and marked as closed. in case you need any additional assistance  create a new request. comments: maregeret called in to know about the payment status of s she has, as she has more number s that cannot be discussed on the phone informed to send to helpdesk .email.',\n",
       " 'shulmans  posted twice in error hi all, the  below has been posted twice in error. it is  number  but has been posted again under the account number  could you  reverse doc  mm  so we can deduct it on our next payment run -',\n",
       " 'overdue credit note and s importance: high hi hayley,  can you help with getting attached cleared?',\n",
       " 'vendor enquiry importance: high hi  can i have an up on the below s joanne wright office manager boss elevators ltd email me:  talk to me: ',\n",
       " 'over due and due s for payment   find below s which are overdue and due by the end of the week. we are still waiting for a reply to advise us that the accounts we currently have on stop are now sorted, could you  reply by return with this information as well as confirmation that the s due will be paid this week. island point s  lesley wesley amoo    landmark pinnacle s  lesley wesley amoo   ',\n",
       " 'statement of account from faac uk ltd',\n",
       " 'spindles additional filler weights. hi gaynor, dave has ordered another  of weights for this job. they will be ready for collection tuesday. lump sum...  plus vat paul.',\n",
       " 'neopost  query hi all, the document below is an  for andrew roberts portal. it is for   remove from sheila wiltons portal. thanks, hayley waterman kone plc expense/accounts assistant direct',\n",
       " 'hi,  find attached your statement of account.  confirm a payment  for the august   this was paid to the wrong supplier.',\n",
       " \"david guest  travelodge st mary's the  attached as been deducted from our accounts payment on  this is not a duplicate on the remittance  it should never of been on it in the first place  resolve this payment  as this is unacceptable procedure and is causing my company problems with paying staff and suppliers!! the whole  needs payment and only  c i s taken vender number  angela mylett mersey lift fabrication ltd  caddick road knowsley business park prescot liverpool  \",\n",
       " 'nordea  for maria peters portal hi all, can the  below be moved to maria peters portal  thanks, hayley waterman kone plc expense/accounts assistant direct',\n",
       " 'hi all, can the  below be moved to brenda msi portal  thanks, hayley waterman kone plc expense/accounts assistant direct',\n",
       " 'overdue s up ,  could you provide an up on the following overdue s? query on    the po  was d in full on  number  and paid on  there was a faulty monitor which we credited and on   in which kone took in a payment on the  the item was then replaced on   which remains outstanding on your account for payment. attached email trail to sheila.',\n",
       " 'job  -  - kone -  bishopsgate : the tower : architrave package morning,  could you let me know when we can expect to receive payment on the attached . if there are any problems or if any further information is required  do not hesitate to contact me.',\n",
       " 'sales  : ',\n",
       " 's  /  - suppier query hi, can you advise when the attached supplier s will be paid:   thanks liam liam lupton nycc helpdesk   kone plc worthdale house worthbridge road keighley   ',\n",
       " 'warning: the sender of this email could not be valid and may not match the person in the \"from\" field. i work monday to wednesday each week. in my absence, for urgent matters only,  contact the accounts dept at  . otherwise,  contact me upon my return on monday next week. confidentiality: this email and its attachments may contain information that is privileged, confidential or otherwise protected from disclosure. if you have received this email in error  let us know by sending an email to  and delete it from your systems.  do not read, copy or disclose its contents to anyone or use it for any purpose. data protection: to the extent we use any personal information, this is handled in accordance with applicable data protection legislation and our privacy notice which you can access here. warning: it is the responsibility of the recipient to ensure that the onward transmission, opening or use of this message and any attachments will not adversely affect its systems or data.  carry out such ',\n",
       " 'euro  hi sheila, i hope you are well? i wonder if you could assist with something ? we have an outstanding  with kone ireland, i have emailed niamh o?leary several times and tried to ephone her yesterday but don?t seem to be getting anywhere. do you know who would be the best person to talk to ? i have attached the  for your information. if you have any queries or require any further information,  do not hesitate to contact myself or one of the staff in the office. ',\n",
       " 'statement of account -  kone plc   find attached your latest statement of account. could you forward your payment to bring your account up to . should you require any further information  do not hesitate in contacting me.',\n",
       " 's vendor number  can we know the current status of s  -     -   -  get outlook for ios',\n",
       " 'no kone payment this week hi sheila/wendy, we havent received a payment from kone this week, could you  advise why this is?',\n",
       " 'kone supplier- finnished product relocation services i am acknowledging kone?s new helpdesk service which in our case comes to effect as of the  th of february as per email received last week. i would like to request that our account is fixed for a  day terms of payment and that this would be noted on the account, on the basis that we are a small agency. such an arrangement would be very much appreciated and i trust this would be acceptable. .',\n",
       " 'neopost  query hi all, the document below is an  for andrew roberts portal. it is for   remove from sheila wiltons portal. thanks, hayley waterman kone plc expense/accounts assistant direct',\n",
       " ' payment request importance: high hi sheila i?ve tried phoning today to discuss an outstanding , and i have been given your name as a contact. i?m new with this company, and i?ve previously sent email?s to a queries email address ? as below ? but have had no response - so not sure if this email address still exists or is the correct one! the amount outstanding is a very small amount,. and s back to august. i would appreciate it, if you could you come back to me as soon as possible and advise on this . thank you',\n",
       " 'kone plc ,  can you confirm a payment  for the below as a matter of urgency? ',\n",
       " 'morning,  could you let me know when we can expect to receive payment on the attached . if there are any problems or if any further information is required  do not hesitate to contact me.',\n",
       " 'sales  : ',\n",
       " 'sales  : ',\n",
       " 'sales  : ',\n",
       " 'sales  : ',\n",
       " 'sales  : ',\n",
       " ' de  ar  si nsieyd r,  re   you tuvecon  ook thy in  nbe fo   low  aud ric mjkzvbgxmw es  on    ul hxzao d & venyum slpzey la qpuaftr st ain ic  ce ro   uc kqd ts   ith   rea  t p sipaxf rod  uct nrziieeyj qu  al hsud it  y? cpthmfagw  ou  fo  und   he owbwjir be  st   ! j kgqipte oa  wa  shbyzamx akkjqj  th   or  ig yoo ina dl wzsfgzk  and   he  mos nmulhon edrwtm  tr  ust  ed ma  nu   ac  tur  er   or  mo  uld  jxczuza pl repvdp as  ti  bwvhrs  pro  du  cts myaamnx pr  wdbhw  uc ak  kzwxg ca  teg  ori yenccxty rdizqyntg s:   a    om  ot  qyb   pr dlun  du wib ct jkbcj     es osqvk  ar   th  e c  hea  pe  st xmzzd tlhtjll nd eubxoif be gyemdweb st   ro fjfirlhm du  cts   ou   il lntwia  mrg in gsgqwiid  vlh n t  he  int  er  net gulhu  qpczmpry nmpcc le pkvsa ctr  xrsoosi  pro knnijwn du  ct  s:  th  es wzmalirr e e jpgmo le  ct  ri  lhrnsl pr rsewvz  duc wcitr ts kzw : a pft  gybtyjs  ll  re htnsvxvz ady   to us  e i  n w  or aimjife ld  wi  de  ',\n",
       " \"de  ar ddsjze  ir  are inwdzoml yo  cshnrdzy lo  oki wo ng   fo     w p  ri  ce   on  mo   ld  ofzitcpsk pl pkyw ast  ic yxbmq  ro  duc cuakamzxcv  s w   th  wnbk re azigftaf  t pr  od   ct  qu  al  ity    ou  gme ou  nd zxngr yftivy ljlvkxm   bes  t!! qb jo  aw     th  e o cym rig  in   mgyvookm an  d t nkrawbudd  oomk mo  st ipk tr  ust eegjs ed yl ma onxrv  uf  ac rwxpby  ure mgzuwye  fo  r m  ou yzyhd ld &  pla  st    pr    uct  vot pro guvpjch  uct fjukvwkn  ate  gor  ie  s:  mdw  uto  mot  iv    rod  uct  l lrnqhwkbq ruvcxuqor th  es  e a   e t  he  ch  eap  est nab pehkhxqm nd   es  t p  rod  uc   s y   m3ay wi  ll  fi  fwfqmvm bsf on th   in      et! ifd   lec  tr  ic    od  uct lfi s:    es uahobku  el  ect yeaonf ric  pr ql odu qb ct  s:  are clkphcihsl al    ea  dy  to us   in   wo   ldw  ide   t qznyhriqz ele vspmasm co  mm  un yepvhnes ica  ti  tqr  pr dezt od  uc vhrg ts    he   ar   ve  ry  lo btxpg w-  pri   ed  ze xy il   st jykkyi ill   av   ng nzqbrbxc    at    sig ggkexugo  an slqcka vlnnc  per  for  man opvzft ce.   m  edi  ca  ctvyk qvmrwllnpy  odu  cts    it bil h ma yjaplu czhwoof evchqpbkr ki  noh ds     goo  dci vxn  al  ity if   int cl    ste yqn d d rlwa  get    ck eednsm to  me  vi  mymxjnb my  em  ai  l. be  st   eg vcg ard  s,  mcbudwttc ll anhg ie -i ebfkkbers 'll   gi qhqxqz ve   agtdpj hd my   co  nt  ac bmcpjphtd   de   ai  ls  an   ot  her qipo  mp  ort  an  t i  nfo  qvzslpx  on   yo  ur eet ret    n c  on kgpkzpjip  ac ejp tltp . t  han  ehodolg eqrni ou \",\n",
       " ' s null',\n",
       " ' s null',\n",
       " 's  /  - suppier query hi, can you advise when the attached supplier s will be paid:   thanks liam liam lupton nycc helpdesk   kone plc worthdale house worthbridge road keighley   ',\n",
       " ' provide up on the below s by close of play today .',\n",
       " '  from control applications limited   note the copy  i have attached is now overdue for payment,  can you can advise of any problems',\n",
       " 'your e-account statement  s, as a valued customer, thank you for choosing hilti.  see attached your latest statement of account. for billing inquiries or to pay by direct debit,  contact our credit & collections team on    for  disputes  contact our customer services department on   hilti gt. britain limited  note this is an automated message, which is unable to receive replies. to open the file you will need acrobat reader . this can be downloaded for free from the adobe website. hilti =  trademark of hilti corp.,  schaan, principality of liechtenstein right of technical and programme changes reserved, s.e. & o.',\n",
       " ' payment query - big yellow - kone hi andy, can you  clarify. i can see that this is correct so we can get  which went on incorrectly reversed. so  can be deducted against the next lot of s ?   paid twice,   is not a kone , think may have been processed with incorrect  number. credit note  this has gone on the system twice in error and deducted twice on two different accounts so we do owe this back. i will ask the back office to reverse one of them so we can pay it back ? if you could  let me know if this covers everything? thanks, hayley waterman kone plc expense/accounts assistant direct',\n",
       " 'munichandra, g.   sent: friday, january    pm to:  cc: prasanth p <  >; praveen kumar d <  >; prithiviraj c',\n",
       " ' no  - po   all  see attached  for your attention.  let me know if there are any issues.',\n",
       " ' message from ',\n",
       " ' no  - po   all  see attached  for your attention.  let me know if there are any issues.',\n",
       " 'tvc statement alexandra reece accounts receivable administrator    unit  | manor farm industrial estate | flint | flintshire |   www.tvcl.co.uk legal disclaimer: any views expressed by the sender of this message are not necessarily those of thames valley controls limited. information contained in this e-mail may be confidential and is for the use of the intended recipient only, no mistake in transmission is intended to waive or compromise such privilege.  advise the sender if you receive this e-mail by mistake.',\n",
       " 'statement attached',\n",
       " ' customer statement',\n",
       " ' chs - statement',\n",
       " ' statement to kone plc',\n",
       " 'statement to kone plc sales statement from adtrak llp to kone plc  katri paalanen,  find attached a statement of your account reference  this statement is correct as at  if you have any questions regarding your statement  contact us using the details below.',\n",
       " ' statement from tj plant & lifting services ltd',\n",
       " 'statement from safpro!  customer, i am d to attach your statement of account. check out our dochyperlink statements! click on the  numbers in the attached statement, you should be able to download copy s!  send all purchase order and pricing queries through to  . when making bacs payments,  quote your safpro account number shown at the top of the statement.',\n",
       " ' statement ,  see attached your outstanding  statement  bring your account up to  as soon as possible. thank you',\n",
       " 'jan statement  /  see the attached report.',\n",
       " ' your courtson eng   has been generated',\n",
       " 'kone account status  all further to my previous emails to naresh last week and subsequent ephone conversation with your help desk, can someone  look into the outstanding issues on our account, preventing us getting paid? im attaching a statement of account where you will clearly see kone owe a large amount of money dating back to september  last week paul mcentire was sent three rejection emails. the reason for rejection was not valid and i did reply to each message. im not sure as to why these were sent to paul and would appreciate it if you can ensure all accounts communication comes to myself. i hope we get this matter cleared up soon as each day affects that kone projects we are working on.',\n",
       " 'adp s kasim could you let me know what the situation is with payment of adp s . they raised concerns with me this week about a number of outstanding payments. these included:  nov   oct   sept ',\n",
       " 'kone statement from elevated engineering services ltd hi,  find attached your statement of account.  confirm a payment  for the august   this was paid to the wrong supplier. many thanks.',\n",
       " ' unpaid s - urgent reminder. asunto:  unpaid s - urgent de: global-spares enviado el: martes   para:  cc:  , our account department informed us about unpaid s if the s below have already been paid, we would appreciate if you could send us the payment confirmations as soon as possible',\n",
       " ' kone plc - upd insurance documentation  supplier, as part of our approved contractors list, you are required to provide upd employers and public liability insurance certificates. i note from our records that your insurance expired on   forward a copy of your new insurance certificates as soon as they are available. if you are unable to deal with this matter  forward our request to the appropriate department and email the necessary contact details by return.',\n",
       " ' find attached our statement of account. we look forward to receiving your payment in due course in line with our agreed credit terms.',\n",
       " 'euro  hi sheila, i hope you are well? i wonder if you could assist with something ? we have an outstanding  with kone ireland, i have emailed niamh o?leary several times and tried to ephone her yesterday but don?t seem to be getting anywhere. do you know who would be the best person to talk to ? i have attached the  for your information. if you have any queries or require any further information,  do not hesitate to contact myself or one of the staff in the office. ',\n",
       " 'euro  hi sheila, i hope you are well? i wonder if you could assist with something ? we have an outstanding  with kone ireland, i have emailed niamh oleary several times and tried to ephone her yesterday but dont seem to be getting anywhere. do you know who would be the best person to talk to ? i have attached the  for your information. if you have any queries or require any further information,  do not hesitate to contact myself or one of the staff in the office. ',\n",
       " 'perry hill   hi all, i am unsure why this  has been rejected. can you  reprocess to maria peters portal. the  has been paid and needs matching against the payment ',\n",
       " 'hi all,  delete the following  as it has been processed incorrectly. two s have been posted as one. i have requested a revised one  thanks, hayley waterman kone plc expense/accounts assistant direct',\n",
       " ' find in attachment your reminder met vriendelijke groeten, ',\n",
       " 'no kone payment this week hi sheila/wendy, we haven?t received a payment from kone this week, could you  advise why this is?',\n",
       " 'no kone payment this week hi sheila/wendy, we havent received a payment from kone this week, could you  advise why this is?',\n",
       " 'no kone payment this week hi sheila/wendy, we haven?t received a payment from kone this week, could you  advise why this is?',\n",
       " 'no kone payment this week hi sheila/wendy, we havent received a payment from kone this week, could you  advise why this is?',\n",
       " 'kone hi tammy have we got a remittance from kone for the money kone have paid, and is it the first time they have paid. ta',\n",
       " 'overdue s up ,  could you provide an up on the following overdue s? query on   ? the po  was d in full on  number  and paid on  there was a faulty monitor which we credited and on   in which kone took in a payment on the  the item was then replaced on   which remains outstanding on your account for payment. attached email trail to sheila.',\n",
       " 'overdue  - account at legal stage helpdesk / mohammed / derek / sheila urgent your account is at legal stage and is on stop. i am my wits end regarding this account i have spent so much time on this account and feel very let down by the lack of response and issues not being resolved. most of our s we raise are for continuous hire of equipment. we generally quote for four weeks hire and a purchase order is raised for four weeks. we do not know how long equipment is required on hire. most cases the hire of equipment goes over the four weeks and can be for many months on hire. you therefore will receive many s under the same purchase order number. it is the buyers responsibility to increase / amend the purchase order not ours.  deal with my email with a matter of urgency. purchase order  value  two s have been raised under this purchase order see as follows:   =  including vat d  is outstanding   =  including vat d  paid  you have paid a later d .   i have spoken to sheila wilton in the uk regarding this . she has advised that it appears that this  has been put on the system and taken off again. it needs to be put back on your system and processed so we can receive payment for this well overdue . mohammed nawaz has also been dealing with this  and the buyer derek shaw has also asked you to look at this  and deal with any issues so that this  can be paid. i have spoken to abu on the helpdesk who was very helpful and patient. i have asked him to look into other s which are also outstanding. s   sheila wilton advised these have not been authorised for payment. i emailed the buyer donna gregg some time ago asking her to amend / increase etc the purchase order to cover these s this appears not to have been done.     purchase order  i emailed mohammed nawaz & derek shaw the buyer and asked for the purchase order to be increased / amended this also appears not to have been done. i have attached a statement of account, can you  advise which s have been passed for payment and payment due . once these s have been paid we will then put the account on active. i await your prompt reply.',\n",
       " '  from control applications limited   note the copy  i have attached is now overdue for payment,  can you can advise of any problems',\n",
       " 'hello, i have attached two emails which i sent to  last week. i have not had a reply so  can you give this your urgent attention as some of these s are significantly overdue. thank you',\n",
       " '  from control applications limited   note the copy  i have attached is now overdue for payment,  can you can advise of any problems',\n",
       " '  from control applications limited   note the copy  i have attached is now overdue for payment,  can you can advise of any problems',\n",
       " 'nordea  to be moved to brenda msi portal hi all, can the  below be moved to brenda msi portal ? thanks, hayley waterman kone plc expense/accounts assistant direct',\n",
       " 'mm doc  on p/o  hi, can you  cancel the above mm doc, the purchase order needs to have an account assignment added cost centre   confirm when cancelled so i can amend the p/o. ive attached copy of the  to assist',\n",
       " 'overdue  - account at legal stage helpdesk / mohammed / derek / sheila urgent your account is at legal stage and is on stop. i am my wits end regarding this account i have spent so much time on this account and feel very let down by the lack of response and issues not being resolved. most of our s we raise are for continuous hire of equipment. we generally quote for four weeks hire and a purchase order is raised for four weeks. we do not know how long equipment is required on hire. most cases the hire of equipment goes over the four weeks and can be for many months on hire. you therefore will receive many s under the same purchase order number. it is the buyers responsibility to increase / amend the purchase order not ours.  deal with my email with a matter of urgency. purchase order  value  two s have been raised under this purchase order see as follows:   =  including vat d  is outstanding   =  including vat d  paid  you have paid a later d .   i have spoken to sheila wilton in the uk regarding this . she has advised that it appears that this  has been put on the system and taken off again. it needs to be put back on your system and processed so we can receive payment for this well overdue . mohammed nawaz has also been dealing with this  and the buyer derek shaw has also asked you to look at this  and deal with any issues so that this  can be paid. i have spoken to abu on the helpdesk who was very helpful and patient. i have asked him to look into other s which are also outstanding. s   sheila wilton advised these have not been authorised for payment. i emailed the buyer donna gregg some time ago asking her to amend / increase etc the purchase order to cover these s this appears not to have been done.     purchase order  i emailed mohammed nawaz & derek shaw the buyer and asked for the purchase order to be increased / amended this also appears not to have been done. i have attached a statement of account, can you  advise which s have been passed for payment and payment due . once these s have been paid we will then put the account on active. i await your prompt reply.',\n",
       " 'statement of account -  kone plc   find attached your latest statement of account. could you forward your payment to bring your account up to . should you require any further information  do not hesitate in contacting me.',\n",
       " ' find attached your  from westgate cleaning services ltd  college road bromley   t    e  w www.westgatecleaning.co.uk',\n",
       " 'sales  : ',\n",
       " ' hi team, can you advise if the  payment has been paid for sales order .',\n",
       " 'automatic reply: bray lifts - missing remittance :  february  at  gmt to: darryl bray <   note that all vendor queries are now handled by a new helpdesk team -  contact them directly on the details below. the helpdesk has been set up to support you with all your questions related to s, payments, reconciliations, due s, statements of account and reminders. email for queries :  email for s :  your email will not be forwarded therefore  resend to the contact details above. thank you',\n",
       " 'overdue  - account at legal stage helpdesk / mohammed / derek / sheila urgent your account is at legal stage and is on stop. i am my wits end regarding this account i have spent so much time on this account and feel very let down by the lack of response and issues not being resolved. most of our s we raise are for continuous hire of equipment. we generally quote for four weeks hire and a purchase order is raised for four weeks. we do not know how long equipment is required on hire. most cases the hire of equipment goes over the four weeks and can be for many months on hire. you therefore will receive many s under the same purchase order number. it is the buyers responsibility to increase / amend the purchase order not ours.  deal with my email with a matter of urgency. purchase order  value  two s have been raised under this purchase order see as follows:   =  including vat d  is outstanding   =  including vat d  paid  you have paid a later d .   i have spoken to sheila wilton in the uk regarding this . she has advised that it appears that this  has been put on the system and taken off again. it needs to be put back on your system and processed so we can receive payment for this well overdue . mohammed nawaz has also been dealing with this  and the buyer derek shaw has also asked you to look at this  and deal with any issues so that this  can be paid. i have spoken to abu on the helpdesk who was very helpful and patient. i have asked him to look into other s which are also outstanding. s   sheila wilton advised these have not been authorised for payment. i emailed the buyer donna gregg some time ago asking her to amend / increase etc the purchase order to cover these s this appears not to have been done.     purchase order  i emailed mohammed nawaz & derek shaw the buyer and asked for the purchase order to be increased / amended this also appears not to have been done. i have attached a statement of account, can you  advise which s have been passed for payment and payment due . once these s have been paid we will then put the account on active. i await your prompt reply.',\n",
       " 'mm doc  on p/o  hi, can you  cancel the above mm doc, the purchase order needs to have an account assignment added cost centre   confirm when cancelled so i can amend the p/o. ive attached copy of the  to assist',\n",
       " 'arval s reversed and reprocessed hello all,  can you explain why numerous arval s have been reversed and then reprocessed? here are a few examples  they are all open items on the accounts and havent been cleared down? also, some have been reversed out at the correct amount and then re processed for the wrong amount . for example this  is for  it has been reversed at the correct amount then reprocessed incorrectly at    could this be looked into as a matter of urgency? thanks, hayley waterman kone plc expense/accounts assistant direct',\n",
       " 'adp s kasim could you let me know what the situation is with payment of adp s . they raised concerns with me this week about a number of outstanding payments. these included:  nov   oct   sept ',\n",
       " ' our records show that the attached  s in pdf file. remain unpaid and consequently are now overdue. the  they were origionally sent to  vendor s, appears in the bottom left hand corner of each .  can you advise when these will be paid as soon as possible.',\n",
       " 'spindles additional filler weights. hi gaynor, dave has ordered another  of weights for this job. they will be ready for collection tuesday. lump sum...  plus vat paul.',\n",
       " '  from alzarium elevator ltd for kone  due  mar ',\n",
       " 'payment run hello all, fyi the payment run normally is carried out on friday due to unforeseen circumstances. the payment run has been done today and the vendors will receive there payment wednesday/thursday .',\n",
       " 'sub: closure of case -   no  - po    requester, your request  has been resolved and marked as closed. in case you need any additional assistance  create a new request. comments: there is no attachment in the email',\n",
       " ' message from ',\n",
       " 'sub: closure of case -  message from    requester, your request  has been resolved and marked as closed. in case you need any additional assistance  create a new request. comments: no data',\n",
       " ' for :kone find attached  in pdf format for :> kone',\n",
       " 'whiteghyll ltd - statement ,  find attached our statement. if you have any queries  contact us.',\n",
       " '  :  july  at  bst to:  ,  find attached  as per below po. feel free to contact me should you require any additional information in order for this to be processed for payment. i have asked for the total to be changed on the po but have had no response,  see prices on the description of po that matches .',\n",
       " 's still outstanding hi shelia i want to make the most of your last month as we still have quite a few s that need to be paid and are very old:   june    september            october    november   november as you can see there are five september s and one even as far back as june. the large  in november is also a concern i will speak to you on monday nancy',\n",
       " 'statement hi statement attached',\n",
       " '  from axxa ltd for kone plc  due  mar ',\n",
       " ' j.a.b lifts  ',\n",
       " 'statement   find attached statement. if you have any queries  do not hesitate to contact me.',\n",
       " 'halcyon statement of accounts for   find attached the statement of accounts d  if you have any queries  contact accounts at halcyon drives or reply to this e-mail.',\n",
       " 'statement from machguard ltd',\n",
       " 'acs statement  / our records indicate that payment to your account  is overdue.  click on the attachment for full details and copy statement for your information. if paying by bacs  enter the acs account reference in the payment reference field.',\n",
       " 'gunnebo statement',\n",
       " 'statement from reeley ltd',\n",
       " 'account statement',\n",
       " 'statement  offices : cooper roller bearings company limited. wisbech road - kings lynn - norfolk -   - united kingdom. registration number  england - vat no. gb   ',\n",
       " 'to: <   find attached  ',\n",
       " ',  find attached   with thanks wrf building and decorating',\n",
       " ' rivermead supplies limited - statement',\n",
       " 'over due payments hi, i have a few overdue payments as listed below, i?ve checked with supervisors and all have been goods receipted. i know kone are going through some process changes at the moment and hoping this is the answer as to why they?ve not been paid.  could you take a look and have them paid asap.    inc vat    inc vat    inc vat',\n",
       " ' payment query - big yellow - kone hi all,  can the following be done to correct errors on the ledger ? credit note  was processed twice in error.  see below. could you  make an adjustment and reverse the one on  mm doc  so we can pay it back -   has gone on correctly and been paid but then has also gone on with a typing error  instead of  and has been paid again. can this entry  be reversed as a credit ? andy ? once these entries have both gone on we will be able to deduct the over payment of  this should make us straight. any problems  let me know. thanks, hayley waterman kone plc expense/accounts assistant direct',\n",
       " ' , can you  contact myself regarding the attached s sharon sinet fyfe and mcgrouther  houston street glasgow      ',\n",
       " 's hi i sent off two s at the begining of january to the new email address  for po no.   for po no.  can you advise when these will be paid',\n",
       " ' see attached statement from widestripe eng. suppliers ref. no.  thank you statement for outstanding last year plus statement jan. ',\n",
       " ' contact ap do customers, now send s to this address ? with kr mariap maria peters paralegal kone plc global house, station place, fox lane north chertsey, surrey   great britain email  phone    mobile    customer service:    www.kone.co.uk',\n",
       " ' statement ,  see attached your outstanding  statement  bring your account up to  as soon as possible. thank you',\n",
       " ' statement ,  see attached your outstanding  statement  bring your account up to  as soon as possible. thank you',\n",
       " 'automatic reply:   from n s escalator services ltd for kone plc  note that all vendor queries are now handled by a new helpdesk team -  contact them directly on the details below. the helpdesk has been set up to support you with all your questions related to s, payments, reconciliations, due s, statements of account and reminders. email for queries :  email for s :  your email will not be forwarded therefore  resend to the contact details above. thank you',\n",
       " '  from n s escalator services ltd for kone plc reply-to:    from n s escalator services ltd for kone plc  due  feb ',\n",
       " 'outstanding s , i phoned kone  times last week and left voicemails, ive still not had my calls returned. i phoned the new accounts number on friday  st february a.m and struggled to communicate with the person dealing with my enquiry, they assured me they understood what i was asking for and said they would reply via email or return my call on friday, i have still not had a reply ! i have today left another voicemail via kone reception, and spoken with the new accounts call centre, im still not confident that my problem will be resolved.  could someone help with the following : i am chasing payment for    and   i would appreciate an urgent response as ive now been chasing this for over a week ! should you need to speak with me you can contact me on  ',\n",
       " 'lambert smith hampton  hi all,  move the  below to brenda msis portal for approval  thanks, hayley waterman kone plc expense/accounts assistant direct',\n",
       " 'ais vanguard ltd statement  find attached our statement of account. we look forward to receiving your payment in due course in line with our agreed credit terms.',\n",
       " '',\n",
       " \" due. no.  hi i'm chasing payment of an outstanding  due.  number . this was due to be paid last week and yet to be processed. can someone  inform me when this will be processed and paid. thank you dwain gordon get outlook for android\",\n",
       " 'still not raised. quote  paddington sent  quote  paddington sent  quote  paddington sent  quote  bond st...??sent  quote  farringdon sent  quote  paddington sent  quote  paddington sent  hi michael,  outstanding quotes still to be raised, thanks mate, tony.',\n",
       " 'hotron ireland ltd - statement  find attached your hotron ireland ltd statement. ** note the  of your statement, any payments made after this  have not been included. should you have any questions  do not hesitate to contact me.',\n",
       " ' wightlink emailed statement for account no -  kone plc',\n",
       " 'electrotech solutions uk limited - statement the attached file is a statement in html web format. to view the file, double click on it and it will be displayed in your internet browser.',\n",
       " 'outstanding fuel account  all  find attached your outstanding fuel account for november and december   settle at your earliest convenience.',\n",
       " 'statement hi  find attached your statement of account.',\n",
       " 'job  -  - kone -  bishopsgate : the tower : architrave package morning,  could you let me know when we can expect to receive payment on the attached . if there are any problems or if any further information is required  do not hesitate to contact me.',\n",
       " ' no  - po   all  see attached  for your attention.  let me know if there are any issues.',\n",
       " '  find attached a copy of three s that have gone past the  payment schedule. can you arrange payment and advise when these will be paid. thank you',\n",
       " \"jahangeer kasim sent you a message in skype for business while you were offline jahangeer kasim  hi sven, sorry i was in staff pd's earlier.  things:  if a individual leaves then their portal should be closed down and all s transferred to their manager.  if there are s in a portal not approved then these costs are captured as follows a on the po costs are captured via gr therefore  posting is not the trigger for costs - this is for po s. b for non po s the costs are captured in month end accruals. need skype for business? try the skype for business mobile app\",\n",
       " ' hi maxine , hope you are well. is it possible if you could help with the attached    i have been advised the order number on there was incorrect, then my depot got a new order number and the po was still incorrect. my depot are having troubles in getting an order number for the attached . is there any way you could help or advise who my depot needs to speak to? any help will be much appreciated.  advise have a lovely weekend.',\n",
       " ' accounts  find attached your statement of account deposit : payment required if you require copy s  contact me and i will be happy to assist.',\n",
       " ' accounts  find attached your statement of account if you require copy s  contact me and i will be happy to assist.',\n",
       " 'statement.pdf  accounts  find attached your statement of account overdue if you require copy s  contact me and i will be happy to assist.',\n",
       " 's importance: high hi sheila sage isnt showing the amended s for me to raise a credit note.  could you send me copies of s:    i will the raise the credit notes and also the s to cover the remaining bit of the purchase orders.',\n",
       " 'hilton up- changes to bank details  s,  find attached a copy of the letter we posted to our customers, regarding changes to our hos bank accounts hilton leicester has since been added to this list. to ensure that this does not disrupt your business with us, we request that you make some changes on your accounts payable system. the attached includes details of the new bank accounts that you should use going forward. can i  request that you contact us with confirmation that you have made these changes, or alternatively, if these changes do not apply to your business? this will prevent us from contacting you again. if you require any further information,  do not hesitate to contact me. thank you and ',\n",
       " 'stingl systems  queries - vendor -  stingl systems gmbh hello',\n",
       " 'hi, could you  push back to the vendor as respective  was not processed and ask the vendor to provide respective  copy.',\n",
       " 'munichandra, g.   sent: friday, january    pm to:  cc: prasanth p <  >; praveen kumar d <  >; prithiviraj c',\n",
       " 'munichandra, g.   sent: friday, january    pm to:  cc: prasanth p <  >; praveen kumar d <  >; prithiviraj c',\n",
       " ' hi for order above the s have been incorrectly processed  reverse and book qty  to each line and  to each line thanks',\n",
       " ' hi for order above processing error  reverse invoicing and book to lines  &  qty   each and line  carriage ',\n",
       " 'hi for above order you have booked the same  number twice delete one off the system  line ',\n",
       " ' hi order above line   booked incorrectly should be qty  for ',\n",
       " ',  find attached   with thanks wrf building and decorating',\n",
       " 'vat only  hello all, i am attaching my vat only . i have written what s i did not added vat on in the past as it was a long process to get me vat . the  contains the , the amount and the  number and po number. there is the total labour and the  of vat that i need returned.  let me know if this  is correct.',\n",
       " 'testing - weekend tat -  ignore',\n",
       " 'emailing: kone',\n",
       " ', sheila, i have been told you are on annual leave today,  could you help on you return ? thank you for your payment this morning however there is another  unpaid from this run   so to summarise these are now the s that remain unpaid :         total  i have now been chasing these for over a week a quick response would be very much appreciated.',\n",
       " 'hello kou, kou_uk_gbp   re     gbp  stairlifts services limited  could you delete this  on the otv account it is a duplicate.',\n",
       " 's still outstanding hi shelia i want to make the most of your last month as we still have quite a few s that need to be paid and are very old:   june    september            october    november   november as you can see there are five september s and one even as far back as june. the large  in november is also a concern i will speak to you on monday nancy',\n",
       " 'info hi shelia can you l me info on   -   . i don?t understand why it will say blocked on ref thank',\n",
       " 'express elevators ltd - outstanding  no:  importance: high hi sheila, hope you are well.  find attached  no: , this is well overdue. can you  have a look and advise payment? await your response.',\n",
       " 'hello ap uk , the below is a credit note and should have not been paid  could you action accordingly.',\n",
       " 'kone  to: jane christian <  claire godson assistant credit control temp    contact our dedicated service desk advisors directly on:    level  chapel quarter, maid marian way, nottingham, ng  adtrak media ltd is a limited company  in england and wales.  number:  ',\n",
       " 'avtar, thank you for taking my call earlier.  find attached statement for all outstanding items on your account up to  if we can look at correcting the credits & overpayments as discussed and if you can advise of any queries on the s that remain outstanding for this period.',\n",
       " 'morning, i am getting rather frustrated that the below old s have not been grnd:  could you advise if  will be paid next week as your colleague advised me this had been grnd. i have many depots chasing me for the november and prior s.  advise',\n",
       " 'halcyon statement of accounts for   find attached the statement of accounts d  if you have any queries  contact accounts at halcyon drives or reply to this e-mail.',\n",
       " 's in the spirit of fair play i am sending this e-mail to the revised addresses as notified last month. after a discussion with sheila wilton last week in a final attempt to get all my outstanding s paid, during which i was informed that gen-pact had yet again returned all but one of my s to mick kernicks portal despite have received a direct e-mail from him clearly stating that  with  numbers should go for payment. the one  that was not in mick kernicks portal has been sent, yet again, to paul wormald to query even though this had been resolved on each of the previous occasions, including once from the manager mr leigh morgan. for continuity, i again list the outstanding s, together with their  po numbers and payment due s. copies of all these s have been provided in at least three of my last many e-mails.    po  d  th september  due payment  nd october  , now  months overdue see above  ,  po  d  th october  due payment  november   original  had incorrect po number. this was corrected and a revised  provided to pp and kou queries together with a request to replace the original  on the system.    po  d  th december  due payment  th january     po  d  th december  due payment  th january     po  d  december  due payment  nd january    6.00, po  d  december  due payment  nd january  i indicated in my e-mail d  nd january of my intention to pursue payment via the small claims court, after which a phone call from sheila wilton assuring me that we would receive payment persuaded me to hold off on this course of action. you will note that the earliest of these s is now in excess of  past it payment due  and the next  although i accept part of the responsibility for the delay on this one due to initially having the incorrect po number on the . this was corrected and a revised  issued. wendy anderson confirmed the change had been made on the system and payment should have been received in december. i think we have been extremely patient so far however, i am sure you will understand why that patience is now exhausted. as all parties concerned are in agreement that there is no reason for any of these s to remain unpaid i am now formally issuing notice that if payment in full for all outstanding s within the next  days small claims court action will be initiated as i am incurring costs every time i have to chase non-payment. these costs being time having to repeated answer queries that have already been answered in previous chases, ephone calls, loss of interest and accountants charges as i am unable to close the company until all dispersements have been made. brian r white fistc director bk technical services limited ',\n",
       " 'automatic reply: statement accounts receivable  can you send all remittances and cash allocations to  ********************************** vendor queries  note that all vendor queries are now handled by a new helpdesk team -  contact them directly on the details below. the helpdesk has been set up to support you with all your questions related to s, payments, reconciliations, due s, statements of account and reminders. email for queries :  email for s :  your email will not be forwarded therefore  resend to the contact details above.',\n",
       " ' accounts payable  find attached a copy of your latest statement all items are due for payment totalling   can you arrange for a payment by return to bring your account back in line with our credit terms. also attached is a copy of an e-mail that i have received from transparent solutions claiming to be doing an audit on behalf of kone i have called them and advised that i do not share data with third party companies due to fraud prevention if the audit is genuine i will leave it with you to share the data with them.',\n",
       " 'account on stop',\n",
       " 'account on stop',\n",
       " 'account on stop',\n",
       " 'account on stop',\n",
       " 'account on stop',\n",
       " 'account on stop',\n",
       " 'account on stop',\n",
       " 'hi,  see this months statement thanks kirsty',\n",
       " 'statement of account hi sheila, i hope you are well.  see the attached statement of account, can you  confirm payment of the overdue s this week?',\n",
       " 'vendor no:  our  no:  :  order no:    / we issued  no  to kone in july  . despite having made several phone calls and sending various emails we have still not received payment of this . our last contact with sheila wilton in your accounts has resulted in an email ling us that we now have to contact a new helpdesk team. this work was carried out for lift maintenance, and when lift maintenance were integrated into kone new order numbers and a vender number were required on all our s. this meant we were issued with one order number from kone that covered all of our outstanding work from lift maintenance. the  we are looking for payment refers to item line  and  on order no . but i need to explain that these items were covered in our  number  and . we have had payment of  number  but are still waiting the payment of  number . the  values together add up to  + vat, as do the lines  and  the items asked for were  off dig displays and  push stations both for taylor place and  grafton place. these items come in sections and therefore were d as part s as you will see from the description on our s. we have been told by mr paul wormauld and mr paul sweenie of kone that they have authorised payment of both these s and therefore do not understand why we are still waiting on payment of  no . we are still happy to continue working for kone but legally we will have to inform our credit insurance of non-payment of the  who will then take legal action to cover the monies owed to us.  respond immediay to acknowledge receipt of this email. we are looking for a full resolution within  hrs or we will have to inform our insurance as noted above.',\n",
       " ' sender, thanks for writing. i am on a day off today.  expect delay in replies.  reach out to ankit for kone helpdesk queries at ',\n",
       " 'stephen coe. suppliers number   statement.                                                             all s plus vat.  can someone help, i need some answers, some of these s are d december and january that should be october november, with managers changing it took time to get a po. thank you stevecoe sent from my ipad',\n",
       " 'your account statement   gb_estmt_en your e-account statement  s, as a valued customer, thank you for choosing hilti.  see attached your latest statement of account. for billing inquiries or to pay by direct debit,  contact our credit & collections team on    for  disputes  contact our customer services department on   hilti gt. britain limited  note this is an automated message, which is unable to receive replies. to open the file you will need acrobat reader . this can be downloaded for free from the adobe website. hilti =  trademark of hilti corp.,  schaan, principality of liechtenstein right of technical and programme changes reserved, s.e. & o.',\n",
       " 'acs statement  / our records indicate that payment to your account  is overdue.  click on the attachment for full details and copy statement for your information. if paying by bacs  enter the acs account reference in the payment reference field.',\n",
       " 'hytorc statement as at ',\n",
       " 'overdue  - account at legal stage helpdesk / mohammed / derek / sheila urgent your account is at legal stage and is on stop. i am my wits end regarding this account i have spent so much time on this account and feel very let down by the lack of response and issues not being resolved. most of our s we raise are for continuous hire of equipment. we generally quote for four weeks hire and a purchase order is raised for four weeks. we do not know how long equipment is required on hire. most cases the hire of equipment goes over the four weeks and can be for many months on hire. you therefore will receive many s under the same purchase order number. it is the buyers responsibility to increase / amend the purchase order not ours.  deal with my email with a matter of urgency. purchase order  value  two s have been raised under this purchase order see as follows:   =  including vat d  is outstanding   =  including vat d  paid  you have paid a later d .   i have spoken to sheila wilton in the uk regarding this . she has advised that it appears that this  has been put on the system and taken off again. it needs to be put back on your system and processed so we can receive payment for this well overdue . mohammed nawaz has also been dealing with this  and the buyer derek shaw has also asked you to look at this  and deal with any issues so that this  can be paid. i have spoken to abu on the helpdesk who was very helpful and patient. i have asked him to look into other s which are also outstanding. s   sheila wilton advised these have not been authorised for payment. i emailed the buyer donna gregg some time ago asking her to amend / increase etc the purchase order to cover these s this appears not to have been done.     purchase order  i emailed mohammed nawaz & derek shaw the buyer and asked for the purchase order to be increased / amended this also appears not to have been done. i have attached a statement of account, can you  advise which s have been passed for payment and payment due . once these s have been paid we will then put the account on active. i await your prompt reply.',\n",
       " '',\n",
       " ' rivermead supplies limited - statement',\n",
       " 'testing - weekend tat -  ignore testing - weekend tat -  ignore',\n",
       " 'testing - weekend tat -  ignore testing - weekend tat -  ignore',\n",
       " 'sept-dec overdue payment required  avtar further to our ephone conversation  see attached statement. as s are now  days +,if full payment is not made by the end of this week for september,october,november and december s , then your account will be placed on stop.',\n",
       " 'statement from escalutions ltd and remittance query  statement attached as at  i have no remittance for the payment of  received into our bank on  could you  supply details?',\n",
       " 'statement.pdf  accounts  find attached your statement of account overdue if you require copy s  contact me and i will be happy to assist.',\n",
       " '   reeley ltd - account to go on stop on friday importance: high hello sadie, there is a price variant  could you advise purchasing as the account may go in stop on friday.',\n",
       " '--reply above this line to respond-- acs business supplies',\n",
       " 'pavilion h kings cross -  afternoon kasim, looks like we have a duplicate  on the following project can you  confirm how we can get this resolved as it is effecting the forecast? kr laura zawiasa mscsurv commercial manager - london & south east mob:    /e-mail:  kone plc  bedford road clapham london   ',\n",
       " '   reeley ltd - account to go on stop on friday importance: high hello sadie, there is a price variant  could you advise purchasing as the account may go in stop on friday.',\n",
       " '--reply above this line to respond-- acs business supplies',\n",
       " 'reminder',\n",
       " 'outstanding s , i phoned kone  times last week and left voicemails, ive still not had my calls returned. i phoned the new accounts number on friday  st february a.m and struggled to communicate with the person dealing with my enquiry, they assured me they understood what i was asking for and said they would reply via email or return my call on friday, i have still not had a reply ! i have today left another voicemail via kone reception, and spoken with the new accounts call centre, im still not confident that my problem will be resolved.  could someone help with the following : i am chasing payment for    and   i would appreciate an urgent response as ive now been chasing this for over a week ! should you need to speak with me you can contact me on  ',\n",
       " 'invalid deduction on account hi, we received the attached remittance today for payment made today ,  on line  it shows a deduction of  it states that our reference is  however we have not issued a credit with this reference or this value. we did issue   on the  but this was paid on the  . can you  explain why you have made this deduction? these  on this remittance were overdue, we have been waiting for payment for some of these s for over  , we finally received payment and you have deducted 00 without explanation .',\n",
       " 'acoms ltd account hi, we didnt get paid again yesterday but today received a remittance slip and it only has  stated on it. could you  let me know why we didnt get paid yesterday tuesday and why is it only a very small amount on the statement. surely we should be getting the money owed to us from  and now the money we d from dec and early jan.  can we sort our account out so all payments are up to .',\n",
       " 'statement from machguard ltd',\n",
       " '',\n",
       " 'pmabm lift ltd outstanding s to: pmabmlift <  helllo list of outstanding s  no  po   due    no  po   due    no  po   due    no   due    no  po   due    no  po   due    no  po   due    no  po   due    no  po   due  ',\n",
       " 'queries',\n",
       " ' - stephen coe hello steve , as discussed  find attached statement of your s. ref :- coding r- could be price difference. p ? blocked by sheila due to reasons below the one with no ref and are clear are ready to be paid on the due s.',\n",
       " '',\n",
       " '  ',\n",
       " 'hi could you  give me the status of the attached s as many of these have been outstanding for some time',\n",
       " '',\n",
       " ' statement from shorts industries ltd',\n",
       " 'sub: closure of case -  message from    requester, your request  has been resolved and marked as closed. in case you need any additional assistance  create a new request. comments: no data',\n",
       " 'sub: closure of case -  message from    requester, your request  has been resolved and marked as closed. in case you need any additional assistance  create a new request. comments: no data',\n",
       " ', i am contacting you in relation to an outstanding  for kone plc.    meter operator charges for the period  to   days overdue i require an up on payment of the .',\n",
       " 'statement hi  see attached an up to  statement of account. there is one old december  outstanding can you let me know when that will be paid?',\n",
       " 'your cef order  your order number is   customer, thank you for your order. should you have any queries then  email us at  or call us on    contact details if you need to return an item or manage other orders  click here to access your mycef account.  shop again with us soon and we very much appreciate your business. cef customer services team _______________________________________________________________________ city electrical factors limited are  in england, no.  ',\n",
       " 'sub: closure of case - pending s   requester, your request  has been resolved and marked as closed. in case you need any additional assistance  create a new request. comments: tracy called to know about payment status of multiple s also was looking for naresh, checked and informed to email the statement on helpdesk support.',\n",
       " 'job  -  - kone -  bishopsgate : the tower : architrave package morning,  could you let me know when we can expect to receive payment on the attached . if there are any problems or if any further information is required  do not hesitate to contact me.',\n",
       " 'case created manually by abubakar ahmed at    case created manually by abubakar ahmed on  ',\n",
       " 'case created manually by abubakar ahmed at    case created manually by abubakar ahmed on  ',\n",
       " 'outstanding s , i phoned kone  times last week and left voicemails, ive still not had my calls returned. i phoned the new accounts number on friday  february a.m and struggled to communicate with the person dealing with my enquiry, they assured me they understood what i was asking for and said they would reply via email or return my call on friday, i have still not had a reply ! i have today left another voicemail via kone reception, and spoken with the new accounts call centre, im still not confident that my problem will be resolved.  could someone help with the following : i am chasing payment for    and   i would appreciate an urgent response as ive now been chasing this for over a week ! should you need to speak with me you can contact me on  ',\n",
       " 'new proces for all s for evans cycles importance: high hi all,  note that when processing s for evans cycles the vat should no longer be posted to the vat account.  process all evans cycles s as gross amount only with no vat.  up the urd accordingly. example net  vat  gross  the new posting should be  directly to the appropriate gl with no vat postings. thank you',\n",
       " '  amounts and totals incorrect_ extreme elevators ltd hi kone,  find a new/changed   for  from po   ',\n",
       " ' unpaid s - urgent reminder. asunto:  unpaid s - urgent de: global-spares enviado el: martes   para:  cc:  , our account department informed us about unpaid s if the s below have already been paid, we would appreciate if you could send us the payment confirmations as soon as possible',\n",
       " \"david guest  travelodge st mary's the  attached as been deducted from our accounts payment on  this is not a duplicate on the remittance  it should never of been on it in the first place  resolve this payment  as this is unacceptable procedure and is causing my company problems with paying staff and suppliers!! the whole  needs payment and only  c i s taken vender number  angela mylett mersey lift fabrication ltd  caddick road knowsley business park prescot liverpool  \",\n",
       " 's importance: high hi sheila sage isnt showing the amended s for me to raise a credit note.  could you send me copies of s:    i will the raise the credit notes and also the s to cover the remaining bit of the purchase orders.',\n",
       " 'reminder',\n",
       " 'hello, just checking on  payment will be made on the above   as payment is due on the  th february? thank you',\n",
       " 'urgent !!!!! delete this  alrady paid hello genpact, not sure what you are doing???? this  is  was paid. you have now put the same  on as  and added di to the  number. this need to be deleted. hi kasim, a few like this example and vendors are not happy credit note taken with the same sort of narrative.',\n",
       " 'bft products and support / your account with bft automation , i am the area manager at bft with responsibility for the kone account. i have been attempting for some time to meet with a key contact at kone as i have been concerned that your business is not being as well supported by us as it should be. bft have a wide range of products and i feel we are not providing the service we could do if we had a better understanding of your companys product and support requirements. i would like to arrange a meeting to introduce myself to the appropriate people and to gain a better understanding of how kone currently operates, its branch structure, key branch contacts and see where i can assist in improving our business relationship. i hope this is of interest and i would be grateful if you would advise who i need to contact to further this aim. your assistance is appreciated. many thanks.',\n",
       " \" due. no.  hi i'm chasing payment of an outstanding  due.  number . this was due to be paid last week and yet to be processed. can someone  inform me when this will be processed and paid. thank you dwain gordon get outlook for android\",\n",
       " 'statement.pdf  accounts  find attached your statement of account if you require copy s  contact me and i will be happy to assist.',\n",
       " 'unpaid s -  and  hi mike, hope you are well, i just want to up you, that i have still not been paid for our first   and now the next   is also due.i have tried to speak to  however most of the time is voice mail, or if i speak to someone, they keep ling me they will call me back, but never do. i hope you can help resolve that issue soon as also next week i am due to issue another  for the past  weeks  let me know if there is any up. thank you in advance your help.',\n",
       " '? je suis en vacances . serai de retour jeudi le  fvrier. ik ben op verlof tot donderdag  februari . out of the office. i will be back thusday  february . for urgent matter  contact  or ',\n",
       " ' hi neil, we have a po from july last year blocked for payment due to a price discrepancy. in order for this to be paid should i reverse goods receipt it and then re-goods receipt at ',\n",
       " ' roy joseph boots hi, the po for these is   for collection from arco in watford.',\n",
       " 'sub: shorts industries ltd overdue s  is pending for your response  requestor, the request  is waiting for your response for further processing. request you to provide the required information for expediting the resolution.',\n",
       " ' - payment request on behalf of armstrong evans limited  mathew,  can you advise me of a payment  for   copy attached. this  is now  days overdue.',\n",
       " 'cef despatch -  thanks for shopping. your order number is   customer, your order  left our distribution centre today. should you not receive your items within your selected delivery timeframe then  email us at  or call us on    your recent order  track your order you can track your order by visiting:  contact details if you need to return an item or manage other orders  click here to access your mycef account.  shop again with us soon, we very much appreciate your business. cef customer service team _______________________________________________________________________ city electrical factors limited are  in england, no.  ',\n",
       " 'returned mail: see transcript for details',\n",
       " 'returned mail: see transcript for details',\n",
       " 'outstanding s , i phoned kone  times last week and left voicemails, ive still not had my calls returned. i phoned the new accounts number on friday  february a.m and struggled to communicate with the person dealing with my enquiry, they assured me they understood what i was asking for and said they would reply via email or return my call on friday, i have still not had a reply ! i have today left another voicemail via kone reception, and spoken with the new accounts call centre, im still not confident that my problem will be resolved.  could someone help with the following : i am chasing payment for    and   i would appreciate an urgent response as ive now been chasing this for over a week ! should you need to speak with me you can contact me on  ',\n",
       " '',\n",
       " ' statement from shorts industries ltd',\n",
       " ' hi maxine , hope you are well. is it possible if you could help with the attached    i have been advised the order number on there was incorrect, then my depot got a new order number and the po was still incorrect. my depot are having troubles in getting an order number for the attached . is there any way you could help or advise who my depot needs to speak to? any help will be much appreciated.  advise have a lovely weekend.',\n",
       " 'kone statement from elevated engineering services ltd hi,  find attached your statement of account.  confirm a payment  for the august   this was paid to the wrong supplier. many thanks.',\n",
       " 'statement.pdf  accounts  find attached your statement of account overdue if you require copy s  contact me and i will be happy to assist.',\n",
       " 'i am away from the office until  i will pick up my emails on my return',\n",
       " '',\n",
       " 'reminder  find in attachment your reminder met vriendelijke groeten, ',\n",
       " 'express elevators ltd - outstanding  no:  importance: high hi sheila, hope you are well.  find attached  no: , this is well overdue. can you  have a look and advise payment? await your response.',\n",
       " 'sub: account on stop  is pending for your response  requestor, the request  is waiting for your response for further processing. request you to provide the required information for expediting the resolution.',\n",
       " 'job  -  - kone -  bishopsgate : the tower : architrave package morning,  could you let me know when we can expect to receive payment on the attached . if there are any problems or if any further information is required  do not hesitate to contact me.',\n",
       " 'job  -  - kone -  bishopsgate : the tower : architrave package morning,  could you let me know when we can expect to receive payment on the attached . if there are any problems or if any further information is required  do not hesitate to contact me.',\n",
       " 'statement.pdf  accounts  find attached your statement of account overdue if you require copy s  contact me and i will be happy to assist.',\n",
       " 'statement.pdf  accounts  find attached your statement of account overdue if you require copy s  contact me and i will be happy to assist.',\n",
       " ' kone plc - upd insurance documentation  supplier, as part of our approved contractors list, you are required to provide upd employers and public liability insurance certificates. i note from our records that your insurance expired on   forward a copy of your new insurance certificates as soon as they are available. if you are unable to deal with this matter  forward our request to the appropriate department and email the necessary contact details by return.',\n",
       " 'warning! unverified senderautomatic reply:  kone plc - december s   is pending for your response warning: the sender of this email could not be valid and may not match the person in the \"from\" field. i work monday to wednesday each week. in my absence, for urgent matters only,  contact the accounts dept at  . otherwise,  contact me upon my return on monday next week. confidentiality: this email and its attachments may contain information that is privileged, confidential or otherwise protected from disclosure. if you have received this email in error  let us know by sending an email to  and delete it from your systems.  do not read, copy or disclose its contents to anyone or use it for any purpose. data protection: to the extent we use any personal information, this is handled in accordance with applicable data protection legislation and our privacy notice which you can access here. warning: it is the responsibility of the recipient to ensure that the onward transmission, opening or use of this message and any attachments will not adversely affect its systems or data.  carry out such ',\n",
       " 'express elevators ltd - outstanding  no:  importance: high hi sheila, hope you are well.  find attached  no: , this is well overdue. can you  have a look and advise payment? await your response.',\n",
       " 'overdue s  our records show that the attached  s in pdf file. remain unpaid and consequently are now overdue. the  they were origionally sent to  vendor s, appears in the bottom left hand corner of each .  can you advise when these will be paid as soon as possible.',\n",
       " 'account on stop',\n",
       " 'this is a credit note  hello ap uk , the below is a credit note and should have not been paid  could you action accordingly.',\n",
       " 'hi all, the  below has been posted incorrectly. it has vat so should be   re-enter and put in maria peters portal ',\n",
       " ' rectification importance: high hi, theres an issue where an  has been processed incorrectly due to different interpretation of supplier  reference number, mm docs  &  one has f prefixed before the number the other doesnt to rectify, can you  process a credit to cancel mm doc . ive also attached an  that has been wrongly rejected,  have processed over both line items on p/o  quantity  value  each line @ steve, can you complete the goods receipt',\n",
       " 'avtar, thank you for taking my call earlier.  find attached statement for all outstanding items on your account up to  if we can look at correcting the credits & overpayments as discussed and if you can advise of any queries on the s that remain outstanding for this period.',\n",
       " 'automatic reply: account on stop  is pending for your response i am away from the office until  i will pick up my emails on my return',\n",
       " 'overdue s    find attached a copy of three s that have gone past the  payment schedule. can you arrange payment and advise when these will be paid. thank you',\n",
       " 'case created manually by abubakar ahmed at    case created manually by abubakar ahmed on  ',\n",
       " 'account on stop',\n",
       " 'automatic reply: account on stop  is pending for your response i am away from the office until  i will pick up my emails on my return',\n",
       " 'statement of account who do we now email statements to?',\n",
       " 'lambert smith hampton   hi all,  move the  below to maria peters portal  thanks, hayley waterman kone plc expense/accounts assistant direct',\n",
       " 'norton?s outstanding monies avtar can i  get an up for the attached outstanding monies, neil palmer operations director norton hydraulics ltd       email:  new address and ephone from january    unit  north orbital commercial park,  ',\n",
       " 'hello ap, shelia claims she has sent this e-mail ages ago. this  is not for rope marine but the po is also on the wrong account.',\n",
       " 'this is a credit note  hello ap uk , the below is a credit note and should have not been paid  could you action accordingly.',\n",
       " 'mj flood importance: high hi niamh / anita can you  arrange payment for the september + november  listed below.',\n",
       " 'this is a credit note  hello ap uk , the below is a credit note and should have not been paid  could you action accordingly.',\n",
       " 'hytorc statement as at ',\n",
       " 'overdue account hello our ledger shows that there are a couple of s overdue  see attached. if could  provide a payment  to clear these it would be appreciated.',\n",
       " ' rectification importance: high hi, there?s an issue where an  has been processed incorrectly due to different interpretation of supplier  reference number, mm docs  &  one has f prefixed before the number the other doesn?t to rectify, can you  process a credit to cancel mm doc . i?ve also attached an  that has been wrongly rejected,  have processed over both line items on p/o  quantity  value  each line @ steve, can you complete the goods receipt',\n",
       " 'statement.pdf  accounts  find attached your statement of account deposit : payment required if you require copy s  contact me and i will be happy to assist.',\n",
       " 'hytorc statement as at ',\n",
       " 'rivermead supplies ltd overdue s pls can i have an immediate payment for s listed below:-  nov   nov  dec  dec   we are waiting to complete your orders so a quick response will be appreciated',\n",
       " ' hi niamh, hope you are well. i would be really grateful if you could let me know when we can expect to receive payment of september   for ',\n",
       " ' , can you  contact myself regarding the attached s sharon sinet fyfe and mcgrouther  houston street glasgow      ',\n",
       " 'sales  : ',\n",
       " 'sales  : ',\n",
       " 'status morning, i am getting rather frustrated that the below old s have not been grnd:  could you advise if  will be paid next week as your colleague advised me this had been grnd. i have many depots chasing me for the november and prior s.  advise',\n",
       " 'the above  in seriously overdue . advice asap',\n",
       " 'tcu final. reconcile. ',\n",
       " 'tcu final. reconcile. ',\n",
       " ' kone public limited company  - payment up required f.a.o accounts payable  sheila, i have been advised to contact yourself with  to an up for an  that has recently fallen overdue on the account.  can you kindly review the attached and advise when the payment will be remitted? chris brady credit controller ledger  ? sed-sto & kings - kzz  coombe lane, raynes park, london,  ',\n",
       " 'sub-contractors s morning steve i have just manage to unblock your following po?s',\n",
       " ',  provide us with a payment  for all outstanding debts, relating to the attached statement.',\n",
       " ' undeliverable: sub: thank you for your request:  urgent - express elevators ltd - outstanding  no:  copy of purchase order and pod ',\n",
       " \"jahangeer kasim sent you a message in skype for business while you were offline jahangeer kasim  hi sven, sorry i was in staff pd's earlier.  things:  if a individual leaves then their portal should be closed down and all s transferred to their manager.  if there are s in a portal not approved then these costs are captured as follows a on the po costs are captured via gr therefore  posting is not the trigger for costs - this is for po s. b for non po s the costs are captured in month end accruals. need skype for business? try the skype for business mobile app\",\n",
       " 's unacceptably late for payment s in the spirit of fair play i am sending this e-mail to the revised addresses as notified last month. after a discussion with sheila wilton last week in a final attempt to get all my outstanding s paid, during which i was informed that gen-pact had yet again returned all but one of my s to mick kernicks portal despite have received a direct e-mail from him clearly stating that  with  numbers should go for payment. the one  that was not in mick kernicks portal has been sent, yet again, to paul wormald to query even though this had been resolved on each of the previous occasions, including once from the manager mr leigh morgan. for continuity, i again list the outstanding s, together with their  po numbers and payment due s. copies of all these s have been provided in at least three of my last many e-mails.    po  d  th september  due payment  nd october  , now  months overdue see above  ,  po  d  th october  due payment  november   original  had incorrect po number. this was corrected and a revised  provided to pp and kou queries together with a request to replace the original  on the system.    po  d  th december  due payment  th january     po  d  th december  due payment  th january     po  d  december  due payment  nd january    6.00, po  d  december  due payment  nd january  i indicated in my e-mail d  nd january of my intention to pursue payment via the small claims court, after which a phone call from sheila wilton assuring me that we would receive payment persuaded me to hold off on this course of action. you will note that the earliest of these s is now in excess of  past it payment due  and the next  although i accept part of the responsibility for the delay on this one due to initially having the incorrect po number on the . this was corrected and a revised  issued. wendy anderson confirmed the change had been made on the system and payment should have been received in december. i think we have been extremely patient so far however, i am sure you will understand why that patience is now exhausted. as all parties concerned are in agreement that there is no reason for any of these s to remain unpaid i am now formally issuing notice that if payment in full for all outstanding s within the next  days small claims court action will be initiated as i am incurring costs every time i have to chase non-payment. these costs being time having to repeated answer queries that have already been answered in previous chases, ephone calls, loss of interest and accountants charges as i am unable to close the company until all dispersements have been made. brian r white fistc director bk technical services limited ',\n",
       " 'hi ,this is a list of open s which might have a duplicate  no due to our new system ,can you check and let us know regarding process of payment   no  po  due to  balance   no  po  due to  balance   no  po  due to  balance   no  po  due to  balance   no  po  due to  balance   no  po  due to  balance   no  po  due to  balance   no  po  due to  balance ',\n",
       " ' rectification importance: high hi, theres an issue where an  has been processed incorrectly due to different interpretation of supplier  reference number, mm docs  &  one has f prefixed before the number the other doesnt to rectify, can you  process a credit to cancel mm doc . ive also attached an  that has been wrongly rejected,  have processed over both line items on p/o  quantity  value  each line @ steve, can you complete the goods receipt',\n",
       " 's unacceptably late for payment s in the spirit of fair play i am sending this e-mail to the revised addresses as notified last month. after a discussion with sheila wilton last week in a final attempt to get all my outstanding s paid, during which i was informed that gen-pact had yet again returned all but one of my s to mick kernicks portal despite have received a direct e-mail from him clearly stating that  with  numbers should go for payment. the one  that was not in mick kernicks portal has been sent, yet again, to paul wormald to query even though this had been resolved on each of the previous occasions, including once from the manager mr leigh morgan. for continuity, i again list the outstanding s, together with their  po numbers and payment due s. copies of all these s have been provided in at least three of my last many e-mails.    po  d  september , due payment  october  , now  months overdue see above  ,  po  d  october , due payment  november   original  had incorrect po number. this was corrected and a revised  provided to  and kou queries together with a request to replace the original  on the system.    po  d  december , due payment  january     po  d  december , due payment  january     po  d  december , due payment 2 january     po  d  december , due payment 2 january  i indicated in my e-mail d  january of my intention to pursue payment via the small claims court, after which a phone call from sheila wilton assuring me that we would receive payment persuaded me to hold off on this course of action. you will note that the earliest of these s is now in excess of  past it payment due  and the next  although i accept part of the responsibility for the delay on this one due to initially having the incorrect po number on the . this was corrected and a revised  issued. wendy anderson confirmed the change had been made on the system and payment should have been received in december. i think we have been extremely patient so far however, i am sure you will understand why that patience is now exhausted. as all parties concerned are in agreement that there is no reason for any of these s to remain unpaid i am now formally issuing notice that if payment in full for all outstanding s within the next  days small claims court action will be initiated as i am incurring costs every time i have to chase non-payment. these costs being time having to repeated answer queries that have already been answered in previous chases, ephone calls, loss of interest and accountants charges as i am unable to close the company until all dispersements have been made. brian r white fistc director bk technical services limited ',\n",
       " 'this is a credit note  hello ap uk , the below is a credit note and should have not been paid  could you action accordingly.',\n",
       " 's unacceptably late for payment s in the spirit of fair play i am sending this e-mail to the revised addresses as notified last month. after a discussion with sheila wilton last week in a final attempt to get all my outstanding s paid, during which i was informed that gen-pact had yet again returned all but one of my s to mick kernicks portal despite have received a direct e-mail from him clearly stating that  with  numbers should go for payment. the one  that was not in mick kernicks portal has been sent, yet again, to paul wormald to query even though this had been resolved on each of the previous occasions, including once from the manager mr leigh morgan. for continuity, i again list the outstanding s, together with their  po numbers and payment due s. copies of all these s have been provided in at least three of my last many e-mails.    po  d  september , due payment  october  , now  months overdue see above  ,  po  d  october , due payment  november   original  had incorrect po number. this was corrected and a revised  provided to  and kou queries together with a request to replace the original  on the system.    po  d  december , due payment  january     po  d  december , due payment  january     po  d  december , due payment 2 january     po  d  december , due payment 2 january  i indicated in my e-mail d  january of my intention to pursue payment via the small claims court, after which a phone call from sheila wilton assuring me that we would receive payment persuaded me to hold off on this course of action. you will note that the earliest of these s is now in excess of  past it payment due  and the next  although i accept part of the responsibility for the delay on this one due to initially having the incorrect po number on the . this was corrected and a revised  issued. wendy anderson confirmed the change had been made on the system and payment should have been received in december. i think we have been extremely patient so far however, i am sure you will understand why that patience is now exhausted. as all parties concerned are in agreement that there is no reason for any of these s to remain unpaid i am now formally issuing notice that if payment in full for all outstanding s within the next  days small claims court action will be initiated as i am incurring costs every time i have to chase non-payment. these costs being time having to repeated answer queries that have already been answered in previous chases, ephone calls, loss of interest and accountants charges as i am unable to close the company until all dispersements have been made. brian r white fistc director bk technical services limited ',\n",
       " 'automatic reply: account on stop  is pending for your response i am away from the office until  i will pick up my emails on my return',\n",
       " ' see attached outstanding s. can you advise asap when these will be paid?',\n",
       " '   reeley ltd - account to go on stop on friday importance: high hello sadie, there is a price variant  could you advise purchasing as the account may go in stop on friday.',\n",
       " 'this is a credit note  hello ap uk , the below is a credit note and should have not been paid  could you action accordingly.',\n",
       " 'sharkey lifting ltd importance: high hi ruby/mark,  advise when we can expect payment of overdue s. kone used to pay us like clockwork around the last week of every month. now payments are getting stretched further towards end of the following month. our terms are  days from  of  and there are s overdue from september  i have asked for an explanation as to the hold up of overdue s several times. there is now an overdue amount of ',\n",
       " 'hello all, this  has been posted into the wrong portal annie paris left the company a year ago.  transfer all s in her portal to katri paalanen portal. hi kasim,  check why are they posting s into people who have left the company ???',\n",
       " 'statement of account -  kone plc   find attached your latest statement of account. could you forward your payment to bring your account up to . should you require any further information  do not hesitate in contacting me.',\n",
       " 'sharkey lifting ltd importance: high hi ruby/mark,  advise when we can expect payment of overdue s. kone used to pay us like clockwork around the last week of every month. now payments are getting stretched further towards end of the following month. our terms are  days from  of  and there are s overdue from september  i have asked for an explanation as to the hold up of overdue s several times. there is now an overdue amount of ',\n",
       " '   kone plc , i am contacting you in relation to an outstanding  for kone plc.    meter operator charges for the period  to   days overdue i require an up on payment of the .',\n",
       " 'sharkey lifting ltd importance: high hi ruby/mark,  advise when we can expect payment of overdue s. kone used to pay us like clockwork around the last week of every month. now payments are getting stretched further towards end of the following month. our terms are  days from  of  and there are s overdue from september  i have asked for an explanation as to the hold up of overdue s several times. there is now an overdue amount of ',\n",
       " 'sharkey lifting ltd importance: high hi ruby/mark,  advise when we can expect payment of overdue s. kone used to pay us like clockwork around the last week of every month. now payments are getting stretched further towards end of the following month. our terms are  days from  of  and there are s overdue from september  i have asked for an explanation as to the hold up of overdue s several times. there is now an overdue amount of ',\n",
       " 'job  -  - kone -  bishopsgate : the tower : architrave package morning,  could you let me know when we can expect to receive payment on the attached . if there are any problems or if any further information is required  do not hesitate to contact me.',\n",
       " 'mm doc  hi, the above mm doc has been processed incorrectly line item  on p/o  should have been processed with quantity of  not   cancel and re-process correctly',\n",
       " ' outstanding s - kone hi shane see attached as requested. they have made us another payment of  so the outstanding balance is now ',\n",
       " 'hotron ireland ltd - statement  find attached your hotron ireland ltd statement. ** note the  of your statement, any payments made after this  have not been included. should you have any questions  do not hesitate to contact me.',\n",
       " 'hotron ireland ltd - statement  find attached your hotron ireland ltd statement. ** note the  of your statement, any payments made after this  have not been included. should you have any questions  do not hesitate to contact me.',\n",
       " 'hello kon , this is a duplicated   delete the one on the vendors account ',\n",
       " ', nice to speak to you a moment ago. as discussed i am looking for payment s for the overdue and coming due s on the attached statement ,  of which are extremely overdue.',\n",
       " 'sharkey lifting ltd importance: high hi ruby/mark,  advise when we can expect payment of overdue s. kone used to pay us like clockwork around the last week of every month. now payments are getting stretched further towards end of the following month. our terms are  days from  of  and there are s overdue from september  i have asked for an explanation as to the hold up of overdue s several times. there is now an overdue amount of ',\n",
       " 'sharkey lifting ltd importance: high hi ruby/mark,  advise when we can expect payment of overdue s. kone used to pay us like clockwork around the last week of every month. now payments are getting stretched further towards end of the following month. our terms are  days from  of  and there are s overdue from september  i have asked for an explanation as to the hold up of overdue s several times. there is now an overdue amount of ',\n",
       " 'sub:  status  is pending for your response  requestor, the request  is waiting for your response for further processing. request you to provide the required information for expediting the resolution.',\n",
       " 'statement of account -  kone plc   find attached your latest statement of account. could you forward your payment to bring your account up to . should you require any further information  do not hesitate in contacting me.',\n",
       " '   kone plc , i am contacting you in relation to an outstanding  for kone plc.    meter operator charges for the period  to   days overdue i require an up on payment of the .',\n",
       " '  ',\n",
       " 'sub:  adp s  is pending for your response  requestor, the request  is waiting for your response for further processing. request you to provide the required information for expediting the resolution.',\n",
       " 'po fully utilized.  /  find attached your s which we are returning to you unprocessed for the following reasons following the instructions given will ensure we are able to process your s promptly and deal with your queries effectively. if you have any queries around the rejection  contact the sourcing department: e-mail egb purchasing front line  mailto: phone  ',\n",
       " 'your report is attached in pdf format. to load the report, you will need the free adobe acrobat reader, available to download at http://',\n",
       " ' find enclosed statement, i have been requesting a remittance for the payment on account for  so i have allocated it off the order s,  find enclosed statement to   forward arrears urgently for september  october  and your account is strictly  days  pay on receipt or we will have no option but to change your current terms.',\n",
       " 'hi , would it be possible to follow up on the credit memo against  # as well as the new  for the correct amount? credit reference and notes on salesforce as follows:  lgbvke  amended annual price to  full credit requested for   this is to be red at the new agreed price of  as per daniel cameron. credit ref cdb  - vanda kennedy -----',\n",
       " 'account analysis  to all ex-express elevators ltd i would like to be advised with the accountable person for the open s of express elevators ltd. i am attaching an account anaylisis, with po numbers and all the necessary data so as these open amounts, both in kleemann uk and kleemann hellas to be settled finally. i am attaching a bank account number as well.',\n",
       " ' invalid deduction on account hi shaun, mick roach has asked that i send you the following hoping you can help us get answers. we received the attached remittance today for payment made today ,  on line  it shows a deduction of  it states that our reference is  however we have not issued a credit with this reference or this value. we did issue   on the  but this was paid on the  . can you  explain why you have made this deduction? these  on this remittance were overdue, we have been waiting for payment for some of these s for over  , we finally received payment and you have deducted 00 without explanation .',\n",
       " 'wrong amount paid  london lift services vendor number  i had a payment for  number  po number    the amount paid was  should have been   see attached the remittance form kone sent to me.  advise thanks john',\n",
       " ' london lift services vendor number  i had an  beck in november last year and the vat hasn?t been paid. this has been going on for some time now  number  po number  should have been paid  received  missing   advise thanks john',\n",
       " ' kone plc overdue aug  =   despite all our previous requests for payment, your account remains seriously overdue. if we do not receive payment within the next seven days, we shall have no option but to pass your account to solicitors where immediate litigation will involve you in the additional expenses of the administration fee of  pounds, costs and interest. in order to avoid this unnecessary additional expense,  send your payment by return.',\n",
       " '   hello, just checking on  payment will be made on the above   as payment is due on the  february? thank you',\n",
       " 'your cef order  your order number is   customer, thank you for your order. should you have any queries then  email us at  or call us on    contact details if you need to return an item or manage other orders  click here to access your mycef account.  shop again with us soon and we very much appreciate your business. cef customer services team _______________________________________________________________________ city electrical factors limited are  in england, no.  ',\n",
       " 'statements ',\n",
       " 'i am away from the office until  i will pick up my emails on my return',\n",
       " 'automatic reply: account on stop  i am away from the office until  i will pick up my emails on my return',\n",
       " 'arval  posted incorrectly  hi all, the  below has been posted in euros when it is gbp.  cancel and repost correctly.',\n",
       " 'sub: closure of case -  sharkey lifting ltd   requester, your request  has been resolved and marked as closed. in case you need any additional assistance  create a new request. comments: forwarded the email to ',\n",
       " 'hi all,  can you l me why the  below has been reversed  a dd has been collected for it so it needs to be reprocessed. it was originally free for payment. thanks, hayley waterman kone plc expense/accounts assistant direct',\n",
       " ' payment due? hi  can you advise on the attached  which is now due for payment?',\n",
       " 'a user sent you  important documents using dropbox a user has sent   important documents to you using dropbox for business you can view documents by following the link below. view -  view -  view - file/document_ happy dropboxing! -the dropbox team  dropbox notifications',\n",
       " 'a user has sent   important documents to you using dropbox for business you can view documents by following the link below. view -  view -  view -  happy dropboxing! -the dropbox team  dropbox notifications',\n",
       " 'hello sheila, i hope your well,  can you confirm a payment  for balance now overdue,  see statement attached. ',\n",
       " 'i am now on maternity leave until march  my emails will not be read,  forward any emails to  ______________________________________________________________________ this email has been scanned by the symantec email security.cloud service. for more information  visit http://',\n",
       " 'a user has sent   important documents to you using dropbox for business you can view documents by following the link below. view -  view -  view -  this documents will be deleted from our storage server on its given expiry . happy dropboxing! -the dropbox team  dropbox notifications',\n",
       " 'a user has sent   important documents to you using dropbox for business you can view documents by following the link below. view -  view -  view -  this documents will be deleted from our storage server on its given expiry . happy dropboxing! -the dropbox team  dropbox notifications',\n",
       " 'sub:  adp s  is pending for your response  requestor, the request  is waiting for your response for further processing. request you to provide the required information for expediting the resolution.',\n",
       " ' s no  elevators uk limited- kone plc de la: daniela aciobanita trimis:  june   c?t  <  cc:  <  >; stefan lipciuc <  subiect: s no  elevators uk limited- kone plc hello,  find in attach the s no  thanks,',\n",
       " '   hello, just checking on  payment will be made on the above   as payment is due on the  february? thank you',\n",
       " 'kone account status  all further to my previous emails to naresh last week and subsequent ephone conversation with your help desk, can someone  look into the outstanding issues on our account, preventing us getting paid? im attaching a statement of account where you will clearly see kone owe a large amount of money dating back to september  last week paul mcentire was sent three rejection emails. the reason for rejection was not valid and i did reply to each message. im not sure as to why these were sent to paul and would appreciate it if you can ensure all accounts communication comes to myself. i hope we get this matter cleared up soon as each day affects that kone projects we are working on.',\n",
       " '',\n",
       " 'sub:  adp s  is pending for your response  requestor, the request  is waiting for your response for further processing. request you to provide the required information for expediting the resolution.',\n",
       " 'sub: stingl systems  queries - vendor -  stingl systems gmbh  is pending for your response  requestor, the request  is waiting for your response for further processing. request you to provide the required information for expediting the resolution.',\n",
       " 'sub:  adp s  is pending for your response  requestor, the request  is waiting for your response for further processing. request you to provide the required information for expediting the resolution.',\n",
       " ' riba enterprises ltd  hello all, this  has been posted into the wrong portal annie paris left the company a year ago.  transfer all s in her portal to katri paalanen portal. hi kasim,  check why are they posting s into people who have left the company ???',\n",
       " 'statement of account who do we now email statements to?',\n",
       " 'sub: account on stop  is pending for your response  requestor, the request  is waiting for your response for further processing. request you to provide the required information for expediting the resolution.',\n",
       " 'kone statement from elevated engineering services ltd hi,  find attached your statement of account.  confirm a payment  for the august   this was paid to the wrong supplier. many thanks.',\n",
       " 'sub:  adp s  is pending for your response  requestor, the request  is waiting for your response for further processing. request you to provide the required information for expediting the resolution.',\n",
       " 'sub: outstanding s  is pending for your response  requestor, the request  is waiting for your response for further processing. request you to provide the required information for expediting the resolution.',\n",
       " \"non-payment of s hi, yet again i haven't received payment for my s.  to  are outstanding. this is the  week i've received no payment and once again this is causing my business and personal finances great difficulties! can you address this issue asap ?\",\n",
       " ' acoms payment account hello wendy, i have chased all these  they have qty and price variant. i have asked you about one i have asked you about one as there a   with this query.',\n",
       " 'sub:  adp s  is pending for your response  requestor, the request  is waiting for your response for further processing. request you to provide the required information for expediting the resolution.',\n",
       " 'overdue account hello our ledger shows that there are a couple of s overdue  see attached. if could  provide a payment  to clear these it would be appreciated.',\n",
       " ' s can you  confirm that the attached  s are in the system and are being processed?',\n",
       " 'statement of account from faac uk ltd',\n",
       " 'statement of account from faac uk ltd',\n",
       " 'sub: emailing: kone  is pending for your response  requestor, the request  is waiting for your response for further processing. request you to provide the required information for expediting the resolution.',\n",
       " 'overdue s - jark peterborough ltd hi  can you confirm payment  for the overdue s as per the attached statement.',\n",
       " ' acoms payment account  thanks avtar, didnt spot the comments in colum j mick, john,  see ups in colum j wendy anderson tendering and contracts manager kone plc',\n",
       " ' customer, your order  left our distribution centre today. should you not receive your items within your selected delivery timeframe then  email us at  or call us on    your recent order  track your order you can track your order by visiting:  contact details if you need to return an item or manage other orders  click here to access your mycef account.  shop again with us soon, we very much appreciate your business. cef customer service team _______________________________________________________________________ city electrical factors limited are  in england, no.  ',\n",
       " '  from apt security systems ltd ,  advise on a payment  for the attached .',\n",
       " ' important notification of change in contact details for kone plc  /, as a valued supplier we would like to inform you that kone is currently going through a transformation in a number of areas within the business. the primary goal of this transformation is to streamline processes and introduce new tools; in order to deliver improved levels of service to our customers and suppliers. as a consequence, we would like to inform you of a number of changes. kone will be introducing a new helpdesk to manage supplier queries received either by email or by phone. i am writing to advise you of the new contact details that you must use: new email for queries:  email for s :  new phone number :   commencing monday  january  all queries will be handle via the new helpdesk team and some activities will now be completed by a third party working with, and on behalf of kone plc. the helpdesk has been set up to support you with all your questions related to s, reconciliations, payments due s, statements of accounts and reminders. we will be transitioning suppliers to the new helpdesk team over a period of four weeks, and the  within this communication is the effective  that will be applicable for yourselves. in order to ensure a smooth process, we would like to highlight some key changes that you will notice from day  when you send an email query to  this will generate an automatic acknowledgement email response with a reference number. the title of the automatic email will contain your new query reference number and the title of the original email sent to kone.  ensure that you quote the query reference number in the title of any subsequent email communications with kone; and for ease you can reply to the auto-generated email once the case is closed, a closure notification email will be automatically triggered and issued. if the case is open for more than  days with a pending request, a reminder e-mail will be triggered. the previous email address  will be closed. the new contact details will replace all the previous contact information used in the past to reach our kone teams. we are aware that a number of our vendors experienced a disruption to service at the end of last year; and we would like to thank you for your continued support. we hope that these changes will help us as a company, to take the next steps in improving our interaction and service delivery with all of our suppliers in the future.',\n",
       " '***we are currently experiencing a high volume of emails so  expect a delay in our response. if the matter is urgent  contact us on   thank you for contacting the invoicing team at restore records management your email has been received by our invoicing team and we will respond to your enquiry as soon as possible.  note the invoicing team office hours a monday to friday  to ',\n",
       " 'hi can you  advise status of overdue s, as per our statement',\n",
       " 'perry hill   hi all, i am unsure why this  has been rejected. can you  reprocess to maria peters portal. the  has been paid and needs matching against the payment ',\n",
       " ' message from ',\n",
       " 'sales  : ',\n",
       " ' could you  confirm the below overdue / due s will be cleared for payment this week.  let me know if there are any issues relating to any  which cannot be paid.',\n",
       " 'rs components - final reminder hi ,  find attached final reminder.',\n",
       " 'overdue account / deadline couriers importance: high  ruby, hope you are well i was trying to get in touch with you but your phone is on voicemail. i am just chasing payment and noticed your account is a bit overdue. is there any chance you can up me on your next payment run ? i am looking forward to hearing back from you.',\n",
       " 'hi, may we wish you every success in the forthcoming exhibition - london build expo  london build expo  attendees list is available now, to send invitation and market your product before show and after show. the attendee lists are recently upd with all contacts are permission pass and provided with complete contact information including direct business email address on an excel spread-sheet. offer price: the entire list of  contacts is priced at  usd. data field includes: company name, web address, contact name, job title, mailing address, phone number, and industry, sic code and email address. the list can be used for multi-channel marketing:  email campaigns  direct mail marketing  e marketing  social media campaign etc  let me know your thoughts so that i can send you the exhibitor discount costs of the lists. looking back to hearing from you.',\n",
       " 'statement from deadline couriers',\n",
       " 'euro  hi sheila, i hope you are well? i wonder if you could assist with something ? we have an outstanding  with kone ireland, i have emailed niamh o?leary several times and tried to ephone her yesterday but don?t seem to be getting anywhere. do you know who would be the best person to talk to ? i have attached the  for your information. if you have any queries or require any further information,  do not hesitate to contact myself or one of the staff in the office. ',\n",
       " 'euro  hi sheila, i hope you are well? i wonder if you could assist with something ? we have an outstanding  with kone ireland, i have emailed niamh oleary several times and tried to ephone her yesterday but dont seem to be getting anywhere. do you know who would be the best person to talk to ? i have attached the  for your information. if you have any queries or require any further information,  do not hesitate to contact myself or one of the staff in the office. ',\n",
       " 'sub: closure of case -  status.   requester, your request  has been resolved and marked as closed. in case you need any additional assistance  create a new request. comments: maregeret called in to know about the payment status of s she has, as she has more number s that cannot be discussed on the phone informed to send to helpdesk .email.',\n",
       " 'your report is attached in pdf format. to load the report, you will need the free adobe acrobat reader, available to download at http://',\n",
       " ' hi niamh, hope you are well. i would be really grateful if you could let me know when we can expect to receive payment of september   for ',\n",
       " ' hi niamh, hope you are well. i would be really grateful if you could let me know when we can expect to receive payment of september   for ',\n",
       " 'kobo stmt - kone',\n",
       " ' j.a.b lifts  ',\n",
       " ' j.a.b lifts  ',\n",
       " ' could you amend your records to send any  queries to the following email:-   do not send to  or  thank you',\n",
       " 'rivermead supplies ltd overdue s pls can i have an immediate payment for s listed below:-  nov   nov  dec  dec   we are waiting to complete your orders so a quick response will be appreciated',\n",
       " ' mj flood hi louise im just trying to create a payment run now and i have both s on niamh oleary accounts payable & payroll administrator kone ireland limited  calmount park calmount avenue ballymount dublin ',\n",
       " 'cis january hi guys, reference my email d  january requesting cid details by  february today. have not received your data ?  send asap. rgds nita',\n",
       " 'statement of account -  kone plc   find attached your latest statement of account. could you forward your payment to bring your account up to . should you require any further information  do not hesitate in contacting me.',\n",
       " 'statement.pdf  accounts  find attached your statement of account deposit : payment required if you require copy s  contact me and i will be happy to assist.',\n",
       " 'overdue account / deadline couriers importance: high  ruby, hope you are well i was trying to get in touch with you but your phone is on voicemail. i am just chasing payment and noticed your account is a bit overdue. is there any chance you can up me on your next payment run ? i am looking forward to hearing back from you.',\n",
       " ' -   find attached your  from westgate cleaning services ltd  college road bromley   t    e  w www.westgatecleaning.co.uk',\n",
       " ' -   find attached your  from westgate cleaning services ltd  college road bromley   t    e  w www.westgatecleaning.co.uk',\n",
       " 'atwell international limited - statement importance: high  valued customer,  find attached your latest statement from atwell international ltd.  check the attached statement; you still have s from october, november and december which are overdue although later ones have been settled. i have received emails from your accounts saying these are to be sorted and paid but they are now very overdue and we seem to be no nearer to receiving payment.  let me know what the current situation is and a  that the overdue debt is to be settled.',\n",
       " 'kobo stmt - kone',\n",
       " 'kone account status  all further to my previous emails to naresh last week and subsequent ephone conversation with your help desk, can someone  look into the outstanding issues on our account, preventing us getting paid? im attaching a statement of account where you will clearly see kone owe a large amount of money dating back to september  last week paul mcentire was sent three rejection emails. the reason for rejection was not valid and i did reply to each message. im not sure as to why these were sent to paul and would appreciate it if you can ensure all accounts communication comes to myself. i hope we get this matter cleared up soon as each day affects that kone projects we are working on.',\n",
       " 'overdue  - account at legal stage helpdesk / mohammed / derek / sheila urgent your account is at legal stage and is on stop. i am my wits end regarding this account i have spent so much time on this account and feel very let down by the lack of response and issues not being resolved. most of our s we raise are for continuous hire of equipment. we generally quote for four weeks hire and a purchase order is raised for four weeks. we do not know how long equipment is required on hire. most cases the hire of equipment goes over the four weeks and can be for many months on hire. you therefore will receive many s under the same purchase order number. it is the buyers responsibility to increase / amend the purchase order not ours.  deal with my email with a matter of urgency. purchase order  value  two s have been raised under this purchase order see as follows:   =  including vat d  is outstanding   =  including vat d  paid  you have paid a later d .   i have spoken to sheila wilton in the uk regarding this . she has advised that it appears that this  has been put on the system and taken off again. it needs to be put back on your system and processed so we can receive payment for this well overdue . mohammed nawaz has also been dealing with this  and the buyer derek shaw has also asked you to look at this  and deal with any issues so that this  can be paid. i have spoken to abu on the helpdesk who was very helpful and patient. i have asked him to look into other s which are also outstanding. s   sheila wilton advised these have not been authorised for payment. i emailed the buyer donna gregg some time ago asking her to amend / increase etc the purchase order to cover these s this appears not to have been done.     purchase order  i emailed mohammed nawaz & derek shaw the buyer and asked for the purchase order to be increased / amended this also appears not to have been done. i have attached a statement of account, can you  advise which s have been passed for payment and payment due . once these s have been paid we will then put the account on active. i await your prompt reply.',\n",
       " 'statement from escalutions ltd and remittance query  statement attached as at  i have no remittance for the payment of  received into our bank on  could you  supply details?',\n",
       " 'genpact team,  setup andrew miles with an  verification portal with  limit.',\n",
       " 'account overdue hello  advise why the below remain unpaid?',\n",
       " 'unpaid nemcon s. hello daryl,  see the attached unpaid s dating back to september.',\n",
       " \"order & payment  to: o leary niamh <   ruby, thank you for your order which is due for delivery tomorrow. as the december s for the above amount are due i'd appreciate if you can confirm that a cheque will be ready for collection or that a bank transfer for this amount is being made. the green office aib swords  iban  with \",\n",
       " 'unpaid nemcon s. hello daryl,  see the attached unpaid s dating back to september.',\n",
       " ' thank you for your request: vendor no  - outstanding   - urgent ',\n",
       " 'kone statement from elevated engineering services ltd hi,  find attached your statement of account.  confirm a payment  for the august   this was paid to the wrong supplier. many thanks.',\n",
       " ' overdue balance  required  can you  confirm when the overdue from september ,november and december will be paid into our barclays account.',\n",
       " ' overdue balance  required  can you  confirm when the overdue from september ,november and december will be paid into our barclays account.',\n",
       " 'statement for kone irl ltd from estuary wholesale supplies ltd  find attached statement from estuary wholesale ltd. your report is attached in pdf format. to load the report, you will need the free adobe acrobat reader, available to download at http://',\n",
       " 'statement for kone irl ltd from estuary wholesale supplies ltd  find attached statement from estuary wholesale ltd. your report is attached in pdf format. to load the report, you will need the free adobe acrobat reader, available to download at http://',\n",
       " 'kone statement from elevated engineering services ltd hi,  find attached your statement of account.  confirm a payment  for the august   this was paid to the wrong supplier. many thanks.',\n",
       " 'statement of account hi sheila, i hope you are well.  see the attached statement of account, can you  confirm payment of the overdue s this week?',\n",
       " 'avtar, thank you for taking my call earlier.  find attached statement for all outstanding items on your account up to  if we can look at correcting the credits & overpayments as discussed and if you can advise of any queries on the s that remain outstanding for this period.',\n",
       " 'reminder',\n",
       " 'overdue kettenwulf s hi paul, as just discussed  here is the list with overdue kettenwulf s  the relevant kone pos are also mentioned in that list. can you do me a favour and have a look at them and check the goods receipted, so that they get released for payment. appreciate your help and many thanks in advance for that. business review  in  week june  in keighley should be feasible  lets keep that in mind. have a good weekend.',\n",
       " 'vat not paid  london lift services vendor number  i had an  beck in november last year and the vat hasnt been paid. this has been going on for some time now  number  po number  should have been paid  received  missing   advise thanks john',\n",
       " ' statement hello ref: statement of account  see attached copy of your current statement of account .',\n",
       " 'hello ap, katie ransome left kone in nov  all  in her portal need to be placed into claire mccarthy. is the leaver list not checked and upd anymore and actioned  advise. could you move these s as per the above and then chase cathy to goods receipt.',\n",
       " 'this is an upd statement at y/e with the correct allocations.',\n",
       " 'statement for kone irl ltd from estuary wholesale supplies ltd corrected statement at ',\n",
       " 'statement of account from faac uk ltd',\n",
       " 'urgent - payment request.   sheila, ref:    th december  -  this account is now on court papers pending status and there is now  overdue, in respect of the attached /statement. our credit terms stipulate full payment within  days from  of , this  is now  days overdue.  advise on a payment ? we await your immediate payment of the outstanding debt. if this email concerns a perms placement or a new client set up  ensure that you use  email address.',\n",
       " '  see up to  statement attached. can you  confirm that outstanding s for august, september and october are being processed?',\n",
       " 'copy  po upd',\n",
       " ' cibes lift uk ltd inv:-  hello ap,  could you advise why this  was rejected as the vendor is chasing. they state they have supplied the lift and installed it and require payment.',\n",
       " 'invalid deduction on account hi, we received the attached remittance today for payment made today ,  on line  it shows a deduction of  it states that our reference is  however we have not issued a credit with this reference or this value. we did issue   on the  but this was paid on the  . can you  explain why you have made this deduction? these  on this remittance were overdue, we have been waiting for payment for some of these s for over  , we finally received payment and you have deducted 00 without explanation .',\n",
       " 'statement required hi can you  send me a copy of current statement asap?',\n",
       " ' could you  check my email below?',\n",
       " 'sub: shorts industries ltd overdue s  is pending for your response  requestor, the request  is waiting for your response for further processing. request you to provide the required information for expediting the resolution.',\n",
       " 'po have not sufficient funds',\n",
       " 'warning: the sender of this email could not be valid and may not match the person in the \"from\" field. i work monday to wednesday each week. in my absence, for urgent matters only,  contact the accounts dept at  . otherwise,  contact me upon my return on monday next week. confidentiality: this email and its attachments may contain information that is privileged, confidential or otherwise protected from disclosure. if you have received this email in error  let us know by sending an email to  and delete it from your systems.  do not read, copy or disclose its contents to anyone or use it for any purpose. data protection: to the extent we use any personal information, this is handled in accordance with applicable data protection legislation and our privacy notice which you can access here. warning: it is the responsibility of the recipient to ensure that the onward transmission, opening or use of this message and any attachments will not adversely affect its systems or data.  carry out such ',\n",
       " 'payment request hi niamh  find attached up to  statement. i noticed november & december s unpaid on the account and just wanted to make sure you had these . if you require any copy s  let me know & i can arrange to email to you, if all is in order  can you advise when we can expect payment, total amount overdue is ',\n",
       " ' unpaid s - urgent reminder. asunto:  unpaid s - urgent de: global-spares enviado el: martes   para:  cc:  , our account department informed us about unpaid s if the s below have already been paid, we would appreciate if you could send us the payment confirmations as soon as possible',\n",
       " 'stair lift neillsbrook fold required to repair stair lift. main board and charger sent from my samsung galaxy smartphone.',\n",
       " 'kone plc - deduction made twice importance: high hi hayley, our accounts have been unable to clear s  &  due to a deduction of  being made in error on your remittance of  however, this amount was already deducted correctly on your remittance of  so should not have been taken again.  could you arrange the immediate payment of the  so that we can make the allocation. many thanks for your co-operation.',\n",
       " 'hello ap, internal credit note has been deducted i dont now why you are raising your own credit notes.  could nyou check have all    raised correctly to po  i think this line has not been raised correctly. plese check all  balance to po so why has this credit note been raised oorlyj',\n",
       " 'statement - queries importance: high hi attached is a recent statement for your information.  note, that despite constant reminders, we still have outstanding s that require your immediate attention. thank you and .',\n",
       " 'statement - queries importance: high hi attached is a recent statement for your information.  note, that despite constant reminders, we still have outstanding s that require your immediate attention. thank you and .',\n",
       " 'sub: closure of case -  status.   requester, your request  has been resolved and marked as closed. in case you need any additional assistance  create a new request. comments: maregeret called in to know about the payment status of s she has, as she has more number s that cannot be discussed on the phone informed to send to helpdesk .email.',\n",
       " 'reminder',\n",
       " 'rs components - final reminder hi ,  find attached final reminder.',\n",
       " 'case created manually by abubakar ahmed at    case created manually by abubakar ahmed on  ',\n",
       " 'nsg account claire',\n",
       " 'nsg account claire',\n",
       " ' overdue balance  required  can you  confirm when the overdue from september ,november and december will be paid into our barclays account.',\n",
       " ' overdue balance  required  can you  confirm when the overdue from september ,november and december will be paid into our barclays account.',\n",
       " 'vat not paid  london lift services vendor number  i had an  beck in november last year and the vat hasnt been paid. this has been going on for some time now  number  po number  should have been paid  received  missing   advise thanks john',\n",
       " 'unpaid nemcon s. hello daryl,  see the attached unpaid s dating back to september.',\n",
       " 'overdue  ',\n",
       " 'outstanding s , i phoned kone  times last week and left voicemails, ive still not had my calls returned. i phoned the new accounts number on friday  february a.m and struggled to communicate with the person dealing with my enquiry, they assured me they understood what i was asking for and said they would reply via email or return my call on friday, i have still not had a reply ! i have today left another voicemail via kone reception, and spoken with the new accounts call centre, im still not confident that my problem will be resolved.  could someone help with the following : i am chasing payment for    and   i would appreciate an urgent response as ive now been chasing this for over a week ! should you need to speak with me you can contact me on  ',\n",
       " 'outstanding s - supplier number   see attached outstanding s. can you advise asap when these will be paid?',\n",
       " 'unpaid nemcon s. hello daryl,  see the attached unpaid s dating back to september.',\n",
       " 'stair lift neillsbrook fold required to repair stair lift. main board and charger sent from my samsung galaxy smartphone.',\n",
       " 'case created manually by abubakar ahmed at    case created manually by abubakar ahmed on  ',\n",
       " 'spreadsheet hi derek attached is the spreadsheet we discussed earlier. anything you can do to help will be appreciated,',\n",
       " 'stair lift neillsbrook fold required to repair stair lift. main board and charger sent from my samsung galaxy smartphone.',\n",
       " 'doc  hi, the below  has been posted incorrectly, this is a rent  as per the attachment and has been posted to gl  insurances.  post to ',\n",
       " 'overdue  hi, i have attached an  that was due on   could you advise a payment .',\n",
       " 'hi all can i get a payment  for the outstanding s as soon as possible ? statement sent separay- request any missing s  note our credit terms are strictly  days from  of .',\n",
       " 'statement for clayton ho silver springs',\n",
       " 'rivermead supplies ltd overdue s pls can i have an immediate payment for s listed below:-  nov   nov  dec  dec   we are waiting to complete your orders so a quick response will be appreciated',\n",
       " ' s no  elevators uk limited- kone plc de la: daniela aciobanita trimis:  june   c?t  cc:  ; stefan lipciuc subiect: s no  elevators uk limited- kone plc hello,  find in attach the s no  thanks,',\n",
       " 'payment kone ni ltd hi catherine i have processed bacs payment in respect of your s    &  in the amount of  monies should reach your designated account no later than monday ',\n",
       " 'statements ',\n",
       " 'vat not paid  london lift services vendor number  i had an  beck in november last year and the vat hasn?t been paid. this has been going on for some time now  number  po number  should have been paid  received  missing   advise thanks john',\n",
       " 'vat not paid  london lift services vendor number  i had an  beck in november last year and the vat hasnt been paid. this has been going on for some time now  number  po number  should have been paid  received  missing   advise thanks john',\n",
       " 'overdue and due s  could you  confirm the below overdue / due s will be cleared for payment this week.  let me know if there are any issues relating to any  which cannot be paid.',\n",
       " 'case created manually by abubakar ahmed at    case created manually by abubakar ahmed on  ',\n",
       " ' mrs or ms, attached pls. find a copy of our  no.  which is still open for payment.  be so kind and check this . we will wait your paid. thank you for your kind attention. have a nice weekend, katri wahlstrm katri wahlstrm sales and administration assistant .     genera oy www.genera.fi finndent oy ',\n",
       " 'per your request null',\n",
       " 'per your request null',\n",
       " 'overdue and due s  could you  confirm the below overdue / due s will be cleared for payment this week.  let me know if there are any issues relating to any  which cannot be paid.',\n",
       " 'outstanding s i attach a statement of account and would be grateful if you could arrange for the october and december s to be passed for payment many thanks',\n",
       " 'spreadsheet hi derek attached is the spreadsheet we discussed earlier. anything you can do to help will be appreciated,',\n",
       " ' message from  null',\n",
       " ', as requested  see the attached copy s.',\n",
       " 'hi all, can you  delete the following as it is an application and not an   thanks, hayley waterman kone plc expense/accounts assistant direct',\n",
       " 'statement of account hi susie  find attached a current statement of your account. the last payment we received was in november  i have been emailing the s and statements to niamhs old email address as i was told ruby was still using that email address. can you kindly check with her to see that she has all the s and will put us on her payment list?',\n",
       " 'payments hi, could you  inform me when we can expect payment for all the outstanding s.',\n",
       " ',  find attached this months statement of account for your reference. if i could respectfully requests that you give your urgent attention to your account with us as outstanding s are considerably over due for payment. our last payment received from yourselves was  and as you can imagine this has become quite a concern. it would be greatly appreciated if all outstanding monies owed were received within the next  days. should you have any queries or require any further information  do not hesitate to contact us, were a member of our team will be happy to assist or should you consider this outstanding to be paid  remit upon reply. ',\n",
       " 'hi all  delete the following two items as they are incorrect  thanks, hayley waterman kone plc expense/accounts assistant direct',\n",
       " 'hi accounts payable, hope you are doing great! we tried reaching you to discuss about the overdue s on your tnt account. however, we were unable to get through. kindly provide us a payment up on the overdue s at the earliest. if these s are paid, kindly send a copy of the remittance to  below is the screen shot of upd statement of account for your reference',\n",
       " ' kone public limited company  - payment up required , thank you for your response below. as this  is now  days overdue  can you review a provide a confirmation of payment by close of business  in order to bring the account up to .',\n",
       " ' process attached s hi   can you process the following s. many thanks dean melvin contactap uk would you  inform me if there are any issues with any of these s which are attached.',\n",
       " '  hi, could you  have a look a   d  with po  on my remittance advise slip shows the amount of  it hans?t been paid and also the right amount for this  is of  vat is added and cis deducted from the gross amount. ',\n",
       " '  hi, could you  have a look for me to   reference number  d  the amount paid was  it should have been paid  with vat added and cis deducted fro the gross amount, ',\n",
       " '',\n",
       " 'hi, could you  have a look a  with po number  for  the hasn?t been paid yet, thanks.',\n",
       " 'hi, could you  have a look at   with po number  which hasn?t been paid, thanks.',\n",
       " '  hi, could  have a look a this   ref number  d  the wrong amount was paid, it should have been  with is the gross amount once vat is added and cis deducted only  were paid. ',\n",
       " '  hi, could you  have a look at   reference number  d  the gross amount paid should have been  but only  were paid. ',\n",
       " 'february   hi joe  find attached our latest  and timesheet  i will put the hard copy in the post and i have also emailed to the new  vendor.',\n",
       " 'overdue s  our records show that the attached  s in pdf file. remain unpaid and consequently are now overdue. the  they were origionally sent to  vendor s, appears in the bottom left hand corner of each .  can you advise when these will be paid as soon as possible.',\n",
       " \"david guest  travelodge st mary's the  attached as been deducted from our accounts payment on  this is not a duplicate on the remittance  it should never of been on it in the first place  resolve this payment  as this is unacceptable procedure and is causing my company problems with paying staff and suppliers!! the whole  needs payment and only  c i s taken vender number  angela mylett mersey lift fabrication ltd  caddick road knowsley business park prescot liverpool  \",\n",
       " ' kone po   acknowledge receipt hi not by me, this would have to be executed by accounts dept',\n",
       " 'overdue  for vendor   advise on the payment of   for  and   for  these should be paid in full with no deduction of cis as these are equipment only  respond with a payment  jane cook stentofon - zeni uk zeni uk ltd mack house  gatwick road  crawley  west sussex     uk switchboard:     ',\n",
       " 'account code   , as requested  see the attached copy s.',\n",
       " 'account code   , as requested  see the attached copy s.',\n",
       " '  hi,   is still outstanding, can you let us know asap when we can expect payment. you have paid this payment to the wrong company, ram lift services ltd, rather than us. screenshot below that you sent us on  jan.',\n",
       " '',\n",
       " 'mm doc  hi, can you  cancel the above document, the  has already been processed under document  via idoc process. error occurred due to  reference number  and  leading zero added on idoc ',\n",
       " 'overdue account / deadline couriers importance: high  ruby, hope you are well i was trying to get in touch with you but your phone is on voicemail. i am just chasing payment and noticed your account is a bit overdue. is there any chance you can up me on your next payment run ? i am looking forward to hearing back from you.',\n",
       " ', in what situation are these s? thanks',\n",
       " 'terry group ltd hi could you give me an up on the present situation with this supplier.',\n",
       " 'statement and copies of outstanding accounts , i would appreciate your help with the following: we have a number of s outstanding which are well overdue now and i would like some clarification that these will be settled soon. i have attached a statement of account and a copy of each outstanding . these s have been chased regularly with sheila wilton without any response.  regarding the above many thanks',\n",
       " ' rectification importance: high hi, theres an issue where an  has been processed incorrectly due to different interpretation of supplier  reference number, mm docs  &  one has f prefixed before the number the other doesnt to rectify, can you  process a credit to cancel mm doc . ive also attached an  that has been wrongly rejected,  have processed over both line items on p/o  quantity  value  each line @ steve, can you complete the goods receipt',\n",
       " 'hello all, this is the correct account.  can this  be posted to the correct account and then posted into steve quirks portal.',\n",
       " 'kone hi tammy have we got a remittance from kone for the money kone have paid, and is it the first time they have paid. ta',\n",
       " ' kone public limited company  - payment up required , thank you for your response below. as this  is now  days overdue  can you review a provide a confirmation of payment by close of business  in order to bring the account up to .',\n",
       " 'account statement hi amanda can you  send me a statement apologies if this has already been sent, ive had a quick look and cant see anything my side niamh oleary accounts payable & payroll administrator kone ireland limited  calmount park calmount avenue ballymount dublin ',\n",
       " ' engineering ltd  hello ap, internal credit note has been deducted i don?t now why you are raising your own credit notes.  could nyou check have all    raised correctly to po  i think this line has not been raised correctly. plese check all  balance to po so why has this credit note been raised oorlyj',\n",
       " ' engineering ltd  hello ap, internal credit note has been deducted i dont now why you are raising your own credit notes.  could nyou check have all    raised correctly to po  i think this line has not been raised correctly. plese check all  balance to po so why has this credit note been raised oorlyj',\n",
       " 'your report is attached in pdf format. to load the report, you will need the free adobe acrobat reader, available to download at http://',\n",
       " 'terry group ltd hi could you give me an up on the present situation with this supplier.',\n",
       " 'doc  hi, the below  has been posted incorrectly to insurances gl  you can clearly see under the description and attached  its employment cost.  reverse out and post to gl ',\n",
       " 'hi i did inform you what to do see the attached',\n",
       " ' account hi ruby, hope all good with you. when you get a chance, can you  check out our account and let me know if the older dec/jan s are approved for payment? dec   dec   jan   jan   feb  ',\n",
       " 'doc  hi, the below  has been posted incorrectly to insurances gl  you can clearly see under the description and attached  is marketing cost.  reverse out and post to gl ',\n",
       " ' entry specialists - leaver list not up d s hello ap, katie ransome left kone in nov  all  in her portal need to be placed into claire mccarthy. is the leaver list not checked and upd anymore and actioned  advise. could you move these s as per the above and then chase cathy to goods receipt.',\n",
       " 'statement - outstanding balance. ,  find attached this months statement of account for your reference. if i could respectfully requests that you give your urgent attention to your account with us as outstanding s are considerably over due for payment. our last payment received from yourselves was  and as you can imagine this has become quite a concern. it would be greatly appreciated if all outstanding monies owed were received within the next  days. should you have any queries or require any further information  do not hesitate to contact us, were a member of our team will be happy to assist or should you consider this outstanding to be paid  remit upon reply. ',\n",
       " 'statement from reeley ltd',\n",
       " 'vat not paid  london lift services vendor number  i had an  beck in november last year and the vat hasn?t been paid. this has been going on for some time now  number  po number  should have been paid  received  missing   advise thanks john',\n",
       " 'wrong amount paid  london lift services vendor number  i had a payment for  number  po number    the amount paid was  should have been   see attached the remittance form kone sent to me.  advise thanks john',\n",
       " '',\n",
       " 'ext sub:   is pending for your response  requestor, the request  is waiting for your response for further processing. request you to provide the required information for expediting the resolution.',\n",
       " 'order number  for property the walks huntingdon  management co ltd sent  feb  ',\n",
       " 'thank you for your email, and taking the time to contact us, this is an automated acknowledgement to confirm that your email has been received. although we aim to respond to queries as soon as possible,  allow up to  working days for complete investigation and response to your query.  note: our office hours are  to  monday to friday excluding bank holidays. do not respond to this auto-response as your email will not be read. ',\n",
       " 'thank you for your email, and taking the time to contact us, this is an automated acknowledgement to confirm that your email has been received. although we aim to respond to queries as soon as possible,  allow up to  working days for complete investigation and response to your query.  note: our office hours are  to  monday to friday excluding bank holidays. do not respond to this auto-response as your email will not be read. ',\n",
       " 'hi all, all of the s below need to be moved to michael kernicks portal asap. going forward could you  ensure that all arval s are processed to his portal as soon as they are received ',\n",
       " 'hi, the below  has been posted incorrectly, this is a credit as per the attached   reverse out and re post as a credit.',\n",
       " 'urgent hewlett packard enterprise// payments possibly made in error// ?  kone plc  accounts team, i am contacting you with regard to  payments received by hewlett packard enterprise which we do not know how to allocate. could you  help me with the remit?',\n",
       " 'arval  on twice hi all,  could one of these be deleted its a duplicate and the other transferred to michael kernicks portal asap  thanks, hayley waterman kone plc expense/accounts assistant direct',\n",
       " 'hi all, could this  be processed to michael krnicks portal asap  thanks, hayley waterman kone plc expense/accounts assistant direct',\n",
       " 'spindles additional filler weights. hi gaynor, dave has ordered another  of weights for this job. they will be ready for collection tuesday. lump sum...  plus vat paul.',\n",
       " 'statements ',\n",
       " 'reminder  find in attachment your reminder met vriendelijke groeten, ',\n",
       " \"order & payment  , thank you for your order which is due for delivery tomorrow. as the december  for the above amount is due i'd appreciate if you can confirm that a cheque will be ready for collection or that a bank transfer for this amount is being made. the green office aib swords  iban  with \",\n",
       " 'account statement from hydroware ab account statement from hydroware ab',\n",
       " 'arval  posted incorrectly  hi all, the  below has been posted in euros when it is gbp.  cancel and repost correctly.',\n",
       " ' rectification importance: high hi, there?s an issue where an  has been processed incorrectly due to different interpretation of supplier  reference number, mm docs  &  one has f prefixed before the number the other doesn?t to rectify, can you  process a credit to cancel mm doc . i?ve also attached an  that has been wrongly rejected,  have processed over both line items on p/o  quantity  value  each line @ steve, can you complete the goods receipt',\n",
       " 's  /  - suppier query hi, can you advise when the attached supplier s will be paid:   thanks liam liam lupton nycc helpdesk   kone plc worthdale house worthbridge road keighley   ',\n",
       " 'overdue s  our records show that the attached  s in pdf file. remain unpaid and consequently are now overdue. the  they were origionally sent to  vendor s, appears in the bottom left hand corner of each .  can you advise when these will be paid as soon as possible.',\n",
       " 'overdue and due s  could you  confirm the below overdue / due s will be cleared for payment this week.  let me know if there are any issues relating to any  which cannot be paid.',\n",
       " 's  /  - suppier query hi, can you advise when the attached supplier s will be paid:   thanks liam liam lupton nycc helpdesk   kone plc worthdale house worthbridge road keighley   ',\n",
       " ' process attached s hi   can you process the following s. many thanks dean melvin contactap uk would you  inform me if there are any issues with any of these s which are attached.',\n",
       " 'sub: shorts industries ltd overdue s  is pending for your response  requestor, the request  is waiting for your response for further processing. request you to provide the required information for expediting the resolution.',\n",
       " 'hilti account   can someone get back to me urgently with full payment details of the list of s attached, i have highlighted all those overdue some of these s  back to  and are therefore extremely urgent if you have any queries  let me know',\n",
       " 'hello ap, the vendor is chasing the below  for payment and it has been rejected  could you advise me why ?',\n",
       " 'overdue credit note and s importance: high hi hayley,  can you help with getting attached cleared?',\n",
       " 'reminder  find in attachment your reminder met vriendelijke groeten, ',\n",
       " ' message from  null',\n",
       " 'hello ap, all of this  should have cis tax d could this  be processed a.s.a.p.',\n",
       " ' message from  null',\n",
       " ' reminder',\n",
       " 'hi all, i can confirm that this is an  and can it  be transferred to maria peters portal asap  thanks, hayley waterman kone plc expense/accounts assistant direct',\n",
       " 'outstanding s i attach a statement of account and would be grateful if you could arrange for the october and december s to be passed for payment many thanks',\n",
       " 'hi all, this  was collected by dd in june  so i need to get it processed to match against the payment. can you advise how this can be done   thanks, hayley waterman kone plc expense/accounts assistant direct',\n",
       " 'sub: shorts industries ltd overdue s  is pending for your response  requestor, the request  is waiting for your response for further processing. request you to provide the required information for expediting the resolution.',\n",
       " \"order & payment  to: o leary niamh <   ruby, thank you for your order which is due for delivery tomorrow. as the december s for the above amount are due i'd appreciate if you can confirm that a cheque will be ready for collection or that a bank transfer for this amount is being made. the green office aib swords   with \",\n",
       " \"order & payment  to: o leary niamh <   ruby, thank you for your order which is due for delivery tomorrow. as the december s for the above amount are due i'd appreciate if you can confirm that a cheque will be ready for collection or that a bank transfer for this amount is being made. the green office aib swords   with \",\n",
       " \"order & payment  to: o leary niamh <   ruby, thank you for your order which is due for delivery tomorrow. as the december s for the above amount are due i'd appreciate if you can confirm that a cheque will be ready for collection or that a bank transfer for this amount is being made. the green office aib swords   with \",\n",
       " \"order & payment  to: o leary niamh <   ruby, thank you for your order which is due for delivery tomorrow. as the december s for the above amount are due i'd appreciate if you can confirm that a cheque will be ready for collection or that a bank transfer for this amount is being made. the green office aib swords   with \",\n",
       " 'overdue  - account at legal stage helpdesk / mohammed / derek / sheila urgent your account is at legal stage and is on stop. i am my wits end regarding this account i have spent so much time on this account and feel very let down by the lack of response and issues not being resolved. most of our s we raise are for continuous hire of equipment. we generally quote for four weeks hire and a purchase order is raised for four weeks. we do not know how long equipment is required on hire. most cases the hire of equipment goes over the four weeks and can be for many months on hire. you therefore will receive many s under the same purchase order number. it is the buyers responsibility to increase / amend the purchase order not ours.  deal with my email with a matter of urgency. purchase order  value  two s have been raised under this purchase order see as follows:   =  including vat d  is outstanding   =  including vat d  paid  you have paid a later d .   i have spoken to sheila wilton in the uk regarding this . she has advised that it appears that this  has been put on the system and taken off again. it needs to be put back on your system and processed so we can receive payment for this well overdue . mohammed nawaz has also been dealing with this  and the buyer derek shaw has also asked you to look at this  and deal with any issues so that this  can be paid. i have spoken to abu on the helpdesk who was very helpful and patient. i have asked him to look into other s which are also outstanding. s   sheila wilton advised these have not been authorised for payment. i emailed the buyer donna gregg some time ago asking her to amend / increase etc the purchase order to cover these s this appears not to have been done.     purchase order  i emailed mohammed nawaz & derek shaw the buyer and asked for the purchase order to be increased / amended this also appears not to have been done. i have attached a statement of account, can you  advise which s have been passed for payment and payment due . once these s have been paid we will then put the account on active. i await your prompt reply.',\n",
       " 'cis january hi guys, reference my email d  january requesting cid details by  february today. have not received your data ?  send asap. rgds nita',\n",
       " 'queries/statement   find attached statement  can you confirm if there are any queries and the status of all s listed, credit note  was only part taken leaving an outstanding balance.  confirm when our next payment will be and which s/credits will be included',\n",
       " 'kone account status  all further to my previous emails to naresh last week and subsequent ephone conversation with your help desk, can someone  look into the outstanding issues on our account, preventing us getting paid? im attaching a statement of account where you will clearly see kone owe a large amount of money dating back to september  last week paul mcentire was sent three rejection emails. the reason for rejection was not valid and i did reply to each message. im not sure as to why these were sent to paul and would appreciate it if you can ensure all accounts communication comes to myself. i hope we get this matter cleared up soon as each day affects that kone projects we are working on.',\n",
       " 'my hours of work are monday,tuesday and friday  if you need a response  contact ',\n",
       " 'kone feb  hi,  see this months statement thanks kirsty',\n",
       " 'hi, the above document has been processed as an  where its clearly a credit, can you  cancel the document and re-process as a credit.',\n",
       " \" kind request hello, can you help us for the request from below? thanks! de la: daniela aciobanita trimis:  february   c?t 'o leary niamh' ; swan mark cc: mcadam gerald ; stefan lipciuc ; jeni turcanu subiect: kind request hello, can you help us  with the following informations: the contract notification/confirmation,  see in attach with yellow; the payment id ,  see in attach with red. you will find in attach an example for each document. if you have any questions  contact us. thank you in advance! daniela aciobanita economist binape construct grup s.r.l. .fix/:     e-mail:  www.binape.ro the content of this communication is classified as s.c. binape's confidential and proprietary information.the content of this communication is intended solely for the use of the individual or entity to whom it is addressed and others authorized to receive it. if you are not the intended recipient you are hereby notified that any disclosure, copying, distribution or taking any action in reliance on the contents of this information is strictly prohibited and may be unlawful. if you have received this communication in error,  notify us immediay by responding to this communication then delete it from your system. e-mail are susceptible to alteration. s. c. binape is neither liable for the proper, complete transmission of the information contained in this communication nor delay in its receipt.\",\n",
       " ' statement for account  null',\n",
       " 'your account statement   gb_estmt_en your e-account statement  s, as a valued customer, thank you for choosing hilti.  see attached your latest statement of account. for billing inquiries or to pay by direct debit,  contact our credit & collections team on    for  disputes  contact our customer services department on ',\n",
       " ',  find an up to  report attached for all s which are currently overdue. i would appreciate if you can advise the status of each  at your earliest convenience. if there are any issues that i can help resolve i would like to know who i am best speaking to so i can get the overdue s paid and the account brought up to . as you will see from the report, one  s back to august last year so it is a priority that this is cleared as soon as possible.  shortly.',\n",
       " '   kone plc , i am contacting you in relation to an outstanding  for kone plc.    meter operator charges for the period  to   days overdue i require an up on payment of the .',\n",
       " '   kone plc , i am contacting you in relation to an outstanding  for kone plc.    meter operator charges for the period  to   days overdue i require an up on payment of the .',\n",
       " \" kind request hello, can you help us for the request from below? thanks! de la: daniela aciobanita trimis:  february   c?t 'o leary niamh' ; swan mark cc: mcadam gerald ; stefan lipciuc ; jeni turcanu subiect: kind request hello, can you help us  with the following informations: the contract notification/confirmation,  see in attach with yellow; the payment id ,  see in attach with red. you will find in attach an example for each document. if you have any questions  contact us. thank you in advance! daniela aciobanita economist binape construct grup s.r.l. .fix/:     e-mail:  www.binape.ro the content of this communication is classified as s.c. binape's confidential and proprietary information.the content of this communication is intended solely for the use of the individual or entity to whom it is addressed and others authorized to receive it. if you are not the intended recipient you are hereby notified that any disclosure, copying, distribution or taking any action in reliance on the contents of this information is strictly prohibited and may be unlawful. if you have received this communication in error,  notify us immediay by responding to this communication then delete it from your system. e-mail are susceptible to alteration. s. c. binape is neither liable for the proper, complete transmission of the information contained in this communication nor delay in its receipt.\",\n",
       " \" kind request hello, can you help us for the request from below? thanks! de la: daniela aciobanita trimis:  february   c?t 'o leary niamh' ; swan mark cc: mcadam gerald ; stefan lipciuc ; jeni turcanu subiect: kind request hello, can you help us  with the following informations: the contract notification/confirmation,  see in attach with yellow; the payment id ,  see in attach with red. you will find in attach an example for each document. if you have any questions  contact us. thank you in advance! daniela aciobanita economist binape construct grup s.r.l. .fix/:     e-mail:  www.binape.ro the content of this communication is classified as s.c. binape's confidential and proprietary information.the content of this communication is intended solely for the use of the individual or entity to whom it is addressed and others authorized to receive it. if you are not the intended recipient you are hereby notified that any disclosure, copying, distribution or taking any action in reliance on the contents of this information is strictly prohibited and may be unlawful. if you have received this communication in error,  notify us immediay by responding to this communication then delete it from your system. e-mail are susceptible to alteration. s. c. binape is neither liable for the proper, complete transmission of the information contained in this communication nor delay in its receipt.\",\n",
       " '   kone plc , i am contacting you in relation to an outstanding  for kone plc.    meter operator charges for the period  to   days overdue i require an up on payment of the .',\n",
       " 'hi,   is still outstanding, can you let us know asap when we can expect payment. you have paid this payment to the wrong company, ram lift services ltd, rather than us. screenshot below that you sent us on  nd jan. thanks kirsty',\n",
       " \"order & payment  to: o leary niamh <   ruby, thank you for your order which is due for delivery tomorrow. as the december s for the above amount are due i'd appreciate if you can confirm that a cheque will be ready for collection or that a bank transfer for this amount is being made. the green office aib swords   with \",\n",
       " 'sub: closure of case -  status.   requester, your request  has been resolved and marked as closed. in case you need any additional assistance  create a new request. comments: maregeret called in to know about the payment status of s she has, as she has more number s that cannot be discussed on the phone informed to send to helpdesk .email.',\n",
       " 'a user sent you  important documents using dropbox a user has sent   important documents to you using dropbox for business you can view documents by following the link below. view -  view -  view - file/document_ happy dropboxing! -the dropbox team  dropbox notifications',\n",
       " 'a user sent you  important documents using dropbox a user has sent   important documents to you using dropbox for business you can view documents by following the link below. view -  view -  view - file/document_ happy dropboxing! -the dropbox team  dropbox notifications',\n",
       " 'northside glass ltd n.s.g. - statement null',\n",
       " 'northside glass ltd n.s.g. - statement null',\n",
       " 'a user sent you  important documents using dropbox a user has sent   important documents to you using dropbox for business you can view documents by following the link below. view -  view -  view - file/document_ this documents will be deleted from our storage server on its given expiry . happy dropboxing! -the dropbox team  dropbox notifications',\n",
       " 'a user sent you  important documents using dropbox a user has sent   important documents to you using dropbox for business you can view documents by following the link below. view -  view -  view - file/document_ this documents will be deleted from our storage server on its given expiry . happy dropboxing! -the dropbox team  dropbox notifications',\n",
       " \"kind request hello, can you help us  with the following informations: the contract notification/confirmation,  see in attach with yellow information that we need; the payment id ,  see in attach with red that are missing. you will find in attach an example for each document. if you have any questions  contact us. thank you in advance! daniela aciobanita economist binape construct grup s.r.l. .fix/:     e-mail:  www.binape.ro the content of this communication is classified as s.c. binape's confidential and proprietary information.the content of this communication is intended solely for the use of the individual or entity to whom it is addressed and others authorized to receive it. if you are not the intended recipient you are hereby notified that any disclosure, copying, distribution or taking any action in reliance on the contents of this information is strictly prohibited and may be unlawful. if you have received this communication in error,  notify us immediay by responding to this communication then delete it from your system. e-mail are susceptible to alteration. s. c. binape is neither liable for the proper, complete transmission of the information contained in this communication nor delay in its receipt.\",\n",
       " '  hi sarah i will have a look and advise that everything is ok, - is this the only  o/s? just a quick note to advise why there is such a delay. while i was on leave there was a vast amount of manual payments made to our suppliers and when clearing these there was a number of errors made and never rectified. ? i am just back from maternity leave and i am trying to do a review of all accounts and resolve all issues before we proceed with any more payments and although this is not your issue your patience is very much appreciated. niamh o?leary accounts payable & payroll administrator kone ireland limited  calmount park calmount avenue ballymount dublin ',\n",
       " \"kind request hello, can you help us  with the following informations: the contract notification/confirmation,  see in attach with yellow information that we need; the payment id ,  see in attach with red that are missing. you will find in attach an example for each document. if you have any questions  contact us. thank you in advance! daniela aciobanita economist binape construct grup s.r.l. .fix/:     e-mail:  www.binape.ro the content of this communication is classified as s.c. binape's confidential and proprietary information.the content of this communication is intended solely for the use of the individual or entity to whom it is addressed and others authorized to receive it. if you are not the intended recipient you are hereby notified that any disclosure, copying, distribution or taking any action in reliance on the contents of this information is strictly prohibited and may be unlawful. if you have received this communication in error,  notify us immediay by responding to this communication then delete it from your system. e-mail are susceptible to alteration. s. c. binape is neither liable for the proper, complete transmission of the information contained in this communication nor delay in its receipt.\",\n",
       " \"kind request hello, can you help us  with the following informations: the contract notification/confirmation,  see in attach with yellow information that we need; the payment id ,  see in attach with red that are missing. you will find in attach an example for each document. if you have any questions  contact us. thank you in advance! daniela aciobanita economist binape construct grup s.r.l. .fix/:     e-mail:  www.binape.ro the content of this communication is classified as s.c. binape's confidential and proprietary information.the content of this communication is intended solely for the use of the individual or entity to whom it is addressed and others authorized to receive it. if you are not the intended recipient you are hereby notified that any disclosure, copying, distribution or taking any action in reliance on the contents of this information is strictly prohibited and may be unlawful. if you have received this communication in error,  notify us immediay by responding to this communication then delete it from your system. e-mail are susceptible to alteration. s. c. binape is neither liable for the proper, complete transmission of the information contained in this communication nor delay in its receipt.\",\n",
       " \"order & payment  to: o leary niamh <   ruby, thank you for your order which is due for delivery tomorrow. as the december s for the above amount are due i'd appreciate if you can confirm that a cheque will be ready for collection or that a bank transfer for this amount is being made. the green office aib swords   with \",\n",
       " 'february statement from paintworld ltd',\n",
       " ' process attached s hi   can you process the following s. many thanks dean melvin contactap uk would you  inform me if there are any issues with any of these s which are attached.',\n",
       " 'attached ',\n",
       " 'nsg account claire',\n",
       " 'nsg account claire',\n",
       " 'nsg account claire',\n",
       " 'outstanding s hi there, our catering suppliers: barretts kitchens have some more unpaid s, outstanding for more than  days.  see attached unpaid s, numbers:    and   can these be processed asap otherwise the late payment fees will increase? if you have any issues or queries,  contact me on phone number:    thanks very much, kerry bromley kone keighley reception ',\n",
       " 'overdue s  our records show that the attached  s in pdf file. remain unpaid and consequently are now overdue. the  they were origionally sent to  vendor s, appears in the bottom left hand corner of each .  can you advise when these will be paid as soon as possible.',\n",
       " 'overdue account & unallocated account  find enclosed statement, i have been requesting a remittance for the payment on account for  so i have allocated it off the order s,  find enclosed statement to   forward arrears urgently for september  october  and your account is strictly  days  pay on receipt or we will have no option but to change your current terms.',\n",
       " 'overdue account & unallocated account  find enclosed statement, i have been requesting a remittance for the payment on account for  so i have allocated it off the order s,  find enclosed statement to   forward arrears urgently for september  october  and your account is strictly  days  pay on receipt or we will have no option but to change your current terms.',\n",
       " 'statement for kone irl ltd from estuary wholesale supplies ltd  find attached statement from estuary wholesale ltd. your report is attached in pdf format. to load the report, you will need the free adobe acrobat reader, available to download at http://',\n",
       " 'hi, can someone  provide an up on when the below s will be paid? one is outstanding from september ',\n",
       " 'automatic reply: thank you for your request: account code   hello nicola, could you  up the gr amount for the po#  which has been utilized for the #  so that the same matches with the  amount. hello alex, could you  up the gr amount for the po#  which has been utilized for the #  so that the same matches with the  amount. hello wendy, could you  help us with the #  as the query \"kindly advice against which line item we have to book this po:.\" is held in your queue.',\n",
       " 'automatic reply: thank you for your request: account code   hello nicola, could you  up the gr amount for the po#  which has been utilized for the #  so that the same matches with the  amount. hello alex, could you  up the gr amount for the po#  which has been utilized for the #  so that the same matches with the  amount. hello wendy, could you  help us with the #  as the query \"kindly advice against which line item we have to book this po:.\" is held in your queue.',\n",
       " ' overdue balance  required  can you  confirm when the overdue from september ,november and december will be paid into our barclays account.',\n",
       " ' thank you for your request: vendor no  - outstanding   - urgent  ',\n",
       " 'automatic reply: thank you for your request: account code   hello nicola, could you  up the gr amount for the po#  which has been utilized for the #  so that the same matches with the  amount. hello alex, could you  up the gr amount for the po#  which has been utilized for the #  so that the same matches with the  amount. hello wendy, could you  help us with the #  as the query \"kindly advice against which line item we have to book this po:.\" is held in your queue.',\n",
       " ' for :kone find attached  in pdf format for :> kone',\n",
       " 'vat not paid  london lift services vendor number  i had an  beck in november last year and the vat hasn?t been paid. this has been going on for some time now  number  po number  should have been paid  received  missing   advise thanks john',\n",
       " 'afternoon,,  could you advise the status of the below s as these have been missed out form the payment run: i have many depots chasing me for payment.  could i get an up in particular the edi , my depot is chasing me for payment.',\n",
       " 'overdue s  our records show that the attached  s in pdf file. remain unpaid and consequently are now overdue. the  they were origionally sent to  vendor s, appears in the bottom left hand corner of each .  can you advise when these will be paid as soon as possible.',\n",
       " 'overdue s  our records show that the attached  s in pdf file. remain unpaid and consequently are now overdue. the  they were origionally sent to  vendor s, appears in the bottom left hand corner of each .  can you advise when these will be paid as soon as possible.',\n",
       " 'statements ',\n",
       " 'kone public limited company  - payment up required  sheila, i have been advised to contact yourself with  to an up for an  that has recently fallen overdue on the account.  can you kindly review the attached and advise when the payment will be remitted? chris brady credit controller ledger  ? sed-sto & kings - kzz  coombe lane, raynes park, london,  ',\n",
       " 'account could you  advise payment status of the overdue s on the attached statement. thank you',\n",
       " 'big yellow  incorrect -  hi all, the  below has been posted for the incorrect amount. is it actually for  and not  could you  reverse it out as  and put back on as  so we can deduct our  over payment on the next payment run -',\n",
       " ' can someone get back to me urgently with full payment details of the list of s attached, i have highlighted all those overdue some of these s  back to  and are therefore extremely urgent if you have any queries  let me know',\n",
       " 'hello mark, niamh, we write to inform you that we have not yet received payment of our  number  d  of november   let us now when payment will be done and  send us the payment notification we need for the rct. awaiting your respond.',\n",
       " 'overdue credit note and s importance: high hi hayley,  can you help with getting attached cleared?',\n",
       " 'genera oy/open   mrs or ms, attached pls. find a copy of our  no.  which is still open for payment.  be so kind and check this . we will wait your paid. thank you for your kind attention. have a nice weekend, katri wahlstrm katri wahlstrm sales and administration assistant .     genera oy www.genera.fi finndent oy ',\n",
       " 'statement - outstanding balance. ,  find attached this months statement of account for your reference. if i could respectfully requests that you give your urgent attention to your account with us as outstanding s are considerably over due for payment. our last payment received from yourselves was  and as you can imagine this has become quite a concern. it would be greatly appreciated if all outstanding monies owed were received within the next  days. should you have any queries or require any further information  do not hesitate to contact us, were a member of our team will be happy to assist or should you consider this outstanding to be paid  remit upon reply. ',\n",
       " 'overdue credit note and s importance: high hi hayley,  can you help with getting attached cleared?',\n",
       " ' account hi ruby, hope all good with you. when you get a chance, can you  check out our account and let me know if the older dec/jan s are approved for payment? dec   dec   jan   jan   feb  ',\n",
       " \"order & payment  , thank you for your order which is due for delivery tomorrow. as the december  for the above amount is due i'd appreciate if you can confirm that a cheque will be ready for collection or that a bank transfer for this amount is being made. the green office aib swords   with \",\n",
       " 'hello contact,  could you reconcile the account as the vendor is chasing there  for payment.',\n",
       " 'overdue s on tnt  ireland ltd / dublin  hi accounts payable, hope you are doing great! we tried reaching you to discuss about the overdue s on your tnt account. however, we were unable to get through. kindly provide us a payment up on the overdue s at the earliest. if these s are paid, kindly send a copy of the remittance to  below is the screen shot of upd statement of account for your reference',\n",
       " 'overdue s on tnt  ireland ltd / dublin  hi accounts payable, hope you are doing great! we tried reaching you to discuss about the overdue s on your tnt account. however, we were unable to get through. kindly provide us a payment up on the overdue s at the earliest. if these s are paid, kindly send a copy of the remittance to  below is the screen shot of upd statement of account for your reference',\n",
       " '',\n",
       " 'request for statement - acm systems uk limited hi, greetings for the day! could you send the statement for reconciliation to the e-mail address  ',\n",
       " 'case created manually by abubakar ahmed at    case created manually by abubakar ahmed on  ',\n",
       " 'ventamac payment hi niamh i am chasing payment of a december  on your account-  no.  for  perhaps you can let me know when you expect to issue payment ?',\n",
       " ' see attached.',\n",
       " 'overdue s ,  find an up to  report attached for all s which are currently overdue. i would appreciate if you can advise the status of each  at your earliest convenience. if there are any issues that i can help resolve i would like to know who i am best speaking to so i can get the overdue s paid and the account brought up to . as you will see from the report, one  s back to august last year so it is a priority that this is cleared as soon as possible.  shortly.',\n",
       " '  find attached our statement, would you  let me have your earliest payment  for the overdue december account. many thanks ann coughlin',\n",
       " ' -  hi,  find attached. any problems let me know.',\n",
       " ' accounts  find attached your statement of account account overdue if you require copy s  contact me and i will be happy to assist.',\n",
       " ' accounts  find attached your statement of account account overdue. payment is required with order  arrange an immediate payment for your order to b processed. if you require copy s  contact me and i will be happy to assist.',\n",
       " 're. rents and service charges hi andrew, i wonder if you could kindly help me. i have received a lot of chasing letters from managing agents and landlords threatening legal action, and asking for immediate payments of outstanding service charges, rents, and building insurance payments. we pay most of our rents by standing order, but service charges vary from quarter to quarter, so unless that are fixed amounts we pay on receipt of s. i am applying for urgent chaps payments almost daily, which is not only time consuming, but costly, i would imagine. is it possible to ask the back office to put all rent and service charge s in my portal for review, which in turn will go to brenda msi for ultimate approval. this will be for all of our office/warehouse premises, with the exception of the storage units which i believe you deal with, as i would not hold the lease/or contract for the same. or is this something i need to take up with somone else ? with thanks and kindest  maria maria peters paralegal kone plc global house, station place, fox lane north chertsey, surrey   great britain email  phone    mobile    customer service:    www.kone.co.uk',\n",
       " 'hi all, the below  has been posted incorrectly.  delete  thanks, hayley waterman kone plc expense/accounts assistant direct',\n",
       " 'hi all,  delete as this is not am  it is for information only  thanks, hayley waterman kone plc expense/accounts assistant direct',\n",
       " '  find attached our statement, would you  let me have your earliest payment  for the overdue december account. many thanks ann coughlin',\n",
       " \" rent hi tanya, i can see on the system that we haven't paid  or  yet. i have just asked isc to code up the   and forward it for payment. if the landlord requires any further information  l them to contact  they will have full detail of the account and will be able to respond swiftly.\",\n",
       " 'urgent overdue account hi mark we are very concerned to note that there is now a balance overdue of  approx. an eft is now required by close of business this friday to bring your account up to  and avoid any further action been taken. below copy of your statement as at todays . the last et payment we received was back in november and nothing has been paid since other than the standard direct debit s. your immediate attention in this matter would be appreciated.',\n",
       " \"hello, we still have the situation where a bolzoni  has not been cleared / paid. the  in question is  which relates to kone purchase orders  /  /  the po's have been goods receipted but there is no  posted. could you  assist in resolving this matter as the supplier will be putting our account on stop shortly if this is not resolved.\",\n",
       " 'm newman lift engineering kone supplier  hi could you  give me the status of the attached s as many of these have been outstanding for some time',\n",
       " ' i have been advised to send you an account analysis to this email address . i would like kindly to ask you to advise me relevant to the settlement of your open s asap , otherwise there will problems with your future dispatches. i am attaching copies of all the s and bank details , as well  consider it as an urgent matter. thank you in advance --',\n",
       " \"money owed importance: high morning kasim hoping you can help . avtar had confirmed our payment for today on friday as  . we have logged on today to find that the new contact centre have deducted money yet again from us and we have only been paid  . this is now becoming a weekly issue . i am unsure what the problem is with paying the amount the  states . however these little mistakes that are being made are now starting to affect us as a business. we are being deducted cis from s where it isn't due and again we are owed money and still yet no response after a number of emails. i have attached the  that was due for payment today . i need to have the full  amount paid into our account today otherwise we will have to look at stopping work until things are resolved . after speaking to avatar they have credited our account with no reason as we owe you no money . i would like a response by midday today . i am highly concerned with avtar leaving how this will end as it only seems to be avatar that gets things resolved for us . s due for payment this week are below and i would like to think no issues would come of these . dean kone   d     overdue - chase po  dean kone   d     overdue - chase po  dean kone   d     overdue - chase po  dean kone   d     overdue - chase po  dean kone   d     overdue - chase  po  also from our accountant   to kone plc was underpaid by   and   was under paid by  \",\n",
       " 'overdue a/c from jark peterborough ltd  s, important letter attached.  read and action without delay.',\n",
       " 'remit  importance: high morning,  could you email me a copy of the remit for the payemnt received today for ',\n",
       " 'hi  can you advise if the following s will be paid on this fridays run inv  : po  inv  : po  my vendor number is ',\n",
       " ' find attached   against your order no.  house as per your e-mail to nancy lycett.  contact me if you require any further information.',\n",
       " 'kone outstanding  steve following our conversation last week,  find a list of outstanding s we are currently chasing with your accounts payable team. i would appreciate any help you can give to get these authorised and paid for me. any queries  let me know.',\n",
       " 'hi, my kone supplier number is  could you  advise as to  status for : tcp lift company nottingham   for po number  and tcp lift company nottingham   for po number  i have re-attached my  and kone purchase order for reference. thank you in advance for your time and wait your reply. ',\n",
       " 'february   hi joe  find attached our latest  and timesheet  i will put the hard copy in the post and i have also emailed to the new  vendor.',\n",
       " 'po fully utilized.  /  find attached your s which we are returning to you unprocessed for the following reasons following the instructions given will ensure we are able to process your s promptly and deal with your queries effectively. if you have any queries around the rejection  contact the sourcing department: e-mail egb purchasing front line  mailto: phone  ',\n",
       " 'arval  posted incorrectly  hi all, the  below has been posted in euros when it is gbp.  cancel and repost correctly.',\n",
       " ' statement from reeley ltd hi michael i am sorry to bother you but i seem to have reached an impasse here. not sure who we talk to, to get paid.',\n",
       " 'my hours of work are monday,tuesday and friday  if you need a response  contact ',\n",
       " ' undeliverable: sub: thank you for your request:  thank you for your request:     ',\n",
       " 'order number  for property orchard park, engledow drive sent  feb  ',\n",
       " 'outstanding s - supplier number   see attached outstanding s. can you advise asap when these will be paid?',\n",
       " 'thank you for your email, and taking the time to contact us, this is an automated acknowledgement to confirm that your email has been received. although we aim to respond to queries as soon as possible,  allow up to  working days for complete investigation and response to your query.  note: our office hours are  to  monday to friday excluding bank holidays. do not respond to this auto-response as your email will not be read. ',\n",
       " 'your cef order  your order number is   customer, thank you for your order. should you have any queries then  email us at  or call us on    contact details if you need to return an item or manage other orders  click here to access your mycef account.  shop again with us soon and we very much appreciate your business. cef customer services team _______________________________________________________________________ city electrical factors limited are  in england, no.  ',\n",
       " 'express elevators ltd  ex express elevators i have been advised to send you an account analysis to this email address . i would like kindly to ask you to advise me relevant to the settlement of your open s asap , otherwise there will problems with your future dispatches. i am attaching copies of all the s and bank details , as well  consider it as an urgent matter. thank you in advance --',\n",
       " '',\n",
       " 'hilti account   can someone get back to me urgently with full payment details of the list of s attached, i have highlighted all those overdue some of these s  back to  and are therefore extremely urgent if you have any queries  let me know',\n",
       " 're   mick can you  confirm that   po:  has been goods receipted as it was not on the payment run. copy attached',\n",
       " ' morning,  can you confirm that       bloomberg lul have been goods receipted as they were not on this weeks run.',\n",
       " 'morning,  see attached   as you can see this was d august  and we still have not received payment.  can you advise. any problems  let me know.',\n",
       " 'hilti account   can someone get back to me urgently with full payment details of the list of s attached, i have highlighted all those overdue some of these s  back to  and are therefore extremely urgent if you have any queries  let me know',\n",
       " 'debt outstanding   see attached s that i have been told are not on the system and statement of outstanding money owed. all these s have already been sent prior to this. can someone  get back to me as a matter of urgency with  to when we are receiving payment. anything that is over  days old requires payment immediay to prevent legal action. many thanks',\n",
       " 'overdue account / deadline couriers importance: high  ruby, hope you are well i was trying to get in touch with you but your phone is on voicemail. i am just chasing payment and noticed your account is a bit overdue. is there any chance you can up me on your next payment run ? i am looking forward to hearing back from you.',\n",
       " 'unpaid s morning wendy, i still have unpaid s that are now over a month overdue, any chance this could get sorted out?',\n",
       " 'sub: closure of case -  thank you for your request:  entry specialists - leaver list not up d s    requester, your request  has been resolved and marked as closed. in case you need any additional assistance  create a new request. comments: as you know we have limited so access we cannot the change the requisitiner name in the system.',\n",
       " ' sub: closure of case -  automatic reply: statement ',\n",
       " 'remittance needed_dawson e&e parts  thank you for your payment made on the   for   could we have a remittance for this?',\n",
       " ' message from ',\n",
       " 'hello there are s outstanding  can you give me an up on their status,  find attached statement',\n",
       " 'outstanding s hi there, our catering suppliers: barretts kitchens have some more unpaid s, outstanding for more than  days.  see attached unpaid s, numbers:    and   can these be processed asap otherwise the late payment fees will increase? if you have any issues or queries,  contact me on phone number:    thanks very much, kerry bromley kone keighley reception ',\n",
       " ' s, i have been made aware by my bookkeeping department that the kettenwulf s marked in red are still overdue for payment. remark: our  numbers  and  had already been referenced to you before under your   let us have your prompt reply about payment, or an information about the reason for the non-payment of kettenwulf  nos.  and . your promptest reply is highly appreciated.',\n",
       " 'overdue s    find attached a copy of three s that have gone past the  payment schedule. can you arrange payment and advise when these will be paid. thank you',\n",
       " 'february   hi joe  find attached our latest  and timesheet ? i will put the hard copy in the post and i have also emailed to the new  vendor.',\n",
       " 'february   hi joe  find attached our latest  and timesheet  i will put the hard copy in the post and i have also emailed to the new  vendor.',\n",
       " 'case created manually by abubakar ahmed at    case created manually by abubakar ahmed on  ',\n",
       " 'urgent order information',\n",
       " 'outstanding s - supplier number   see attached outstanding s. can you advise asap when these will be paid?',\n",
       " 'remittance request  kone  could you forward a copy remittance for i dont seem to have received your usual email or remit in the post? this message, and any associated files, are intended only for the use of the message recipient and may contain information that is confidential, subject to copyright or constitute a trade secret. if you are not the message recipient you are hereby notified that any dissemination, copying or distribution of this message, or files associated with this message, is strictly prohibited. if you have received this message in error,  notify the sender immediay by replying to the message and then deleting it from your computer. hss hire service group limited may monitor email traffic data and also the content of email for the purposes of security and staff training. any views or opinions presented are solely those of the sender and do not necessarily represent those of the company. hss hire service group is a limited company  in england and wales.  number:  ',\n",
       " 'dhl account overdue at risk of credit stop - kone public limited company , i hope you are well. following on from my phone call on    , where i was advised to send an email as the office was closed.  can you provide an urgent up in  to payment for overdue as per the below statement of accounts. are you able to clarify a payment  for all overdue s as highlighted in red, total balance  ?  note that according to your payment terms of  days from  of   days for duty & vat , s should be cleared in our account by the last working day of the month.  note that your accounts are at potential risk of credit stop due to overdue funds.  be advised that accounts are due for credit stop close of business  february .',\n",
       " 'dhl account overdue at risk of credit stop - kone public limited company , i hope you are well. following on from my phone call on    , where i was advised to send an email as the office was closed.  can you provide an urgent up in  to payment for overdue as per the below statement of accounts. are you able to clarify a payment  for all overdue s as highlighted in red, total balance  ?  note that according to your payment terms of  days from  of   days for duty & vat , s should be cleared in our account by the last working day of the month.  note that your accounts are at potential risk of credit stop due to overdue funds.  be advised that accounts are due for credit stop close of business  february .',\n",
       " 'statement from p.h. jackson & son building ltd   find attached our latest statement which as you can seen has  overdue s  i have chased these previously but to no avail would be grateful if you could let me know when they will be paid or if not the problem so it can be rectified ',\n",
       " '  day letter hi  find attached our  day letter which has also been sent in the post. should you require any further information  do not hesitate to contact me.',\n",
       " 'queries/statement   find attached statement  can you confirm if there are any queries and the status of all s listed, credit note  was only part taken leaving an outstanding balance.  confirm when our next payment will be and which s/credits will be included',\n",
       " 'statement of account hi susie  find attached a current statement of your account. the last payment we received was in november  i have been emailing the s and statements to niamhs old email address as i was told ruby was still using that email address. can you kindly check with her to see that she has all the s and will put us on her payment list?',\n",
       " 'nov account due - kone null',\n",
       " 'account statement hi amanda can you  send me a statement apologies if this has already been sent, ive had a quick look and cant see anything my side niamh oleary accounts payable & payroll administrator kone ireland limited  calmount park calmount avenue ballymount dublin ',\n",
       " 'hi  find attached our change of bank details.',\n",
       " '  day letter hi  find attached our  day letter which has also been sent in the post. should you require any further information  do not hesitate to contact me.',\n",
       " 'po fully utilized.  /  find attached your s which we are returning to you unprocessed for the following reasons following the instructions given will ensure we are able to process your s promptly and deal with your queries effectively. if you have any queries around the rejection  contact the sourcing department: e-mail egb purchasing front line  mailto: phone  ',\n",
       " 'for the attention of abu our ref  s      find attached copies of the s which fall due for payment in february  the s which are for freight charges are not allocated a purchase order number.  confirm when we ill receive payment for these s?',\n",
       " 'statement from widestripe eng. suppliers ref. no.   see attached statement from widestripe eng. suppliers ref. no.  thank you statement for outstanding last year plus statement jan. ',\n",
       " 'overdue s , as discussed on the phone,  find the attached s with the statement. you mentioned that you have s  &  on your system already.  can you keep me upd on when these will be processed for payment. thanks in advance.',\n",
       " 'your statement is attached in pdf format. to load the report, you will need the free adobe acrobat reader, available to download at http://',\n",
       " 'attached ',\n",
       " 'happy new year here we go again hello dave , all best wishes to you and yours and all the team for the new year, still kind of miss you guys  will approve decembers s attached. caution : should have been a quiet month but see: there is one mp project st mary axe . had to spread over two weeks s . previously agreed short notice deliver before christmas with t dakin; total cost to project  ciao phil ps if you have time how is family news. mine all grown up but still one living with me they just cant afford own homes. told my mp to give voice to  nd referendum . reply your enquiry is important to us etc.. what news from the standards front?',\n",
       " 'mm doc  hi, the above document has been processed as an  where its clearly a credit, can you  cancel the document and re-process as a credit.',\n",
       " '  hi, could  have a look a this   ref number  d  the wrong amount was paid, it should have been  with is the gross amount once vat is added and cis deducted only  were paid. ',\n",
       " '  hi, could  have a look a this   ref number  d  the wrong amount was paid, it should have been  with is the gross amount once vat is added and cis deducted only  were paid. ',\n",
       " 'february   hi joe  find attached our latest  and timesheet  i will put the hard copy in the post and i have also emailed to the new  vendor.',\n",
       " ' roy joseph boots hi, the po for these is   for collection from arco in watford.',\n",
       " '  hi, could you  have a look at   with po number  which hasnt been paid, thanks.',\n",
       " 'queries/statement   find attached statement  can you confirm if there are any queries and the status of all s listed, credit note  was only part taken leaving an outstanding balance.  confirm when our next payment will be and which s/credits will be included',\n",
       " '  hi, could you  have a look for me to   reference number  d  the amount paid was  it should have been paid  with vat added and cis deducted fro the gross amount, ',\n",
       " '  hi, could you  have a look for me to   reference number  d  the amount paid was  it should have been paid  with vat added and cis deducted fro the gross amount, ',\n",
       " ' cibes lift uk ltd inv:-  hello ap,  could you advise why this  was rejected as the vendor is chasing. they state they have supplied the lift and installed it and require payment.',\n",
       " 'copy  po upd',\n",
       " 'queries/statement   find attached statement  can you confirm if there are any queries and the status of all s listed, credit note  was only part taken leaving an outstanding balance.  confirm when our next payment will be and which s/credits will be included',\n",
       " 'complete elevators ltd vendor number   nawaz mohammed could you  let me know why this has been put on as credit note. as i have checked the system and it is an . could you  come back with your comments as the sub-contractor is not very happy. @d@ okb         complete elevators ltd    gbp re vf document paid complete elevators ltd     complete elevators ltd    thank you',\n",
       " 'queries/statement   find attached statement  can you confirm if there are any queries and the status of all s listed, credit note  was only part taken leaving an outstanding balance.  confirm when our next payment will be and which s/credits will be included',\n",
       " 'mm doc  hi, the above document has been processed as an  where its clearly a credit, can you  cancel the document and re-process as a credit.',\n",
       " 'queries/statement   find attached statement  can you confirm if there are any queries and the status of all s listed, credit note  was only part taken leaving an outstanding balance.  confirm when our next payment will be and which s/credits will be included',\n",
       " ' undeliverable:  nidec industrial automation ',\n",
       " ' undeliverable:  thank you for your request:  overdue account / deadline couriers ',\n",
       " ' undeliverable: sub: thank you for your request:  arval  posted incorrectly  *second request** ',\n",
       " 'case created manually by abubakar ahmed at    case created manually by abubakar ahmed on  ',\n",
       " ' rectification importance: high hi, theres an issue where an  has been processed incorrectly due to different interpretation of supplier  reference number, mm docs  &  one has f prefixed before the number the other doesnt to rectify, can you  process a credit to cancel mm doc . ive also attached an  that has been wrongly rejected,  have processed over both line items on p/o  quantity  value  each line @ steve, can you complete the goods receipt',\n",
       " 'overdue s    find attached a copy of three s that have gone past the  payment schedule. can you arrange payment and advise when these will be paid. thank you',\n",
       " 'nov account due - kone null',\n",
       " 'hello , i had a recent email from maxine leach regarding cost centres for bookings at mercure bradford . neil briscoe , peter hook and myself allcome under  cost centre.',\n",
       " 'i am currently out of the office. should your enquiry be of an urgent nature  contact jayne by email at:  my emails are not being monitored.',\n",
       " ' monthly statement from manchester airport group null disclaimer',\n",
       " \"  kone po   acknowledge receipt attached the kone plc analysis ????   ?.?., ? georgia tsakrakidou ??????:  mr taylor iam giouli from the credit control department of kleemann . i have been asked from my colleague rachel relevant to a dispatch of a spare part to you, but i have been trying to contact with s/n from kone plc, relevant to your open s and haven't suceeded.  forward my email to s/n from the finance department , so as to have a look at it asap. rachel,  proceed to the dispatch. however, mr taylor keep in mind that for any future dispatches, problems will may arise, if these open s are not settled asap. \",\n",
       " 'hi, the above p/o has been created with incorrect cost object, can you  cancel mm doc  so i can amend cost object to  then the  can be re-processed',\n",
       " 'chase  hello contact,  could you reconcile the account as the vendor is chasing there  for payment.',\n",
       " 'statement from widestripe eng. suppliers ref. no.   see attached statement from widestripe eng. suppliers ref. no.  thank you statement for outstanding last year plus statement jan. ',\n",
       " 'extreme lifts statement - urgent morning all,  see attached a statement of outstanding s up to the end of january  recently we have only had some small payments, and as the majority of our work is for kone, we need to address this asap.  could you let me know if there are any problems with our s. could you  arrange payment of some of the older ones to bring us up to .',\n",
       " '  neco fire gard ltd - inv  hello ap, the vendor is chasing the below  for payment and it has been rejected  could you advise me why ?',\n",
       " \"money owed importance: high morning kasim hoping you can help . avtar had confirmed our payment for today on friday as  . we have logged on today to find that the new contact centre have deducted money yet again from us and we have only been paid  . this is now becoming a weekly issue . i am unsure what the problem is with paying the amount the  states . however these little mistakes that are being made are now starting to affect us as a business. we are being deducted cis from s where it isn't due and again we are owed money and still yet no response after a number of emails. i have attached the  that was due for payment today . i need to have the full  amount paid into our account today otherwise we will have to look at stopping work until things are resolved . after speaking to avatar they have credited our account with no reason as we owe you no money . i would like a response by midday today . i am highly concerned with avtar leaving how this will end as it only seems to be avatar that gets things resolved for us . s due for payment this week are below and i would like to think no issues would come of these . dean kone   d     overdue - chase po  dean kone   d     overdue - chase po  dean kone   d     overdue - chase po  dean kone   d     overdue - chase po  dean kone   d     overdue - chase  po  also from our accountant   to kone plc was underpaid by   and   was under paid by  \",\n",
       " 'current statement hi kelly,  could you forward copies of s:    also we made payment on  of   advise what s you allocated this amount against. and the same for payment d  for   note that we cannot process payment unless you clarify how you have allocated these payments as your statement is not reconciling to your account with us.',\n",
       " ', our account department informed us about unpaid s there are old s that we have claimed on numerous occasions so we need an urgent response. if the s below have already been paid, we would appreciate if you could send us the payment confirmations as soon as possible',\n",
       " '  day letter hi  find attached our  day letter which has also been sent in the post. should you require any further information  do not hesitate to contact me.',\n",
       " 'overdue s ,  find an up to  report attached for all s which are currently overdue. i would appreciate if you can advise the status of each  at your earliest convenience. if there are any issues that i can help resolve i would like to know who i am best speaking to so i can get the overdue s paid and the account brought up to . as you will see from the report, one  s back to august last year so it is a priority that this is cleared as soon as possible.  shortly.',\n",
       " 'arval s hi all, all of the s below need to be moved to michael kernicks portal asap. going forward could you  ensure that all arval s are processed to his portal as soon as they are received ',\n",
       " 'overdue  for vendor   advise on the payment of   for  and   for  these should be paid in full with no deduction of cis as these are equipment only  respond with a payment  jane cook stentofon - zeni uk zeni uk ltd mack house  gatwick road  crawley  west sussex     uk switchboard:     ',\n",
       " ' find the attached file if applicable sada barak administration clerk e:  hss hire, oakland house,  talbot road, old trafford, manchester   do you really need to print this email? this message, and any associated files, are intended only for the use of the message recipient and may contain information that is confidential, subject to copyright or constitute a trade secret. if you are not the message recipient you are hereby notified that any dissemination, copying or distribution of this message, or files associated with this message, is strictly prohibited. if you have received this message in error,  notify the sender immediay by replying to the message and then deleting it from your computer. hss hire service group limited may monitor email traffic data and also the content of email for the purposes of security and staff training. any views or opinions presented are solely those of the sender and do not necessarily represent those of the company. hss hire service group is a limited company  in england and wales.  number:  ',\n",
       " \"money owed importance: high morning kasim hoping you can help . avtar had confirmed our payment for today on friday as  . we have logged on today to find that the new contact centre have deducted money yet again from us and we have only been paid  . this is now becoming a weekly issue . i am unsure what the problem is with paying the amount the  states . however these little mistakes that are being made are now starting to affect us as a business. we are being deducted cis from s where it isn't due and again we are owed money and still yet no response after a number of emails. i have attached the  that was due for payment today . i need to have the full  amount paid into our account today otherwise we will have to look at stopping work until things are resolved . after speaking to avatar they have credited our account with no reason as we owe you no money . i would like a response by midday today . i am highly concerned with avtar leaving how this will end as it only seems to be avatar that gets things resolved for us . s due for payment this week are below and i would like to think no issues would come of these . dean kone   d     overdue - chase po  dean kone   d     overdue - chase po  dean kone   d     overdue - chase po  dean kone   d     overdue - chase po  dean kone   d     overdue - chase  po  also from our accountant   to kone plc was underpaid by   and   was under paid by  \",\n",
       " ' unpaid s - urgent reminder. asunto:  unpaid s - urgent de: global-spares enviado el: martes   para:  cc:  , our account department informed us about unpaid s if the s below have already been paid, we would appreciate if you could send us the payment confirmations as soon as possible',\n",
       " ' undeliverable:  nidec industrial automation ',\n",
       " ' undeliverable:  nidec industrial automation ',\n",
       " 'statement hi  see attached an up to  statement of account. there is one old december  outstanding can you let me know when that will be paid?',\n",
       " 's hi margaret,  see attached s for our starters today. anthony & lawrence are both installation engineers and charged at the agreed  monifa  also charged at  after agreement with mathew & tariq due to josh szwejkowski representation not being paid. can you  confirm receipt of this email. still awaiting payment for the introduction of simon warren? has this been paid?',\n",
       " 'vendor enquiry evening  advise whether any of the below are on this weeks pay run .',\n",
       " 'due s hi  can you advise if the following s will be paid on this fridays run inv  : po  inv  : po  my vendor number is ',\n",
       " 'account number:  hi team, i am writing in relation to account number  which you hold with us. i would appreciate if you could confirm the receipt of the s mentioned in the statement below.',\n",
       " ' s, i did receive your below e-mail in the above case.  advise what response is pending from our side, what do you need kettenwulf to advise to you for case no.  look forward to hearing from you. ',\n",
       " 'kone plc analysis at kleemann uk   i have been advised to send you an account analysis to this email address . i would like kindly to ask you to advise me relevant to the settlement of your open s asap , otherwise there will problems with your future dispatches. i am attaching copies of all the s and bank details , as well  consider it as an urgent matter. thank you in advance --',\n",
       " 'kone outstanding  steve following our conversation last week,  find a list of outstanding s we are currently chasing with your accounts payable team. i would appreciate any help you can give to get these authorised and paid for me. any queries  let me know.',\n",
       " ' jlr gaydon hello,  can you pay these s. any queries,  do let me know.',\n",
       " 'reminder  find in attachment your reminder met vriendelijke groeten, ',\n",
       " 'current statement hi kelly,  could you forward copies of s:    also we made payment on  of   advise what s you allocated this amount against. and the same for payment d  for   note that we cannot process payment unless you clarify how you have allocated these payments as your statement is not reconciling to your account with us.',\n",
       " 'current statement hi kelly,  could you forward copies of s:    also we made payment on  of   advise what s you allocated this amount against. and the same for payment d  for   note that we cannot process payment unless you clarify how you have allocated these payments as your statement is not reconciling to your account with us.',\n",
       " 'roberts garages payment within  days importance: high hi all  can the account be paid for roberts garages to prevent it being stopped. payment is requested within  days.',\n",
       " 'cis statement   to   auto forwarded by a rule  / as a valued subcontractor we would like to inform you that kone is currently going through a transformation in a number of areas within the business. the primary goal of this transformation is to streamline processes and introduce new tools; in order to deliver improved levels of service to our customers, suppliers and subcontractors. as a consequence, we would like to inform you of a number of changes. kone will be introducing a new helpdesk to manage supplier queries received either by email or by phone. i am writing to advise you of the new contact details that you must use: new email for queries:  email for s :  new phone number :    when you send an email query to  this generate an automatic acknowledgement email response with a reference number.  the title of the automatic email will contain your new query reference number and the title of the original email sent to kone.   ensure that you quote the query reference number in the title of any subsequent email communications with kone; and for ease you can reply to the auto-generated email  once the case is closed, a closure notification email will be automatically triggered and issued.  if the case is open for more than  days with a pending request, a reminder e-mail will be triggered. we are aware that a number of our subcontractors have experienced a disruption to service, and we would like to thank you for your continued support. we hope that these changes will help us as a company, to take the next steps in improving our interaction and service delivery with all of our subcontractors in the future.',\n",
       " ' undeliverable:  roy joseph boots - arco ',\n",
       " 'overdue s ,  find an up to  report attached for all s which are currently overdue. i would appreciate if you can advise the status of each  at your earliest convenience. if there are any issues that i can help resolve i would like to know who i am best speaking to so i can get the overdue s paid and the account brought up to . as you will see from the report, one  s back to august last year so it is a priority that this is cleared as soon as possible.  shortly.',\n",
       " 'statement from p.h. jackson & son building ltd   find attached our latest statement which as you can seen has  overdue s  i have chased these previously but to no avail would be grateful if you could let me know when they will be paid or if not the problem so it can be rectified ',\n",
       " 'outstanding s hi  can you let me know when the following outstanding s will be paid :        ',\n",
       " 'case created manually by abubakar ahmed at    case created manually by abubakar ahmed on  ',\n",
       " 'unpaid s - urgent  , in what situation are these s? thanks',\n",
       " 'doc  hi, the below  has been posted incorrectly, this is a credit as per the attached .  reverse out and re post as a credit.',\n",
       " 'case created manually by abubakar ahmed at    case created manually by abubakar ahmed on  ',\n",
       " 'air products plc final past due notice kone plc worth bridge road worthdale house',\n",
       " ' customer, thank you for your e-mail.  ensu ap account number is stated on your request to enable a prompt response remittance advices must be sent to  if your request relates to copy documents ,  always refer to myairproducts however, if you wish to receive your future s electronically click here to setup e-billing myairproducts allows you to: download copy nvoices download delivery notes pay s online by ayment ard place orders check your cylinder holdings and many other features click here to setup/access myairproducts myairproducts has everything you need to manage your gas online, accessible on pc, tablet and smartphone. for any other queries, we endeavour to answer your request as soon as possible.',\n",
       " ' kone - office s hello marc,   was paid on the  total of payment ',\n",
       " 's hi margaret,  see attached s for our starters today. anthony & lawrence are both installation engineers and charged at the agreed  monifa  also charged at  after agreement with mathew & tariq due to josh szwejkowski representation not being paid. can you  confirm receipt of this email. still awaiting payment for the introduction of simon warren? has this been paid?',\n",
       " 'hi  could you let me know when the below will be paid ? it was due  th january. email:  s.a.a secure automatic access ltd',\n",
       " ' cibes lift uk ltd inv:-  hello ap,  could you advise why this  was rejected as the vendor is chasing. they state they have supplied the lift and installed it and require payment.',\n",
       " 'statement from hydratec lift services ltd , nice to speak to you a moment ago. as discussed i am looking for payment s for the overdue and coming due s on the attached statement ,  of which are extremely overdue.',\n",
       " 'case created manually by abubakar ahmed at    case created manually by abubakar ahmed on  ',\n",
       " 'february   hi joe  find attached our latest  and timesheet  i will put the hard copy in the post and i have also emailed to the new  vendor.',\n",
       " 'idoc  failures',\n",
       " ' undeliverable:  roy joseph boots - arco ',\n",
       " 'sub: closure of case -  thank you for your request:  entry specialists - leaver list not up d s    requester, your request  has been resolved and marked as closed. in case you need any additional assistance  create a new request. comments: as you know we have limited so access we cannot the change the requisitiner name in the system.',\n",
       " 'order number  for property grantavon house, lincoln sent  feb  ',\n",
       " ' cibes lift uk ltd inv:-  hello ap,  could you advise why this  was rejected as the vendor is chasing. they state they have supplied the lift and installed it and require payment.',\n",
       " 'thank you for your email, and taking the time to contact us, this is an automated acknowledgement to confirm that your email has been received. although we aim to respond to queries as soon as possible,  allow up to  working days for complete investigation and response to your query.  note: our office hours are  to  monday to friday excluding bank holidays. do not respond to this auto-response as your email will not be read. ',\n",
       " ' rectification importance: high hi, theres an issue where an  has been processed incorrectly due to different interpretation of supplier  reference number, mm docs  &  one has f prefixed before the number the other doesnt to rectify, can you  process a credit to cancel mm doc . ive also attached an  that has been wrongly rejected,  have processed over both line items on p/o  quantity  value  each line @ steve, can you complete the goods receipt',\n",
       " 'remittance request  kone  could you forward a copy remittance for i dont seem to have received your usual email or remit in the post? this message, and any associated files, are intended only for the use of the message recipient and may contain information that is confidential, subject to copyright or constitute a trade secret. if you are not the message recipient you are hereby notified that any dissemination, copying or distribution of this message, or files associated with this message, is strictly prohibited. if you have received this message in error,  notify the sender immediay by replying to the message and then deleting it from your computer. hss hire service group limited may monitor email traffic data and also the content of email for the purposes of security and staff training. any views or opinions presented are solely those of the sender and do not necessarily represent those of the company. hss hire service group is a limited company  in england and wales.  number:  ',\n",
       " 'vendor enquiry evening  advise whether any of the below are on this weeks pay run .',\n",
       " '',\n",
       " 'important notification of change in contact details for kone plc  /, as a valued supplier we would like to inform you that kone is currently going through a transformation in a number of areas within the business. the primary goal of this transformation is to streamline processes and introduce new tools; in order to deliver improved levels of service to our customers and suppliers. as a consequence, we would like to inform you of a number of changes. kone will be introducing a new helpdesk to manage supplier queries received either by email or by phone. i am writing to advise you of the new contact details that you must use: new email for queries:  email for s :  new phone number :   commencing monday  february  all queries will be handle via the new helpdesk team and some activities will now be completed by a third party working with, and on behalf of kone plc. the helpdesk has been set up to support you with all your questions related to s, reconciliations, payments due s, statements of accounts and reminders. we will be transitioning suppliers to the new helpdesk team over a period of four weeks, and the  within this communication is the effective  that will be applicable for yourselves. in order to ensure a smooth process, we would like to highlight some key changes that you will notice from day  when you send an email query to  this will generate an automatic acknowledgement email response with a reference number. the title of the automatic email will contain your new query reference number and the title of the original email sent to kone.  ensure that you quote the query reference number in the title of any subsequent email communications with kone; and for ease you can reply to the auto-generated email once the case is closed, a closure notification email will be automatically triggered and issued. if the case is open for more than  days with a pending request, a reminder e-mail will be triggered. the previous email address  will be closed. the new contact details will replace all the previous contact information used in the past to reach our kone teams. we are aware that a number of our vendors experienced a disruption to service at the end of last year; and we would like to thank you for your continued support. we hope that these changes will help us as a company, to take the next steps in improving our interaction and service delivery with all of our suppliers in the future.',\n",
       " \"rolands - outstanding . to: <   kerry hope you and the team are well at kone ? it has been a long time and quite difficult for us hence this email now. i have been going through our accounts and papers from last year and have realised that we haven't been paid for the  no  for the amount of  i have attached a copy of our correspondence at the time with the  photo for your information. there is one more thing. we have never d for the  days we were closed on the  and  july  roland's father funeral when the sandwich order was done by cathryn and subsequently later on she was paid by jonathan barry. can we still  for this? and what was the order if yes? i am aware that this is going to be difficult for you and going quite far back in time but i would be extremely grateful for your assistance in this matter. as you have realised it is quite a lot of monies and we do need it. rolands account is closed now so it would have to be paid into personal account. my sincere apologies for leaving it for so long but i do hope that you can help us.\",\n",
       " 'arval  reversal hi all,  can you l me why the  below has been reversed  a dd has been collected for it so it needs to be reprocessed. it was originally free for payment. thanks, hayley waterman kone plc expense/accounts assistant direct',\n",
       " 'hi, i received an email regarding details of s due payment, but there was no mention of   could you investigate  as these are well overdue and causing me problems!',\n",
       " 'supplier s / chasers',\n",
       " 'overdue account / deadline couriers importance: high  ruby, hope you are well i was trying to get in touch with you but your phone is on voicemail. i am just chasing payment and noticed your account is a bit overdue. is there any chance you can up me on your next payment run ? i am looking forward to hearing back from you.',\n",
       " 'payment request mckechnie',\n",
       " \"david guest  travelodge st mary's the  attached as been deducted from our accounts payment on  this is not a duplicate on the remittance ? it should never of been on it in the first place  resolve this payment ? as this is unacceptable procedure and is causing my company problems with paying staff and suppliers!! the whole  needs payment and only  c i s taken vender number  angela mylett mersey lift fabrication ltd  caddick road knowsley business park prescot liverpool  \",\n",
       " ' could you advise what information you are waiting for, see attached email you have sent me.',\n",
       " 'outstanding s debtor  kone plc  customer,  find attached a statement of the outstanding s. * not yet due !  dispute we kindly request you to transfer the overdue amount to bank account number  stating your customer number and  numbers. if you have any questions  do not hesitate to contact us.',\n",
       " ' customer,  find attached a statement of the outstanding s. * not yet due !  dispute we kindly request you to transfer the overdue amount to bank account number  stating your customer number and  numbers. if you have any questions  do not hesitate to contact us.',\n",
       " 'order number  for property saxton mcl sent  feb  ',\n",
       " 'thank you for your email, and taking the time to contact us, this is an automated acknowledgement to confirm that your email has been received. although we aim to respond to queries as soon as possible,  allow up to  working days for complete investigation and response to your query.  note: our office hours are  to  monday to friday excluding bank holidays. do not respond to this auto-response as your email will not be read. ',\n",
       " 'payment received , we have received a payment of  from you. could you  l us the numbers of the s to which it corresponds to be able to identify it. thanks',\n",
       " ' undeliverable:  roy joseph boots - arco ',\n",
       " '',\n",
       " 'mark vallier supplier no   could you confirm payment of the s below today  order no   order no   order no  could you  email me back or phone to confirm ',\n",
       " '  supplier no  as previous emails and phone calls , i am chasing payment of this   advise asap',\n",
       " '  suppiler no   as previous emails and phone calls , i am chasing payment of this  can you  advise asap',\n",
       " '  suplier no   as previous emails and phone calls i am chasing payment of this   advise asap',\n",
       " 'sub:  statement from specialised coatings ltd  is pending for your response  requestor, the request  is waiting for your response for further processing. request you to provide the required information for expediting the resolution.',\n",
       " 'e r s  limerick - statement for kone ltd this statement reflects the balance at  january ',\n",
       " 'statement hi edel i hope you are well. i believe our account is on hold with yourselves i am just back in the office from maternity leave since monday so unfortunay it is going to take time to get everything back to the way it was prior. can you  send me through a statement and advise which need to be paid as urgent and i will look at this asap niamh o?leary accounts payable & payroll administrator kone ireland limited  calmount park calmount avenue ballymount dublin ',\n",
       " 'overdue a/c from jark peterborough ltd  s, important letter attached.  read and action without delay.',\n",
       " ' account -  , i have attached our statement of account showing a credit balance of  which refers to our credit note  copy attached.  advise how you would like this amount refunded.',\n",
       " ', i have attached a copy of our statement of account showing a credit balance of  this amount refers to our credit note  copy attached.  advise how you would like to have the credit refunded.',\n",
       " 'case created manually by abubakar ahmed at    case created manually by abubakar ahmed on  ',\n",
       " 'sub:  statement from specialised coatings ltd  is pending for your response  requestor, the request  is waiting for your response for further processing. request you to provide the required information for expediting the resolution.',\n",
       " 'urgent - payment request.  importance: high  sheila, ref:    th december  -  this account is now on court papers pending status and there is now  overdue, in respect of the attached /statement. our credit terms stipulate full payment within  days from  of , this  is now  days overdue.  advise on a payment ? we await your immediate payment of the outstanding debt. if this email concerns a perms placement or a new client set up  ensure that you use  email address.',\n",
       " 'sub: urgent - payment request.   is pending for your response  requestor, the request  is waiting for your response for further processing. request you to provide the required information for expediting the resolution.',\n",
       " 'thank you for your email. i am currently out of the office. your email has not been forwarded. i will be returning monday the  of febuary. for anything urgent,  see the details below. for support  contact: customer services, bookings, tracking, and quotes -    accounts,  enquiries -    www.dhl.co.uk/enquiries online tool support ?    you can also find additional dhl information on www.dhlguide.co.uk for urgent sales related enquiries  re-send your email to  alternatively, i will respond on my return.',\n",
       " 'thank you for your e-mail. i am currently on annual, returning to work on monday  th february. your e-mail has not been forwarded and i will respond to you as soon as possible on my return. for escalations or urgent matters,  contact the following personnel: dhl frontline ?    for my bill,  or payment enquiries  visit: www.dhl.co.uk/enquiries',\n",
       " '  suppiler no ',\n",
       " '  supplier no ',\n",
       " '  suplier no  copy.pdf',\n",
       " 'overdue s , as discussed on the phone,  find the attached s with the statement. you mentioned that you have s  &  on your system already.  can you keep me upd on when these will be processed for payment. thanks in advance.',\n",
       " 'cis statement   to    / as a valued subcontractor we would like to inform you that kone is currently going through a transformation in a number of areas within the business. the primary goal of this transformation is to streamline processes and introduce new tools; in order to deliver improved levels of service to our customers, suppliers and subcontractors. as a consequence, we would like to inform you of a number of changes. kone will be introducing a new helpdesk to manage supplier queries received either by email or by phone. i am writing to advise you of the new contact details that you must use: new email for queries:  email for s :  new phone number :    when you send an email query to  this generate an automatic acknowledgement email response with a reference number.  the title of the automatic email will contain your new query reference number and the title of the original email sent to kone.   ensure that you quote the query reference number in the title of any subsequent email communications with kone; and for ease you can reply to the auto-generated email  once the case is closed, a closure notification email will be automatically triggered and issued.  if the case is open for more than  days with a pending request, a reminder e-mail will be triggered. we are aware that a number of our subcontractors have experienced a disruption to service, and we would like to thank you for your continued support. we hope that these changes will help us as a company, to take the next steps in improving our interaction and service delivery with all of our subcontractors in the future.',\n",
       " 'current statement hi kelly,  could you forward copies of s:    also we made payment on  of   advise what s you allocated this amount against. and the same for payment d  for   note that we cannot process payment unless you clarify how you have allocated these payments as your statement is not reconciling to your account with us.',\n",
       " 'case created manually by abubakar ahmed at    case created manually by abubakar ahmed on  ',\n",
       " '  hi, could you  have a look a  with po number  for  the hasnt been paid yet, thanks.',\n",
       " '  hi, could you  have a look a   d  with po  on my remittance advise slip shows the amount of  it hanst been paid and also the right amount for this  is of  vat is added and cis deducted from the gross amount. ',\n",
       " 'case created manually by abubakar ahmed at    case created manually by abubakar ahmed on  ',\n",
       " ' jlr gaydon hello,  can you pay these s. any queries,  do let me know.',\n",
       " 'case created manually by abubakar ahmed at    case created manually by abubakar ahmed on  ',\n",
       " 'big yellow  incorrect -  hi all, the  below has been posted for the incorrect amount. is it actually for  and not  could you  reverse it out as  and put back on as  so we can deduct our  over payment on the next payment run -',\n",
       " 'big yellow  incorrect -  hi all, the  below has been posted for the incorrect amount. is it actually for  and not  could you  reverse it out as  and put back on as  so we can deduct our  over payment on the next payment run -',\n",
       " 're   mick can you  confirm that   po:  has been goods receipted as it was not on the payment run. copy attached',\n",
       " ' morning,  can you confirm that       bloomberg lul have been goods receipted as they were not on this weeks run.',\n",
       " 'case created manually by abubakar ahmed at    need to get the  scan and posted with po # ',\n",
       " 'mark vallier supplier no   could you confirm payment of the s below today  order no   order no   order no  could you  email me back or phone to confirm ',\n",
       " 'vodfone statement  hi ali thank you',\n",
       " \"  kone po   acknowledge receipt attached the kone plc analysis ????   ?.?., ? georgia tsakrakidou ??????:  mr taylor iam giouli from the credit control department of kleemann . i have been asked from my colleague rachel relevant to a dispatch of a spare part to you, but i have been trying to contact with s/n from kone plc, relevant to your open s and haven't suceeded.  forward my email to s/n from the finance department , so as to have a look at it asap. rachel,  proceed to the dispatch. however, mr taylor keep in mind that for any future dispatches, problems will may arise, if these open s are not settled asap. \",\n",
       " 'sub:  statement from specialised coatings ltd  is pending for your response  requestor, the request  is waiting for your response for further processing. request you to provide the required information for expediting the resolution.',\n",
       " 'neopost  posted incorrectly hi all, the below  has been posted incorrectly.  delete  thanks, hayley waterman kone plc expense/accounts assistant direct',\n",
       " 'happy new year here we go again hello dave , all best wishes to you and yours and all the team for the new year, still kind of miss you guys  will approve decembers s attached. caution : should have been a quiet month but see: there is one mp project st mary axe . had to spread over two weeks s . previously agreed short notice deliver before christmas with t dakin; total cost to project  ciao phil ps if you have time how is family news. mine all grown up but still one living with me they just cant afford own homes. told my mp to give voice to  referendum . reply your enquiry is important to us etc.. what news from the standards front?',\n",
       " 'complete elevators ltd vendor number   nawaz mohammed could you  let me know why this has been put on as credit note. as i have checked the system and it is an . could you  come back with your comments as the sub-contractor is not very happy. @d@ okb         complete elevators ltd    gbp re vf document paid complete elevators ltd     complete elevators ltd    thank you',\n",
       " 'complete elevators ltd vendor number   nawaz mohammed could you  let me know why this has been put on as credit note. as i have checked the system and it is an . could you  come back with your comments as the sub-contractor is not very happy. @d@ okb         complete elevators ltd    gbp re vf document paid complete elevators ltd     complete elevators ltd    thank you',\n",
       " 'mark vallier supplier no   could you confirm payment of the s below today  order no   order no   order no  could you  email me back or phone to confirm ',\n",
       " 'payment request mckechnie',\n",
       " 'statement of account hi susie  find attached a current statement of your account. the last payment we received was in november  i have been emailing the s and statements to niamhs old email address as i was told ruby was still using that email address. can you kindly check with her to see that she has all the s and will put us on her payment list?',\n",
       " 'rv: unpaid s - urgent  , our account department informed us about unpaid s there are old s that we have claimed on numerous occasions so we need an urgent response. if the s below have already been paid, we would appreciate if you could send us the payment confirmations as soon as possible',\n",
       " 'hello ap, who portal are these two s  could yo advise.',\n",
       " 'hello back-office team / all, can you look at the attached and action where necessary to reconcile this account and bring us back into terms with this supplier,  orange  back-office actions required pink - operations to gr green - sourcing action taken to resolve. stephen , can you support in gr in gregs absence  ? derek shaw sourcing specialist dm kone plc worthdale house wortbridge road keighley.   mobile    email  www.kone.co.uk ',\n",
       " ' kone public limited company  - payment up required f.a.o accounts payable  sheila, i have been advised to contact yourself with  to an up for an  that has recently fallen overdue on the account.  can you kindly review the attached and advise when the payment will be remitted? chris brady credit controller ledger  ? sed-sto & kings - kzz  coombe lane, raynes park, london,  ',\n",
       " 'rv: unpaid s - urgent  , our account department informed us about unpaid s there are old s that we have claimed on numerous occasions so we need an urgent response. if the s below have already been paid, we would appreciate if you could send us the payment confirmations as soon as possible',\n",
       " 'hi guys i did ask you to send to accounts',\n",
       " 'for payment of this  hi guys i did ask you to send to accounts',\n",
       " 'marlborough park, swindon , we raised a job with yourself on the  th of february in relation to order number  i am just wondering if you are able to provide me with an up on the job?.',\n",
       " 'thank you for your email. this is an automated acknowledgement to confirm that your email has been received by our customer service centre and we endeavour to respond to all email queries within  hours. if your query is of an urgent nature or you require urgent information you can contact our customer service centre via online chat  just visit the help section on www.rmgliving.co.uk rmg living is our online customer portal on here you can view your account, make payments, report repairs, up contact details and view important information about your property. if you have never used our online portal you can sign up by clicking this link www.rmgliving.co.uk on the go? you can also download our new rmg living app via your app store search ?rmg living.?  note you can log into the app once you have  via the main website at www.rmgliving.co.uk did you know you can also receive all correspondence from us via email? if you would prefer to receive s and letters from us via email instead of in the post you can sign up to our paperless service in the profile section of your rmg living app or alternatively click here our office hours are   do not respond to this auto-response as your email will not be read, ',\n",
       " ' auto reply - order number  for property grantavon house, lincoln sent  feb  ',\n",
       " ' auto reply - sub: closure of case - order number  for property grantavon house, lincoln sent  feb  ',\n",
       " 'left company hello all, andrew payne has left the company  can you put all his  in to leslie derek <  portal a.s.a.p. this process should be gfollowed once you have received the leavers report this was sent in jan ',\n",
       " ' january statement  laura  find january  statement',\n",
       " \"account number: pkoneaa account name: kone lifts outstanding balance  :   kone lifts, here?s your latest statement and we'd be super grateful if you could ensure that any outstanding s are paid by the due . in the event you've already paid these s in between us sending you this statement and you receiving this then  accept our thanks. payment should be made via bacs to proactive technical recruitment ltd. sort code:  account number:  if there are any queries we'd like to resolve them as quickly as we can, drop us a note and we'll get right on it.\",\n",
       " 'beste collega, dinsdag  februari ben ik terug. in dringende gevallen kunt u proberen contact te zoeken met gerrie leverink of gerard ten dam. u mailt natuurlijk al naar  voor uw credit management vragen. met vriendelijke groet, yours, freundliche gren, stefan janssen',\n",
       " 're remittance  accounts is it possible for you to send a remittance through d  for  it looks like we could have a mis-post.',\n",
       " ' auto reply - sub: closure of case - order number  for property saxton mcl sent  feb  ',\n",
       " 'vendor chasing payment hello ap, vendor chasing s for payment plese could you action accordingly.',\n",
       " 'reminder  find in attachment your reminder met vriendelijke groeten, ',\n",
       " 'roberts garages payment within  days importance: high hi all  can the account be paid for roberts garages to prevent it being stopped. payment is requested within  days.',\n",
       " 'a.e.s. electrical ltd -vendor number  hi nawaz mohammed, i am sending you a copy of the cis letter from kone-we are a vat  company we are gross payment s cis is not deductible from our s -we have a vat payment to make and our calculations show we are due  as per statement previously sent to you,can you  sort this out and confirm when we will receive the under payments as we have to pay the vat at the end of this month thank you for your help.',\n",
       " ' customer  see below a list of open s on your account with their relevant due s shown. total:    kindly review this list and confirm that payments will be processed in accordance with the contractually agreed settlement terms. we would therefore appreciate payment being sent by return for all the outstanding items.  also ensure that a remittance advice is emailed to the following:  we look forward to hearing from you.',\n",
       " 'rv: unpaid s - urgent  , our account department informed us about unpaid s there are old s that we have claimed on numerous occasions so we need an urgent response. if the s below have already been paid, we would appreciate if you could send us the payment confirmations as soon as possible',\n",
       " '',\n",
       " 'for payment of this  hi guys i did ask you to send to accounts',\n",
       " 'thank you for your email, and taking the time to contact us, this is an automated acknowledgement to confirm that your email has been received. although we aim to respond to queries as soon as possible,  allow up to  working days for complete investigation and response to your query.  note: our office hours are  to  monday to friday excluding bank holidays. do not respond to this auto-response as your email will not be read. ',\n",
       " 'kone plc analysis at kleemann uk   i have been advised to send you an account analysis to this email address . i would like kindly to ask you to advise me relevant to the settlement of your open s asap , otherwise there will problems with your future dispatches. i am attaching copies of all the s and bank details , as well  consider it as an urgent matter. thank you in advance --',\n",
       " ' hi can you  explain why this has not been paid??  sally ellis construction manager london and south east kone plc wren court  london road bromley br de',\n",
       " \"rolands - outstanding . to: <   kerry hope you and the team are well at kone ? it has been a long time and quite difficult for us hence this email now. i have been going through our accounts and papers from last year and have realised that we haven't been paid for the  no  for the amount of  i have attached a copy of our correspondence at the time with the  photo for your information. there is one more thing. we have never d for the  days we were closed on the  and  july  roland's father funeral when the sandwich order was done by cathryn and subsequently later on she was paid by jonathan barry. can we still  for this? and what was the order if yes? i am aware that this is going to be difficult for you and going quite far back in time but i would be extremely grateful for your assistance in this matter. as you have realised it is quite a lot of monies and we do need it. rolands account is closed now so it would have to be paid into personal account. my sincere apologies for leaving it for so long but i do hope that you can help us.\",\n",
       " '  number ',\n",
       " 'incorrect vendor hi, the below po has been incorrectly raised to the wrong vendor. it should be acoms on   can you change asap and advise. i do not believe the incorrect vendor has acted/d as yet.',\n",
       " 'statement from axxa ltd for kone plc statement from axxa ltd for kone plc',\n",
       " ' gu automatic doors ltd hello ap, who portal are these two s  could yo advise.',\n",
       " ' s no  elevators uk limited- kone plc de la: daniela aciobanita trimis:  june   c?t  <  cc:  <  >; stefan lipciuc <  subiect: s no  elevators uk limited- kone plc hello,  find in attach the s no  thanks,',\n",
       " 'reminder  find in attachment your reminder met vriendelijke groeten, ',\n",
       " 'hi  advise if payment has been made. if not we need you to treat this as urgent and let us know what the problem is with these s.  -   -   - ',\n",
       " '  supplier no ',\n",
       " '  suplier no  copy.pdf',\n",
       " '  suppiler no ',\n",
       " 'cef account status hello back-office team / all, can you look at the attached and action where necessary to reconcile this account and bring us back into terms with this supplier,  orange  back-office actions required pink - operations to gr green - sourcing action taken to resolve. stephen , can you support in gr in gregs absence  ? derek shaw sourcing specialist dm kone plc worthdale house wortbridge road keighley.   mobile    email  www.kone.co.uk ',\n",
       " ' could you advise the status of the attached quotes as we are still awaiting purchase order numbers',\n",
       " ' morning jason, i have been chasing payment for the final two  on the above project which are d  st november and  th december. they require goods receipting so payment can be made. could you arrange this so i can chase payment for the works.',\n",
       " 'payment request mckechnie',\n",
       " 'happy new year here we go again hello dave , all best wishes to you and yours and all the team for the new year, still kind of miss you guys  will approve decembers s attached. caution : should have been a quiet month but see: there is one mp project st mary axe . had to spread over two weeks s . previously agreed short notice deliver before christmas with t dakin; total cost to project  ciao phil ps if you have time how is family news. mine all grown up but still one living with me they just cant afford own homes. told my mp to give voice to  nd referendum . reply your enquiry is important to us etc.. what news from the standards front?',\n",
       " 'overdue s  our records show that the attached  s in pdf file. remain unpaid and consequently are now overdue. the  they were origionally sent to  vendor s, appears in the bottom left hand corner of each .  can you advise when these will be paid as soon as possible.',\n",
       " 'cef account status hello back-office team / all, can you look at the attached and action where necessary to reconcile this account and bring us back into terms with this supplier,  orange  back-office actions required pink - operations to gr green - sourcing action taken to resolve. stephen , can you support in gr in gregs absence  ? derek shaw sourcing specialist dm kone plc worthdale house wortbridge road keighley.   mobile    email  www.kone.co.uk ',\n",
       " 'cef account status hello back-office team / all, can you look at the attached and action where necessary to reconcile this account and bring us back into terms with this supplier,  orange  back-office actions required pink - operations to gr green - sourcing action taken to resolve. stephen , can you support in gr in gregs absence  ? derek shaw sourcing specialist dm kone plc worthdale house wortbridge road keighley.   mobile    email  www.kone.co.uk ',\n",
       " ' rectification importance: high hi, theres an issue where an  has been processed incorrectly due to different interpretation of supplier  reference number, mm docs  &  one has f prefixed before the number the other doesnt to rectify, can you  process a credit to cancel mm doc . ive also attached an  that has been wrongly rejected,  have processed over both line items on p/o  quantity  value  each line @ steve, can you complete the goods receipt',\n",
       " ' january statement  laura  find january  statement',\n",
       " ' undeliverable: sub: thank you for your request:  sept-dec overdue payment required  - account due to go on stop!!!!!!!  null',\n",
       " ' rectification importance: high hi, theres an issue where an  has been processed incorrectly due to different interpretation of supplier  reference number, mm docs  &  one has f prefixed before the number the other doesnt to rectify, can you  process a credit to cancel mm doc . ive also attached an  that has been wrongly rejected,  have processed over both line items on p/o  quantity  value  each line @ steve, can you complete the goods receipt',\n",
       " ' ',\n",
       " ' january statement  laura  find january  statement',\n",
       " 'vendor enquiry ****************** morning  confirm all of the below will be on this weeks pay run . they have all been good receipted now.',\n",
       " 'goodmorning, the enclosed copy of our   was sent to you february  can you  confirm receipt of the  en inform us when we can expect payment of the ? van: contact ap_uk  verzonden: maandag  februari   aan: sales | mulder montage onderwerp: sub: reminder  is pending for your response  requestor, the request  is waiting for your response for further processing. request you to provide the required information for expediting the resolution.',\n",
       " ' kone public limited company  - payment up required f.a.o accounts payable  sheila, i have been advised to contact yourself with  to an up for an  that has recently fallen overdue on the account.  can you kindly review the attached and advise when the payment will be remitted? transaction original amount remaining amount days late due  transaction  class terms        days chris brady credit controller ledger  ?? sed-sto & kings - kzz  coombe lane, raynes park, london,  ',\n",
       " ' adp s   kone helpdesk team, apologies that you have had the runaround to get a copy .  is the right place to go for these.  find attached a copy of the  you have requested. i hope this is what you need but should you require anything else  do not hesitate to get back to me. krgds, andrew andrew lane | billings & credit liaison manager  office  syward place, pyrcroft road chertsey  ',\n",
       " ' outstanding s - kone hi shane see attached as requested. they have made us another payment of  so the outstanding balance is now ',\n",
       " ' gu automatic doors ltd hello ap, who portal are these two s  could yo advise.',\n",
       " 'outstanding  , sheila, i have been told you are on annual leave today,  could you help on you return ? thank you for your payment this morning however there is another  unpaid from this run   so to summarise these are now the s that remain unpaid :         total  i have now been chasing these for over a week a quick response would be very much appreciated.',\n",
       " 'statement hi  see attached an up to  statement of account. there is one old december  outstanding can you let me know when that will be paid?',\n",
       " 'statement for clayton ho silver springs',\n",
       " 'queries hello there are s outstanding  can you give me an up on their status,  find attached statement',\n",
       " 'rv: unpaid s - urgent  , our account department informed us about unpaid s there are old s that we have claimed on numerous occasions so we need an urgent response. if the s below have already been paid, we would appreciate if you could send us the payment confirmations as soon as possible',\n",
       " 'rv: unpaid s - urgent  , our account department informed us about unpaid s there are old s that we have claimed on numerous occasions so we need an urgent response. if the s below have already been paid, we would appreciate if you could send us the payment confirmations as soon as possible',\n",
       " 'out standing payment can you  pay these s as you have coursed this company problems again with payment!! this is not acceptable as i cannot pay my employees wages at the end of the month angela mylett mersey lift fabrication ltd  caddick road knowsley business park prescot liverpool  ',\n",
       " '  number ',\n",
       " ' query hi, ive received an automated email saying  is pending your response but as far as i can see i havent got any queries that i havent responded to. i cant reply to the email because it just bounces back, and i dont have a phone number i can call to see what the problem is. can someone come back to me ?',\n",
       " '  from apt security systems ltd ,  advise on a payment  for the attached overdue december , ',\n",
       " 'hello, i am currently out of the office with limited access to my emails. for any urgent requests  email  or you can call ',\n",
       " '   account analysis of kone ireland to kleemann uk  could s/n advise me relevant to your open amount at kleemann? i have been sending so many times this email and no answer.  can s/n from kone ireland contact me? thank you in advance',\n",
       " 'arageingdetail  hi  see attached statement and urgently process late s',\n",
       " ' roy joseph boots hi, the po for these is   for collection from arco in watford.',\n",
       " 'automatic reply: closure of case - urgent hewlett packard enterprise// payments possibly made in error// ?  kone plc   sender, thank you for your email. i will be out of office on the  of february. i will reply to your e-mails upon my return on the  of february. all the best, irina virsescu collections specialist',\n",
       " \"shane moran  sent:  december   to: mcdermid ian  hopper john  cc: stammers jo  subject:  outstanding s - kone hi ian, i've just spoken with accounts and we are just   away from being in the clear! it is just the top  on the attached for a value of  - any chance between you guys we can get this one sorted today and we will be able to get your outstanding orders on and delivered asap. shane moran internal sales brammer buck and hickman, unit   park, motherwell way, west thurrock, essex,  \",\n",
       " 'request for overdue payment ,  refer to the attached copy s and process for immediate payment as these s are overdue. should there be any reason why payment is being delayed then  provide the details. we regret to advise you if payment is not received within next  days your account will be put on stop and we will not be able to carry out any further work for you until the s are paid in full.',\n",
       " 'from: contact ap_uk  sent:  february   to: accounts - elevator equipment ltd  subject: sub: thank you for your request: account  hello team,  find the status of the s mentioned in the statement below: s status   provide us the  copy so that we can process this  for payment  this  has been paid on  with clearing document    provide us the  copy so that we can process this  for payment  this  is rejected due to imputation data,  and  no is missing  advice  we are working with the internal team we will let you know as soon as possible  this  has been paid on  with clearing document   this  has been paid on  with clearing document   we are working with the internal team we will let you know as soon as possible  this  is free for payment it will get pay in the next batch payment run.  this  has been paid on  with clearing document   this  has been paid on  with clearing document   this  has been paid on  with clearing document   this  has been paid on  with clearing document    provide us the  copy so that we can process this  for payment  this  is free for payment it will get pay in the next batch payment run.  this  is rejected due to imputation data,  and  no is missing  advice  this  is free for payment it will get pay in the next batch payment run.   provide us the  copy so that we can process this  for payment  this  has been paid on  with clearing document    provide us the  copy so that we can process this  for payment  we are working with the internal team we will let you know as soon as possible  this  is rejected due to imputation data,  and  no is missing  advice  this  is rejected due to imputation data,  and  no is missing  advice  this  has been paid on  with clearing document   this  has been paid on  with clearing document   this  has been paid on  with clearing document   this  has been paid on  with clearing document   this  has been paid on  with clearing document   this  has been paid on  with clearing document   this  has been paid on  with clearing document   this  has been paid on  with clearing document   this  has been paid on  with clearing document   this  has been paid on  with clearing document   this  is free for payment it will get pay in the next batch payment run.  this  is free for payment it will get pay in the next batch payment run.  this  is free for payment it will get pay in the next batch payment run.  this  is free for payment it will get pay in the next batch payment run.  this  is free for payment it will get pay in the next batch payment run.  this  is free for payment it will get pay in the next batch payment run.  this  is free for payment it will get pay in the next batch payment run.  this  is free for payment it will get pay in the next batch payment run.  this  is free for payment it will get pay in the next batch payment run.  this  is free for payment it will get pay in the next batch payment run.  this  is free for payment it will get pay in the next batch payment run.  this  is free for payment it will get pay in the next batch payment run.  this  is free for payment it will get pay in the next batch payment run.  this  is free for payment it will get pay in the next batch payment run.  this  is free for payment it will get pay in the next batch payment run.  this  is free for payment it will get pay in the next batch payment run.  this  is free for payment it will get pay in the next batch payment run.  this  is free for payment it will get pay in the next batch payment run.  this  is free for payment it will get pay in the next batch payment run.  we are working with the internal team we will let you know as soon as possible   provide us the  copy so that we can process this  for payment  this  is free for payment it will get pay in the next batch payment run.  this  is on held because  amount is not matching with po  advice  this  is free for payment it will get pay in the next batch payment run.  this  is free for payment it will get pay in the next batch payment run.  this  is free for payment it will get pay in the next batch payment run.  this  is free for payment it will get pay in the next batch payment run.  this  is free for payment it will get pay in the next batch payment run.  this  is free for payment it will get pay in the next batch payment run.  we are working with the internal team we will let you know as soon as possible  we are working with the internal team we will let you know as soon as possible  we are working with the internal team we will let you know as soon as possible  we are working with the internal team we will let you know as soon as possible  we are working with the internal team we will let you know as soon as possible  this  is free for payment it will get pay in the next batch payment run.  this  is free for payment it will get pay in the next batch payment run.  we are working with the internal team we will let you know as soon as possible  we are working with the internal team we will let you know as soon as possible  this  is free for payment it will get pay in the next batch payment run.  this  is free for payment it will get pay in the next batch payment run.  we are working with the internal team we will let you know as soon as possible ',\n",
       " 'case created manually by abubakar ahmed at    case created manually by abubakar ahmed on  ',\n",
       " 'case created manually by abubakar ahmed at    case created manually by abubakar ahmed on  ',\n",
       " 'outstanding s hi there, our catering suppliers: barrett?s kitchens have some more unpaid s, outstanding for more than  days.  see attached unpaid s, numbers:    and   can these be processed asap otherwise the late payment fees will increase? if you have any issues or queries,  contact me on phone number:    thanks very much, kerry bromley kone keighley reception ',\n",
       " 'hi all the credits below all need to be processed onto the account. they will be deducted against the next payment and do not need to be matched against s specifically. they are for michael kernicks portal  thanks, hayley waterman kone plc expense/accounts assistant direct',\n",
       " 'contact ap_uk  sent:  february   to: accounts - elevator equipment ltd  subject: sub: thank you for your request: account  hello team,  find the status of the s mentioned in the statement below: sstatus  provide us the  copy so that we can process this  for payment   has been paid on  with clearing document   provide us the  copy so that we can process this  for payment   is rejected due to imputation data,  and  no is missing  advice  are working with the internal team we will let you know as soon as possible   has been paid on  with clearing document    has been paid on  with clearing document   are working with the internal team we will let you know as soon as possible   is free for payment it will get pay in the next batch payment run.   has been paid on  with clearing document    has been paid on  with clearing document    has been paid on  with clearing document    has been paid on  with clearing document   provide us the  copy so that we can process this  for payment   is free for payment it will get pay in the next batch payment run.   is rejected due to imputation data,  and  no is missing  advice   is free for payment it will get pay in the next batch payment run.  provide us the  copy so that we can process this  for payment   has been paid on  with clearing document   provide us the  copy so that we can process this  for payment  are working with the internal team we will let you know as soon as possible   is rejected due to imputation data,  and  no is missing  advice   is rejected due to imputation data,  and  no is missing  advice   has been paid on  with clearing document    has been paid on  with clearing document    has been paid on  with clearing document    has been paid on  with clearing document    has been paid on  with clearing document    has been paid on  with clearing document    has been paid on  with clearing document    has been paid on  with clearing document    has been paid on  with clearing document    has been paid on  with clearing document    is free for payment it will get pay in the next batch payment run.   is free for payment it will get pay in the next batch payment run.   is free for payment it will get pay in the next batch payment run.   is free for payment it will get pay in the next batch payment run.   is free for payment it will get pay in the next batch payment run.   is free for payment it will get pay in the next batch payment run.   is free for payment it will get pay in the next batch payment run.   is free for payment it will get pay in the next batch payment run.   is free for payment it will get pay in the next batch payment run.   is free for payment it will get pay in the next batch payment run.   is free for payment it will get pay in the next batch payment run.   is free for payment it will get pay in the next batch payment run.   is free for payment it will get pay in the next batch payment run.   is free for payment it will get pay in the next batch payment run.   is free for payment it will get pay in the next batch payment run.   is free for payment it will get pay in the next batch payment run.   is free for payment it will get pay in the next batch payment run.   is free for payment it will get pay in the next batch payment run.   is free for payment it will get pay in the next batch payment run.  are working with the internal team we will let you know as soon as possible  provide us the  copy so that we can process this  for payment   is free for payment it will get pay in the next batch payment run.   is on held because  amount is not matching with po  advice   is free for payment it will get pay in the next batch payment run.   is free for payment it will get pay in the next batch payment run.   is free for payment it will get pay in the next batch payment run.   is free for payment it will get pay in the next batch payment run.   is free for payment it will get pay in the next batch payment run.   is free for payment it will get pay in the next batch payment run.  are working with the internal team we will let you know as soon as possible  are working with the internal team we will let you know as soon as possible  are working with the internal team we will let you know as soon as possible  are working with the internal team we will let you know as soon as possible  are working with the internal team we will let you know as soon as possible   is free for payment it will get pay in the next batch payment run.   is free for payment it will get pay in the next batch payment run.  are working with the internal team we will let you know as soon as possible  are working with the internal team we will let you know as soon as possible   is free for payment it will get pay in the next batch payment run.   is free for payment it will get pay in the next batch payment run.  are working with the internal team we will let you know as soon as possible   is free for payment it will get pay in the next batch payment run.  are working with the internal team we will let you know as soon as possible   is free for payment it will get pay in the next batch payment run.  provide us the  copy so that we can process this  for payment  provide us the  copy so that we can process this  for payment   is free for payment it will get pay in the next batch payment run.  are working with the internal team we will let you know as soon as possible   is rejected due to imputation data,  and  no is missing  advice. thank you',\n",
       " 'niamh can you let me have a remittance for the payment below so i can allocate. can you also arrange for all remaining s to the end of november to be with us before thursday thanks',\n",
       " 'kone hi tammy have we got a remittance from kone for the money kone have paid, and is it the first time they have paid. ta',\n",
       " 'important notification of change in contact details for kone plc  /, as a valued supplier we would like to inform you that kone is currently going through a transformation in a number of areas within the business. the primary goal of this transformation is to streamline processes and introduce new tools; in order to deliver improved levels of service to our customers and suppliers. as a consequence, we would like to inform you of a number of changes. kone will be introducing a new helpdesk to manage supplier queries received either by email or by phone. i am writing to advise you of the new contact details that you must use: new email for queries:  email for s :  new phone number :   commencing monday  february  all queries will be handle via the new helpdesk team and some activities will now be completed by a third party working with, and on behalf of kone plc. the helpdesk has been set up to support you with all your questions related to s, reconciliations, payments due s, statements of accounts and reminders. we will be transitioning suppliers to the new helpdesk team over a period of four weeks, and the  within this communication is the effective  that will be applicable for yourselves. in order to ensure a smooth process, we would like to highlight some key changes that you will notice from day  when you send an email query to  this will generate an automatic acknowledgement email response with a reference number. the title of the automatic email will contain your new query reference number and the title of the original email sent to kone.  ensure that you quote the query reference number in the title of any subsequent email communications with kone; and for ease you can reply to the auto-generated email once the case is closed, a closure notification email will be automatically triggered and issued. if the case is open for more than  days with a pending request, a reminder e-mail will be triggered. the previous email address  will be closed. the new contact details will replace all the previous contact information used in the past to reach our kone teams. we are aware that a number of our vendors experienced a disruption to service at the end of last year; and we would like to thank you for your continued support. we hope that these changes will help us as a company, to take the next steps in improving our interaction and service delivery with all of our suppliers in the future.',\n",
       " ...]"
      ]
     },
     "execution_count": 170,
     "metadata": {},
     "output_type": "execute_result"
    }
   ],
   "source": [
    "list1 = df['final_body'].tolist()\n",
    "str2 =\"\"\n",
    "list_append = []\n",
    "for str1 in list1:\n",
    "    str2 = \"\"\n",
    "    for i in str1:\n",
    "        if 0<ord(i)<128:\n",
    "            str2+=i\n",
    "    list_append.append(str2)\n",
    "list_append"
   ]
  },
  {
   "cell_type": "code",
   "execution_count": 171,
   "metadata": {},
   "outputs": [],
   "source": [
    "df[\"final_cleaned_body\"] =np.array(list_append)"
   ]
  },
  {
   "cell_type": "code",
   "execution_count": 172,
   "metadata": {},
   "outputs": [
    {
     "data": {
      "text/html": [
       "<div>\n",
       "<style scoped>\n",
       "    .dataframe tbody tr th:only-of-type {\n",
       "        vertical-align: middle;\n",
       "    }\n",
       "\n",
       "    .dataframe tbody tr th {\n",
       "        vertical-align: top;\n",
       "    }\n",
       "\n",
       "    .dataframe thead th {\n",
       "        text-align: right;\n",
       "    }\n",
       "</style>\n",
       "<table border=\"1\" class=\"dataframe\">\n",
       "  <thead>\n",
       "    <tr style=\"text-align: right;\">\n",
       "      <th></th>\n",
       "      <th>Id</th>\n",
       "      <th>htmlbody_cleaned_data</th>\n",
       "      <th>Predicted_Class</th>\n",
       "      <th>clean</th>\n",
       "      <th>final_body</th>\n",
       "      <th>final_cleaned_body</th>\n",
       "    </tr>\n",
       "  </thead>\n",
       "  <tbody>\n",
       "    <tr>\n",
       "      <th>0</th>\n",
       "      <td>02s1r00001acKkkAAE</td>\n",
       "      <td>payment query good morning, thank you for your...</td>\n",
       "      <td>Others</td>\n",
       "      <td>payment query , thank you for your remittance....</td>\n",
       "      <td>payment query , thank you for your remittance....</td>\n",
       "      <td>payment query , thank you for your remittance....</td>\n",
       "    </tr>\n",
       "    <tr>\n",
       "      <th>1</th>\n",
       "      <td>02s1r00001blgJyAAI</td>\n",
       "      <td>statement &amp; queries please find attached up to...</td>\n",
       "      <td>Status</td>\n",
       "      <td>statement &amp; queries  find attached up to  stat...</td>\n",
       "      <td>statement &amp; queries  find attached up to  stat...</td>\n",
       "      <td>statement &amp; queries  find attached up to  stat...</td>\n",
       "    </tr>\n",
       "    <tr>\n",
       "      <th>2</th>\n",
       "      <td>02s1r00001blgcRAAQ</td>\n",
       "      <td>statement from oasis products vending services...</td>\n",
       "      <td>Others</td>\n",
       "      <td>statement from oasis products vending services...</td>\n",
       "      <td>statement from oasis products vending services...</td>\n",
       "      <td>statement from oasis products vending services...</td>\n",
       "    </tr>\n",
       "    <tr>\n",
       "      <th>3</th>\n",
       "      <td>02s1r00001blj0aAAA</td>\n",
       "      <td>ees uk cis deductions hi, after speaking to sh...</td>\n",
       "      <td>Others</td>\n",
       "      <td>ees uk cis deductions hi, after speaking to sh...</td>\n",
       "      <td>ees uk cis deductions hi, after speaking to sh...</td>\n",
       "      <td>ees uk cis deductions hi, after speaking to sh...</td>\n",
       "    </tr>\n",
       "    <tr>\n",
       "      <th>4</th>\n",
       "      <td>02s1r00001blj6TAAQ</td>\n",
       "      <td>securitas invoice processed twice in error hi ...</td>\n",
       "      <td>Others</td>\n",
       "      <td>securitas  processed twice in error hi all,  d...</td>\n",
       "      <td>securitas  processed twice in error hi all,  d...</td>\n",
       "      <td>securitas  processed twice in error hi all,  d...</td>\n",
       "    </tr>\n",
       "    <tr>\n",
       "      <th>5</th>\n",
       "      <td>02s1r00001blwqoAAA</td>\n",
       "      <td>overdue invoice for vendor AHD_NUMBER please a...</td>\n",
       "      <td>Status</td>\n",
       "      <td>overdue  for vendor   advise on the payment of...</td>\n",
       "      <td>overdue  for vendor   advise on the payment of...</td>\n",
       "      <td>overdue  for vendor   advise on the payment of...</td>\n",
       "    </tr>\n",
       "    <tr>\n",
       "      <th>6</th>\n",
       "      <td>02s1r00001blz0lAAA</td>\n",
       "      <td>problem hi supplier number AHD_NUMBER problem ...</td>\n",
       "      <td>Others</td>\n",
       "      <td>problem hi supplier number  problem –   cis sh...</td>\n",
       "      <td>problem hi supplier number  problem –   cis sh...</td>\n",
       "      <td>problem hi supplier number  problem    cis sho...</td>\n",
       "    </tr>\n",
       "    <tr>\n",
       "      <th>7</th>\n",
       "      <td>02s1r00001bm0GBAAY</td>\n",
       "      <td>cis payment hi can you please solve this probl...</td>\n",
       "      <td>Escalation</td>\n",
       "      <td>cis payment hi can you  solve this problem reg...</td>\n",
       "      <td>cis payment hi can you  solve this problem reg...</td>\n",
       "      <td>cis payment hi can you  solve this problem reg...</td>\n",
       "    </tr>\n",
       "    <tr>\n",
       "      <th>8</th>\n",
       "      <td>02s1r00001bm0JoAAI</td>\n",
       "      <td>cis payment hi can you please solve this probl...</td>\n",
       "      <td>Escalation</td>\n",
       "      <td>cis payment hi can you  solve this problem reg...</td>\n",
       "      <td>cis payment hi can you  solve this problem reg...</td>\n",
       "      <td>cis payment hi can you  solve this problem reg...</td>\n",
       "    </tr>\n",
       "    <tr>\n",
       "      <th>9</th>\n",
       "      <td>02s1r00001bm1QWAAY</td>\n",
       "      <td>invoice AHD_NUMBER from control applications l...</td>\n",
       "      <td>Others</td>\n",
       "      <td>from control applications limited   note the...</td>\n",
       "      <td>from control applications limited   note the...</td>\n",
       "      <td>from control applications limited   note the...</td>\n",
       "    </tr>\n",
       "    <tr>\n",
       "      <th>10</th>\n",
       "      <td>02s1r00001bm2gQAAQ</td>\n",
       "      <td>invoices vendor number AHD_ALPHANUM can we kno...</td>\n",
       "      <td>Status</td>\n",
       "      <td>s vendor number  can we know the current statu...</td>\n",
       "      <td>s vendor number  can we know the current statu...</td>\n",
       "      <td>s vendor number  can we know the current statu...</td>\n",
       "    </tr>\n",
       "    <tr>\n",
       "      <th>11</th>\n",
       "      <td>02s1r00001bm2hiAAA</td>\n",
       "      <td>good afternoon, please see the attached email ...</td>\n",
       "      <td>Others</td>\n",
       "      <td>,  see the attached email sent on the  th sept...</td>\n",
       "      <td>,  see the attached email sent on the  th sept...</td>\n",
       "      <td>,  see the attached email sent on the  th sept...</td>\n",
       "    </tr>\n",
       "    <tr>\n",
       "      <th>12</th>\n",
       "      <td>02s1r00001bm43LAAQ</td>\n",
       "      <td>securitas invoice processed twice in error hi ...</td>\n",
       "      <td>Others</td>\n",
       "      <td>securitas  processed twice in error hi all,  d...</td>\n",
       "      <td>securitas  processed twice in error hi all,  d...</td>\n",
       "      <td>securitas  processed twice in error hi all,  d...</td>\n",
       "    </tr>\n",
       "    <tr>\n",
       "      <th>13</th>\n",
       "      <td>02s1r00001bm43aAAA</td>\n",
       "      <td>securitas invoice processed twice in error hi ...</td>\n",
       "      <td>Others</td>\n",
       "      <td>securitas  processed twice in error hi all,  d...</td>\n",
       "      <td>securitas  processed twice in error hi all,  d...</td>\n",
       "      <td>securitas  processed twice in error hi all,  d...</td>\n",
       "    </tr>\n",
       "    <tr>\n",
       "      <th>14</th>\n",
       "      <td>02s1r00001bm4yCAAQ</td>\n",
       "      <td>payment query good morning, thank you for your...</td>\n",
       "      <td>Others</td>\n",
       "      <td>payment query , thank you for your remittance....</td>\n",
       "      <td>payment query , thank you for your remittance....</td>\n",
       "      <td>payment query , thank you for your remittance....</td>\n",
       "    </tr>\n",
       "    <tr>\n",
       "      <th>15</th>\n",
       "      <td>02s1r00001bm4yMAAQ</td>\n",
       "      <td>payment query good morning, thank you for your...</td>\n",
       "      <td>Others</td>\n",
       "      <td>payment query , thank you for your remittance....</td>\n",
       "      <td>payment query , thank you for your remittance....</td>\n",
       "      <td>payment query , thank you for your remittance....</td>\n",
       "    </tr>\n",
       "    <tr>\n",
       "      <th>16</th>\n",
       "      <td>02s1r00001bm5uuAAA</td>\n",
       "      <td>good afternoon could you please advise if the ...</td>\n",
       "      <td>Status</td>\n",
       "      <td>could you  advise if the below s have now bee...</td>\n",
       "      <td>could you  advise if the below s have now bee...</td>\n",
       "      <td>could you  advise if the below s have now bee...</td>\n",
       "    </tr>\n",
       "    <tr>\n",
       "      <th>17</th>\n",
       "      <td>02s1r00001bmBRoAAM</td>\n",
       "      <td>norton?s outstanding monies avtar can i please...</td>\n",
       "      <td>Others</td>\n",
       "      <td>norton?s outstanding monies avtar can i  get a...</td>\n",
       "      <td>norton?s outstanding monies avtar can i  get a...</td>\n",
       "      <td>norton?s outstanding monies avtar can i  get a...</td>\n",
       "    </tr>\n",
       "    <tr>\n",
       "      <th>18</th>\n",
       "      <td>02s1r00001bmBy9AAE</td>\n",
       "      <td>query hello queries , st query the above two i...</td>\n",
       "      <td>Others</td>\n",
       "      <td>query hello queries , st query the above two i...</td>\n",
       "      <td>query hello queries , st query the above two i...</td>\n",
       "      <td>query hello queries , st query the above two i...</td>\n",
       "    </tr>\n",
       "    <tr>\n",
       "      <th>19</th>\n",
       "      <td>02s1r00001bmCAjAAM</td>\n",
       "      <td>unpaid invoices morning wendy, could you have ...</td>\n",
       "      <td>Others</td>\n",
       "      <td>unpaid s morning wendy, could you have a look ...</td>\n",
       "      <td>unpaid s morning wendy, could you have a look ...</td>\n",
       "      <td>unpaid s morning wendy, could you have a look ...</td>\n",
       "    </tr>\n",
       "    <tr>\n",
       "      <th>20</th>\n",
       "      <td>02s1r00001bmEbwAAE</td>\n",
       "      <td>the accounts department is working part time h...</td>\n",
       "      <td>Others</td>\n",
       "      <td>the accounts department is working part time h...</td>\n",
       "      <td>the accounts department is working part time h...</td>\n",
       "      <td>the accounts department is working part time h...</td>\n",
       "    </tr>\n",
       "    <tr>\n",
       "      <th>21</th>\n",
       "      <td>02s1r00001bmFdZAAU</td>\n",
       "      <td>invoices no AHD_DATE elevators uk limited- ko...</td>\n",
       "      <td>Others</td>\n",
       "      <td>s no  elevators uk limited- kone plc de la: d...</td>\n",
       "      <td>s no  elevators uk limited- kone plc de la: d...</td>\n",
       "      <td>s no  elevators uk limited- kone plc de la: d...</td>\n",
       "    </tr>\n",
       "    <tr>\n",
       "      <th>22</th>\n",
       "      <td>02s1r00001bmFdyAAE</td>\n",
       "      <td>invoices no AHD_DATE elevators uk limited- ko...</td>\n",
       "      <td>Others</td>\n",
       "      <td>s no  elevators uk limited- kone plc de la: d...</td>\n",
       "      <td>s no  elevators uk limited- kone plc de la: d...</td>\n",
       "      <td>s no  elevators uk limited- kone plc de la: d...</td>\n",
       "    </tr>\n",
       "    <tr>\n",
       "      <th>23</th>\n",
       "      <td>02s1r00001bmFerAAE</td>\n",
       "      <td>hello, please find in attach the invoice no AH...</td>\n",
       "      <td>Others</td>\n",
       "      <td>hello,  find in attach the  no  thanks,</td>\n",
       "      <td>hello,  find in attach the  no  thanks,</td>\n",
       "      <td>hello,  find in attach the  no  thanks,</td>\n",
       "    </tr>\n",
       "    <tr>\n",
       "      <th>24</th>\n",
       "      <td>02s1r00001bmGK9AAM</td>\n",
       "      <td>neopost invoice query hi all, the document bel...</td>\n",
       "      <td>Others</td>\n",
       "      <td>neopost  query hi all, the document below is a...</td>\n",
       "      <td>neopost  query hi all, the document below is a...</td>\n",
       "      <td>neopost  query hi all, the document below is a...</td>\n",
       "    </tr>\n",
       "    <tr>\n",
       "      <th>25</th>\n",
       "      <td>02s1r00001bmGc3AAE</td>\n",
       "      <td>neopost invoice to be deleted hi all, the docu...</td>\n",
       "      <td>Others</td>\n",
       "      <td>neopost  to be deleted hi all, the document be...</td>\n",
       "      <td>neopost  to be deleted hi all, the document be...</td>\n",
       "      <td>neopost  to be deleted hi all, the document be...</td>\n",
       "    </tr>\n",
       "    <tr>\n",
       "      <th>26</th>\n",
       "      <td>02s1r00001bmILnAAM</td>\n",
       "      <td>overdue credit note and invoices importance: h...</td>\n",
       "      <td>Others</td>\n",
       "      <td>overdue credit note and s importance: high hi ...</td>\n",
       "      <td>overdue credit note and s importance: high hi ...</td>\n",
       "      <td>overdue credit note and s importance: high hi ...</td>\n",
       "    </tr>\n",
       "    <tr>\n",
       "      <th>27</th>\n",
       "      <td>02s1r00001bmIhjAAE</td>\n",
       "      <td>invoice AHD_NUMBER from control applications l...</td>\n",
       "      <td>Others</td>\n",
       "      <td>from control applications limited   note the...</td>\n",
       "      <td>from control applications limited   note the...</td>\n",
       "      <td>from control applications limited   note the...</td>\n",
       "    </tr>\n",
       "    <tr>\n",
       "      <th>28</th>\n",
       "      <td>02s1r00001bmIqCAAU</td>\n",
       "      <td>kone plc good afternoon, please can you confir...</td>\n",
       "      <td>Status</td>\n",
       "      <td>kone plc ,  can you confirm a payment  for the...</td>\n",
       "      <td>kone plc ,  can you confirm a payment  for the...</td>\n",
       "      <td>kone plc ,  can you confirm a payment  for the...</td>\n",
       "    </tr>\n",
       "    <tr>\n",
       "      <th>29</th>\n",
       "      <td>02s1r00001bmIunAAE</td>\n",
       "      <td>over due and due invoices for payment good aft...</td>\n",
       "      <td>Escalation</td>\n",
       "      <td>over due and due s for payment   find below s ...</td>\n",
       "      <td>over due and due s for payment   find below s ...</td>\n",
       "      <td>over due and due s for payment   find below s ...</td>\n",
       "    </tr>\n",
       "    <tr>\n",
       "      <th>...</th>\n",
       "      <td>...</td>\n",
       "      <td>...</td>\n",
       "      <td>...</td>\n",
       "      <td>...</td>\n",
       "      <td>...</td>\n",
       "      <td>...</td>\n",
       "    </tr>\n",
       "    <tr>\n",
       "      <th>8697</th>\n",
       "      <td>02s1r00001iJGmNAAW</td>\n",
       "      <td>sulzer electro mechanical services uk limited ...</td>\n",
       "      <td>Others</td>\n",
       "      <td>sulzer electro mechanical services uk limited ...</td>\n",
       "      <td>sulzer electro mechanical services uk limited ...</td>\n",
       "      <td>sulzer electro mechanical services uk limited ...</td>\n",
       "    </tr>\n",
       "    <tr>\n",
       "      <th>8699</th>\n",
       "      <td>02s1r00001iJHCWAA4</td>\n",
       "      <td>invoices dear sirs we have been paid an amount...</td>\n",
       "      <td>Status</td>\n",
       "      <td>s  s we have been paid an amount today but i c...</td>\n",
       "      <td>s  s we have been paid an amount today but i c...</td>\n",
       "      <td>s  s we have been paid an amount today but i c...</td>\n",
       "    </tr>\n",
       "    <tr>\n",
       "      <th>8703</th>\n",
       "      <td>02s1r00001iJIA2AAO</td>\n",
       "      <td>rn lift ltd invoices not paid hi. i would like...</td>\n",
       "      <td>Others</td>\n",
       "      <td>rn lift ltd s not paid hi. i would like to kno...</td>\n",
       "      <td>rn lift ltd s not paid hi. i would like to kno...</td>\n",
       "      <td>rn lift ltd s not paid hi. i would like to kno...</td>\n",
       "    </tr>\n",
       "    <tr>\n",
       "      <th>8705</th>\n",
       "      <td>02s1r00001iJIV5AAO</td>\n",
       "      <td>vat return hello, i need help with my vat ret...</td>\n",
       "      <td>Others</td>\n",
       "      <td>vat return hello, i need help with my vat ret...</td>\n",
       "      <td>vat return hello, i need help with my vat ret...</td>\n",
       "      <td>vat return hello, i need help with my vat ret...</td>\n",
       "    </tr>\n",
       "    <tr>\n",
       "      <th>8707</th>\n",
       "      <td>02s1r00001iJJ0mAAG</td>\n",
       "      <td>reservation hi can i please book the followin...</td>\n",
       "      <td>Others</td>\n",
       "      <td>reservation hi can i  book the following acco...</td>\n",
       "      <td>reservation hi can i  book the following acco...</td>\n",
       "      <td>reservation hi can i  book the following acco...</td>\n",
       "    </tr>\n",
       "    <tr>\n",
       "      <th>8709</th>\n",
       "      <td>02s1r00001iJJfaAAG</td>\n",
       "      <td>statement from pirtek cork</td>\n",
       "      <td>Others</td>\n",
       "      <td>statement from pirtek cork</td>\n",
       "      <td>statement from pirtek cork</td>\n",
       "      <td>statement from pirtek cork</td>\n",
       "    </tr>\n",
       "    <tr>\n",
       "      <th>8711</th>\n",
       "      <td>02s1r00001iJKdzAAG</td>\n",
       "      <td>payment specification</td>\n",
       "      <td>Others</td>\n",
       "      <td>payment specification</td>\n",
       "      <td>payment specification</td>\n",
       "      <td>payment specification</td>\n",
       "    </tr>\n",
       "    <tr>\n",
       "      <th>8712</th>\n",
       "      <td>02s1r00001iJLBDAA4</td>\n",
       "      <td>po AHD_NUMBER caution: external e-mail. please...</td>\n",
       "      <td>Others</td>\n",
       "      <td>po  caution: external e-mail.  think before cl...</td>\n",
       "      <td>po  caution: external e-mail.  think before cl...</td>\n",
       "      <td>po  caution: external e-mail.  think before cl...</td>\n",
       "    </tr>\n",
       "    <tr>\n",
       "      <th>8713</th>\n",
       "      <td>02s1r00001iJLCLAA4</td>\n",
       "      <td>invoice</td>\n",
       "      <td>Others</td>\n",
       "      <td></td>\n",
       "      <td></td>\n",
       "      <td></td>\n",
       "    </tr>\n",
       "    <tr>\n",
       "      <th>8715</th>\n",
       "      <td>02s1r00001iJM64AAG</td>\n",
       "      <td>outstanding items dear all, i have been chasin...</td>\n",
       "      <td>Escalation</td>\n",
       "      <td>outstanding items  all, i have been chasing pa...</td>\n",
       "      <td>outstanding items  all, i have been chasing pa...</td>\n",
       "      <td>outstanding items  all, i have been chasing pa...</td>\n",
       "    </tr>\n",
       "    <tr>\n",
       "      <th>8716</th>\n",
       "      <td>02s1r00001iJMXKAA4</td>\n",
       "      <td>invoice AHD_NUMBER good afternoon please find ...</td>\n",
       "      <td>Status</td>\n",
       "      <td>find attached our   which is now due for p...</td>\n",
       "      <td>find attached our   which is now due for p...</td>\n",
       "      <td>find attached our   which is now due for p...</td>\n",
       "    </tr>\n",
       "    <tr>\n",
       "      <th>8717</th>\n",
       "      <td>02s1r00001iJMrFAAW</td>\n",
       "      <td>hi team, please check with sharon kennedy rega...</td>\n",
       "      <td>Others</td>\n",
       "      <td>hi team,  check with sharon kennedy regarding ...</td>\n",
       "      <td>hi team,  check with sharon kennedy regarding ...</td>\n",
       "      <td>hi team,  check with sharon kennedy regarding ...</td>\n",
       "    </tr>\n",
       "    <tr>\n",
       "      <th>8720</th>\n",
       "      <td>02s1r00001iJOIMAA4</td>\n",
       "      <td>sub: thank you for your request:  gunnebo sta...</td>\n",
       "      <td>Others</td>\n",
       "      <td>sub: thank you for your request:  gunnebo sta...</td>\n",
       "      <td>sub: thank you for your request:  gunnebo sta...</td>\n",
       "      <td>sub: thank you for your request:  gunnebo sta...</td>\n",
       "    </tr>\n",
       "    <tr>\n",
       "      <th>8721</th>\n",
       "      <td>02s1r00001iJOIlAAO</td>\n",
       "      <td>warning: the sender of this email could not be...</td>\n",
       "      <td>Others</td>\n",
       "      <td>warning: the sender of this email could not be...</td>\n",
       "      <td>warning: the sender of this email could not be...</td>\n",
       "      <td>warning: the sender of this email could not be...</td>\n",
       "    </tr>\n",
       "    <tr>\n",
       "      <th>8722</th>\n",
       "      <td>02s1r00001iJOS7AAO</td>\n",
       "      <td>copy of invoice AHD_NUMBER null</td>\n",
       "      <td>Others</td>\n",
       "      <td>copy of   null</td>\n",
       "      <td>copy of   null</td>\n",
       "      <td>copy of   null</td>\n",
       "    </tr>\n",
       "    <tr>\n",
       "      <th>8724</th>\n",
       "      <td>02s1r00001iJP6MAAW</td>\n",
       "      <td>we need an urgent response. especially the feb...</td>\n",
       "      <td>Others</td>\n",
       "      <td>we need an urgent response. especially the feb...</td>\n",
       "      <td>we need an urgent response. especially the feb...</td>\n",
       "      <td>we need an urgent response. especially the feb...</td>\n",
       "    </tr>\n",
       "    <tr>\n",
       "      <th>8725</th>\n",
       "      <td>02s1r00001iJPHtAAO</td>\n",
       "      <td>over deducted cis payments good morning it is ...</td>\n",
       "      <td>Others</td>\n",
       "      <td>over deducted cis payments  it is with great d...</td>\n",
       "      <td>over deducted cis payments  it is with great d...</td>\n",
       "      <td>over deducted cis payments  it is with great d...</td>\n",
       "    </tr>\n",
       "    <tr>\n",
       "      <th>8726</th>\n",
       "      <td>02s1r00001iJPeYAAW</td>\n",
       "      <td>c&amp;r lifts services</td>\n",
       "      <td>Others</td>\n",
       "      <td>c&amp;r lifts services</td>\n",
       "      <td>c&amp;r lifts services</td>\n",
       "      <td>c&amp;r lifts services</td>\n",
       "    </tr>\n",
       "    <tr>\n",
       "      <th>8729</th>\n",
       "      <td>02s1r00001iJQ3nAAG</td>\n",
       "      <td>cis statement AHD_NUMBER AHD_ALPHANUM to AHD_N...</td>\n",
       "      <td>Others</td>\n",
       "      <td>cis statement   to    / as a valued subcontrac...</td>\n",
       "      <td>cis statement   to    / as a valued subcontrac...</td>\n",
       "      <td>cis statement   to    / as a valued subcontrac...</td>\n",
       "    </tr>\n",
       "    <tr>\n",
       "      <th>8730</th>\n",
       "      <td>02s1r00001iJQ5oAAG</td>\n",
       "      <td>cis statement AHD_NUMBER AHD_ALPHANUM to AHD_N...</td>\n",
       "      <td>Others</td>\n",
       "      <td>cis statement   to    / as a valued subcontrac...</td>\n",
       "      <td>cis statement   to    / as a valued subcontrac...</td>\n",
       "      <td>cis statement   to    / as a valued subcontrac...</td>\n",
       "    </tr>\n",
       "    <tr>\n",
       "      <th>8731</th>\n",
       "      <td>02s1r00001iJQ7BAAW</td>\n",
       "      <td>cis statement AHD_NUMBER AHD_ALPHANUM to AHD_N...</td>\n",
       "      <td>Others</td>\n",
       "      <td>cis statement   to    / as a valued subcontrac...</td>\n",
       "      <td>cis statement   to    / as a valued subcontrac...</td>\n",
       "      <td>cis statement   to    / as a valued subcontrac...</td>\n",
       "    </tr>\n",
       "    <tr>\n",
       "      <th>8732</th>\n",
       "      <td>02s1r00001iJQXRAA4</td>\n",
       "      <td>eagle overseas statement</td>\n",
       "      <td>Others</td>\n",
       "      <td>eagle overseas statement</td>\n",
       "      <td>eagle overseas statement</td>\n",
       "      <td>eagle overseas statement</td>\n",
       "    </tr>\n",
       "    <tr>\n",
       "      <th>8735</th>\n",
       "      <td>02s1r00001iJRVkAAO</td>\n",
       "      <td>kone statement</td>\n",
       "      <td>Others</td>\n",
       "      <td>kone statement</td>\n",
       "      <td>kone statement</td>\n",
       "      <td>kone statement</td>\n",
       "    </tr>\n",
       "    <tr>\n",
       "      <th>8736</th>\n",
       "      <td>02s1r00001iJReNAAW</td>\n",
       "      <td>hi, could you please push back to the vendor, ...</td>\n",
       "      <td>Others</td>\n",
       "      <td>hi, could you  push back to the vendor, po is ...</td>\n",
       "      <td>hi, could you  push back to the vendor, po is ...</td>\n",
       "      <td>hi, could you  push back to the vendor, po is ...</td>\n",
       "    </tr>\n",
       "    <tr>\n",
       "      <th>8737</th>\n",
       "      <td>02s1r00001iJRrgAAG</td>\n",
       "      <td>good afternoon, please find account statement ...</td>\n",
       "      <td>Others</td>\n",
       "      <td>,  find account statement attached for your re...</td>\n",
       "      <td>,  find account statement attached for your re...</td>\n",
       "      <td>,  find account statement attached for your re...</td>\n",
       "    </tr>\n",
       "    <tr>\n",
       "      <th>8738</th>\n",
       "      <td>02s1r00001iJRvnAAG</td>\n",
       "      <td>gs culleton - invoicing error good morning, i ...</td>\n",
       "      <td>Others</td>\n",
       "      <td>gs culleton - invoicing error , i can see a pa...</td>\n",
       "      <td>gs culleton - invoicing error , i can see a pa...</td>\n",
       "      <td>gs culleton - invoicing error , i can see a pa...</td>\n",
       "    </tr>\n",
       "    <tr>\n",
       "      <th>8739</th>\n",
       "      <td>02s1r00001iJRwWAAW</td>\n",
       "      <td>hi all, many thanks for your recent remittance...</td>\n",
       "      <td>Status</td>\n",
       "      <td>hi all, many thanks for your recent remittance...</td>\n",
       "      <td>hi all, many thanks for your recent remittance...</td>\n",
       "      <td>hi all, many thanks for your recent remittance...</td>\n",
       "    </tr>\n",
       "    <tr>\n",
       "      <th>8740</th>\n",
       "      <td>02s1r00001iJRxeAAG</td>\n",
       "      <td>AHD_ALPHANUM hi team, please push back to vend...</td>\n",
       "      <td>Others</td>\n",
       "      <td>hi team,  push back to vendor as po lines wer...</td>\n",
       "      <td>hi team,  push back to vendor as po lines wer...</td>\n",
       "      <td>hi team,  push back to vendor as po lines wer...</td>\n",
       "    </tr>\n",
       "    <tr>\n",
       "      <th>8742</th>\n",
       "      <td>02s1r00001iJS88AAG</td>\n",
       "      <td>invoice hi ian, we have another invoice which ...</td>\n",
       "      <td>Others</td>\n",
       "      <td>hi ian, we have another  which has missed pay...</td>\n",
       "      <td>hi ian, we have another  which has missed pay...</td>\n",
       "      <td>hi ian, we have another  which has missed pay...</td>\n",
       "    </tr>\n",
       "    <tr>\n",
       "      <th>8743</th>\n",
       "      <td>02s1r00001iJSFYAA4</td>\n",
       "      <td>AHD_NUMBER urgent letters received at keighley...</td>\n",
       "      <td>Others</td>\n",
       "      <td>urgent letters received at keighley today    ...</td>\n",
       "      <td>urgent letters received at keighley today    ...</td>\n",
       "      <td>urgent letters received at keighley today    ...</td>\n",
       "    </tr>\n",
       "  </tbody>\n",
       "</table>\n",
       "<p>6881 rows × 6 columns</p>\n",
       "</div>"
      ],
      "text/plain": [
       "                      Id                              htmlbody_cleaned_data  \\\n",
       "0     02s1r00001acKkkAAE  payment query good morning, thank you for your...   \n",
       "1     02s1r00001blgJyAAI  statement & queries please find attached up to...   \n",
       "2     02s1r00001blgcRAAQ  statement from oasis products vending services...   \n",
       "3     02s1r00001blj0aAAA  ees uk cis deductions hi, after speaking to sh...   \n",
       "4     02s1r00001blj6TAAQ  securitas invoice processed twice in error hi ...   \n",
       "5     02s1r00001blwqoAAA  overdue invoice for vendor AHD_NUMBER please a...   \n",
       "6     02s1r00001blz0lAAA  problem hi supplier number AHD_NUMBER problem ...   \n",
       "7     02s1r00001bm0GBAAY  cis payment hi can you please solve this probl...   \n",
       "8     02s1r00001bm0JoAAI  cis payment hi can you please solve this probl...   \n",
       "9     02s1r00001bm1QWAAY  invoice AHD_NUMBER from control applications l...   \n",
       "10    02s1r00001bm2gQAAQ  invoices vendor number AHD_ALPHANUM can we kno...   \n",
       "11    02s1r00001bm2hiAAA  good afternoon, please see the attached email ...   \n",
       "12    02s1r00001bm43LAAQ  securitas invoice processed twice in error hi ...   \n",
       "13    02s1r00001bm43aAAA  securitas invoice processed twice in error hi ...   \n",
       "14    02s1r00001bm4yCAAQ  payment query good morning, thank you for your...   \n",
       "15    02s1r00001bm4yMAAQ  payment query good morning, thank you for your...   \n",
       "16    02s1r00001bm5uuAAA  good afternoon could you please advise if the ...   \n",
       "17    02s1r00001bmBRoAAM  norton?s outstanding monies avtar can i please...   \n",
       "18    02s1r00001bmBy9AAE  query hello queries , st query the above two i...   \n",
       "19    02s1r00001bmCAjAAM  unpaid invoices morning wendy, could you have ...   \n",
       "20    02s1r00001bmEbwAAE  the accounts department is working part time h...   \n",
       "21    02s1r00001bmFdZAAU   invoices no AHD_DATE elevators uk limited- ko...   \n",
       "22    02s1r00001bmFdyAAE   invoices no AHD_DATE elevators uk limited- ko...   \n",
       "23    02s1r00001bmFerAAE  hello, please find in attach the invoice no AH...   \n",
       "24    02s1r00001bmGK9AAM  neopost invoice query hi all, the document bel...   \n",
       "25    02s1r00001bmGc3AAE  neopost invoice to be deleted hi all, the docu...   \n",
       "26    02s1r00001bmILnAAM  overdue credit note and invoices importance: h...   \n",
       "27    02s1r00001bmIhjAAE  invoice AHD_NUMBER from control applications l...   \n",
       "28    02s1r00001bmIqCAAU  kone plc good afternoon, please can you confir...   \n",
       "29    02s1r00001bmIunAAE  over due and due invoices for payment good aft...   \n",
       "...                  ...                                                ...   \n",
       "8697  02s1r00001iJGmNAAW  sulzer electro mechanical services uk limited ...   \n",
       "8699  02s1r00001iJHCWAA4  invoices dear sirs we have been paid an amount...   \n",
       "8703  02s1r00001iJIA2AAO  rn lift ltd invoices not paid hi. i would like...   \n",
       "8705  02s1r00001iJIV5AAO   vat return hello, i need help with my vat ret...   \n",
       "8707  02s1r00001iJJ0mAAG   reservation hi can i please book the followin...   \n",
       "8709  02s1r00001iJJfaAAG                         statement from pirtek cork   \n",
       "8711  02s1r00001iJKdzAAG                              payment specification   \n",
       "8712  02s1r00001iJLBDAA4  po AHD_NUMBER caution: external e-mail. please...   \n",
       "8713  02s1r00001iJLCLAA4                                            invoice   \n",
       "8715  02s1r00001iJM64AAG  outstanding items dear all, i have been chasin...   \n",
       "8716  02s1r00001iJMXKAA4  invoice AHD_NUMBER good afternoon please find ...   \n",
       "8717  02s1r00001iJMrFAAW  hi team, please check with sharon kennedy rega...   \n",
       "8720  02s1r00001iJOIMAA4   sub: thank you for your request:  gunnebo sta...   \n",
       "8721  02s1r00001iJOIlAAO  warning: the sender of this email could not be...   \n",
       "8722  02s1r00001iJOS7AAO                    copy of invoice AHD_NUMBER null   \n",
       "8724  02s1r00001iJP6MAAW  we need an urgent response. especially the feb...   \n",
       "8725  02s1r00001iJPHtAAO  over deducted cis payments good morning it is ...   \n",
       "8726  02s1r00001iJPeYAAW                                 c&r lifts services   \n",
       "8729  02s1r00001iJQ3nAAG  cis statement AHD_NUMBER AHD_ALPHANUM to AHD_N...   \n",
       "8730  02s1r00001iJQ5oAAG  cis statement AHD_NUMBER AHD_ALPHANUM to AHD_N...   \n",
       "8731  02s1r00001iJQ7BAAW  cis statement AHD_NUMBER AHD_ALPHANUM to AHD_N...   \n",
       "8732  02s1r00001iJQXRAA4                           eagle overseas statement   \n",
       "8735  02s1r00001iJRVkAAO                                     kone statement   \n",
       "8736  02s1r00001iJReNAAW  hi, could you please push back to the vendor, ...   \n",
       "8737  02s1r00001iJRrgAAG  good afternoon, please find account statement ...   \n",
       "8738  02s1r00001iJRvnAAG  gs culleton - invoicing error good morning, i ...   \n",
       "8739  02s1r00001iJRwWAAW  hi all, many thanks for your recent remittance...   \n",
       "8740  02s1r00001iJRxeAAG  AHD_ALPHANUM hi team, please push back to vend...   \n",
       "8742  02s1r00001iJS88AAG  invoice hi ian, we have another invoice which ...   \n",
       "8743  02s1r00001iJSFYAA4  AHD_NUMBER urgent letters received at keighley...   \n",
       "\n",
       "     Predicted_Class                                              clean  \\\n",
       "0             Others  payment query , thank you for your remittance....   \n",
       "1             Status  statement & queries  find attached up to  stat...   \n",
       "2             Others  statement from oasis products vending services...   \n",
       "3             Others  ees uk cis deductions hi, after speaking to sh...   \n",
       "4             Others  securitas  processed twice in error hi all,  d...   \n",
       "5             Status  overdue  for vendor   advise on the payment of...   \n",
       "6             Others  problem hi supplier number  problem –   cis sh...   \n",
       "7         Escalation  cis payment hi can you  solve this problem reg...   \n",
       "8         Escalation  cis payment hi can you  solve this problem reg...   \n",
       "9             Others    from control applications limited   note the...   \n",
       "10            Status  s vendor number  can we know the current statu...   \n",
       "11            Others  ,  see the attached email sent on the  th sept...   \n",
       "12            Others  securitas  processed twice in error hi all,  d...   \n",
       "13            Others  securitas  processed twice in error hi all,  d...   \n",
       "14            Others  payment query , thank you for your remittance....   \n",
       "15            Others  payment query , thank you for your remittance....   \n",
       "16            Status   could you  advise if the below s have now bee...   \n",
       "17            Others  norton?s outstanding monies avtar can i  get a...   \n",
       "18            Others  query hello queries , st query the above two i...   \n",
       "19            Others  unpaid s morning wendy, could you have a look ...   \n",
       "20            Others  the accounts department is working part time h...   \n",
       "21            Others   s no  elevators uk limited- kone plc de la: d...   \n",
       "22            Others   s no  elevators uk limited- kone plc de la: d...   \n",
       "23            Others            hello,  find in attach the  no  thanks,   \n",
       "24            Others  neopost  query hi all, the document below is a...   \n",
       "25            Others  neopost  to be deleted hi all, the document be...   \n",
       "26            Others  overdue credit note and s importance: high hi ...   \n",
       "27            Others    from control applications limited   note the...   \n",
       "28            Status  kone plc ,  can you confirm a payment  for the...   \n",
       "29        Escalation  over due and due s for payment   find below s ...   \n",
       "...              ...                                                ...   \n",
       "8697          Others  sulzer electro mechanical services uk limited ...   \n",
       "8699          Status  s  s we have been paid an amount today but i c...   \n",
       "8703          Others  rn lift ltd s not paid hi. i would like to kno...   \n",
       "8705          Others   vat return hello, i need help with my vat ret...   \n",
       "8707          Others   reservation hi can i  book the following acco...   \n",
       "8709          Others                         statement from pirtek cork   \n",
       "8711          Others                              payment specification   \n",
       "8712          Others  po  caution: external e-mail.  think before cl...   \n",
       "8713          Others                                                      \n",
       "8715      Escalation  outstanding items  all, i have been chasing pa...   \n",
       "8716          Status      find attached our   which is now due for p...   \n",
       "8717          Others  hi team,  check with sharon kennedy regarding ...   \n",
       "8720          Others   sub: thank you for your request:  gunnebo sta...   \n",
       "8721          Others  warning: the sender of this email could not be...   \n",
       "8722          Others                                     copy of   null   \n",
       "8724          Others  we need an urgent response. especially the feb...   \n",
       "8725          Others  over deducted cis payments  it is with great d...   \n",
       "8726          Others                                 c&r lifts services   \n",
       "8729          Others  cis statement   to    / as a valued subcontrac...   \n",
       "8730          Others  cis statement   to    / as a valued subcontrac...   \n",
       "8731          Others  cis statement   to    / as a valued subcontrac...   \n",
       "8732          Others                           eagle overseas statement   \n",
       "8735          Others                                     kone statement   \n",
       "8736          Others  hi, could you  push back to the vendor, po is ...   \n",
       "8737          Others  ,  find account statement attached for your re...   \n",
       "8738          Others  gs culleton - invoicing error , i can see a pa...   \n",
       "8739          Status  hi all, many thanks for your recent remittance...   \n",
       "8740          Others   hi team,  push back to vendor as po lines wer...   \n",
       "8742          Others   hi ian, we have another  which has missed pay...   \n",
       "8743          Others   urgent letters received at keighley today    ...   \n",
       "\n",
       "                                             final_body  \\\n",
       "0     payment query , thank you for your remittance....   \n",
       "1     statement & queries  find attached up to  stat...   \n",
       "2     statement from oasis products vending services...   \n",
       "3     ees uk cis deductions hi, after speaking to sh...   \n",
       "4     securitas  processed twice in error hi all,  d...   \n",
       "5     overdue  for vendor   advise on the payment of...   \n",
       "6     problem hi supplier number  problem –   cis sh...   \n",
       "7     cis payment hi can you  solve this problem reg...   \n",
       "8     cis payment hi can you  solve this problem reg...   \n",
       "9       from control applications limited   note the...   \n",
       "10    s vendor number  can we know the current statu...   \n",
       "11    ,  see the attached email sent on the  th sept...   \n",
       "12    securitas  processed twice in error hi all,  d...   \n",
       "13    securitas  processed twice in error hi all,  d...   \n",
       "14    payment query , thank you for your remittance....   \n",
       "15    payment query , thank you for your remittance....   \n",
       "16     could you  advise if the below s have now bee...   \n",
       "17    norton?s outstanding monies avtar can i  get a...   \n",
       "18    query hello queries , st query the above two i...   \n",
       "19    unpaid s morning wendy, could you have a look ...   \n",
       "20    the accounts department is working part time h...   \n",
       "21     s no  elevators uk limited- kone plc de la: d...   \n",
       "22     s no  elevators uk limited- kone plc de la: d...   \n",
       "23              hello,  find in attach the  no  thanks,   \n",
       "24    neopost  query hi all, the document below is a...   \n",
       "25    neopost  to be deleted hi all, the document be...   \n",
       "26    overdue credit note and s importance: high hi ...   \n",
       "27      from control applications limited   note the...   \n",
       "28    kone plc ,  can you confirm a payment  for the...   \n",
       "29    over due and due s for payment   find below s ...   \n",
       "...                                                 ...   \n",
       "8697  sulzer electro mechanical services uk limited ...   \n",
       "8699  s  s we have been paid an amount today but i c...   \n",
       "8703  rn lift ltd s not paid hi. i would like to kno...   \n",
       "8705   vat return hello, i need help with my vat ret...   \n",
       "8707   reservation hi can i  book the following acco...   \n",
       "8709                         statement from pirtek cork   \n",
       "8711                              payment specification   \n",
       "8712  po  caution: external e-mail.  think before cl...   \n",
       "8713                                                      \n",
       "8715  outstanding items  all, i have been chasing pa...   \n",
       "8716      find attached our   which is now due for p...   \n",
       "8717  hi team,  check with sharon kennedy regarding ...   \n",
       "8720   sub: thank you for your request:  gunnebo sta...   \n",
       "8721  warning: the sender of this email could not be...   \n",
       "8722                                     copy of   null   \n",
       "8724  we need an urgent response. especially the feb...   \n",
       "8725  over deducted cis payments  it is with great d...   \n",
       "8726                                 c&r lifts services   \n",
       "8729  cis statement   to    / as a valued subcontrac...   \n",
       "8730  cis statement   to    / as a valued subcontrac...   \n",
       "8731  cis statement   to    / as a valued subcontrac...   \n",
       "8732                           eagle overseas statement   \n",
       "8735                                     kone statement   \n",
       "8736  hi, could you  push back to the vendor, po is ...   \n",
       "8737  ,  find account statement attached for your re...   \n",
       "8738  gs culleton - invoicing error , i can see a pa...   \n",
       "8739  hi all, many thanks for your recent remittance...   \n",
       "8740   hi team,  push back to vendor as po lines wer...   \n",
       "8742   hi ian, we have another  which has missed pay...   \n",
       "8743   urgent letters received at keighley today    ...   \n",
       "\n",
       "                                     final_cleaned_body  \n",
       "0     payment query , thank you for your remittance....  \n",
       "1     statement & queries  find attached up to  stat...  \n",
       "2     statement from oasis products vending services...  \n",
       "3     ees uk cis deductions hi, after speaking to sh...  \n",
       "4     securitas  processed twice in error hi all,  d...  \n",
       "5     overdue  for vendor   advise on the payment of...  \n",
       "6     problem hi supplier number  problem    cis sho...  \n",
       "7     cis payment hi can you  solve this problem reg...  \n",
       "8     cis payment hi can you  solve this problem reg...  \n",
       "9       from control applications limited   note the...  \n",
       "10    s vendor number  can we know the current statu...  \n",
       "11    ,  see the attached email sent on the  th sept...  \n",
       "12    securitas  processed twice in error hi all,  d...  \n",
       "13    securitas  processed twice in error hi all,  d...  \n",
       "14    payment query , thank you for your remittance....  \n",
       "15    payment query , thank you for your remittance....  \n",
       "16     could you  advise if the below s have now bee...  \n",
       "17    norton?s outstanding monies avtar can i  get a...  \n",
       "18    query hello queries , st query the above two i...  \n",
       "19    unpaid s morning wendy, could you have a look ...  \n",
       "20    the accounts department is working part time h...  \n",
       "21     s no  elevators uk limited- kone plc de la: d...  \n",
       "22     s no  elevators uk limited- kone plc de la: d...  \n",
       "23              hello,  find in attach the  no  thanks,  \n",
       "24    neopost  query hi all, the document below is a...  \n",
       "25    neopost  to be deleted hi all, the document be...  \n",
       "26    overdue credit note and s importance: high hi ...  \n",
       "27      from control applications limited   note the...  \n",
       "28    kone plc ,  can you confirm a payment  for the...  \n",
       "29    over due and due s for payment   find below s ...  \n",
       "...                                                 ...  \n",
       "8697  sulzer electro mechanical services uk limited ...  \n",
       "8699  s  s we have been paid an amount today but i c...  \n",
       "8703  rn lift ltd s not paid hi. i would like to kno...  \n",
       "8705   vat return hello, i need help with my vat ret...  \n",
       "8707   reservation hi can i  book the following acco...  \n",
       "8709                         statement from pirtek cork  \n",
       "8711                              payment specification  \n",
       "8712  po  caution: external e-mail.  think before cl...  \n",
       "8713                                                     \n",
       "8715  outstanding items  all, i have been chasing pa...  \n",
       "8716      find attached our   which is now due for p...  \n",
       "8717  hi team,  check with sharon kennedy regarding ...  \n",
       "8720   sub: thank you for your request:  gunnebo sta...  \n",
       "8721  warning: the sender of this email could not be...  \n",
       "8722                                     copy of   null  \n",
       "8724  we need an urgent response. especially the feb...  \n",
       "8725  over deducted cis payments  it is with great d...  \n",
       "8726                                 c&r lifts services  \n",
       "8729  cis statement   to    / as a valued subcontrac...  \n",
       "8730  cis statement   to    / as a valued subcontrac...  \n",
       "8731  cis statement   to    / as a valued subcontrac...  \n",
       "8732                           eagle overseas statement  \n",
       "8735                                     kone statement  \n",
       "8736  hi, could you  push back to the vendor, po is ...  \n",
       "8737  ,  find account statement attached for your re...  \n",
       "8738  gs culleton - invoicing error , i can see a pa...  \n",
       "8739  hi all, many thanks for your recent remittance...  \n",
       "8740   hi team,  push back to vendor as po lines wer...  \n",
       "8742   hi ian, we have another  which has missed pay...  \n",
       "8743   urgent letters received at keighley today    ...  \n",
       "\n",
       "[6881 rows x 6 columns]"
      ]
     },
     "execution_count": 172,
     "metadata": {},
     "output_type": "execute_result"
    }
   ],
   "source": [
    "df"
   ]
  },
  {
   "cell_type": "code",
   "execution_count": 173,
   "metadata": {},
   "outputs": [],
   "source": [
    "df.to_csv(\"Cleaned_Dummy_Data.csv\")"
   ]
  },
  {
   "cell_type": "markdown",
   "metadata": {},
   "source": [
    "# @@@@@@@@@@@@@@@@@@@@@@@@@@@@@@@@@@@@@\n",
    "\n",
    "\n",
    "# WORKING WITH NEWLY CREATED CSV FILE"
   ]
  },
  {
   "cell_type": "code",
   "execution_count": 174,
   "metadata": {},
   "outputs": [],
   "source": [
    "ds=pd.read_csv('Cleaned_Dummy_Data.csv')"
   ]
  },
  {
   "cell_type": "code",
   "execution_count": 175,
   "metadata": {},
   "outputs": [
    {
     "data": {
      "text/html": [
       "<div>\n",
       "<style scoped>\n",
       "    .dataframe tbody tr th:only-of-type {\n",
       "        vertical-align: middle;\n",
       "    }\n",
       "\n",
       "    .dataframe tbody tr th {\n",
       "        vertical-align: top;\n",
       "    }\n",
       "\n",
       "    .dataframe thead th {\n",
       "        text-align: right;\n",
       "    }\n",
       "</style>\n",
       "<table border=\"1\" class=\"dataframe\">\n",
       "  <thead>\n",
       "    <tr style=\"text-align: right;\">\n",
       "      <th></th>\n",
       "      <th>Unnamed: 0</th>\n",
       "      <th>Id</th>\n",
       "      <th>htmlbody_cleaned_data</th>\n",
       "      <th>Predicted_Class</th>\n",
       "      <th>clean</th>\n",
       "      <th>final_body</th>\n",
       "      <th>final_cleaned_body</th>\n",
       "    </tr>\n",
       "  </thead>\n",
       "  <tbody>\n",
       "    <tr>\n",
       "      <th>0</th>\n",
       "      <td>0</td>\n",
       "      <td>02s1r00001acKkkAAE</td>\n",
       "      <td>payment query good morning, thank you for your...</td>\n",
       "      <td>Others</td>\n",
       "      <td>payment query , thank you for your remittance....</td>\n",
       "      <td>payment query , thank you for your remittance....</td>\n",
       "      <td>payment query , thank you for your remittance....</td>\n",
       "    </tr>\n",
       "    <tr>\n",
       "      <th>1</th>\n",
       "      <td>1</td>\n",
       "      <td>02s1r00001blgJyAAI</td>\n",
       "      <td>statement &amp; queries please find attached up to...</td>\n",
       "      <td>Status</td>\n",
       "      <td>statement &amp; queries  find attached up to  stat...</td>\n",
       "      <td>statement &amp; queries  find attached up to  stat...</td>\n",
       "      <td>statement &amp; queries  find attached up to  stat...</td>\n",
       "    </tr>\n",
       "  </tbody>\n",
       "</table>\n",
       "</div>"
      ],
      "text/plain": [
       "   Unnamed: 0                  Id  \\\n",
       "0           0  02s1r00001acKkkAAE   \n",
       "1           1  02s1r00001blgJyAAI   \n",
       "\n",
       "                               htmlbody_cleaned_data Predicted_Class  \\\n",
       "0  payment query good morning, thank you for your...          Others   \n",
       "1  statement & queries please find attached up to...          Status   \n",
       "\n",
       "                                               clean  \\\n",
       "0  payment query , thank you for your remittance....   \n",
       "1  statement & queries  find attached up to  stat...   \n",
       "\n",
       "                                          final_body  \\\n",
       "0  payment query , thank you for your remittance....   \n",
       "1  statement & queries  find attached up to  stat...   \n",
       "\n",
       "                                  final_cleaned_body  \n",
       "0  payment query , thank you for your remittance....  \n",
       "1  statement & queries  find attached up to  stat...  "
      ]
     },
     "execution_count": 175,
     "metadata": {},
     "output_type": "execute_result"
    }
   ],
   "source": [
    "ds.head(2)"
   ]
  },
  {
   "cell_type": "markdown",
   "metadata": {},
   "source": [
    "# this is actual count"
   ]
  },
  {
   "cell_type": "code",
   "execution_count": 176,
   "metadata": {},
   "outputs": [
    {
     "data": {
      "text/plain": [
       "Others        5615\n",
       "Status         832\n",
       "Escalation     434\n",
       "Name: Predicted_Class, dtype: int64"
      ]
     },
     "execution_count": 176,
     "metadata": {},
     "output_type": "execute_result"
    }
   ],
   "source": [
    "ds.Predicted_Class.value_counts()"
   ]
  },
  {
   "cell_type": "code",
   "execution_count": 177,
   "metadata": {},
   "outputs": [
    {
     "data": {
      "text/plain": [
       "Index(['Unnamed: 0', 'Id', 'htmlbody_cleaned_data', 'Predicted_Class', 'clean',\n",
       "       'final_body', 'final_cleaned_body'],\n",
       "      dtype='object')"
      ]
     },
     "execution_count": 177,
     "metadata": {},
     "output_type": "execute_result"
    }
   ],
   "source": [
    "ds.columns"
   ]
  },
  {
   "cell_type": "code",
   "execution_count": 178,
   "metadata": {},
   "outputs": [],
   "source": [
    "ds= ds.drop(['Unnamed: 0','Id','htmlbody_cleaned_data','clean','final_body'],axis=1)"
   ]
  },
  {
   "cell_type": "code",
   "execution_count": 179,
   "metadata": {},
   "outputs": [
    {
     "data": {
      "text/html": [
       "<div>\n",
       "<style scoped>\n",
       "    .dataframe tbody tr th:only-of-type {\n",
       "        vertical-align: middle;\n",
       "    }\n",
       "\n",
       "    .dataframe tbody tr th {\n",
       "        vertical-align: top;\n",
       "    }\n",
       "\n",
       "    .dataframe thead th {\n",
       "        text-align: right;\n",
       "    }\n",
       "</style>\n",
       "<table border=\"1\" class=\"dataframe\">\n",
       "  <thead>\n",
       "    <tr style=\"text-align: right;\">\n",
       "      <th></th>\n",
       "      <th>Predicted_Class</th>\n",
       "      <th>final_cleaned_body</th>\n",
       "    </tr>\n",
       "  </thead>\n",
       "  <tbody>\n",
       "    <tr>\n",
       "      <th>0</th>\n",
       "      <td>Others</td>\n",
       "      <td>payment query , thank you for your remittance....</td>\n",
       "    </tr>\n",
       "    <tr>\n",
       "      <th>1</th>\n",
       "      <td>Status</td>\n",
       "      <td>statement &amp; queries  find attached up to  stat...</td>\n",
       "    </tr>\n",
       "  </tbody>\n",
       "</table>\n",
       "</div>"
      ],
      "text/plain": [
       "  Predicted_Class                                 final_cleaned_body\n",
       "0          Others  payment query , thank you for your remittance....\n",
       "1          Status  statement & queries  find attached up to  stat..."
      ]
     },
     "execution_count": 179,
     "metadata": {},
     "output_type": "execute_result"
    }
   ],
   "source": [
    "ds.head(2)"
   ]
  },
  {
   "cell_type": "code",
   "execution_count": 180,
   "metadata": {},
   "outputs": [
    {
     "data": {
      "text/plain": [
       "Predicted_Class        0\n",
       "final_cleaned_body    30\n",
       "dtype: int64"
      ]
     },
     "execution_count": 180,
     "metadata": {},
     "output_type": "execute_result"
    }
   ],
   "source": [
    "ds.isnull().sum()"
   ]
  },
  {
   "cell_type": "code",
   "execution_count": 181,
   "metadata": {},
   "outputs": [],
   "source": [
    "l =ds[ds['final_cleaned_body'].isnull()].index.tolist()"
   ]
  },
  {
   "cell_type": "code",
   "execution_count": 182,
   "metadata": {},
   "outputs": [
    {
     "data": {
      "text/plain": [
       "[178,\n",
       " 237,\n",
       " 254,\n",
       " 258,\n",
       " 261,\n",
       " 294,\n",
       " 300,\n",
       " 407,\n",
       " 550,\n",
       " 563,\n",
       " 587,\n",
       " 693,\n",
       " 730,\n",
       " 854,\n",
       " 870,\n",
       " 938,\n",
       " 1023,\n",
       " 1089,\n",
       " 1207,\n",
       " 1739,\n",
       " 2077,\n",
       " 2492,\n",
       " 2493,\n",
       " 2565,\n",
       " 2909,\n",
       " 3335,\n",
       " 3971,\n",
       " 4414,\n",
       " 5567,\n",
       " 6859]"
      ]
     },
     "execution_count": 182,
     "metadata": {},
     "output_type": "execute_result"
    }
   ],
   "source": [
    "l"
   ]
  },
  {
   "cell_type": "code",
   "execution_count": 183,
   "metadata": {},
   "outputs": [
    {
     "data": {
      "text/html": [
       "<div>\n",
       "<style scoped>\n",
       "    .dataframe tbody tr th:only-of-type {\n",
       "        vertical-align: middle;\n",
       "    }\n",
       "\n",
       "    .dataframe tbody tr th {\n",
       "        vertical-align: top;\n",
       "    }\n",
       "\n",
       "    .dataframe thead th {\n",
       "        text-align: right;\n",
       "    }\n",
       "</style>\n",
       "<table border=\"1\" class=\"dataframe\">\n",
       "  <thead>\n",
       "    <tr style=\"text-align: right;\">\n",
       "      <th></th>\n",
       "      <th>Predicted_Class</th>\n",
       "      <th>final_cleaned_body</th>\n",
       "    </tr>\n",
       "  </thead>\n",
       "  <tbody>\n",
       "    <tr>\n",
       "      <th>178</th>\n",
       "      <td>Others</td>\n",
       "      <td>NaN</td>\n",
       "    </tr>\n",
       "    <tr>\n",
       "      <th>237</th>\n",
       "      <td>Others</td>\n",
       "      <td>NaN</td>\n",
       "    </tr>\n",
       "    <tr>\n",
       "      <th>254</th>\n",
       "      <td>Others</td>\n",
       "      <td>NaN</td>\n",
       "    </tr>\n",
       "    <tr>\n",
       "      <th>258</th>\n",
       "      <td>Others</td>\n",
       "      <td>NaN</td>\n",
       "    </tr>\n",
       "    <tr>\n",
       "      <th>261</th>\n",
       "      <td>Others</td>\n",
       "      <td>NaN</td>\n",
       "    </tr>\n",
       "    <tr>\n",
       "      <th>294</th>\n",
       "      <td>Others</td>\n",
       "      <td>NaN</td>\n",
       "    </tr>\n",
       "    <tr>\n",
       "      <th>300</th>\n",
       "      <td>Others</td>\n",
       "      <td>NaN</td>\n",
       "    </tr>\n",
       "    <tr>\n",
       "      <th>407</th>\n",
       "      <td>Others</td>\n",
       "      <td>NaN</td>\n",
       "    </tr>\n",
       "    <tr>\n",
       "      <th>550</th>\n",
       "      <td>Others</td>\n",
       "      <td>NaN</td>\n",
       "    </tr>\n",
       "    <tr>\n",
       "      <th>563</th>\n",
       "      <td>Others</td>\n",
       "      <td>NaN</td>\n",
       "    </tr>\n",
       "    <tr>\n",
       "      <th>587</th>\n",
       "      <td>Others</td>\n",
       "      <td>NaN</td>\n",
       "    </tr>\n",
       "    <tr>\n",
       "      <th>693</th>\n",
       "      <td>Others</td>\n",
       "      <td>NaN</td>\n",
       "    </tr>\n",
       "    <tr>\n",
       "      <th>730</th>\n",
       "      <td>Others</td>\n",
       "      <td>NaN</td>\n",
       "    </tr>\n",
       "    <tr>\n",
       "      <th>854</th>\n",
       "      <td>Others</td>\n",
       "      <td>NaN</td>\n",
       "    </tr>\n",
       "    <tr>\n",
       "      <th>870</th>\n",
       "      <td>Others</td>\n",
       "      <td>NaN</td>\n",
       "    </tr>\n",
       "    <tr>\n",
       "      <th>938</th>\n",
       "      <td>Others</td>\n",
       "      <td>NaN</td>\n",
       "    </tr>\n",
       "    <tr>\n",
       "      <th>1023</th>\n",
       "      <td>Others</td>\n",
       "      <td>NaN</td>\n",
       "    </tr>\n",
       "    <tr>\n",
       "      <th>1089</th>\n",
       "      <td>Others</td>\n",
       "      <td>NaN</td>\n",
       "    </tr>\n",
       "    <tr>\n",
       "      <th>1207</th>\n",
       "      <td>Others</td>\n",
       "      <td>NaN</td>\n",
       "    </tr>\n",
       "    <tr>\n",
       "      <th>1739</th>\n",
       "      <td>Others</td>\n",
       "      <td>NaN</td>\n",
       "    </tr>\n",
       "    <tr>\n",
       "      <th>2077</th>\n",
       "      <td>Others</td>\n",
       "      <td>NaN</td>\n",
       "    </tr>\n",
       "    <tr>\n",
       "      <th>2492</th>\n",
       "      <td>Others</td>\n",
       "      <td>NaN</td>\n",
       "    </tr>\n",
       "    <tr>\n",
       "      <th>2493</th>\n",
       "      <td>Others</td>\n",
       "      <td>NaN</td>\n",
       "    </tr>\n",
       "    <tr>\n",
       "      <th>2565</th>\n",
       "      <td>Others</td>\n",
       "      <td>NaN</td>\n",
       "    </tr>\n",
       "    <tr>\n",
       "      <th>2909</th>\n",
       "      <td>Others</td>\n",
       "      <td>NaN</td>\n",
       "    </tr>\n",
       "    <tr>\n",
       "      <th>3335</th>\n",
       "      <td>Others</td>\n",
       "      <td>NaN</td>\n",
       "    </tr>\n",
       "    <tr>\n",
       "      <th>3971</th>\n",
       "      <td>Others</td>\n",
       "      <td>NaN</td>\n",
       "    </tr>\n",
       "    <tr>\n",
       "      <th>4414</th>\n",
       "      <td>Others</td>\n",
       "      <td>NaN</td>\n",
       "    </tr>\n",
       "    <tr>\n",
       "      <th>5567</th>\n",
       "      <td>Others</td>\n",
       "      <td>NaN</td>\n",
       "    </tr>\n",
       "    <tr>\n",
       "      <th>6859</th>\n",
       "      <td>Others</td>\n",
       "      <td>NaN</td>\n",
       "    </tr>\n",
       "  </tbody>\n",
       "</table>\n",
       "</div>"
      ],
      "text/plain": [
       "     Predicted_Class final_cleaned_body\n",
       "178           Others                NaN\n",
       "237           Others                NaN\n",
       "254           Others                NaN\n",
       "258           Others                NaN\n",
       "261           Others                NaN\n",
       "294           Others                NaN\n",
       "300           Others                NaN\n",
       "407           Others                NaN\n",
       "550           Others                NaN\n",
       "563           Others                NaN\n",
       "587           Others                NaN\n",
       "693           Others                NaN\n",
       "730           Others                NaN\n",
       "854           Others                NaN\n",
       "870           Others                NaN\n",
       "938           Others                NaN\n",
       "1023          Others                NaN\n",
       "1089          Others                NaN\n",
       "1207          Others                NaN\n",
       "1739          Others                NaN\n",
       "2077          Others                NaN\n",
       "2492          Others                NaN\n",
       "2493          Others                NaN\n",
       "2565          Others                NaN\n",
       "2909          Others                NaN\n",
       "3335          Others                NaN\n",
       "3971          Others                NaN\n",
       "4414          Others                NaN\n",
       "5567          Others                NaN\n",
       "6859          Others                NaN"
      ]
     },
     "execution_count": 183,
     "metadata": {},
     "output_type": "execute_result"
    }
   ],
   "source": [
    "ds.loc[l]"
   ]
  },
  {
   "cell_type": "markdown",
   "metadata": {},
   "source": [
    "## 1st Drop for removal of  30 rows having Null Values in column final_cleaned_body all belonging to Predicted_Class = Others"
   ]
  },
  {
   "cell_type": "code",
   "execution_count": 184,
   "metadata": {},
   "outputs": [],
   "source": [
    "ds=ds.dropna()\n"
   ]
  },
  {
   "cell_type": "code",
   "execution_count": 185,
   "metadata": {},
   "outputs": [
    {
     "data": {
      "text/plain": [
       "Predicted_Class       0\n",
       "final_cleaned_body    0\n",
       "dtype: int64"
      ]
     },
     "execution_count": 185,
     "metadata": {},
     "output_type": "execute_result"
    }
   ],
   "source": [
    "ds.isnull().sum()"
   ]
  },
  {
   "cell_type": "code",
   "execution_count": 186,
   "metadata": {},
   "outputs": [
    {
     "data": {
      "text/plain": [
       "Others        5585\n",
       "Status         832\n",
       "Escalation     434\n",
       "Name: Predicted_Class, dtype: int64"
      ]
     },
     "execution_count": 186,
     "metadata": {},
     "output_type": "execute_result"
    }
   ],
   "source": [
    "ds.Predicted_Class.value_counts()"
   ]
  },
  {
   "cell_type": "markdown",
   "metadata": {},
   "source": [
    "# applying k means clustering to identify the number of clusters and visulization"
   ]
  },
  {
   "cell_type": "code",
   "execution_count": 187,
   "metadata": {},
   "outputs": [],
   "source": [
    "from sklearn.feature_extraction.text import CountVectorizer\n",
    "from sklearn.decomposition import PCA"
   ]
  },
  {
   "cell_type": "code",
   "execution_count": 188,
   "metadata": {},
   "outputs": [],
   "source": [
    "cv = CountVectorizer()"
   ]
  },
  {
   "cell_type": "code",
   "execution_count": 189,
   "metadata": {},
   "outputs": [],
   "source": [
    "X = cv.fit_transform(ds['final_cleaned_body'])"
   ]
  },
  {
   "cell_type": "code",
   "execution_count": 190,
   "metadata": {},
   "outputs": [
    {
     "data": {
      "text/plain": [
       "<6851x5732 sparse matrix of type '<class 'numpy.int64'>'\n",
       "\twith 195585 stored elements in Compressed Sparse Row format>"
      ]
     },
     "execution_count": 190,
     "metadata": {},
     "output_type": "execute_result"
    }
   ],
   "source": [
    "X"
   ]
  },
  {
   "cell_type": "code",
   "execution_count": 191,
   "metadata": {},
   "outputs": [],
   "source": [
    "vect = TfidfVectorizer(stop_words='english', max_df=0.50, min_df=2)\n",
    "X = vect.fit_transform(ds['final_cleaned_body'])"
   ]
  },
  {
   "cell_type": "code",
   "execution_count": 192,
   "metadata": {},
   "outputs": [
    {
     "data": {
      "image/png": "[encoded data removed]",
      "text/plain": [
       "<Figure size 432x288 with 1 Axes>"
      ]
     },
     "metadata": {
      "needs_background": "light"
     },
     "output_type": "display_data"
    }
   ],
   "source": [
    "X_dense = X.todense()\n",
    "coords = PCA(n_components=2).fit_transform(X_dense)\n",
    "plt.scatter(coords[:, 0], coords[:, 1], c='m')\n",
    "plt.show()"
   ]
  },
  {
   "cell_type": "code",
   "execution_count": 193,
   "metadata": {},
   "outputs": [],
   "source": [
    "def top_tfidf_feats(row, features, top_n=20):\n",
    "    topn_ids = np.argsort(row)[::-1][:top_n]\n",
    "    top_feats = [(features[i], row[i]) for i in topn_ids]\n",
    "    df = pd.DataFrame(top_feats, columns=['features', 'score'])\n",
    "    return df\n",
    "def top_feats_in_doc(X, features, row_id, top_n=25):\n",
    "    row = np.squeeze(X[row_id].toarray())\n",
    "    return top_tfidf_feats(row, features, top_n)"
   ]
  },
  {
   "cell_type": "code",
   "execution_count": 194,
   "metadata": {},
   "outputs": [
    {
     "name": "stdout",
     "output_type": "stream",
     "text": [
      "      features     score\n",
      "0      queries  0.496445\n",
      "1          oct  0.492582\n",
      "2    statement  0.373664\n",
      "3      showing  0.373636\n",
      "4    processed  0.293376\n",
      "5  outstanding  0.231687\n",
      "6       advise  0.218244\n",
      "7     attached  0.149488\n",
      "8      payment  0.148160\n",
      "9       fields  0.000000\n"
     ]
    }
   ],
   "source": [
    "features = vect.get_feature_names()\n",
    "print(top_feats_in_doc(X, features, 1, 10))"
   ]
  },
  {
   "cell_type": "code",
   "execution_count": 195,
   "metadata": {},
   "outputs": [],
   "source": [
    "# COMMENTED BACAUSE IT DELAYS THE PROCESS A LOT\n",
    "\n",
    "# from sklearn.cluster import KMeans\n",
    "# wcss =[]\n",
    "# for i in range(1,20):\n",
    "#     kmeans = KMeans(n_clusters=i,init='k-means++',max_iter=300,n_init=10,random_state=0)\n",
    "#     kmeans.fit(X)\n",
    "#     wcss.append(kmeans.inertia_)\n",
    "    \n",
    "# plt.plot(range(1,20),wcss)\n",
    "# plt.title('The Elbow Method')\n",
    "# plt.xlabel('Number of clusters')\n",
    "# plt.ylabel('wcss')\n",
    "# plt.show()"
   ]
  },
  {
   "cell_type": "code",
   "execution_count": 196,
   "metadata": {},
   "outputs": [],
   "source": [
    "n_clusters = 3\n",
    "clf = KMeans(n_clusters=n_clusters, max_iter=100, init='k-means++', n_init=1)\n",
    "labels = clf.fit_predict(X)"
   ]
  },
  {
   "cell_type": "code",
   "execution_count": 197,
   "metadata": {},
   "outputs": [
    {
     "data": {
      "text/plain": [
       "array([0, 1, 0, ..., 2, 0, 0])"
      ]
     },
     "execution_count": 197,
     "metadata": {},
     "output_type": "execute_result"
    }
   ],
   "source": [
    "labels"
   ]
  },
  {
   "cell_type": "code",
   "execution_count": 198,
   "metadata": {},
   "outputs": [
    {
     "data": {
      "text/plain": [
       "<function ndarray.view>"
      ]
     },
     "execution_count": 198,
     "metadata": {},
     "output_type": "execute_result"
    }
   ],
   "source": [
    "labels.view"
   ]
  },
  {
   "cell_type": "code",
   "execution_count": 199,
   "metadata": {},
   "outputs": [],
   "source": [
    "X_dense = X.todense()\n",
    "pca = PCA(n_components=2).fit(X_dense)\n",
    "coords = pca.transform(X_dense)"
   ]
  },
  {
   "cell_type": "code",
   "execution_count": 200,
   "metadata": {},
   "outputs": [],
   "source": [
    "label_colors = [\"#2AB0E9\", \"#2BAF74\", \"#D7665E\", \"#CCCCCC\", \n",
    "                \"#D2CA0D\", \"#522A64\", \"#A3DB05\", \"#FC6514\"]\n",
    "colors = [label_colors[i] for i in labels]"
   ]
  },
  {
   "cell_type": "code",
   "execution_count": 201,
   "metadata": {},
   "outputs": [
    {
     "data": {
      "text/plain": [
       "<matplotlib.collections.PathCollection at 0x27800975e10>"
      ]
     },
     "execution_count": 201,
     "metadata": {},
     "output_type": "execute_result"
    },
    {
     "data": {
      "image/png": "[encoded data removed]",
      "text/plain": [
       "<Figure size 432x288 with 1 Axes>"
      ]
     },
     "metadata": {
      "needs_background": "light"
     },
     "output_type": "display_data"
    }
   ],
   "source": [
    "plt.scatter(coords[:, 0], coords[:, 1], c=colors)\n"
   ]
  },
  {
   "cell_type": "code",
   "execution_count": 202,
   "metadata": {},
   "outputs": [
    {
     "data": {
      "text/plain": [
       "<Figure size 432x288 with 0 Axes>"
      ]
     },
     "metadata": {},
     "output_type": "display_data"
    }
   ],
   "source": [
    "fig1 =plt.gcf()"
   ]
  },
  {
   "cell_type": "code",
   "execution_count": 203,
   "metadata": {},
   "outputs": [
    {
     "data": {
      "text/plain": [
       "<Figure size 432x288 with 0 Axes>"
      ]
     },
     "metadata": {},
     "output_type": "display_data"
    }
   ],
   "source": [
    "plt.show()\n",
    "plt.draw()\n",
    "fig1.savefig(\"test.jpg\",dpi=100)"
   ]
  },
  {
   "cell_type": "code",
   "execution_count": 204,
   "metadata": {},
   "outputs": [
    {
     "name": "stdout",
     "output_type": "stream",
     "text": [
      "[0 1 0 ... 2 0 0]\n"
     ]
    }
   ],
   "source": [
    "print(clf.labels_)"
   ]
  },
  {
   "cell_type": "code",
   "execution_count": 205,
   "metadata": {},
   "outputs": [
    {
     "data": {
      "text/plain": [
       "0.7830973580499198"
      ]
     },
     "execution_count": 205,
     "metadata": {},
     "output_type": "execute_result"
    }
   ],
   "source": [
    "sum(clf.labels_ == 0)/clf.labels_.shape[0]"
   ]
  },
  {
   "cell_type": "code",
   "execution_count": 206,
   "metadata": {},
   "outputs": [
    {
     "data": {
      "text/plain": [
       "0.08699459932856517"
      ]
     },
     "execution_count": 206,
     "metadata": {},
     "output_type": "execute_result"
    }
   ],
   "source": [
    "sum(clf.labels_ == 1)/clf.labels_.shape[0]"
   ]
  },
  {
   "cell_type": "code",
   "execution_count": 207,
   "metadata": {},
   "outputs": [
    {
     "data": {
      "text/plain": [
       "0.12990804262151512"
      ]
     },
     "execution_count": 207,
     "metadata": {},
     "output_type": "execute_result"
    }
   ],
   "source": [
    "sum(clf.labels_ == 2)/clf.labels_.shape[0]"
   ]
  },
  {
   "cell_type": "code",
   "execution_count": 208,
   "metadata": {},
   "outputs": [],
   "source": [
    "labels = pd.Series(clf.labels_, name = 'labels')"
   ]
  },
  {
   "cell_type": "code",
   "execution_count": 209,
   "metadata": {},
   "outputs": [],
   "source": [
    "ds = pd.concat([ds, labels],axis = 1)"
   ]
  },
  {
   "cell_type": "code",
   "execution_count": 210,
   "metadata": {},
   "outputs": [],
   "source": [
    "ds['maped_labs']= ds['Predicted_Class'].map({'Escalation':2,'Others':1,'Status':0})"
   ]
  },
  {
   "cell_type": "code",
   "execution_count": 211,
   "metadata": {
    "scrolled": true
   },
   "outputs": [
    {
     "data": {
      "text/html": [
       "<div>\n",
       "<style scoped>\n",
       "    .dataframe tbody tr th:only-of-type {\n",
       "        vertical-align: middle;\n",
       "    }\n",
       "\n",
       "    .dataframe tbody tr th {\n",
       "        vertical-align: top;\n",
       "    }\n",
       "\n",
       "    .dataframe thead th {\n",
       "        text-align: right;\n",
       "    }\n",
       "</style>\n",
       "<table border=\"1\" class=\"dataframe\">\n",
       "  <thead>\n",
       "    <tr style=\"text-align: right;\">\n",
       "      <th></th>\n",
       "      <th>Predicted_Class</th>\n",
       "      <th>final_cleaned_body</th>\n",
       "      <th>labels</th>\n",
       "      <th>maped_labs</th>\n",
       "    </tr>\n",
       "  </thead>\n",
       "  <tbody>\n",
       "    <tr>\n",
       "      <th>0</th>\n",
       "      <td>Others</td>\n",
       "      <td>payment query , thank you for your remittance....</td>\n",
       "      <td>0.0</td>\n",
       "      <td>1.0</td>\n",
       "    </tr>\n",
       "    <tr>\n",
       "      <th>1</th>\n",
       "      <td>Status</td>\n",
       "      <td>statement &amp; queries  find attached up to  stat...</td>\n",
       "      <td>1.0</td>\n",
       "      <td>0.0</td>\n",
       "    </tr>\n",
       "    <tr>\n",
       "      <th>2</th>\n",
       "      <td>Others</td>\n",
       "      <td>statement from oasis products vending services...</td>\n",
       "      <td>0.0</td>\n",
       "      <td>1.0</td>\n",
       "    </tr>\n",
       "    <tr>\n",
       "      <th>3</th>\n",
       "      <td>Others</td>\n",
       "      <td>ees uk cis deductions hi, after speaking to sh...</td>\n",
       "      <td>0.0</td>\n",
       "      <td>1.0</td>\n",
       "    </tr>\n",
       "    <tr>\n",
       "      <th>4</th>\n",
       "      <td>Others</td>\n",
       "      <td>securitas  processed twice in error hi all,  d...</td>\n",
       "      <td>0.0</td>\n",
       "      <td>1.0</td>\n",
       "    </tr>\n",
       "    <tr>\n",
       "      <th>5</th>\n",
       "      <td>Status</td>\n",
       "      <td>overdue  for vendor   advise on the payment of...</td>\n",
       "      <td>0.0</td>\n",
       "      <td>0.0</td>\n",
       "    </tr>\n",
       "    <tr>\n",
       "      <th>6</th>\n",
       "      <td>Others</td>\n",
       "      <td>problem hi supplier number  problem    cis sho...</td>\n",
       "      <td>0.0</td>\n",
       "      <td>1.0</td>\n",
       "    </tr>\n",
       "    <tr>\n",
       "      <th>7</th>\n",
       "      <td>Escalation</td>\n",
       "      <td>cis payment hi can you  solve this problem reg...</td>\n",
       "      <td>0.0</td>\n",
       "      <td>2.0</td>\n",
       "    </tr>\n",
       "    <tr>\n",
       "      <th>8</th>\n",
       "      <td>Escalation</td>\n",
       "      <td>cis payment hi can you  solve this problem reg...</td>\n",
       "      <td>0.0</td>\n",
       "      <td>2.0</td>\n",
       "    </tr>\n",
       "    <tr>\n",
       "      <th>9</th>\n",
       "      <td>Others</td>\n",
       "      <td>from control applications limited   note the...</td>\n",
       "      <td>0.0</td>\n",
       "      <td>1.0</td>\n",
       "    </tr>\n",
       "    <tr>\n",
       "      <th>10</th>\n",
       "      <td>Status</td>\n",
       "      <td>s vendor number  can we know the current statu...</td>\n",
       "      <td>2.0</td>\n",
       "      <td>0.0</td>\n",
       "    </tr>\n",
       "    <tr>\n",
       "      <th>11</th>\n",
       "      <td>Others</td>\n",
       "      <td>,  see the attached email sent on the  th sept...</td>\n",
       "      <td>0.0</td>\n",
       "      <td>1.0</td>\n",
       "    </tr>\n",
       "    <tr>\n",
       "      <th>12</th>\n",
       "      <td>Others</td>\n",
       "      <td>securitas  processed twice in error hi all,  d...</td>\n",
       "      <td>0.0</td>\n",
       "      <td>1.0</td>\n",
       "    </tr>\n",
       "    <tr>\n",
       "      <th>13</th>\n",
       "      <td>Others</td>\n",
       "      <td>securitas  processed twice in error hi all,  d...</td>\n",
       "      <td>0.0</td>\n",
       "      <td>1.0</td>\n",
       "    </tr>\n",
       "    <tr>\n",
       "      <th>14</th>\n",
       "      <td>Others</td>\n",
       "      <td>payment query , thank you for your remittance....</td>\n",
       "      <td>0.0</td>\n",
       "      <td>1.0</td>\n",
       "    </tr>\n",
       "    <tr>\n",
       "      <th>15</th>\n",
       "      <td>Others</td>\n",
       "      <td>payment query , thank you for your remittance....</td>\n",
       "      <td>0.0</td>\n",
       "      <td>1.0</td>\n",
       "    </tr>\n",
       "    <tr>\n",
       "      <th>16</th>\n",
       "      <td>Status</td>\n",
       "      <td>could you  advise if the below s have now bee...</td>\n",
       "      <td>0.0</td>\n",
       "      <td>0.0</td>\n",
       "    </tr>\n",
       "    <tr>\n",
       "      <th>17</th>\n",
       "      <td>Others</td>\n",
       "      <td>norton?s outstanding monies avtar can i  get a...</td>\n",
       "      <td>0.0</td>\n",
       "      <td>1.0</td>\n",
       "    </tr>\n",
       "    <tr>\n",
       "      <th>18</th>\n",
       "      <td>Others</td>\n",
       "      <td>query hello queries , st query the above two i...</td>\n",
       "      <td>0.0</td>\n",
       "      <td>1.0</td>\n",
       "    </tr>\n",
       "    <tr>\n",
       "      <th>19</th>\n",
       "      <td>Others</td>\n",
       "      <td>unpaid s morning wendy, could you have a look ...</td>\n",
       "      <td>0.0</td>\n",
       "      <td>1.0</td>\n",
       "    </tr>\n",
       "    <tr>\n",
       "      <th>20</th>\n",
       "      <td>Others</td>\n",
       "      <td>the accounts department is working part time h...</td>\n",
       "      <td>0.0</td>\n",
       "      <td>1.0</td>\n",
       "    </tr>\n",
       "    <tr>\n",
       "      <th>21</th>\n",
       "      <td>Others</td>\n",
       "      <td>s no  elevators uk limited- kone plc de la: d...</td>\n",
       "      <td>0.0</td>\n",
       "      <td>1.0</td>\n",
       "    </tr>\n",
       "    <tr>\n",
       "      <th>22</th>\n",
       "      <td>Others</td>\n",
       "      <td>s no  elevators uk limited- kone plc de la: d...</td>\n",
       "      <td>0.0</td>\n",
       "      <td>1.0</td>\n",
       "    </tr>\n",
       "    <tr>\n",
       "      <th>23</th>\n",
       "      <td>Others</td>\n",
       "      <td>hello,  find in attach the  no  thanks,</td>\n",
       "      <td>0.0</td>\n",
       "      <td>1.0</td>\n",
       "    </tr>\n",
       "    <tr>\n",
       "      <th>24</th>\n",
       "      <td>Others</td>\n",
       "      <td>neopost  query hi all, the document below is a...</td>\n",
       "      <td>0.0</td>\n",
       "      <td>1.0</td>\n",
       "    </tr>\n",
       "    <tr>\n",
       "      <th>25</th>\n",
       "      <td>Others</td>\n",
       "      <td>neopost  to be deleted hi all, the document be...</td>\n",
       "      <td>0.0</td>\n",
       "      <td>1.0</td>\n",
       "    </tr>\n",
       "    <tr>\n",
       "      <th>26</th>\n",
       "      <td>Others</td>\n",
       "      <td>overdue credit note and s importance: high hi ...</td>\n",
       "      <td>0.0</td>\n",
       "      <td>1.0</td>\n",
       "    </tr>\n",
       "    <tr>\n",
       "      <th>27</th>\n",
       "      <td>Others</td>\n",
       "      <td>from control applications limited   note the...</td>\n",
       "      <td>0.0</td>\n",
       "      <td>1.0</td>\n",
       "    </tr>\n",
       "    <tr>\n",
       "      <th>28</th>\n",
       "      <td>Status</td>\n",
       "      <td>kone plc ,  can you confirm a payment  for the...</td>\n",
       "      <td>0.0</td>\n",
       "      <td>0.0</td>\n",
       "    </tr>\n",
       "    <tr>\n",
       "      <th>29</th>\n",
       "      <td>Escalation</td>\n",
       "      <td>over due and due s for payment   find below s ...</td>\n",
       "      <td>0.0</td>\n",
       "      <td>2.0</td>\n",
       "    </tr>\n",
       "    <tr>\n",
       "      <th>...</th>\n",
       "      <td>...</td>\n",
       "      <td>...</td>\n",
       "      <td>...</td>\n",
       "      <td>...</td>\n",
       "    </tr>\n",
       "    <tr>\n",
       "      <th>6850</th>\n",
       "      <td>Others</td>\n",
       "      <td>sub: closure of case - spectrum house, beehive...</td>\n",
       "      <td>0.0</td>\n",
       "      <td>1.0</td>\n",
       "    </tr>\n",
       "    <tr>\n",
       "      <th>6851</th>\n",
       "      <td>Others</td>\n",
       "      <td>sulzer electro mechanical services uk limited ...</td>\n",
       "      <td>NaN</td>\n",
       "      <td>1.0</td>\n",
       "    </tr>\n",
       "    <tr>\n",
       "      <th>6852</th>\n",
       "      <td>Status</td>\n",
       "      <td>s  s we have been paid an amount today but i c...</td>\n",
       "      <td>NaN</td>\n",
       "      <td>0.0</td>\n",
       "    </tr>\n",
       "    <tr>\n",
       "      <th>6853</th>\n",
       "      <td>Others</td>\n",
       "      <td>rn lift ltd s not paid hi. i would like to kno...</td>\n",
       "      <td>NaN</td>\n",
       "      <td>1.0</td>\n",
       "    </tr>\n",
       "    <tr>\n",
       "      <th>6854</th>\n",
       "      <td>Others</td>\n",
       "      <td>vat return hello, i need help with my vat ret...</td>\n",
       "      <td>NaN</td>\n",
       "      <td>1.0</td>\n",
       "    </tr>\n",
       "    <tr>\n",
       "      <th>6855</th>\n",
       "      <td>Others</td>\n",
       "      <td>reservation hi can i  book the following acco...</td>\n",
       "      <td>NaN</td>\n",
       "      <td>1.0</td>\n",
       "    </tr>\n",
       "    <tr>\n",
       "      <th>6856</th>\n",
       "      <td>Others</td>\n",
       "      <td>statement from pirtek cork</td>\n",
       "      <td>NaN</td>\n",
       "      <td>1.0</td>\n",
       "    </tr>\n",
       "    <tr>\n",
       "      <th>6857</th>\n",
       "      <td>Others</td>\n",
       "      <td>payment specification</td>\n",
       "      <td>NaN</td>\n",
       "      <td>1.0</td>\n",
       "    </tr>\n",
       "    <tr>\n",
       "      <th>6858</th>\n",
       "      <td>Others</td>\n",
       "      <td>po  caution: external e-mail.  think before cl...</td>\n",
       "      <td>NaN</td>\n",
       "      <td>1.0</td>\n",
       "    </tr>\n",
       "    <tr>\n",
       "      <th>6860</th>\n",
       "      <td>Escalation</td>\n",
       "      <td>outstanding items  all, i have been chasing pa...</td>\n",
       "      <td>NaN</td>\n",
       "      <td>2.0</td>\n",
       "    </tr>\n",
       "    <tr>\n",
       "      <th>6861</th>\n",
       "      <td>Status</td>\n",
       "      <td>find attached our   which is now due for p...</td>\n",
       "      <td>NaN</td>\n",
       "      <td>0.0</td>\n",
       "    </tr>\n",
       "    <tr>\n",
       "      <th>6862</th>\n",
       "      <td>Others</td>\n",
       "      <td>hi team,  check with sharon kennedy regarding ...</td>\n",
       "      <td>NaN</td>\n",
       "      <td>1.0</td>\n",
       "    </tr>\n",
       "    <tr>\n",
       "      <th>6863</th>\n",
       "      <td>Others</td>\n",
       "      <td>sub: thank you for your request:  gunnebo sta...</td>\n",
       "      <td>NaN</td>\n",
       "      <td>1.0</td>\n",
       "    </tr>\n",
       "    <tr>\n",
       "      <th>6864</th>\n",
       "      <td>Others</td>\n",
       "      <td>warning: the sender of this email could not be...</td>\n",
       "      <td>NaN</td>\n",
       "      <td>1.0</td>\n",
       "    </tr>\n",
       "    <tr>\n",
       "      <th>6865</th>\n",
       "      <td>Others</td>\n",
       "      <td>copy of   null</td>\n",
       "      <td>NaN</td>\n",
       "      <td>1.0</td>\n",
       "    </tr>\n",
       "    <tr>\n",
       "      <th>6866</th>\n",
       "      <td>Others</td>\n",
       "      <td>we need an urgent response. especially the feb...</td>\n",
       "      <td>NaN</td>\n",
       "      <td>1.0</td>\n",
       "    </tr>\n",
       "    <tr>\n",
       "      <th>6867</th>\n",
       "      <td>Others</td>\n",
       "      <td>over deducted cis payments  it is with great d...</td>\n",
       "      <td>NaN</td>\n",
       "      <td>1.0</td>\n",
       "    </tr>\n",
       "    <tr>\n",
       "      <th>6868</th>\n",
       "      <td>Others</td>\n",
       "      <td>c&amp;r lifts services</td>\n",
       "      <td>NaN</td>\n",
       "      <td>1.0</td>\n",
       "    </tr>\n",
       "    <tr>\n",
       "      <th>6869</th>\n",
       "      <td>Others</td>\n",
       "      <td>cis statement   to    / as a valued subcontrac...</td>\n",
       "      <td>NaN</td>\n",
       "      <td>1.0</td>\n",
       "    </tr>\n",
       "    <tr>\n",
       "      <th>6870</th>\n",
       "      <td>Others</td>\n",
       "      <td>cis statement   to    / as a valued subcontrac...</td>\n",
       "      <td>NaN</td>\n",
       "      <td>1.0</td>\n",
       "    </tr>\n",
       "    <tr>\n",
       "      <th>6871</th>\n",
       "      <td>Others</td>\n",
       "      <td>cis statement   to    / as a valued subcontrac...</td>\n",
       "      <td>NaN</td>\n",
       "      <td>1.0</td>\n",
       "    </tr>\n",
       "    <tr>\n",
       "      <th>6872</th>\n",
       "      <td>Others</td>\n",
       "      <td>eagle overseas statement</td>\n",
       "      <td>NaN</td>\n",
       "      <td>1.0</td>\n",
       "    </tr>\n",
       "    <tr>\n",
       "      <th>6873</th>\n",
       "      <td>Others</td>\n",
       "      <td>kone statement</td>\n",
       "      <td>NaN</td>\n",
       "      <td>1.0</td>\n",
       "    </tr>\n",
       "    <tr>\n",
       "      <th>6874</th>\n",
       "      <td>Others</td>\n",
       "      <td>hi, could you  push back to the vendor, po is ...</td>\n",
       "      <td>NaN</td>\n",
       "      <td>1.0</td>\n",
       "    </tr>\n",
       "    <tr>\n",
       "      <th>6875</th>\n",
       "      <td>Others</td>\n",
       "      <td>,  find account statement attached for your re...</td>\n",
       "      <td>NaN</td>\n",
       "      <td>1.0</td>\n",
       "    </tr>\n",
       "    <tr>\n",
       "      <th>6876</th>\n",
       "      <td>Others</td>\n",
       "      <td>gs culleton - invoicing error , i can see a pa...</td>\n",
       "      <td>NaN</td>\n",
       "      <td>1.0</td>\n",
       "    </tr>\n",
       "    <tr>\n",
       "      <th>6877</th>\n",
       "      <td>Status</td>\n",
       "      <td>hi all, many thanks for your recent remittance...</td>\n",
       "      <td>NaN</td>\n",
       "      <td>0.0</td>\n",
       "    </tr>\n",
       "    <tr>\n",
       "      <th>6878</th>\n",
       "      <td>Others</td>\n",
       "      <td>hi team,  push back to vendor as po lines wer...</td>\n",
       "      <td>NaN</td>\n",
       "      <td>1.0</td>\n",
       "    </tr>\n",
       "    <tr>\n",
       "      <th>6879</th>\n",
       "      <td>Others</td>\n",
       "      <td>hi ian, we have another  which has missed pay...</td>\n",
       "      <td>NaN</td>\n",
       "      <td>1.0</td>\n",
       "    </tr>\n",
       "    <tr>\n",
       "      <th>6880</th>\n",
       "      <td>Others</td>\n",
       "      <td>urgent letters received at keighley today    ...</td>\n",
       "      <td>NaN</td>\n",
       "      <td>1.0</td>\n",
       "    </tr>\n",
       "  </tbody>\n",
       "</table>\n",
       "<p>6880 rows × 4 columns</p>\n",
       "</div>"
      ],
      "text/plain": [
       "     Predicted_Class                                 final_cleaned_body  \\\n",
       "0             Others  payment query , thank you for your remittance....   \n",
       "1             Status  statement & queries  find attached up to  stat...   \n",
       "2             Others  statement from oasis products vending services...   \n",
       "3             Others  ees uk cis deductions hi, after speaking to sh...   \n",
       "4             Others  securitas  processed twice in error hi all,  d...   \n",
       "5             Status  overdue  for vendor   advise on the payment of...   \n",
       "6             Others  problem hi supplier number  problem    cis sho...   \n",
       "7         Escalation  cis payment hi can you  solve this problem reg...   \n",
       "8         Escalation  cis payment hi can you  solve this problem reg...   \n",
       "9             Others    from control applications limited   note the...   \n",
       "10            Status  s vendor number  can we know the current statu...   \n",
       "11            Others  ,  see the attached email sent on the  th sept...   \n",
       "12            Others  securitas  processed twice in error hi all,  d...   \n",
       "13            Others  securitas  processed twice in error hi all,  d...   \n",
       "14            Others  payment query , thank you for your remittance....   \n",
       "15            Others  payment query , thank you for your remittance....   \n",
       "16            Status   could you  advise if the below s have now bee...   \n",
       "17            Others  norton?s outstanding monies avtar can i  get a...   \n",
       "18            Others  query hello queries , st query the above two i...   \n",
       "19            Others  unpaid s morning wendy, could you have a look ...   \n",
       "20            Others  the accounts department is working part time h...   \n",
       "21            Others   s no  elevators uk limited- kone plc de la: d...   \n",
       "22            Others   s no  elevators uk limited- kone plc de la: d...   \n",
       "23            Others            hello,  find in attach the  no  thanks,   \n",
       "24            Others  neopost  query hi all, the document below is a...   \n",
       "25            Others  neopost  to be deleted hi all, the document be...   \n",
       "26            Others  overdue credit note and s importance: high hi ...   \n",
       "27            Others    from control applications limited   note the...   \n",
       "28            Status  kone plc ,  can you confirm a payment  for the...   \n",
       "29        Escalation  over due and due s for payment   find below s ...   \n",
       "...              ...                                                ...   \n",
       "6850          Others  sub: closure of case - spectrum house, beehive...   \n",
       "6851          Others  sulzer electro mechanical services uk limited ...   \n",
       "6852          Status  s  s we have been paid an amount today but i c...   \n",
       "6853          Others  rn lift ltd s not paid hi. i would like to kno...   \n",
       "6854          Others   vat return hello, i need help with my vat ret...   \n",
       "6855          Others   reservation hi can i  book the following acco...   \n",
       "6856          Others                         statement from pirtek cork   \n",
       "6857          Others                              payment specification   \n",
       "6858          Others  po  caution: external e-mail.  think before cl...   \n",
       "6860      Escalation  outstanding items  all, i have been chasing pa...   \n",
       "6861          Status      find attached our   which is now due for p...   \n",
       "6862          Others  hi team,  check with sharon kennedy regarding ...   \n",
       "6863          Others   sub: thank you for your request:  gunnebo sta...   \n",
       "6864          Others  warning: the sender of this email could not be...   \n",
       "6865          Others                                     copy of   null   \n",
       "6866          Others  we need an urgent response. especially the feb...   \n",
       "6867          Others  over deducted cis payments  it is with great d...   \n",
       "6868          Others                                 c&r lifts services   \n",
       "6869          Others  cis statement   to    / as a valued subcontrac...   \n",
       "6870          Others  cis statement   to    / as a valued subcontrac...   \n",
       "6871          Others  cis statement   to    / as a valued subcontrac...   \n",
       "6872          Others                           eagle overseas statement   \n",
       "6873          Others                                     kone statement   \n",
       "6874          Others  hi, could you  push back to the vendor, po is ...   \n",
       "6875          Others  ,  find account statement attached for your re...   \n",
       "6876          Others  gs culleton - invoicing error , i can see a pa...   \n",
       "6877          Status  hi all, many thanks for your recent remittance...   \n",
       "6878          Others   hi team,  push back to vendor as po lines wer...   \n",
       "6879          Others   hi ian, we have another  which has missed pay...   \n",
       "6880          Others   urgent letters received at keighley today    ...   \n",
       "\n",
       "      labels  maped_labs  \n",
       "0        0.0         1.0  \n",
       "1        1.0         0.0  \n",
       "2        0.0         1.0  \n",
       "3        0.0         1.0  \n",
       "4        0.0         1.0  \n",
       "5        0.0         0.0  \n",
       "6        0.0         1.0  \n",
       "7        0.0         2.0  \n",
       "8        0.0         2.0  \n",
       "9        0.0         1.0  \n",
       "10       2.0         0.0  \n",
       "11       0.0         1.0  \n",
       "12       0.0         1.0  \n",
       "13       0.0         1.0  \n",
       "14       0.0         1.0  \n",
       "15       0.0         1.0  \n",
       "16       0.0         0.0  \n",
       "17       0.0         1.0  \n",
       "18       0.0         1.0  \n",
       "19       0.0         1.0  \n",
       "20       0.0         1.0  \n",
       "21       0.0         1.0  \n",
       "22       0.0         1.0  \n",
       "23       0.0         1.0  \n",
       "24       0.0         1.0  \n",
       "25       0.0         1.0  \n",
       "26       0.0         1.0  \n",
       "27       0.0         1.0  \n",
       "28       0.0         0.0  \n",
       "29       0.0         2.0  \n",
       "...      ...         ...  \n",
       "6850     0.0         1.0  \n",
       "6851     NaN         1.0  \n",
       "6852     NaN         0.0  \n",
       "6853     NaN         1.0  \n",
       "6854     NaN         1.0  \n",
       "6855     NaN         1.0  \n",
       "6856     NaN         1.0  \n",
       "6857     NaN         1.0  \n",
       "6858     NaN         1.0  \n",
       "6860     NaN         2.0  \n",
       "6861     NaN         0.0  \n",
       "6862     NaN         1.0  \n",
       "6863     NaN         1.0  \n",
       "6864     NaN         1.0  \n",
       "6865     NaN         1.0  \n",
       "6866     NaN         1.0  \n",
       "6867     NaN         1.0  \n",
       "6868     NaN         1.0  \n",
       "6869     NaN         1.0  \n",
       "6870     NaN         1.0  \n",
       "6871     NaN         1.0  \n",
       "6872     NaN         1.0  \n",
       "6873     NaN         1.0  \n",
       "6874     NaN         1.0  \n",
       "6875     NaN         1.0  \n",
       "6876     NaN         1.0  \n",
       "6877     NaN         0.0  \n",
       "6878     NaN         1.0  \n",
       "6879     NaN         1.0  \n",
       "6880     NaN         1.0  \n",
       "\n",
       "[6880 rows x 4 columns]"
      ]
     },
     "execution_count": 211,
     "metadata": {},
     "output_type": "execute_result"
    }
   ],
   "source": [
    "ds"
   ]
  },
  {
   "cell_type": "code",
   "execution_count": 212,
   "metadata": {},
   "outputs": [],
   "source": [
    "# ds['category_id'] = ds['Predicted_Class'].factorize()[0]\n",
    "# category_id_df = ds[['Predicted_Class', 'category_id']].drop_duplicates()\n"
   ]
  },
  {
   "cell_type": "markdown",
   "metadata": {},
   "source": [
    "# Categorical Visulization"
   ]
  },
  {
   "cell_type": "code",
   "execution_count": 213,
   "metadata": {},
   "outputs": [
    {
     "data": {
      "image/png": "[encoded data removed]",
      "text/plain": [
       "<Figure size 432x288 with 1 Axes>"
      ]
     },
     "metadata": {},
     "output_type": "display_data"
    },
    {
     "data": {
      "text/plain": [
       "<Figure size 432x288 with 0 Axes>"
      ]
     },
     "metadata": {},
     "output_type": "display_data"
    }
   ],
   "source": [
    "category_numeric_val =[5585,832,434]\n",
    "categories =['Others','Status','Escalation']\n",
    "plt.pie(category_numeric_val,labels=categories,startangle=90,autopct='%.1f%%')\n",
    "plt.title('Email Category Graph')\n",
    "# fig1 = plt.gcf()\n",
    "plt.show()\n",
    "plt.draw()\n",
    "fig1.savefig('image.png', dpi=100)"
   ]
  },
  {
   "cell_type": "code",
   "execution_count": 214,
   "metadata": {},
   "outputs": [
    {
     "data": {
      "text/plain": [
       "Others        5585\n",
       "Status         832\n",
       "Escalation     434\n",
       "Name: Predicted_Class, dtype: int64"
      ]
     },
     "execution_count": 214,
     "metadata": {},
     "output_type": "execute_result"
    }
   ],
   "source": [
    "ds.Predicted_Class.value_counts()"
   ]
  },
  {
   "cell_type": "markdown",
   "metadata": {},
   "source": [
    "# Remove the unnecessary columns labels and maped labels as both of them do not contribute well in Data Modelling, so better drop those 2 columns "
   ]
  },
  {
   "cell_type": "code",
   "execution_count": 215,
   "metadata": {},
   "outputs": [],
   "source": [
    "ds=ds.drop(columns=['labels','maped_labs'])"
   ]
  },
  {
   "cell_type": "code",
   "execution_count": 216,
   "metadata": {},
   "outputs": [
    {
     "data": {
      "text/html": [
       "<div>\n",
       "<style scoped>\n",
       "    .dataframe tbody tr th:only-of-type {\n",
       "        vertical-align: middle;\n",
       "    }\n",
       "\n",
       "    .dataframe tbody tr th {\n",
       "        vertical-align: top;\n",
       "    }\n",
       "\n",
       "    .dataframe thead th {\n",
       "        text-align: right;\n",
       "    }\n",
       "</style>\n",
       "<table border=\"1\" class=\"dataframe\">\n",
       "  <thead>\n",
       "    <tr style=\"text-align: right;\">\n",
       "      <th></th>\n",
       "      <th>Predicted_Class</th>\n",
       "      <th>final_cleaned_body</th>\n",
       "    </tr>\n",
       "  </thead>\n",
       "  <tbody>\n",
       "    <tr>\n",
       "      <th>0</th>\n",
       "      <td>Others</td>\n",
       "      <td>payment query , thank you for your remittance....</td>\n",
       "    </tr>\n",
       "    <tr>\n",
       "      <th>1</th>\n",
       "      <td>Status</td>\n",
       "      <td>statement &amp; queries  find attached up to  stat...</td>\n",
       "    </tr>\n",
       "  </tbody>\n",
       "</table>\n",
       "</div>"
      ],
      "text/plain": [
       "  Predicted_Class                                 final_cleaned_body\n",
       "0          Others  payment query , thank you for your remittance....\n",
       "1          Status  statement & queries  find attached up to  stat..."
      ]
     },
     "execution_count": 216,
     "metadata": {},
     "output_type": "execute_result"
    }
   ],
   "source": [
    "ds.head(2)"
   ]
  },
  {
   "cell_type": "markdown",
   "metadata": {},
   "source": [
    "# Count Actual vs Unique vs Duplicate Values"
   ]
  },
  {
   "cell_type": "code",
   "execution_count": 217,
   "metadata": {},
   "outputs": [
    {
     "name": "stdout",
     "output_type": "stream",
     "text": [
      "    Col_value  Count\n",
      "0  Escalation    434\n",
      "1      Others   5585\n",
      "2      Status    832\n"
     ]
    }
   ],
   "source": [
    "data = ds.groupby('Predicted_Class').size().reset_index(name='Count').rename(columns={'Predicted_Class':'Col_value'})\n",
    "print (data)"
   ]
  },
  {
   "cell_type": "markdown",
   "metadata": {},
   "source": [
    "### For Drop 2"
   ]
  },
  {
   "cell_type": "code",
   "execution_count": 218,
   "metadata": {},
   "outputs": [],
   "source": [
    "# ds.isnull().sum()"
   ]
  },
  {
   "cell_type": "code",
   "execution_count": 219,
   "metadata": {},
   "outputs": [],
   "source": [
    "# ds.to_csv(\"to_Check_the_null_values.csv\")"
   ]
  },
  {
   "cell_type": "code",
   "execution_count": 220,
   "metadata": {},
   "outputs": [],
   "source": [
    "# l2 =ds[ds['labels'].isnull()].index.tolist()"
   ]
  },
  {
   "cell_type": "code",
   "execution_count": 221,
   "metadata": {},
   "outputs": [],
   "source": [
    "# len(l2)"
   ]
  },
  {
   "cell_type": "code",
   "execution_count": 222,
   "metadata": {},
   "outputs": [],
   "source": [
    "# l2"
   ]
  },
  {
   "cell_type": "code",
   "execution_count": 223,
   "metadata": {},
   "outputs": [],
   "source": [
    "# drop_2=ds.loc[l2]"
   ]
  },
  {
   "cell_type": "code",
   "execution_count": 224,
   "metadata": {},
   "outputs": [],
   "source": [
    "# drop_2"
   ]
  },
  {
   "cell_type": "markdown",
   "metadata": {},
   "source": [
    "## To show the drop of Rows belonging to Given Individual Categories"
   ]
  },
  {
   "cell_type": "markdown",
   "metadata": {},
   "source": [
    "### For status"
   ]
  },
  {
   "cell_type": "code",
   "execution_count": 225,
   "metadata": {},
   "outputs": [],
   "source": [
    "# s=drop_2.loc[(ds[\"Predicted_Class\"]==\"Status\") & (drop_2 [\"final_cleaned_body\"]), [\"Predicted_Class\",\"final_cleaned_body\"]]"
   ]
  },
  {
   "cell_type": "code",
   "execution_count": 226,
   "metadata": {},
   "outputs": [],
   "source": [
    "# s"
   ]
  },
  {
   "cell_type": "markdown",
   "metadata": {},
   "source": [
    "### For Escalation"
   ]
  },
  {
   "cell_type": "code",
   "execution_count": 227,
   "metadata": {},
   "outputs": [],
   "source": [
    "# e=drop_2.loc[(ds[\"Predicted_Class\"]==\"Escalation\") & (drop_2 [\"final_cleaned_body\"]), [\"Predicted_Class\",\"final_cleaned_body\"]]"
   ]
  },
  {
   "cell_type": "code",
   "execution_count": 228,
   "metadata": {},
   "outputs": [],
   "source": [
    "# e"
   ]
  },
  {
   "cell_type": "markdown",
   "metadata": {},
   "source": [
    "### For Others"
   ]
  },
  {
   "cell_type": "code",
   "execution_count": 229,
   "metadata": {},
   "outputs": [],
   "source": [
    "# o=drop_2.loc[(ds[\"Predicted_Class\"]==\"Others\") & (drop_2 [\"final_cleaned_body\"]), [\"Predicted_Class\",\"final_cleaned_body\"]]"
   ]
  },
  {
   "cell_type": "code",
   "execution_count": 230,
   "metadata": {},
   "outputs": [],
   "source": [
    "# o.Predicted_Class.value_counts()"
   ]
  },
  {
   "cell_type": "code",
   "execution_count": 231,
   "metadata": {},
   "outputs": [],
   "source": [
    "# o"
   ]
  },
  {
   "cell_type": "markdown",
   "metadata": {},
   "source": [
    "## Second Drop of 29 rows "
   ]
  },
  {
   "cell_type": "code",
   "execution_count": 232,
   "metadata": {},
   "outputs": [],
   "source": [
    "# ds =ds.dropna()\n"
   ]
  },
  {
   "cell_type": "code",
   "execution_count": 233,
   "metadata": {},
   "outputs": [],
   "source": [
    "# ds.isnull().sum()"
   ]
  },
  {
   "cell_type": "code",
   "execution_count": 234,
   "metadata": {},
   "outputs": [],
   "source": [
    "# ds.Predicted_Class.value_counts()"
   ]
  },
  {
   "cell_type": "code",
   "execution_count": 235,
   "metadata": {},
   "outputs": [
    {
     "data": {
      "text/plain": [
       "Index(['Predicted_Class', 'final_cleaned_body'], dtype='object')"
      ]
     },
     "execution_count": 235,
     "metadata": {},
     "output_type": "execute_result"
    }
   ],
   "source": [
    "ds.columns"
   ]
  },
  {
   "cell_type": "code",
   "execution_count": 236,
   "metadata": {},
   "outputs": [
    {
     "data": {
      "text/html": [
       "<div>\n",
       "<style scoped>\n",
       "    .dataframe tbody tr th:only-of-type {\n",
       "        vertical-align: middle;\n",
       "    }\n",
       "\n",
       "    .dataframe tbody tr th {\n",
       "        vertical-align: top;\n",
       "    }\n",
       "\n",
       "    .dataframe thead th {\n",
       "        text-align: right;\n",
       "    }\n",
       "</style>\n",
       "<table border=\"1\" class=\"dataframe\">\n",
       "  <thead>\n",
       "    <tr style=\"text-align: right;\">\n",
       "      <th></th>\n",
       "      <th>Predicted_Class</th>\n",
       "      <th>final_cleaned_body</th>\n",
       "    </tr>\n",
       "  </thead>\n",
       "  <tbody>\n",
       "    <tr>\n",
       "      <th>0</th>\n",
       "      <td>Others</td>\n",
       "      <td>payment query , thank you for your remittance....</td>\n",
       "    </tr>\n",
       "    <tr>\n",
       "      <th>1</th>\n",
       "      <td>Status</td>\n",
       "      <td>statement &amp; queries  find attached up to  stat...</td>\n",
       "    </tr>\n",
       "  </tbody>\n",
       "</table>\n",
       "</div>"
      ],
      "text/plain": [
       "  Predicted_Class                                 final_cleaned_body\n",
       "0          Others  payment query , thank you for your remittance....\n",
       "1          Status  statement & queries  find attached up to  stat..."
      ]
     },
     "execution_count": 236,
     "metadata": {},
     "output_type": "execute_result"
    }
   ],
   "source": [
    "ds.head(2)"
   ]
  },
  {
   "cell_type": "code",
   "execution_count": 237,
   "metadata": {},
   "outputs": [],
   "source": [
    "status=ds.loc[(ds[\"Predicted_Class\"]==\"Status\") & (ds [\"final_cleaned_body\"]), [\"Predicted_Class\",\"final_cleaned_body\"]]"
   ]
  },
  {
   "cell_type": "code",
   "execution_count": 238,
   "metadata": {},
   "outputs": [
    {
     "data": {
      "text/html": [
       "<div>\n",
       "<style scoped>\n",
       "    .dataframe tbody tr th:only-of-type {\n",
       "        vertical-align: middle;\n",
       "    }\n",
       "\n",
       "    .dataframe tbody tr th {\n",
       "        vertical-align: top;\n",
       "    }\n",
       "\n",
       "    .dataframe thead th {\n",
       "        text-align: right;\n",
       "    }\n",
       "</style>\n",
       "<table border=\"1\" class=\"dataframe\">\n",
       "  <thead>\n",
       "    <tr style=\"text-align: right;\">\n",
       "      <th></th>\n",
       "      <th>Predicted_Class</th>\n",
       "      <th>final_cleaned_body</th>\n",
       "    </tr>\n",
       "  </thead>\n",
       "  <tbody>\n",
       "    <tr>\n",
       "      <th>1</th>\n",
       "      <td>Status</td>\n",
       "      <td>statement &amp; queries  find attached up to  stat...</td>\n",
       "    </tr>\n",
       "    <tr>\n",
       "      <th>5</th>\n",
       "      <td>Status</td>\n",
       "      <td>overdue  for vendor   advise on the payment of...</td>\n",
       "    </tr>\n",
       "  </tbody>\n",
       "</table>\n",
       "</div>"
      ],
      "text/plain": [
       "  Predicted_Class                                 final_cleaned_body\n",
       "1          Status  statement & queries  find attached up to  stat...\n",
       "5          Status  overdue  for vendor   advise on the payment of..."
      ]
     },
     "execution_count": 238,
     "metadata": {},
     "output_type": "execute_result"
    }
   ],
   "source": [
    "status.head(2)"
   ]
  },
  {
   "cell_type": "code",
   "execution_count": 239,
   "metadata": {},
   "outputs": [
    {
     "data": {
      "text/plain": [
       "417"
      ]
     },
     "execution_count": 239,
     "metadata": {},
     "output_type": "execute_result"
    }
   ],
   "source": [
    "status.final_cleaned_body.nunique(dropna = True) "
   ]
  },
  {
   "cell_type": "markdown",
   "metadata": {},
   "source": [
    "## total unique values in column = final_body for status = 414 out of actual total of 829 ,hence duplicate values = actual total - unique i.e 829-414=415"
   ]
  },
  {
   "cell_type": "code",
   "execution_count": 240,
   "metadata": {},
   "outputs": [],
   "source": [
    "escalation=ds.loc[(ds[\"Predicted_Class\"]==\"Escalation\") & (ds [\"final_cleaned_body\"]), [\"Predicted_Class\",\"final_cleaned_body\"]]"
   ]
  },
  {
   "cell_type": "code",
   "execution_count": 241,
   "metadata": {},
   "outputs": [
    {
     "data": {
      "text/html": [
       "<div>\n",
       "<style scoped>\n",
       "    .dataframe tbody tr th:only-of-type {\n",
       "        vertical-align: middle;\n",
       "    }\n",
       "\n",
       "    .dataframe tbody tr th {\n",
       "        vertical-align: top;\n",
       "    }\n",
       "\n",
       "    .dataframe thead th {\n",
       "        text-align: right;\n",
       "    }\n",
       "</style>\n",
       "<table border=\"1\" class=\"dataframe\">\n",
       "  <thead>\n",
       "    <tr style=\"text-align: right;\">\n",
       "      <th></th>\n",
       "      <th>Predicted_Class</th>\n",
       "      <th>final_cleaned_body</th>\n",
       "    </tr>\n",
       "  </thead>\n",
       "  <tbody>\n",
       "    <tr>\n",
       "      <th>7</th>\n",
       "      <td>Escalation</td>\n",
       "      <td>cis payment hi can you  solve this problem reg...</td>\n",
       "    </tr>\n",
       "    <tr>\n",
       "      <th>8</th>\n",
       "      <td>Escalation</td>\n",
       "      <td>cis payment hi can you  solve this problem reg...</td>\n",
       "    </tr>\n",
       "  </tbody>\n",
       "</table>\n",
       "</div>"
      ],
      "text/plain": [
       "  Predicted_Class                                 final_cleaned_body\n",
       "7      Escalation  cis payment hi can you  solve this problem reg...\n",
       "8      Escalation  cis payment hi can you  solve this problem reg..."
      ]
     },
     "execution_count": 241,
     "metadata": {},
     "output_type": "execute_result"
    }
   ],
   "source": [
    "escalation.head(2)"
   ]
  },
  {
   "cell_type": "code",
   "execution_count": 242,
   "metadata": {},
   "outputs": [
    {
     "data": {
      "text/plain": [
       "209"
      ]
     },
     "execution_count": 242,
     "metadata": {},
     "output_type": "execute_result"
    }
   ],
   "source": [
    "escalation.final_cleaned_body.nunique(dropna = True) "
   ]
  },
  {
   "cell_type": "markdown",
   "metadata": {},
   "source": [
    "## total unique values in column = final_body for escalation= 209 out of actual total of 433,hence duplicate values = actual total - unique i.e 433-209=224"
   ]
  },
  {
   "cell_type": "code",
   "execution_count": 243,
   "metadata": {},
   "outputs": [],
   "source": [
    "others=ds.loc[(ds[\"Predicted_Class\"]==\"Others\") & (ds [\"final_cleaned_body\"]), [\"Predicted_Class\",\"final_cleaned_body\"]]"
   ]
  },
  {
   "cell_type": "code",
   "execution_count": 244,
   "metadata": {},
   "outputs": [
    {
     "data": {
      "text/html": [
       "<div>\n",
       "<style scoped>\n",
       "    .dataframe tbody tr th:only-of-type {\n",
       "        vertical-align: middle;\n",
       "    }\n",
       "\n",
       "    .dataframe tbody tr th {\n",
       "        vertical-align: top;\n",
       "    }\n",
       "\n",
       "    .dataframe thead th {\n",
       "        text-align: right;\n",
       "    }\n",
       "</style>\n",
       "<table border=\"1\" class=\"dataframe\">\n",
       "  <thead>\n",
       "    <tr style=\"text-align: right;\">\n",
       "      <th></th>\n",
       "      <th>Predicted_Class</th>\n",
       "      <th>final_cleaned_body</th>\n",
       "    </tr>\n",
       "  </thead>\n",
       "  <tbody>\n",
       "    <tr>\n",
       "      <th>0</th>\n",
       "      <td>Others</td>\n",
       "      <td>payment query , thank you for your remittance....</td>\n",
       "    </tr>\n",
       "    <tr>\n",
       "      <th>2</th>\n",
       "      <td>Others</td>\n",
       "      <td>statement from oasis products vending services...</td>\n",
       "    </tr>\n",
       "  </tbody>\n",
       "</table>\n",
       "</div>"
      ],
      "text/plain": [
       "  Predicted_Class                                 final_cleaned_body\n",
       "0          Others  payment query , thank you for your remittance....\n",
       "2          Others  statement from oasis products vending services..."
      ]
     },
     "execution_count": 244,
     "metadata": {},
     "output_type": "execute_result"
    }
   ],
   "source": [
    "others.head(2)"
   ]
  },
  {
   "cell_type": "code",
   "execution_count": 245,
   "metadata": {},
   "outputs": [
    {
     "data": {
      "text/plain": [
       "2568"
      ]
     },
     "execution_count": 245,
     "metadata": {},
     "output_type": "execute_result"
    }
   ],
   "source": [
    "others.final_cleaned_body.nunique(dropna = True) "
   ]
  },
  {
   "cell_type": "markdown",
   "metadata": {},
   "source": [
    "### total unique values in column = final_body for others= 2556 out of actual total of 5560,hence duplicate values = actual total - unique i.e 5560-2556=3004"
   ]
  },
  {
   "cell_type": "markdown",
   "metadata": {},
   "source": [
    "# Table for Comparision of Actual vs Unique vs Duplicate Count in Emails for each Predicted Class"
   ]
  },
  {
   "cell_type": "markdown",
   "metadata": {},
   "source": [
    "| Predicted_Class | Actual Count | After 1st drop (30 rows)| Unique Count | Duplicate Count |\n",
    "|-----------------|--------------|-------------------------|--------------|-----------------|\n",
    "| Status          | 832          | 832                     | 417          | 415             |\n",
    "| Escalation      | 434          | 434                     | 209          | 225             |\n",
    "| Others          | 5615         | 5585                    | 2568         | 3047            |\n",
    "|-----------------|--------------|-------------------------|--------------|-----------------|\n",
    "| TOTAL           | 6881         | 6851 +30=6881           | 3194         | 3687            |\n",
    "|-----------------|--------------|------------------------ |--------------|-----------------|\n",
    "\n"
   ]
  },
  {
   "cell_type": "markdown",
   "metadata": {},
   "source": [
    "###        |                            ACTUAL = SUM OF DUPLICATES + UNIQUE i.e 3194+3687=6881                         |"
   ]
  },
  {
   "cell_type": "code",
   "execution_count": 246,
   "metadata": {},
   "outputs": [
    {
     "data": {
      "text/plain": [
       "<matplotlib.axes._subplots.AxesSubplot at 0x278008ee358>"
      ]
     },
     "execution_count": 246,
     "metadata": {},
     "output_type": "execute_result"
    },
    {
     "data": {
      "image/png": "[encoded data removed]",
      "text/plain": [
       "<Figure size 432x288 with 1 Axes>"
      ]
     },
     "metadata": {
      "needs_background": "light"
     },
     "output_type": "display_data"
    }
   ],
   "source": [
    "ds['Predicted_Class'].value_counts().plot(kind='bar')"
   ]
  },
  {
   "cell_type": "markdown",
   "metadata": {},
   "source": [
    "# Modelling "
   ]
  },
  {
   "cell_type": "code",
   "execution_count": 247,
   "metadata": {},
   "outputs": [],
   "source": [
    "# Performing The Basics"
   ]
  },
  {
   "cell_type": "code",
   "execution_count": 248,
   "metadata": {},
   "outputs": [],
   "source": [
    "data = pd.read_csv('Cleaned_Dummy_Data.csv')\n"
   ]
  },
  {
   "cell_type": "code",
   "execution_count": 249,
   "metadata": {},
   "outputs": [],
   "source": [
    "data['category_id'] = data['Predicted_Class'].factorize()[0]\n",
    "category_id_df = data[['Predicted_Class', 'category_id']].drop_duplicates()\n",
    "\n",
    "\n",
    "# Dictionaries for future use\n",
    "category_to_id = dict(category_id_df.values)\n",
    "id_to_category = dict(category_id_df[['category_id', 'Predicted_Class']].values)"
   ]
  },
  {
   "cell_type": "code",
   "execution_count": 250,
   "metadata": {},
   "outputs": [
    {
     "data": {
      "text/html": [
       "<div>\n",
       "<style scoped>\n",
       "    .dataframe tbody tr th:only-of-type {\n",
       "        vertical-align: middle;\n",
       "    }\n",
       "\n",
       "    .dataframe tbody tr th {\n",
       "        vertical-align: top;\n",
       "    }\n",
       "\n",
       "    .dataframe thead th {\n",
       "        text-align: right;\n",
       "    }\n",
       "</style>\n",
       "<table border=\"1\" class=\"dataframe\">\n",
       "  <thead>\n",
       "    <tr style=\"text-align: right;\">\n",
       "      <th></th>\n",
       "      <th>Unnamed: 0</th>\n",
       "      <th>Id</th>\n",
       "      <th>htmlbody_cleaned_data</th>\n",
       "      <th>Predicted_Class</th>\n",
       "      <th>clean</th>\n",
       "      <th>final_body</th>\n",
       "      <th>final_cleaned_body</th>\n",
       "      <th>category_id</th>\n",
       "    </tr>\n",
       "  </thead>\n",
       "  <tbody>\n",
       "    <tr>\n",
       "      <th>0</th>\n",
       "      <td>0</td>\n",
       "      <td>02s1r00001acKkkAAE</td>\n",
       "      <td>payment query good morning, thank you for your...</td>\n",
       "      <td>Others</td>\n",
       "      <td>payment query , thank you for your remittance....</td>\n",
       "      <td>payment query , thank you for your remittance....</td>\n",
       "      <td>payment query , thank you for your remittance....</td>\n",
       "      <td>0</td>\n",
       "    </tr>\n",
       "    <tr>\n",
       "      <th>1</th>\n",
       "      <td>1</td>\n",
       "      <td>02s1r00001blgJyAAI</td>\n",
       "      <td>statement &amp; queries please find attached up to...</td>\n",
       "      <td>Status</td>\n",
       "      <td>statement &amp; queries  find attached up to  stat...</td>\n",
       "      <td>statement &amp; queries  find attached up to  stat...</td>\n",
       "      <td>statement &amp; queries  find attached up to  stat...</td>\n",
       "      <td>1</td>\n",
       "    </tr>\n",
       "    <tr>\n",
       "      <th>2</th>\n",
       "      <td>2</td>\n",
       "      <td>02s1r00001blgcRAAQ</td>\n",
       "      <td>statement from oasis products vending services...</td>\n",
       "      <td>Others</td>\n",
       "      <td>statement from oasis products vending services...</td>\n",
       "      <td>statement from oasis products vending services...</td>\n",
       "      <td>statement from oasis products vending services...</td>\n",
       "      <td>0</td>\n",
       "    </tr>\n",
       "    <tr>\n",
       "      <th>3</th>\n",
       "      <td>3</td>\n",
       "      <td>02s1r00001blj0aAAA</td>\n",
       "      <td>ees uk cis deductions hi, after speaking to sh...</td>\n",
       "      <td>Others</td>\n",
       "      <td>ees uk cis deductions hi, after speaking to sh...</td>\n",
       "      <td>ees uk cis deductions hi, after speaking to sh...</td>\n",
       "      <td>ees uk cis deductions hi, after speaking to sh...</td>\n",
       "      <td>0</td>\n",
       "    </tr>\n",
       "    <tr>\n",
       "      <th>4</th>\n",
       "      <td>4</td>\n",
       "      <td>02s1r00001blj6TAAQ</td>\n",
       "      <td>securitas invoice processed twice in error hi ...</td>\n",
       "      <td>Others</td>\n",
       "      <td>securitas  processed twice in error hi all,  d...</td>\n",
       "      <td>securitas  processed twice in error hi all,  d...</td>\n",
       "      <td>securitas  processed twice in error hi all,  d...</td>\n",
       "      <td>0</td>\n",
       "    </tr>\n",
       "  </tbody>\n",
       "</table>\n",
       "</div>"
      ],
      "text/plain": [
       "   Unnamed: 0                  Id  \\\n",
       "0           0  02s1r00001acKkkAAE   \n",
       "1           1  02s1r00001blgJyAAI   \n",
       "2           2  02s1r00001blgcRAAQ   \n",
       "3           3  02s1r00001blj0aAAA   \n",
       "4           4  02s1r00001blj6TAAQ   \n",
       "\n",
       "                               htmlbody_cleaned_data Predicted_Class  \\\n",
       "0  payment query good morning, thank you for your...          Others   \n",
       "1  statement & queries please find attached up to...          Status   \n",
       "2  statement from oasis products vending services...          Others   \n",
       "3  ees uk cis deductions hi, after speaking to sh...          Others   \n",
       "4  securitas invoice processed twice in error hi ...          Others   \n",
       "\n",
       "                                               clean  \\\n",
       "0  payment query , thank you for your remittance....   \n",
       "1  statement & queries  find attached up to  stat...   \n",
       "2  statement from oasis products vending services...   \n",
       "3  ees uk cis deductions hi, after speaking to sh...   \n",
       "4  securitas  processed twice in error hi all,  d...   \n",
       "\n",
       "                                          final_body  \\\n",
       "0  payment query , thank you for your remittance....   \n",
       "1  statement & queries  find attached up to  stat...   \n",
       "2  statement from oasis products vending services...   \n",
       "3  ees uk cis deductions hi, after speaking to sh...   \n",
       "4  securitas  processed twice in error hi all,  d...   \n",
       "\n",
       "                                  final_cleaned_body  category_id  \n",
       "0  payment query , thank you for your remittance....            0  \n",
       "1  statement & queries  find attached up to  stat...            1  \n",
       "2  statement from oasis products vending services...            0  \n",
       "3  ees uk cis deductions hi, after speaking to sh...            0  \n",
       "4  securitas  processed twice in error hi all,  d...            0  "
      ]
     },
     "execution_count": 250,
     "metadata": {},
     "output_type": "execute_result"
    }
   ],
   "source": [
    "data.head()"
   ]
  },
  {
   "cell_type": "code",
   "execution_count": 251,
   "metadata": {},
   "outputs": [
    {
     "data": {
      "text/plain": [
       "Index(['Unnamed: 0', 'Id', 'htmlbody_cleaned_data', 'Predicted_Class', 'clean',\n",
       "       'final_body', 'final_cleaned_body', 'category_id'],\n",
       "      dtype='object')"
      ]
     },
     "execution_count": 251,
     "metadata": {},
     "output_type": "execute_result"
    }
   ],
   "source": [
    "data.columns"
   ]
  },
  {
   "cell_type": "code",
   "execution_count": 252,
   "metadata": {},
   "outputs": [],
   "source": [
    "data =data.drop(columns=['Unnamed: 0', 'Id', 'htmlbody_cleaned_data', 'clean','final_body'])"
   ]
  },
  {
   "cell_type": "code",
   "execution_count": 253,
   "metadata": {},
   "outputs": [
    {
     "data": {
      "text/html": [
       "<div>\n",
       "<style scoped>\n",
       "    .dataframe tbody tr th:only-of-type {\n",
       "        vertical-align: middle;\n",
       "    }\n",
       "\n",
       "    .dataframe tbody tr th {\n",
       "        vertical-align: top;\n",
       "    }\n",
       "\n",
       "    .dataframe thead th {\n",
       "        text-align: right;\n",
       "    }\n",
       "</style>\n",
       "<table border=\"1\" class=\"dataframe\">\n",
       "  <thead>\n",
       "    <tr style=\"text-align: right;\">\n",
       "      <th></th>\n",
       "      <th>Predicted_Class</th>\n",
       "      <th>final_cleaned_body</th>\n",
       "      <th>category_id</th>\n",
       "    </tr>\n",
       "  </thead>\n",
       "  <tbody>\n",
       "    <tr>\n",
       "      <th>0</th>\n",
       "      <td>Others</td>\n",
       "      <td>payment query , thank you for your remittance....</td>\n",
       "      <td>0</td>\n",
       "    </tr>\n",
       "    <tr>\n",
       "      <th>1</th>\n",
       "      <td>Status</td>\n",
       "      <td>statement &amp; queries  find attached up to  stat...</td>\n",
       "      <td>1</td>\n",
       "    </tr>\n",
       "  </tbody>\n",
       "</table>\n",
       "</div>"
      ],
      "text/plain": [
       "  Predicted_Class                                 final_cleaned_body  \\\n",
       "0          Others  payment query , thank you for your remittance....   \n",
       "1          Status  statement & queries  find attached up to  stat...   \n",
       "\n",
       "   category_id  \n",
       "0            0  \n",
       "1            1  "
      ]
     },
     "execution_count": 253,
     "metadata": {},
     "output_type": "execute_result"
    }
   ],
   "source": [
    "data.head(2)"
   ]
  },
  {
   "cell_type": "code",
   "execution_count": 254,
   "metadata": {},
   "outputs": [
    {
     "name": "stdout",
     "output_type": "stream",
     "text": [
      "<class 'pandas.core.frame.DataFrame'>\n",
      "RangeIndex: 6881 entries, 0 to 6880\n",
      "Data columns (total 3 columns):\n",
      "Predicted_Class       6881 non-null object\n",
      "final_cleaned_body    6851 non-null object\n",
      "category_id           6881 non-null int64\n",
      "dtypes: int64(1), object(2)\n",
      "memory usage: 161.4+ KB\n"
     ]
    }
   ],
   "source": [
    "data.info()"
   ]
  },
  {
   "cell_type": "code",
   "execution_count": 255,
   "metadata": {},
   "outputs": [
    {
     "data": {
      "text/plain": [
       "Others        5615\n",
       "Status         832\n",
       "Escalation     434\n",
       "Name: Predicted_Class, dtype: int64"
      ]
     },
     "execution_count": 255,
     "metadata": {},
     "output_type": "execute_result"
    }
   ],
   "source": [
    "data.Predicted_Class.value_counts()"
   ]
  },
  {
   "cell_type": "code",
   "execution_count": 256,
   "metadata": {},
   "outputs": [
    {
     "data": {
      "text/plain": [
       "Predicted_Class        0\n",
       "final_cleaned_body    30\n",
       "category_id            0\n",
       "dtype: int64"
      ]
     },
     "execution_count": 256,
     "metadata": {},
     "output_type": "execute_result"
    }
   ],
   "source": [
    "data.isnull().sum()"
   ]
  },
  {
   "cell_type": "code",
   "execution_count": 257,
   "metadata": {},
   "outputs": [],
   "source": [
    "data=data.dropna()"
   ]
  },
  {
   "cell_type": "code",
   "execution_count": 258,
   "metadata": {},
   "outputs": [
    {
     "data": {
      "text/plain": [
       "Predicted_Class       0\n",
       "final_cleaned_body    0\n",
       "category_id           0\n",
       "dtype: int64"
      ]
     },
     "execution_count": 258,
     "metadata": {},
     "output_type": "execute_result"
    }
   ],
   "source": [
    "data.isnull().sum()"
   ]
  },
  {
   "cell_type": "code",
   "execution_count": 259,
   "metadata": {},
   "outputs": [],
   "source": [
    "X =data.final_cleaned_body\n",
    "y =data.Predicted_Class"
   ]
  },
  {
   "cell_type": "code",
   "execution_count": 260,
   "metadata": {},
   "outputs": [
    {
     "data": {
      "text/plain": [
       "0    payment query , thank you for your remittance....\n",
       "1    statement & queries  find attached up to  stat...\n",
       "2    statement from oasis products vending services...\n",
       "3    ees uk cis deductions hi, after speaking to sh...\n",
       "4    securitas  processed twice in error hi all,  d...\n",
       "Name: final_cleaned_body, dtype: object"
      ]
     },
     "execution_count": 260,
     "metadata": {},
     "output_type": "execute_result"
    }
   ],
   "source": [
    "X.head()"
   ]
  },
  {
   "cell_type": "code",
   "execution_count": 261,
   "metadata": {},
   "outputs": [
    {
     "data": {
      "text/plain": [
       "0    Others\n",
       "1    Status\n",
       "2    Others\n",
       "3    Others\n",
       "4    Others\n",
       "Name: Predicted_Class, dtype: object"
      ]
     },
     "execution_count": 261,
     "metadata": {},
     "output_type": "execute_result"
    }
   ],
   "source": [
    "y.head()"
   ]
  },
  {
   "cell_type": "code",
   "execution_count": 262,
   "metadata": {},
   "outputs": [],
   "source": [
    "from sklearn.model_selection import train_test_split\n",
    "X_train, X_test, y_train, y_test = train_test_split(X, y, test_size = 0.2, random_state = 0)"
   ]
  },
  {
   "cell_type": "code",
   "execution_count": 263,
   "metadata": {},
   "outputs": [
    {
     "data": {
      "text/plain": [
       "(5480,)"
      ]
     },
     "execution_count": 263,
     "metadata": {},
     "output_type": "execute_result"
    }
   ],
   "source": [
    "X_train.shape"
   ]
  },
  {
   "cell_type": "code",
   "execution_count": 264,
   "metadata": {},
   "outputs": [
    {
     "data": {
      "text/plain": [
       "Others        4463\n",
       "Status         667\n",
       "Escalation     350\n",
       "Name: Predicted_Class, dtype: int64"
      ]
     },
     "execution_count": 264,
     "metadata": {},
     "output_type": "execute_result"
    }
   ],
   "source": [
    "y_train.value_counts()"
   ]
  },
  {
   "cell_type": "markdown",
   "metadata": {},
   "source": [
    "# extracting features from text files"
   ]
  },
  {
   "cell_type": "code",
   "execution_count": 265,
   "metadata": {},
   "outputs": [
    {
     "data": {
      "text/plain": [
       "(5480, 5251)"
      ]
     },
     "execution_count": 265,
     "metadata": {},
     "output_type": "execute_result"
    }
   ],
   "source": [
    "from sklearn.feature_extraction.text import CountVectorizer\n",
    "count_vect = CountVectorizer()\n",
    "X_train_counts = count_vect.fit_transform(X_train)\n",
    "X_train_counts.shape"
   ]
  },
  {
   "cell_type": "markdown",
   "metadata": {},
   "source": [
    "### matrix states for 5480 samples par 5251 features detect hue hai"
   ]
  },
  {
   "cell_type": "markdown",
   "metadata": {},
   "source": [
    "# (TF - Term Frequencies) i.e. #count(word) / #Total words, in each document."
   ]
  },
  {
   "cell_type": "code",
   "execution_count": 266,
   "metadata": {},
   "outputs": [
    {
     "data": {
      "text/plain": [
       "(5480, 5251)"
      ]
     },
     "execution_count": 266,
     "metadata": {},
     "output_type": "execute_result"
    }
   ],
   "source": [
    "from sklearn.feature_extraction.text import TfidfTransformer\n",
    "tfidf_transformer = TfidfTransformer()\n",
    "X_train_tfidf = tfidf_transformer.fit_transform(X_train_counts)\n",
    "X_train_tfidf.shape"
   ]
  },
  {
   "cell_type": "markdown",
   "metadata": {},
   "source": [
    "# NAIVE BAYES ALGORITHM "
   ]
  },
  {
   "cell_type": "code",
   "execution_count": 267,
   "metadata": {},
   "outputs": [],
   "source": [
    "# Training will be done against X_train_tfidf and y_train"
   ]
  },
  {
   "cell_type": "code",
   "execution_count": 268,
   "metadata": {},
   "outputs": [],
   "source": [
    "from sklearn.naive_bayes import MultinomialNB\n",
    "clf = MultinomialNB().fit(X_train_tfidf,y_train)"
   ]
  },
  {
   "cell_type": "code",
   "execution_count": 269,
   "metadata": {},
   "outputs": [
    {
     "name": "stdout",
     "output_type": "stream",
     "text": [
      "MultinomialNB(alpha=1.0, class_prior=None, fit_prior=True)\n"
     ]
    }
   ],
   "source": [
    "print(clf)"
   ]
  },
  {
   "cell_type": "code",
   "execution_count": 270,
   "metadata": {},
   "outputs": [],
   "source": [
    "from sklearn.pipeline import Pipeline\n",
    "text_clf = Pipeline([('vect', CountVectorizer()),('tfidf', TfidfTransformer()),('clf', MultinomialNB()),])"
   ]
  },
  {
   "cell_type": "code",
   "execution_count": 271,
   "metadata": {},
   "outputs": [
    {
     "name": "stdout",
     "output_type": "stream",
     "text": [
      "Pipeline(memory=None,\n",
      "     steps=[('vect', CountVectorizer(analyzer='word', binary=False, decode_error='strict',\n",
      "        dtype=<class 'numpy.int64'>, encoding='utf-8', input='content',\n",
      "        lowercase=True, max_df=1.0, max_features=None, min_df=1,\n",
      "        ngram_range=(1, 1), preprocessor=None, stop_words=None,\n",
      "        strip...inear_tf=False, use_idf=True)), ('clf', MultinomialNB(alpha=1.0, class_prior=None, fit_prior=True))])\n"
     ]
    }
   ],
   "source": [
    "print(text_clf)"
   ]
  },
  {
   "cell_type": "code",
   "execution_count": 272,
   "metadata": {},
   "outputs": [],
   "source": [
    "text_clf = text_clf.fit(X_train, y_train)"
   ]
  },
  {
   "cell_type": "code",
   "execution_count": 273,
   "metadata": {},
   "outputs": [
    {
     "name": "stdout",
     "output_type": "stream",
     "text": [
      "3239    kuehne + nagel ireland limited - statement of ...\n",
      "3227    hello i sent an  of in the  february and still...\n",
      "1570    oustanding s importance: high  derek, can you ...\n",
      "423                 statement of account from faac uk ltd\n",
      "4160               from e r s  limerick for kone ltd null\n",
      "Name: final_cleaned_body, dtype: object\n"
     ]
    }
   ],
   "source": [
    "print(X_train.head())"
   ]
  },
  {
   "cell_type": "code",
   "execution_count": 274,
   "metadata": {},
   "outputs": [
    {
     "data": {
      "text/plain": [
       "0.8300510576221736"
      ]
     },
     "execution_count": 274,
     "metadata": {},
     "output_type": "execute_result"
    }
   ],
   "source": [
    "import numpy as np\n",
    "predicted = text_clf.predict(X_test)\n",
    "np.mean(predicted == y_test)"
   ]
  },
  {
   "cell_type": "code",
   "execution_count": 275,
   "metadata": {},
   "outputs": [
    {
     "name": "stdout",
     "output_type": "stream",
     "text": [
      "MultinomialNB(alpha=1.0, class_prior=None, fit_prior=True)\n"
     ]
    }
   ],
   "source": [
    "print(clf)"
   ]
  },
  {
   "cell_type": "markdown",
   "metadata": {},
   "source": [
    "## SO NAIVE BAYES GIVES ACCURACY OF 83% ; ) "
   ]
  },
  {
   "cell_type": "markdown",
   "metadata": {},
   "source": [
    "# Model optimisation using GridSearchCV for Naive Bayes"
   ]
  },
  {
   "cell_type": "code",
   "execution_count": 276,
   "metadata": {},
   "outputs": [],
   "source": [
    "from sklearn.model_selection import GridSearchCV"
   ]
  },
  {
   "cell_type": "code",
   "execution_count": 277,
   "metadata": {},
   "outputs": [],
   "source": [
    "parameters = {'vect__ngram_range': [(1, 1), (1, 2)],'tfidf__use_idf': (True, False),'clf__alpha': (1e-2, 1e-3),}"
   ]
  },
  {
   "cell_type": "code",
   "execution_count": 278,
   "metadata": {},
   "outputs": [
    {
     "name": "stderr",
     "output_type": "stream",
     "text": [
      "C:\\Users\\850044344\\AppData\\Local\\Continuum\\Anaconda3\\lib\\site-packages\\sklearn\\model_selection\\_split.py:2053: FutureWarning: You should specify a value for 'cv' instead of relying on the default value. The default value will change from 3 to 5 in version 0.22.\n",
      "  warnings.warn(CV_WARNING, FutureWarning)\n"
     ]
    }
   ],
   "source": [
    "gs_clf = GridSearchCV(text_clf, parameters, n_jobs=-1)\n",
    "gs_clf = gs_clf.fit(X_train,y_train)"
   ]
  },
  {
   "cell_type": "code",
   "execution_count": 279,
   "metadata": {},
   "outputs": [
    {
     "data": {
      "text/plain": [
       "0.958029197080292"
      ]
     },
     "execution_count": 279,
     "metadata": {},
     "output_type": "execute_result"
    }
   ],
   "source": [
    "gs_clf.best_score_\n"
   ]
  },
  {
   "cell_type": "code",
   "execution_count": 280,
   "metadata": {},
   "outputs": [
    {
     "data": {
      "text/plain": [
       "{'clf__alpha': 0.001, 'tfidf__use_idf': False, 'vect__ngram_range': (1, 2)}"
      ]
     },
     "execution_count": 280,
     "metadata": {},
     "output_type": "execute_result"
    }
   ],
   "source": [
    "gs_clf.best_params_"
   ]
  },
  {
   "cell_type": "markdown",
   "metadata": {},
   "source": [
    "## Ohhh My Gawd Improved accuracy = 95%"
   ]
  },
  {
   "cell_type": "markdown",
   "metadata": {},
   "source": [
    "# Support Vector Machine "
   ]
  },
  {
   "cell_type": "code",
   "execution_count": 281,
   "metadata": {},
   "outputs": [],
   "source": [
    "from sklearn.linear_model import SGDClassifier"
   ]
  },
  {
   "cell_type": "code",
   "execution_count": 282,
   "metadata": {},
   "outputs": [],
   "source": [
    "text_clf_svm = Pipeline([('vect', CountVectorizer()),('tfidf', TfidfTransformer()),('clf-svm', SGDClassifier(loss='hinge', penalty='l2',alpha=1e-3, n_iter=5, random_state=42)),])"
   ]
  },
  {
   "cell_type": "code",
   "execution_count": 283,
   "metadata": {},
   "outputs": [
    {
     "data": {
      "text/plain": [
       "Pipeline(memory=None,\n",
       "     steps=[('vect', CountVectorizer(analyzer='word', binary=False, decode_error='strict',\n",
       "        dtype=<class 'numpy.int64'>, encoding='utf-8', input='content',\n",
       "        lowercase=True, max_df=1.0, max_features=None, min_df=1,\n",
       "        ngram_range=(1, 1), preprocessor=None, stop_words=None,\n",
       "        strip...dom_state=42, shuffle=True, tol=None,\n",
       "       validation_fraction=0.1, verbose=0, warm_start=False))])"
      ]
     },
     "execution_count": 283,
     "metadata": {},
     "output_type": "execute_result"
    }
   ],
   "source": [
    "text_clf_svm"
   ]
  },
  {
   "cell_type": "code",
   "execution_count": 284,
   "metadata": {},
   "outputs": [
    {
     "name": "stderr",
     "output_type": "stream",
     "text": [
      "C:\\Users\\850044344\\AppData\\Local\\Continuum\\Anaconda3\\lib\\site-packages\\sklearn\\linear_model\\stochastic_gradient.py:152: DeprecationWarning: n_iter parameter is deprecated in 0.19 and will be removed in 0.21. Use max_iter and tol instead.\n",
      "  DeprecationWarning)\n"
     ]
    }
   ],
   "source": [
    "_ = text_clf_svm.fit(X_train, y_train)"
   ]
  },
  {
   "cell_type": "code",
   "execution_count": 285,
   "metadata": {},
   "outputs": [],
   "source": [
    "predicted_svm = text_clf_svm.predict(X_test)"
   ]
  },
  {
   "cell_type": "code",
   "execution_count": 286,
   "metadata": {},
   "outputs": [
    {
     "data": {
      "text/plain": [
       "0.8927789934354485"
      ]
     },
     "execution_count": 286,
     "metadata": {},
     "output_type": "execute_result"
    }
   ],
   "source": [
    "np.mean(predicted_svm == y_test)"
   ]
  },
  {
   "cell_type": "markdown",
   "metadata": {},
   "source": [
    "# Model optimisation using GridSearchCV for Support Vector Machine"
   ]
  },
  {
   "cell_type": "code",
   "execution_count": 287,
   "metadata": {},
   "outputs": [],
   "source": [
    "from sklearn.model_selection import GridSearchCV\n"
   ]
  },
  {
   "cell_type": "code",
   "execution_count": 288,
   "metadata": {},
   "outputs": [],
   "source": [
    "parameters_svm = {'vect__ngram_range': [(1, 1), (1, 2)], 'tfidf__use_idf': (True, False),'clf-svm__alpha': (1e-2, 1e-3)}"
   ]
  },
  {
   "cell_type": "code",
   "execution_count": 289,
   "metadata": {},
   "outputs": [],
   "source": [
    "gs_clf_svm = GridSearchCV(text_clf_svm, parameters_svm, n_jobs=-1)"
   ]
  },
  {
   "cell_type": "code",
   "execution_count": 290,
   "metadata": {},
   "outputs": [
    {
     "name": "stderr",
     "output_type": "stream",
     "text": [
      "C:\\Users\\850044344\\AppData\\Local\\Continuum\\Anaconda3\\lib\\site-packages\\sklearn\\model_selection\\_split.py:2053: FutureWarning: You should specify a value for 'cv' instead of relying on the default value. The default value will change from 3 to 5 in version 0.22.\n",
      "  warnings.warn(CV_WARNING, FutureWarning)\n",
      "C:\\Users\\850044344\\AppData\\Local\\Continuum\\Anaconda3\\lib\\site-packages\\sklearn\\linear_model\\stochastic_gradient.py:152: DeprecationWarning: n_iter parameter is deprecated in 0.19 and will be removed in 0.21. Use max_iter and tol instead.\n",
      "  DeprecationWarning)\n"
     ]
    }
   ],
   "source": [
    "gs_clf_svm = gs_clf_svm.fit(X_train,y_train)"
   ]
  },
  {
   "cell_type": "code",
   "execution_count": 291,
   "metadata": {},
   "outputs": [
    {
     "data": {
      "text/plain": [
       "0.8968978102189781"
      ]
     },
     "execution_count": 291,
     "metadata": {},
     "output_type": "execute_result"
    }
   ],
   "source": [
    "gs_clf_svm.best_score_"
   ]
  },
  {
   "cell_type": "code",
   "execution_count": 292,
   "metadata": {},
   "outputs": [
    {
     "data": {
      "text/plain": [
       "{'clf-svm__alpha': 0.001, 'tfidf__use_idf': True, 'vect__ngram_range': (1, 2)}"
      ]
     },
     "execution_count": 292,
     "metadata": {},
     "output_type": "execute_result"
    }
   ],
   "source": [
    "gs_clf_svm.best_params_"
   ]
  },
  {
   "cell_type": "code",
   "execution_count": 293,
   "metadata": {},
   "outputs": [],
   "source": [
    "# Classification report"
   ]
  },
  {
   "cell_type": "code",
   "execution_count": 294,
   "metadata": {},
   "outputs": [],
   "source": [
    "#Precision, Recall, F1-score"
   ]
  },
  {
   "cell_type": "code",
   "execution_count": 295,
   "metadata": {},
   "outputs": [
    {
     "data": {
      "text/html": [
       "<div>\n",
       "<style scoped>\n",
       "    .dataframe tbody tr th:only-of-type {\n",
       "        vertical-align: middle;\n",
       "    }\n",
       "\n",
       "    .dataframe tbody tr th {\n",
       "        vertical-align: top;\n",
       "    }\n",
       "\n",
       "    .dataframe thead th {\n",
       "        text-align: right;\n",
       "    }\n",
       "</style>\n",
       "<table border=\"1\" class=\"dataframe\">\n",
       "  <thead>\n",
       "    <tr style=\"text-align: right;\">\n",
       "      <th></th>\n",
       "      <th>Predicted_Class</th>\n",
       "      <th>final_cleaned_body</th>\n",
       "      <th>category_id</th>\n",
       "    </tr>\n",
       "  </thead>\n",
       "  <tbody>\n",
       "    <tr>\n",
       "      <th>0</th>\n",
       "      <td>Others</td>\n",
       "      <td>payment query , thank you for your remittance....</td>\n",
       "      <td>0</td>\n",
       "    </tr>\n",
       "    <tr>\n",
       "      <th>1</th>\n",
       "      <td>Status</td>\n",
       "      <td>statement &amp; queries  find attached up to  stat...</td>\n",
       "      <td>1</td>\n",
       "    </tr>\n",
       "    <tr>\n",
       "      <th>2</th>\n",
       "      <td>Others</td>\n",
       "      <td>statement from oasis products vending services...</td>\n",
       "      <td>0</td>\n",
       "    </tr>\n",
       "    <tr>\n",
       "      <th>3</th>\n",
       "      <td>Others</td>\n",
       "      <td>ees uk cis deductions hi, after speaking to sh...</td>\n",
       "      <td>0</td>\n",
       "    </tr>\n",
       "    <tr>\n",
       "      <th>4</th>\n",
       "      <td>Others</td>\n",
       "      <td>securitas  processed twice in error hi all,  d...</td>\n",
       "      <td>0</td>\n",
       "    </tr>\n",
       "  </tbody>\n",
       "</table>\n",
       "</div>"
      ],
      "text/plain": [
       "  Predicted_Class                                 final_cleaned_body  \\\n",
       "0          Others  payment query , thank you for your remittance....   \n",
       "1          Status  statement & queries  find attached up to  stat...   \n",
       "2          Others  statement from oasis products vending services...   \n",
       "3          Others  ees uk cis deductions hi, after speaking to sh...   \n",
       "4          Others  securitas  processed twice in error hi all,  d...   \n",
       "\n",
       "   category_id  \n",
       "0            0  \n",
       "1            1  \n",
       "2            0  \n",
       "3            0  \n",
       "4            0  "
      ]
     },
     "execution_count": 295,
     "metadata": {},
     "output_type": "execute_result"
    }
   ],
   "source": [
    "data.head()"
   ]
  },
  {
   "cell_type": "code",
   "execution_count": 296,
   "metadata": {},
   "outputs": [
    {
     "name": "stdout",
     "output_type": "stream",
     "text": [
      "\t\t    CLASSIFICATIION METRICS\n",
      "\n",
      "              precision    recall  f1-score   support\n",
      "\n",
      "      Others       1.00      0.42      0.59        84\n",
      "      Status       0.89      1.00      0.94      1122\n",
      "  Escalation       0.95      0.43      0.59       165\n",
      "\n",
      "   micro avg       0.89      0.89      0.89      1371\n",
      "   macro avg       0.94      0.61      0.71      1371\n",
      "weighted avg       0.90      0.89      0.88      1371\n",
      "\n"
     ]
    }
   ],
   "source": [
    "print('\\t\\t    CLASSIFICATIION METRICS\\n')\n",
    "print(metrics.classification_report(y_test,predicted_svm ,target_names= data['Predicted_Class'].unique()))"
   ]
  },
  {
   "cell_type": "code",
   "execution_count": 297,
   "metadata": {},
   "outputs": [
    {
     "data": {
      "image/png": "[encoded data removed]",
      "text/plain": [
       "<Figure size 576x576 with 2 Axes>"
      ]
     },
     "metadata": {
      "needs_background": "light"
     },
     "output_type": "display_data"
    }
   ],
   "source": [
    "conf_mat = confusion_matrix(y_test,predicted_svm)\n",
    "fig, ax = plt.subplots(figsize=(8,8))\n",
    "sns.heatmap(conf_mat, annot=True, cmap=\"Blues\", fmt='d',\n",
    "            xticklabels=category_id_df.Predicted_Class.values, \n",
    "            yticklabels=category_id_df.Predicted_Class.values)\n",
    "plt.ylabel('3')\n",
    "plt.xlabel('Predicted')\n",
    "plt.title(\"CONFUSION MATRIX - LinearSVC\\n\", size=16);"
   ]
  },
  {
   "cell_type": "code",
   "execution_count": 298,
   "metadata": {},
   "outputs": [
    {
     "name": "stdout",
     "output_type": "stream",
     "text": [
      "'Others' predicted as 'Status' : 49 examples.\n",
      "\n",
      "'Escalation' predicted as 'Status' : 94 examples.\n",
      "\n"
     ]
    }
   ],
   "source": [
    "# Total Misclassification\n",
    "\n",
    "for predicted in category_id_df.category_id:\n",
    "    for actual in category_id_df.category_id:\n",
    "        if predicted != actual and conf_mat[actual, predicted] >= 20:\n",
    "            print(\"'{}' predicted as '{}' : {} examples.\".format(id_to_category[actual],id_to_category[predicted],conf_mat[actual, predicted]))\n",
    "#              display(data.loc[indices_test[(y_test == actual) & (y_pred == predicted)]][['Predicted_Class','final_cleaned_body']])\n",
    "            print('')"
   ]
  }
 ],
 "metadata": {
  "kernelspec": {
   "display_name": "Python 3",
   "language": "python",
   "name": "python3"
  },
  "language_info": {
   "codemirror_mode": {
    "name": "ipython",
    "version": 3
   },
   "file_extension": ".py",
   "mimetype": "text/x-python",
   "name": "python",
   "nbconvert_exporter": "python",
   "pygments_lexer": "ipython3",
   "version": "3.6.8"
  }
 },
 "nbformat": 4,
 "nbformat_minor": 2
}
